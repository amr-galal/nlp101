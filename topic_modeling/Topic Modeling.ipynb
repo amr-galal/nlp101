{
 "cells": [
  {
   "cell_type": "markdown",
   "id": "2404288c",
   "metadata": {},
   "source": [
    "# Overview on Topic Modeling\n",
    "<br><br>\n",
    "\n",
    "\n",
    "![Topic Modeling](imgs/topic_modeling.png)\n",
    "* [Quick Introduction](https://monkeylearn.com/blog/introduction-to-topic-modeling/)"
   ]
  },
  {
   "cell_type": "code",
   "execution_count": 34,
   "id": "7d198495",
   "metadata": {},
   "outputs": [],
   "source": [
    "import os, sys\n",
    "sys.path.insert(0, os.path.abspath('..'))\n",
    "\n",
    "seed = 1"
   ]
  },
  {
   "cell_type": "code",
   "execution_count": 2,
   "id": "202fc252",
   "metadata": {},
   "outputs": [],
   "source": [
    "%load_ext autoreload\n",
    "%autoreload 2"
   ]
  },
  {
   "cell_type": "code",
   "execution_count": 3,
   "id": "866c3cd4",
   "metadata": {},
   "outputs": [
    {
     "name": "stderr",
     "output_type": "stream",
     "text": [
      "/Users/amrgalal/.pyenv/versions/3.9.10/envs/topic_modeling/lib/python3.9/site-packages/past/builtins/misc.py:45: DeprecationWarning: the imp module is deprecated in favour of importlib; see the module's documentation for alternative uses\n",
      "  from imp import reload\n"
     ]
    }
   ],
   "source": [
    "from sklearn.datasets import fetch_20newsgroups\n",
    "\n",
    "# general packages\n",
    "import pandas as pd\n",
    "pd.set_option('max_colwidth', 100)\n",
    "from nltk.corpus import stopwords\n",
    "import string\n",
    "import re\n",
    "\n",
    "# LDA\n",
    "from gensim.corpora.dictionary import Dictionary\n",
    "from gensim.models import LdaModel\n",
    "from gensim.models import CoherenceModel\n",
    "\n",
    "# visualization\n",
    "from tqdm import tqdm\n",
    "import pyLDAvis.gensim_models\n",
    "# Visualise inside a notebook\n",
    "pyLDAvis.enable_notebook()\n",
    "from matplotlib import pyplot as plt\n",
    "%matplotlib inline\n",
    "import seaborn as sns\n",
    "\n",
    "# preprocessing\n",
    "from preprocessing.text_preprocessor import (\n",
    "    ToLower,\n",
    "    StopwordsRemover,\n",
    "    RegexMapper,\n",
    "    RegexSubstituter,\n",
    "    SequentialRegexSubstituter,\n",
    "    FunctionApplier,\n",
    "    CompositeTextPreprocessors\n",
    ")\n",
    "\n",
    "from preprocessing.text_tokenizer import (\n",
    "    NLTKWordTokenizer,\n",
    "    TextTokenizer\n",
    "\n",
    ")"
   ]
  },
  {
   "cell_type": "markdown",
   "id": "8f68b95d",
   "metadata": {},
   "source": [
    "# 0. Data"
   ]
  },
  {
   "cell_type": "markdown",
   "id": "b281d039",
   "metadata": {},
   "source": [
    "The 20 Newsgroups data set is a collection of approximately 20,000 newsgroup documents, partitioned (nearly) evenly across 20 different newsgroups.\n",
    "\n",
    "* [Homepage](http://qwone.com/~jason/20Newsgroups/)\n",
    "* [Papers with Code](https://paperswithcode.com/dataset/20-newsgroups)"
   ]
  },
  {
   "cell_type": "markdown",
   "id": "2b1d792b",
   "metadata": {},
   "source": [
    "## 0.1. Load Data"
   ]
  },
  {
   "cell_type": "code",
   "execution_count": 178,
   "id": "582b888c",
   "metadata": {},
   "outputs": [],
   "source": [
    "data, target = fetch_20newsgroups(\n",
    "    shuffle=True,\n",
    "    random_state=seed,\n",
    "    remove=(\"headers\", \"footers\", \"quotes\"),\n",
    "    return_X_y=True,\n",
    ")"
   ]
  },
  {
   "cell_type": "markdown",
   "id": "78da1caa",
   "metadata": {},
   "source": [
    "### Quick Analysis"
   ]
  },
  {
   "cell_type": "code",
   "execution_count": 179,
   "id": "aa3a50df",
   "metadata": {},
   "outputs": [
    {
     "name": "stdout",
     "output_type": "stream",
     "text": [
      "dataframe shape: (11314, 2)\n"
     ]
    },
    {
     "data": {
      "text/html": [
       "<div>\n",
       "<style scoped>\n",
       "    .dataframe tbody tr th:only-of-type {\n",
       "        vertical-align: middle;\n",
       "    }\n",
       "\n",
       "    .dataframe tbody tr th {\n",
       "        vertical-align: top;\n",
       "    }\n",
       "\n",
       "    .dataframe thead th {\n",
       "        text-align: right;\n",
       "    }\n",
       "</style>\n",
       "<table border=\"1\" class=\"dataframe\">\n",
       "  <thead>\n",
       "    <tr style=\"text-align: right;\">\n",
       "      <th></th>\n",
       "      <th>text</th>\n",
       "      <th>category</th>\n",
       "    </tr>\n",
       "  </thead>\n",
       "  <tbody>\n",
       "    <tr>\n",
       "      <th>0</th>\n",
       "      <td>Well i'm not sure about the story nad it did seem biased. What\\nI disagree with is your statemen...</td>\n",
       "      <td>17</td>\n",
       "    </tr>\n",
       "    <tr>\n",
       "      <th>1</th>\n",
       "      <td>\\n\\n\\n\\n\\n\\n\\nYeah, do you expect people to read the FAQ, etc. and actually accept hard\\natheism...</td>\n",
       "      <td>0</td>\n",
       "    </tr>\n",
       "    <tr>\n",
       "      <th>2</th>\n",
       "      <td>Although I realize that principle is not one of your strongest\\npoints, I would still like to kn...</td>\n",
       "      <td>17</td>\n",
       "    </tr>\n",
       "    <tr>\n",
       "      <th>3</th>\n",
       "      <td>Notwithstanding all the legitimate fuss about this proposal, how much\\nof a change is it?  ATT's...</td>\n",
       "      <td>11</td>\n",
       "    </tr>\n",
       "    <tr>\n",
       "      <th>4</th>\n",
       "      <td>Well, I will have to change the scoring on my playoff pool.  Unfortunately\\nI don't have time ri...</td>\n",
       "      <td>10</td>\n",
       "    </tr>\n",
       "  </tbody>\n",
       "</table>\n",
       "</div>"
      ],
      "text/plain": [
       "                                                                                                  text  \\\n",
       "0  Well i'm not sure about the story nad it did seem biased. What\\nI disagree with is your statemen...   \n",
       "1  \\n\\n\\n\\n\\n\\n\\nYeah, do you expect people to read the FAQ, etc. and actually accept hard\\natheism...   \n",
       "2  Although I realize that principle is not one of your strongest\\npoints, I would still like to kn...   \n",
       "3  Notwithstanding all the legitimate fuss about this proposal, how much\\nof a change is it?  ATT's...   \n",
       "4  Well, I will have to change the scoring on my playoff pool.  Unfortunately\\nI don't have time ri...   \n",
       "\n",
       "   category  \n",
       "0        17  \n",
       "1         0  \n",
       "2        17  \n",
       "3        11  \n",
       "4        10  "
      ]
     },
     "execution_count": 179,
     "metadata": {},
     "output_type": "execute_result"
    }
   ],
   "source": [
    "df = pd.DataFrame({\"text\": data, \"category\": target})\n",
    "\n",
    "print(f\"dataframe shape: {df.shape}\")\n",
    "df.head()"
   ]
  },
  {
   "cell_type": "code",
   "execution_count": 180,
   "id": "fb110cd3",
   "metadata": {
    "scrolled": true
   },
   "outputs": [
    {
     "name": "stdout",
     "output_type": "stream",
     "text": [
      "number of articles: 11314\n",
      "number of null records: 0\n",
      "number of empty text records: 300\n",
      "number of duplicated articles : 320\n"
     ]
    }
   ],
   "source": [
    "print(f\"number of articles: {df.shape[0]}\")\n",
    "print(f\"number of null records: {df['text'].isna().sum()}\")\n",
    "print(f\"number of empty text records: {(~df['text'].str.strip().astype(bool)).sum()}\")\n",
    "print(f\"number of duplicated articles : {df.duplicated(subset=['text']).sum()}\")"
   ]
  },
  {
   "cell_type": "code",
   "execution_count": 181,
   "id": "2a8da14c",
   "metadata": {},
   "outputs": [
    {
     "name": "stdout",
     "output_type": "stream",
     "text": [
      "dataframe shape: (11014, 2)\n"
     ]
    }
   ],
   "source": [
    "# drop empty text records\n",
    "df = df[df['text'].str.strip().astype(bool)]\n",
    "print(f\"dataframe shape: {df.shape}\")"
   ]
  },
  {
   "cell_type": "markdown",
   "id": "783620cf",
   "metadata": {},
   "source": [
    "#### Check duplicate articles"
   ]
  },
  {
   "cell_type": "code",
   "execution_count": 182,
   "id": "852c6282",
   "metadata": {},
   "outputs": [
    {
     "name": "stdout",
     "output_type": "stream",
     "text": [
      "dataframe shape: (66, 2)\n"
     ]
    },
    {
     "data": {
      "text/html": [
       "<div>\n",
       "<style scoped>\n",
       "    .dataframe tbody tr th:only-of-type {\n",
       "        vertical-align: middle;\n",
       "    }\n",
       "\n",
       "    .dataframe tbody tr th {\n",
       "        vertical-align: top;\n",
       "    }\n",
       "\n",
       "    .dataframe thead th {\n",
       "        text-align: right;\n",
       "    }\n",
       "</style>\n",
       "<table border=\"1\" class=\"dataframe\">\n",
       "  <thead>\n",
       "    <tr style=\"text-align: right;\">\n",
       "      <th></th>\n",
       "      <th>text</th>\n",
       "      <th>category</th>\n",
       "    </tr>\n",
       "  </thead>\n",
       "  <tbody>\n",
       "    <tr>\n",
       "      <th>0</th>\n",
       "      <td>\\n\\nIs this the joke of the month? \\n\\n1. Your fascist grandparents exterminated 2.5 million Mus...</td>\n",
       "      <td>17</td>\n",
       "    </tr>\n",
       "    <tr>\n",
       "      <th>1</th>\n",
       "      <td>\\n\\nIs this the joke of the month? \\n\\n1. Your fascist grandparents exterminated 2.5 million Mus...</td>\n",
       "      <td>17</td>\n",
       "    </tr>\n",
       "    <tr>\n",
       "      <th>2</th>\n",
       "      <td>\\nCould someone please send me the postal and email address of\\nCongruent Corporation (and any c...</td>\n",
       "      <td>5</td>\n",
       "    </tr>\n",
       "    <tr>\n",
       "      <th>3</th>\n",
       "      <td>\\nCould someone please send me the postal and email address of\\nCongruent Corporation (and any c...</td>\n",
       "      <td>5</td>\n",
       "    </tr>\n",
       "    <tr>\n",
       "      <th>4</th>\n",
       "      <td>10 month old stereo system for sale. Luxman R-351 receiver, Onkyo TA-RW404\\ntape deck, and Polk ...</td>\n",
       "      <td>6</td>\n",
       "    </tr>\n",
       "    <tr>\n",
       "      <th>5</th>\n",
       "      <td>10 month old stereo system for sale. Luxman R-351 receiver, Onkyo TA-RW404\\ntape deck, and Polk ...</td>\n",
       "      <td>6</td>\n",
       "    </tr>\n",
       "    <tr>\n",
       "      <th>6</th>\n",
       "      <td>After having OpenWindows \\n(Version 3 for SunOS 4.1) or Xwindows\\nrunning continuously on my mac...</td>\n",
       "      <td>5</td>\n",
       "    </tr>\n",
       "    <tr>\n",
       "      <th>7</th>\n",
       "      <td>After having OpenWindows \\n(Version 3 for SunOS 4.1) or Xwindows\\nrunning continuously on my mac...</td>\n",
       "      <td>5</td>\n",
       "    </tr>\n",
       "    <tr>\n",
       "      <th>8</th>\n",
       "      <td>Anyone, \\n\\n    I am a serious motorcycle enthusiast without a motorcycle, and to\\nput it bluntl...</td>\n",
       "      <td>8</td>\n",
       "    </tr>\n",
       "    <tr>\n",
       "      <th>9</th>\n",
       "      <td>Anyone, \\n\\n    I am a serious motorcycle enthusiast without a motorcycle, and to\\nput it bluntl...</td>\n",
       "      <td>8</td>\n",
       "    </tr>\n",
       "  </tbody>\n",
       "</table>\n",
       "</div>"
      ],
      "text/plain": [
       "                                                                                                  text  \\\n",
       "0  \\n\\nIs this the joke of the month? \\n\\n1. Your fascist grandparents exterminated 2.5 million Mus...   \n",
       "1  \\n\\nIs this the joke of the month? \\n\\n1. Your fascist grandparents exterminated 2.5 million Mus...   \n",
       "2  \\nCould someone please send me the postal and email address of\\nCongruent Corporation (and any c...   \n",
       "3  \\nCould someone please send me the postal and email address of\\nCongruent Corporation (and any c...   \n",
       "4  10 month old stereo system for sale. Luxman R-351 receiver, Onkyo TA-RW404\\ntape deck, and Polk ...   \n",
       "5  10 month old stereo system for sale. Luxman R-351 receiver, Onkyo TA-RW404\\ntape deck, and Polk ...   \n",
       "6  After having OpenWindows \\n(Version 3 for SunOS 4.1) or Xwindows\\nrunning continuously on my mac...   \n",
       "7  After having OpenWindows \\n(Version 3 for SunOS 4.1) or Xwindows\\nrunning continuously on my mac...   \n",
       "8  Anyone, \\n\\n    I am a serious motorcycle enthusiast without a motorcycle, and to\\nput it bluntl...   \n",
       "9  Anyone, \\n\\n    I am a serious motorcycle enthusiast without a motorcycle, and to\\nput it bluntl...   \n",
       "\n",
       "   category  \n",
       "0        17  \n",
       "1        17  \n",
       "2         5  \n",
       "3         5  \n",
       "4         6  \n",
       "5         6  \n",
       "6         5  \n",
       "7         5  \n",
       "8         8  \n",
       "9         8  "
      ]
     },
     "execution_count": 182,
     "metadata": {},
     "output_type": "execute_result"
    }
   ],
   "source": [
    "# preview duplicated records after removing empty text\n",
    "df_duplicates = df[df.duplicated(subset=['text'], keep=False)].sort_values(\"text\").reset_index(drop=True)\n",
    "\n",
    "print(f\"dataframe shape: {df_duplicates.shape}\")\n",
    "df_duplicates.head(10)"
   ]
  },
  {
   "cell_type": "code",
   "execution_count": 183,
   "id": "03aebeb8",
   "metadata": {},
   "outputs": [
    {
     "name": "stdout",
     "output_type": "stream",
     "text": [
      "dataframe shape: (33, 2)\n"
     ]
    },
    {
     "data": {
      "text/html": [
       "<div>\n",
       "<style scoped>\n",
       "    .dataframe tbody tr th:only-of-type {\n",
       "        vertical-align: middle;\n",
       "    }\n",
       "\n",
       "    .dataframe tbody tr th {\n",
       "        vertical-align: top;\n",
       "    }\n",
       "\n",
       "    .dataframe thead th {\n",
       "        text-align: right;\n",
       "    }\n",
       "</style>\n",
       "<table border=\"1\" class=\"dataframe\">\n",
       "  <thead>\n",
       "    <tr style=\"text-align: right;\">\n",
       "      <th></th>\n",
       "      <th>text</th>\n",
       "      <th>different_category_duplication</th>\n",
       "    </tr>\n",
       "  </thead>\n",
       "  <tbody>\n",
       "    <tr>\n",
       "      <th>0</th>\n",
       "      <td>\\n\\nIs this the joke of the month? \\n\\n1. Your fascist grandparents exterminated 2.5 million Mus...</td>\n",
       "      <td>False</td>\n",
       "    </tr>\n",
       "    <tr>\n",
       "      <th>1</th>\n",
       "      <td>\\nCould someone please send me the postal and email address of\\nCongruent Corporation (and any c...</td>\n",
       "      <td>False</td>\n",
       "    </tr>\n",
       "    <tr>\n",
       "      <th>2</th>\n",
       "      <td>10 month old stereo system for sale. Luxman R-351 receiver, Onkyo TA-RW404\\ntape deck, and Polk ...</td>\n",
       "      <td>False</td>\n",
       "    </tr>\n",
       "    <tr>\n",
       "      <th>3</th>\n",
       "      <td>After having OpenWindows \\n(Version 3 for SunOS 4.1) or Xwindows\\nrunning continuously on my mac...</td>\n",
       "      <td>False</td>\n",
       "    </tr>\n",
       "    <tr>\n",
       "      <th>4</th>\n",
       "      <td>Anyone, \\n\\n    I am a serious motorcycle enthusiast without a motorcycle, and to\\nput it bluntl...</td>\n",
       "      <td>False</td>\n",
       "    </tr>\n",
       "    <tr>\n",
       "      <th>5</th>\n",
       "      <td>Article 10886 of alt.radio.scanner:\\nPath: usenet.ins.cwru.edu!cleveland.Freenet.Edu!aj008\\nFrom...</td>\n",
       "      <td>True</td>\n",
       "    </tr>\n",
       "    <tr>\n",
       "      <th>6</th>\n",
       "      <td>CALL FOR PRESENTATIONS\\n\\t\\n      NAVY SCIENTIFIC VISUALIZATION AND VIRTUAL REALITY SEMINAR\\n\\n\\...</td>\n",
       "      <td>True</td>\n",
       "    </tr>\n",
       "    <tr>\n",
       "      <th>7</th>\n",
       "      <td>Can someone please remind me who said a well known quotation? \\n\\nHe was sitting atop a rocket a...</td>\n",
       "      <td>False</td>\n",
       "    </tr>\n",
       "    <tr>\n",
       "      <th>8</th>\n",
       "      <td>Do anyone know about any shading program based on Xlib in the public domain?\\nI need an example ...</td>\n",
       "      <td>False</td>\n",
       "    </tr>\n",
       "    <tr>\n",
       "      <th>9</th>\n",
       "      <td>From: payne@crl.dec.com (Andrew Payne)\\nMessage-ID: &lt;1993Apr20.004418.11548@crl.dec.com&gt;\\nOrgani...</td>\n",
       "      <td>False</td>\n",
       "    </tr>\n",
       "  </tbody>\n",
       "</table>\n",
       "</div>"
      ],
      "text/plain": [
       "                                                                                                  text  \\\n",
       "0  \\n\\nIs this the joke of the month? \\n\\n1. Your fascist grandparents exterminated 2.5 million Mus...   \n",
       "1  \\nCould someone please send me the postal and email address of\\nCongruent Corporation (and any c...   \n",
       "2  10 month old stereo system for sale. Luxman R-351 receiver, Onkyo TA-RW404\\ntape deck, and Polk ...   \n",
       "3  After having OpenWindows \\n(Version 3 for SunOS 4.1) or Xwindows\\nrunning continuously on my mac...   \n",
       "4  Anyone, \\n\\n    I am a serious motorcycle enthusiast without a motorcycle, and to\\nput it bluntl...   \n",
       "5  Article 10886 of alt.radio.scanner:\\nPath: usenet.ins.cwru.edu!cleveland.Freenet.Edu!aj008\\nFrom...   \n",
       "6  CALL FOR PRESENTATIONS\\n\\t\\n      NAVY SCIENTIFIC VISUALIZATION AND VIRTUAL REALITY SEMINAR\\n\\n\\...   \n",
       "7  Can someone please remind me who said a well known quotation? \\n\\nHe was sitting atop a rocket a...   \n",
       "8  Do anyone know about any shading program based on Xlib in the public domain?\\nI need an example ...   \n",
       "9  From: payne@crl.dec.com (Andrew Payne)\\nMessage-ID: <1993Apr20.004418.11548@crl.dec.com>\\nOrgani...   \n",
       "\n",
       "   different_category_duplication  \n",
       "0                           False  \n",
       "1                           False  \n",
       "2                           False  \n",
       "3                           False  \n",
       "4                           False  \n",
       "5                            True  \n",
       "6                            True  \n",
       "7                           False  \n",
       "8                           False  \n",
       "9                           False  "
      ]
     },
     "execution_count": 183,
     "metadata": {},
     "output_type": "execute_result"
    }
   ],
   "source": [
    "# check if articles are not duplicated across multiple categories\n",
    "df_different_category_duplication = (df_duplicates.groupby(\"text\").nunique() > 1)\\\n",
    "                                    .reset_index()\\\n",
    "                                    .rename(columns={'category': 'different_category_duplication'})\n",
    "\n",
    "print(f\"dataframe shape: {df_different_category_duplication.shape}\")\n",
    "df_different_category_duplication.head(10)"
   ]
  },
  {
   "cell_type": "code",
   "execution_count": 184,
   "id": "ad512e1d",
   "metadata": {},
   "outputs": [
    {
     "name": "stdout",
     "output_type": "stream",
     "text": [
      "dataframe shape: (7, 2)\n"
     ]
    },
    {
     "name": "stderr",
     "output_type": "stream",
     "text": [
      "/var/folders/wh/3r2crvs53yv7tvnnrdm8jqxw0000gn/T/ipykernel_4463/1645741638.py:3: UserWarning: Boolean Series key will be reindexed to match DataFrame index.\n",
      "  df_different_category_duplication = df_distinct_duplicate_category[mask_different_category_duplication]\n"
     ]
    },
    {
     "data": {
      "text/html": [
       "<div>\n",
       "<style scoped>\n",
       "    .dataframe tbody tr th:only-of-type {\n",
       "        vertical-align: middle;\n",
       "    }\n",
       "\n",
       "    .dataframe tbody tr th {\n",
       "        vertical-align: top;\n",
       "    }\n",
       "\n",
       "    .dataframe thead th {\n",
       "        text-align: right;\n",
       "    }\n",
       "</style>\n",
       "<table border=\"1\" class=\"dataframe\">\n",
       "  <thead>\n",
       "    <tr style=\"text-align: right;\">\n",
       "      <th></th>\n",
       "      <th>text</th>\n",
       "      <th>different_category_duplication</th>\n",
       "    </tr>\n",
       "  </thead>\n",
       "  <tbody>\n",
       "    <tr>\n",
       "      <th>5</th>\n",
       "      <td>Article 10886 of alt.radio.scanner:\\nPath: usenet.ins.cwru.edu!cleveland.Freenet.Edu!aj008\\nFrom...</td>\n",
       "      <td>True</td>\n",
       "    </tr>\n",
       "    <tr>\n",
       "      <th>6</th>\n",
       "      <td>CALL FOR PRESENTATIONS\\n\\t\\n      NAVY SCIENTIFIC VISUALIZATION AND VIRTUAL REALITY SEMINAR\\n\\n\\...</td>\n",
       "      <td>True</td>\n",
       "    </tr>\n",
       "    <tr>\n",
       "      <th>11</th>\n",
       "      <td>Hello,</td>\n",
       "      <td>True</td>\n",
       "    </tr>\n",
       "    <tr>\n",
       "      <th>18</th>\n",
       "      <td>I am looking for a WINDOW 3.1 driver  for \\n     Cornerstone  DualPage (Cornerstone Technology, ...</td>\n",
       "      <td>True</td>\n",
       "    </tr>\n",
       "    <tr>\n",
       "      <th>26</th>\n",
       "      <td>Tektronix 453 scope for sale:\\n\\n  - 50MHz bandwidth\\n  - portable (NOT one of the 5xx series bo...</td>\n",
       "      <td>True</td>\n",
       "    </tr>\n",
       "    <tr>\n",
       "      <th>28</th>\n",
       "      <td>This article was probably generated by a buggy news reader.\\n</td>\n",
       "      <td>True</td>\n",
       "    </tr>\n",
       "    <tr>\n",
       "      <th>29</th>\n",
       "      <td>This is for a friend of mine. Please send answers directly to him (E-Mail\\nadress see below )!\\n...</td>\n",
       "      <td>True</td>\n",
       "    </tr>\n",
       "  </tbody>\n",
       "</table>\n",
       "</div>"
      ],
      "text/plain": [
       "                                                                                                   text  \\\n",
       "5   Article 10886 of alt.radio.scanner:\\nPath: usenet.ins.cwru.edu!cleveland.Freenet.Edu!aj008\\nFrom...   \n",
       "6   CALL FOR PRESENTATIONS\\n\\t\\n      NAVY SCIENTIFIC VISUALIZATION AND VIRTUAL REALITY SEMINAR\\n\\n\\...   \n",
       "11                                                                                               Hello,   \n",
       "18  I am looking for a WINDOW 3.1 driver  for \\n     Cornerstone  DualPage (Cornerstone Technology, ...   \n",
       "26  Tektronix 453 scope for sale:\\n\\n  - 50MHz bandwidth\\n  - portable (NOT one of the 5xx series bo...   \n",
       "28                                        This article was probably generated by a buggy news reader.\\n   \n",
       "29  This is for a friend of mine. Please send answers directly to him (E-Mail\\nadress see below )!\\n...   \n",
       "\n",
       "    different_category_duplication  \n",
       "5                             True  \n",
       "6                             True  \n",
       "11                            True  \n",
       "18                            True  \n",
       "26                            True  \n",
       "28                            True  \n",
       "29                            True  "
      ]
     },
     "execution_count": 184,
     "metadata": {},
     "output_type": "execute_result"
    }
   ],
   "source": [
    "# keep only articles duplicated across different categories\n",
    "mask_different_category_duplication = df_different_category_duplication[\"different_category_duplication\"] == True\n",
    "df_different_category_duplication = df_distinct_duplicate_category[mask_different_category_duplication]\n",
    "\n",
    "print(f\"dataframe shape: {df_distinct_duplicate_category.shape}\")\n",
    "df_different_category_duplication.head(10)"
   ]
  },
  {
   "cell_type": "code",
   "execution_count": 185,
   "id": "a69085d8",
   "metadata": {},
   "outputs": [
    {
     "data": {
      "text/html": [
       "<div>\n",
       "<style scoped>\n",
       "    .dataframe tbody tr th:only-of-type {\n",
       "        vertical-align: middle;\n",
       "    }\n",
       "\n",
       "    .dataframe tbody tr th {\n",
       "        vertical-align: top;\n",
       "    }\n",
       "\n",
       "    .dataframe thead th {\n",
       "        text-align: right;\n",
       "    }\n",
       "</style>\n",
       "<table border=\"1\" class=\"dataframe\">\n",
       "  <thead>\n",
       "    <tr style=\"text-align: right;\">\n",
       "      <th></th>\n",
       "      <th>text</th>\n",
       "      <th>category</th>\n",
       "      <th>different_category_duplication</th>\n",
       "    </tr>\n",
       "  </thead>\n",
       "  <tbody>\n",
       "    <tr>\n",
       "      <th>0</th>\n",
       "      <td>Article 10886 of alt.radio.scanner:\\nPath: usenet.ins.cwru.edu!cleveland.Freenet.Edu!aj008\\nFrom...</td>\n",
       "      <td>6</td>\n",
       "      <td>True</td>\n",
       "    </tr>\n",
       "    <tr>\n",
       "      <th>1</th>\n",
       "      <td>Article 10886 of alt.radio.scanner:\\nPath: usenet.ins.cwru.edu!cleveland.Freenet.Edu!aj008\\nFrom...</td>\n",
       "      <td>12</td>\n",
       "      <td>True</td>\n",
       "    </tr>\n",
       "    <tr>\n",
       "      <th>2</th>\n",
       "      <td>CALL FOR PRESENTATIONS\\n\\t\\n      NAVY SCIENTIFIC VISUALIZATION AND VIRTUAL REALITY SEMINAR\\n\\n\\...</td>\n",
       "      <td>1</td>\n",
       "      <td>True</td>\n",
       "    </tr>\n",
       "    <tr>\n",
       "      <th>3</th>\n",
       "      <td>CALL FOR PRESENTATIONS\\n\\t\\n      NAVY SCIENTIFIC VISUALIZATION AND VIRTUAL REALITY SEMINAR\\n\\n\\...</td>\n",
       "      <td>2</td>\n",
       "      <td>True</td>\n",
       "    </tr>\n",
       "    <tr>\n",
       "      <th>4</th>\n",
       "      <td>Hello,</td>\n",
       "      <td>1</td>\n",
       "      <td>True</td>\n",
       "    </tr>\n",
       "    <tr>\n",
       "      <th>5</th>\n",
       "      <td>Hello,</td>\n",
       "      <td>13</td>\n",
       "      <td>True</td>\n",
       "    </tr>\n",
       "    <tr>\n",
       "      <th>6</th>\n",
       "      <td>I am looking for a WINDOW 3.1 driver  for \\n     Cornerstone  DualPage (Cornerstone Technology, ...</td>\n",
       "      <td>2</td>\n",
       "      <td>True</td>\n",
       "    </tr>\n",
       "    <tr>\n",
       "      <th>7</th>\n",
       "      <td>I am looking for a WINDOW 3.1 driver  for \\n     Cornerstone  DualPage (Cornerstone Technology, ...</td>\n",
       "      <td>1</td>\n",
       "      <td>True</td>\n",
       "    </tr>\n",
       "    <tr>\n",
       "      <th>8</th>\n",
       "      <td>Tektronix 453 scope for sale:\\n\\n  - 50MHz bandwidth\\n  - portable (NOT one of the 5xx series bo...</td>\n",
       "      <td>6</td>\n",
       "      <td>True</td>\n",
       "    </tr>\n",
       "    <tr>\n",
       "      <th>9</th>\n",
       "      <td>Tektronix 453 scope for sale:\\n\\n  - 50MHz bandwidth\\n  - portable (NOT one of the 5xx series bo...</td>\n",
       "      <td>12</td>\n",
       "      <td>True</td>\n",
       "    </tr>\n",
       "    <tr>\n",
       "      <th>10</th>\n",
       "      <td>This article was probably generated by a buggy news reader.\\n</td>\n",
       "      <td>6</td>\n",
       "      <td>True</td>\n",
       "    </tr>\n",
       "    <tr>\n",
       "      <th>11</th>\n",
       "      <td>This article was probably generated by a buggy news reader.\\n</td>\n",
       "      <td>1</td>\n",
       "      <td>True</td>\n",
       "    </tr>\n",
       "    <tr>\n",
       "      <th>12</th>\n",
       "      <td>This is for a friend of mine. Please send answers directly to him (E-Mail\\nadress see below )!\\n...</td>\n",
       "      <td>12</td>\n",
       "      <td>True</td>\n",
       "    </tr>\n",
       "    <tr>\n",
       "      <th>13</th>\n",
       "      <td>This is for a friend of mine. Please send answers directly to him (E-Mail\\nadress see below )!\\n...</td>\n",
       "      <td>3</td>\n",
       "      <td>True</td>\n",
       "    </tr>\n",
       "  </tbody>\n",
       "</table>\n",
       "</div>"
      ],
      "text/plain": [
       "                                                                                                   text  \\\n",
       "0   Article 10886 of alt.radio.scanner:\\nPath: usenet.ins.cwru.edu!cleveland.Freenet.Edu!aj008\\nFrom...   \n",
       "1   Article 10886 of alt.radio.scanner:\\nPath: usenet.ins.cwru.edu!cleveland.Freenet.Edu!aj008\\nFrom...   \n",
       "2   CALL FOR PRESENTATIONS\\n\\t\\n      NAVY SCIENTIFIC VISUALIZATION AND VIRTUAL REALITY SEMINAR\\n\\n\\...   \n",
       "3   CALL FOR PRESENTATIONS\\n\\t\\n      NAVY SCIENTIFIC VISUALIZATION AND VIRTUAL REALITY SEMINAR\\n\\n\\...   \n",
       "4                                                                                                Hello,   \n",
       "5                                                                                                Hello,   \n",
       "6   I am looking for a WINDOW 3.1 driver  for \\n     Cornerstone  DualPage (Cornerstone Technology, ...   \n",
       "7   I am looking for a WINDOW 3.1 driver  for \\n     Cornerstone  DualPage (Cornerstone Technology, ...   \n",
       "8   Tektronix 453 scope for sale:\\n\\n  - 50MHz bandwidth\\n  - portable (NOT one of the 5xx series bo...   \n",
       "9   Tektronix 453 scope for sale:\\n\\n  - 50MHz bandwidth\\n  - portable (NOT one of the 5xx series bo...   \n",
       "10                                        This article was probably generated by a buggy news reader.\\n   \n",
       "11                                        This article was probably generated by a buggy news reader.\\n   \n",
       "12  This is for a friend of mine. Please send answers directly to him (E-Mail\\nadress see below )!\\n...   \n",
       "13  This is for a friend of mine. Please send answers directly to him (E-Mail\\nadress see below )!\\n...   \n",
       "\n",
       "    category  different_category_duplication  \n",
       "0          6                            True  \n",
       "1         12                            True  \n",
       "2          1                            True  \n",
       "3          2                            True  \n",
       "4          1                            True  \n",
       "5         13                            True  \n",
       "6          2                            True  \n",
       "7          1                            True  \n",
       "8          6                            True  \n",
       "9         12                            True  \n",
       "10         6                            True  \n",
       "11         1                            True  \n",
       "12        12                            True  \n",
       "13         3                            True  "
      ]
     },
     "execution_count": 185,
     "metadata": {},
     "output_type": "execute_result"
    }
   ],
   "source": [
    "# preview the articles duplicated across different categories\n",
    "pd.merge(\n",
    "    left=df_duplicates,\n",
    "    right=df_different_category_duplication,\n",
    "    left_on='text',\n",
    "    right_on='text',\n",
    "    how='inner'\n",
    ")"
   ]
  },
  {
   "cell_type": "code",
   "execution_count": 192,
   "id": "c2171489",
   "metadata": {},
   "outputs": [
    {
     "name": "stdout",
     "output_type": "stream",
     "text": [
      "dataframe shape: (11000, 2)\n"
     ]
    },
    {
     "data": {
      "text/html": [
       "<div>\n",
       "<style scoped>\n",
       "    .dataframe tbody tr th:only-of-type {\n",
       "        vertical-align: middle;\n",
       "    }\n",
       "\n",
       "    .dataframe tbody tr th {\n",
       "        vertical-align: top;\n",
       "    }\n",
       "\n",
       "    .dataframe thead th {\n",
       "        text-align: right;\n",
       "    }\n",
       "</style>\n",
       "<table border=\"1\" class=\"dataframe\">\n",
       "  <thead>\n",
       "    <tr style=\"text-align: right;\">\n",
       "      <th></th>\n",
       "      <th>text</th>\n",
       "      <th>category</th>\n",
       "      <th>different_category_duplication</th>\n",
       "    </tr>\n",
       "  </thead>\n",
       "  <tbody>\n",
       "    <tr>\n",
       "      <th>0</th>\n",
       "      <td>Well i'm not sure about the story nad it did seem biased. What\\nI disagree with is your statemen...</td>\n",
       "      <td>17</td>\n",
       "      <td>NaN</td>\n",
       "    </tr>\n",
       "    <tr>\n",
       "      <th>1</th>\n",
       "      <td>\\n\\n\\n\\n\\n\\n\\nYeah, do you expect people to read the FAQ, etc. and actually accept hard\\natheism...</td>\n",
       "      <td>0</td>\n",
       "      <td>NaN</td>\n",
       "    </tr>\n",
       "    <tr>\n",
       "      <th>2</th>\n",
       "      <td>Although I realize that principle is not one of your strongest\\npoints, I would still like to kn...</td>\n",
       "      <td>17</td>\n",
       "      <td>NaN</td>\n",
       "    </tr>\n",
       "    <tr>\n",
       "      <th>3</th>\n",
       "      <td>Notwithstanding all the legitimate fuss about this proposal, how much\\nof a change is it?  ATT's...</td>\n",
       "      <td>11</td>\n",
       "      <td>NaN</td>\n",
       "    </tr>\n",
       "    <tr>\n",
       "      <th>4</th>\n",
       "      <td>Well, I will have to change the scoring on my playoff pool.  Unfortunately\\nI don't have time ri...</td>\n",
       "      <td>10</td>\n",
       "      <td>NaN</td>\n",
       "    </tr>\n",
       "    <tr>\n",
       "      <th>5</th>\n",
       "      <td>\\n \\nI read somewhere, I think in Morton Smith's _Jesus the Magician_, that\\nold Lazarus wasn't...</td>\n",
       "      <td>15</td>\n",
       "      <td>NaN</td>\n",
       "    </tr>\n",
       "    <tr>\n",
       "      <th>6</th>\n",
       "      <td>\\nOk.  I have a record that shows a IIsi with and without a 64KB cache.\\nIt's small enough that ...</td>\n",
       "      <td>4</td>\n",
       "      <td>NaN</td>\n",
       "    </tr>\n",
       "    <tr>\n",
       "      <th>7</th>\n",
       "      <td>\\n\\n\\nSounds like wishful guessing.\\n\\n\\n\\n\\n'So-called' ? What do you mean ? How would you see ...</td>\n",
       "      <td>17</td>\n",
       "      <td>NaN</td>\n",
       "    </tr>\n",
       "    <tr>\n",
       "      <th>8</th>\n",
       "      <td>Nobody is saying that you shouldn't be allowed to use msg.  Just\\ndon't force it on others. If ...</td>\n",
       "      <td>13</td>\n",
       "      <td>NaN</td>\n",
       "    </tr>\n",
       "    <tr>\n",
       "      <th>9</th>\n",
       "      <td>\\n  I was wondering if anyone can shed any light on just how it is that these\\nelectronic odomet...</td>\n",
       "      <td>12</td>\n",
       "      <td>NaN</td>\n",
       "    </tr>\n",
       "  </tbody>\n",
       "</table>\n",
       "</div>"
      ],
      "text/plain": [
       "                                                                                                  text  \\\n",
       "0  Well i'm not sure about the story nad it did seem biased. What\\nI disagree with is your statemen...   \n",
       "1  \\n\\n\\n\\n\\n\\n\\nYeah, do you expect people to read the FAQ, etc. and actually accept hard\\natheism...   \n",
       "2  Although I realize that principle is not one of your strongest\\npoints, I would still like to kn...   \n",
       "3  Notwithstanding all the legitimate fuss about this proposal, how much\\nof a change is it?  ATT's...   \n",
       "4  Well, I will have to change the scoring on my playoff pool.  Unfortunately\\nI don't have time ri...   \n",
       "5   \\n \\nI read somewhere, I think in Morton Smith's _Jesus the Magician_, that\\nold Lazarus wasn't...   \n",
       "6  \\nOk.  I have a record that shows a IIsi with and without a 64KB cache.\\nIt's small enough that ...   \n",
       "7  \\n\\n\\nSounds like wishful guessing.\\n\\n\\n\\n\\n'So-called' ? What do you mean ? How would you see ...   \n",
       "8   Nobody is saying that you shouldn't be allowed to use msg.  Just\\ndon't force it on others. If ...   \n",
       "9  \\n  I was wondering if anyone can shed any light on just how it is that these\\nelectronic odomet...   \n",
       "\n",
       "   category different_category_duplication  \n",
       "0        17                            NaN  \n",
       "1         0                            NaN  \n",
       "2        17                            NaN  \n",
       "3        11                            NaN  \n",
       "4        10                            NaN  \n",
       "5        15                            NaN  \n",
       "6         4                            NaN  \n",
       "7        17                            NaN  \n",
       "8        13                            NaN  \n",
       "9        12                            NaN  "
      ]
     },
     "execution_count": 192,
     "metadata": {},
     "output_type": "execute_result"
    }
   ],
   "source": [
    "# remove articles duplicated across different categories to avoid confusion\n",
    "df = df[~df['text'].isin(df_different_category_duplication['text'])]\n",
    "\n",
    "print(f\"dataframe shape: {df.shape}\")\n",
    "df_temp.head(10)"
   ]
  },
  {
   "cell_type": "code",
   "execution_count": 197,
   "id": "b1315f5c",
   "metadata": {},
   "outputs": [
    {
     "name": "stdout",
     "output_type": "stream",
     "text": [
      "dataframe shape: (10974, 2)\n"
     ]
    },
    {
     "data": {
      "text/html": [
       "<div>\n",
       "<style scoped>\n",
       "    .dataframe tbody tr th:only-of-type {\n",
       "        vertical-align: middle;\n",
       "    }\n",
       "\n",
       "    .dataframe tbody tr th {\n",
       "        vertical-align: top;\n",
       "    }\n",
       "\n",
       "    .dataframe thead th {\n",
       "        text-align: right;\n",
       "    }\n",
       "</style>\n",
       "<table border=\"1\" class=\"dataframe\">\n",
       "  <thead>\n",
       "    <tr style=\"text-align: right;\">\n",
       "      <th></th>\n",
       "      <th>text</th>\n",
       "      <th>category</th>\n",
       "    </tr>\n",
       "  </thead>\n",
       "  <tbody>\n",
       "    <tr>\n",
       "      <th>0</th>\n",
       "      <td>Well i'm not sure about the story nad it did seem biased. What\\nI disagree with is your statemen...</td>\n",
       "      <td>17</td>\n",
       "    </tr>\n",
       "    <tr>\n",
       "      <th>1</th>\n",
       "      <td>\\n\\n\\n\\n\\n\\n\\nYeah, do you expect people to read the FAQ, etc. and actually accept hard\\natheism...</td>\n",
       "      <td>0</td>\n",
       "    </tr>\n",
       "    <tr>\n",
       "      <th>2</th>\n",
       "      <td>Although I realize that principle is not one of your strongest\\npoints, I would still like to kn...</td>\n",
       "      <td>17</td>\n",
       "    </tr>\n",
       "    <tr>\n",
       "      <th>3</th>\n",
       "      <td>Notwithstanding all the legitimate fuss about this proposal, how much\\nof a change is it?  ATT's...</td>\n",
       "      <td>11</td>\n",
       "    </tr>\n",
       "    <tr>\n",
       "      <th>4</th>\n",
       "      <td>Well, I will have to change the scoring on my playoff pool.  Unfortunately\\nI don't have time ri...</td>\n",
       "      <td>10</td>\n",
       "    </tr>\n",
       "  </tbody>\n",
       "</table>\n",
       "</div>"
      ],
      "text/plain": [
       "                                                                                                  text  \\\n",
       "0  Well i'm not sure about the story nad it did seem biased. What\\nI disagree with is your statemen...   \n",
       "1  \\n\\n\\n\\n\\n\\n\\nYeah, do you expect people to read the FAQ, etc. and actually accept hard\\natheism...   \n",
       "2  Although I realize that principle is not one of your strongest\\npoints, I would still like to kn...   \n",
       "3  Notwithstanding all the legitimate fuss about this proposal, how much\\nof a change is it?  ATT's...   \n",
       "4  Well, I will have to change the scoring on my playoff pool.  Unfortunately\\nI don't have time ri...   \n",
       "\n",
       "   category  \n",
       "0        17  \n",
       "1         0  \n",
       "2        17  \n",
       "3        11  \n",
       "4        10  "
      ]
     },
     "execution_count": 197,
     "metadata": {},
     "output_type": "execute_result"
    }
   ],
   "source": [
    "# the remaining duplicates are identical records -- keep only one\n",
    "df.drop_duplicates(subset=[\"text\"], keep='last', inplace=True)\n",
    "\n",
    "print(f\"dataframe shape: {df.shape}\")\n",
    "df.head()"
   ]
  },
  {
   "cell_type": "code",
   "execution_count": 199,
   "id": "417f43b3",
   "metadata": {},
   "outputs": [
    {
     "name": "stdout",
     "output_type": "stream",
     "text": [
      "categories distribution:\n",
      "15    591\n",
      "10    585\n",
      "11    582\n",
      "8     581\n",
      "5     581\n",
      "3     577\n",
      "13    577\n",
      "14    576\n",
      "9     575\n",
      "12    571\n",
      "6     569\n",
      "1     567\n",
      "2     563\n",
      "7     561\n",
      "4     557\n",
      "17    548\n",
      "16    532\n",
      "0     468\n",
      "18    453\n",
      "19    360\n",
      "Name: category, dtype: int64\n"
     ]
    }
   ],
   "source": [
    "# check articles distribution across categories\n",
    "print(f\"categories distribution:\\n{df['category'].value_counts().sort_values(ascending=False)}\")"
   ]
  },
  {
   "cell_type": "markdown",
   "id": "1f36752f",
   "metadata": {},
   "source": [
    "# 0.2. Preprocess Data"
   ]
  },
  {
   "cell_type": "markdown",
   "id": "2f267696",
   "metadata": {},
   "source": [
    "#### TODO\n",
    "\n",
    "* Remove irrelevant tokens: e.g. maxaxax...\n",
    "* Stem words"
   ]
  },
  {
   "cell_type": "code",
   "execution_count": 201,
   "id": "0fe1048e",
   "metadata": {},
   "outputs": [
    {
     "name": "stdout",
     "output_type": "stream",
     "text": [
      "preview stopwords: ['ll', 'them', 'myself', \"couldn't\", 'shan', 'doing', 'itself', \"you're\", 'whom', 'those']\n"
     ]
    }
   ],
   "source": [
    "en_stop_words = set(stopwords.words('english'))\n",
    "\n",
    "print(f\"preview stopwords: {list(en_stop_words)[:10]}\")"
   ]
  },
  {
   "cell_type": "code",
   "execution_count": 202,
   "id": "e5acae5e",
   "metadata": {},
   "outputs": [
    {
     "name": "stdout",
     "output_type": "stream",
     "text": [
      "preview punctuation: ['!', '\"', '#', '$', '%', '&', \"'\", '(', ')', '*']\n"
     ]
    }
   ],
   "source": [
    "punctuation = string.punctuation\n",
    "\n",
    "print(f\"preview punctuation: {list(punctuation)[:10]}\")"
   ]
  },
  {
   "cell_type": "code",
   "execution_count": 203,
   "id": "aa9767a3",
   "metadata": {},
   "outputs": [],
   "source": [
    "regex_mappers = [\n",
    "    # collapse whitespace(s) into one space\n",
    "    RegexMapper(regex=r\"\\s+\", sub=' '),\n",
    "                \n",
    "    # strip whitespace(s)\n",
    "    RegexMapper(regex=r\"^\\s+|\\s+$\", sub=''),\n",
    "]\n",
    "\n",
    "# remove short words\n",
    "func_remove_short_words = lambda x: ' '.join(word for word in x.split() if len(word) > 2)\n",
    "\n",
    "\n",
    "preprocessors = [\n",
    "    ToLower(),\n",
    "    StopwordsRemover(list_stopwords=en_stop_words),\n",
    "    # remove punctuation and digits\n",
    "    RegexSubstituter(RegexMapper(regex=fr\"[{punctuation}\\d]\", sub='')),\n",
    "    FunctionApplier(func=func_remove_short_words),\n",
    "    SequentialRegexSubstituter(list_regex_mappers=regex_mappers),\n",
    "]\n",
    "\n",
    "preprocessing_funcs = CompositeTextPreprocessors(list_preprocessors=preprocessors)"
   ]
  },
  {
   "cell_type": "code",
   "execution_count": 204,
   "id": "c3c4bc1d",
   "metadata": {},
   "outputs": [
    {
     "name": "stdout",
     "output_type": "stream",
     "text": [
      "> before applying preprocessing:\n",
      "  Yeah, do you expect people to read the 200 FAQ, etc. \n",
      "and actually...\n",
      " \n",
      "> after applying preprocessing:\n",
      "yeah expect people read faq etc actually\n"
     ]
    }
   ],
   "source": [
    "# check preprocessing funcs\n",
    "example_text = \"\"\"  Yeah, do you expect people to read the 200 FAQ, etc. \\nand actually...\\n \"\"\"\n",
    "print(f\"> before applying preprocessing:\\n{example_text}\")\n",
    "\n",
    "print(f\"> after applying preprocessing:\\n{preprocessing_funcs(example_text)}\")"
   ]
  },
  {
   "cell_type": "markdown",
   "id": "dc508ef7",
   "metadata": {},
   "source": [
    "### Apply preprocessing to data"
   ]
  },
  {
   "cell_type": "code",
   "execution_count": 205,
   "id": "7f0a8a90",
   "metadata": {},
   "outputs": [
    {
     "name": "stdout",
     "output_type": "stream",
     "text": [
      "dataframe shape: (10974, 3)\n"
     ]
    },
    {
     "data": {
      "text/html": [
       "<div>\n",
       "<style scoped>\n",
       "    .dataframe tbody tr th:only-of-type {\n",
       "        vertical-align: middle;\n",
       "    }\n",
       "\n",
       "    .dataframe tbody tr th {\n",
       "        vertical-align: top;\n",
       "    }\n",
       "\n",
       "    .dataframe thead th {\n",
       "        text-align: right;\n",
       "    }\n",
       "</style>\n",
       "<table border=\"1\" class=\"dataframe\">\n",
       "  <thead>\n",
       "    <tr style=\"text-align: right;\">\n",
       "      <th></th>\n",
       "      <th>text</th>\n",
       "      <th>category</th>\n",
       "      <th>text_preprocessed</th>\n",
       "    </tr>\n",
       "  </thead>\n",
       "  <tbody>\n",
       "    <tr>\n",
       "      <th>0</th>\n",
       "      <td>Well i'm not sure about the story nad it did seem biased. What\\nI disagree with is your statemen...</td>\n",
       "      <td>17</td>\n",
       "      <td>well sure story nad seem biased disagree statement media ruin israels reputation rediculous medi...</td>\n",
       "    </tr>\n",
       "    <tr>\n",
       "      <th>1</th>\n",
       "      <td>\\n\\n\\n\\n\\n\\n\\nYeah, do you expect people to read the FAQ, etc. and actually accept hard\\natheism...</td>\n",
       "      <td>0</td>\n",
       "      <td>yeah expect people read faq etc actually accept hard atheism need little leap faith jimmy logic ...</td>\n",
       "    </tr>\n",
       "    <tr>\n",
       "      <th>2</th>\n",
       "      <td>Although I realize that principle is not one of your strongest\\npoints, I would still like to kn...</td>\n",
       "      <td>17</td>\n",
       "      <td>although realize principle one strongest points would still like know ask question sort arab cou...</td>\n",
       "    </tr>\n",
       "    <tr>\n",
       "      <th>3</th>\n",
       "      <td>Notwithstanding all the legitimate fuss about this proposal, how much\\nof a change is it?  ATT's...</td>\n",
       "      <td>11</td>\n",
       "      <td>notwithstanding legitimate fuss proposal much change atts last product area priced suspect clipp...</td>\n",
       "    </tr>\n",
       "    <tr>\n",
       "      <th>4</th>\n",
       "      <td>Well, I will have to change the scoring on my playoff pool.  Unfortunately\\nI don't have time ri...</td>\n",
       "      <td>10</td>\n",
       "      <td>well change scoring playoff pool unfortunately time right now certainly post new scoring rules t...</td>\n",
       "    </tr>\n",
       "  </tbody>\n",
       "</table>\n",
       "</div>"
      ],
      "text/plain": [
       "                                                                                                  text  \\\n",
       "0  Well i'm not sure about the story nad it did seem biased. What\\nI disagree with is your statemen...   \n",
       "1  \\n\\n\\n\\n\\n\\n\\nYeah, do you expect people to read the FAQ, etc. and actually accept hard\\natheism...   \n",
       "2  Although I realize that principle is not one of your strongest\\npoints, I would still like to kn...   \n",
       "3  Notwithstanding all the legitimate fuss about this proposal, how much\\nof a change is it?  ATT's...   \n",
       "4  Well, I will have to change the scoring on my playoff pool.  Unfortunately\\nI don't have time ri...   \n",
       "\n",
       "   category  \\\n",
       "0        17   \n",
       "1         0   \n",
       "2        17   \n",
       "3        11   \n",
       "4        10   \n",
       "\n",
       "                                                                                     text_preprocessed  \n",
       "0  well sure story nad seem biased disagree statement media ruin israels reputation rediculous medi...  \n",
       "1  yeah expect people read faq etc actually accept hard atheism need little leap faith jimmy logic ...  \n",
       "2  although realize principle one strongest points would still like know ask question sort arab cou...  \n",
       "3  notwithstanding legitimate fuss proposal much change atts last product area priced suspect clipp...  \n",
       "4  well change scoring playoff pool unfortunately time right now certainly post new scoring rules t...  "
      ]
     },
     "execution_count": 205,
     "metadata": {},
     "output_type": "execute_result"
    }
   ],
   "source": [
    "df['text_preprocessed'] = df['text'].apply(lambda x: preprocessing_funcs(x))\n",
    "\n",
    "print(f\"dataframe shape: {df.shape}\")\n",
    "df.head()"
   ]
  },
  {
   "cell_type": "markdown",
   "id": "0aa01070",
   "metadata": {},
   "source": [
    "# 1. LDA"
   ]
  },
  {
   "cell_type": "markdown",
   "id": "adfa6d39",
   "metadata": {},
   "source": [
    "### Mathematical Background:\n",
    "* [Drichelet and Multinomial Distributions](https://qr.ae/pvYeXu)\n",
    "* [Visual Interpretation of LDA Math](https://youtu.be/T05t-SqKArY)"
   ]
  },
  {
   "cell_type": "markdown",
   "id": "b4d992df",
   "metadata": {},
   "source": [
    "### References:\n",
    "* [Topic Modelling in Python with spaCy and Gensim](https://towardsdatascience.com/topic-modelling-in-python-with-spacy-and-gensim-dc8f7748bdbf)\n",
    "* [Topic Coherence Measures](https://towardsdatascience.com/understanding-topic-coherence-measures-4aa41339634c)\n",
    "* [Optimizing LDA Topic Model for Interpretability](https://nicharuc.github.io/topic_modeling/#topic=0&lambda=1&term=)"
   ]
  },
  {
   "cell_type": "markdown",
   "id": "e30b12ab",
   "metadata": {},
   "source": [
    "## 1.1. Tokenize text"
   ]
  },
  {
   "cell_type": "code",
   "execution_count": 206,
   "id": "7e9ee21f",
   "metadata": {},
   "outputs": [
    {
     "name": "stdout",
     "output_type": "stream",
     "text": [
      "dataframe shape: (10974, 4)\n"
     ]
    },
    {
     "data": {
      "text/html": [
       "<div>\n",
       "<style scoped>\n",
       "    .dataframe tbody tr th:only-of-type {\n",
       "        vertical-align: middle;\n",
       "    }\n",
       "\n",
       "    .dataframe tbody tr th {\n",
       "        vertical-align: top;\n",
       "    }\n",
       "\n",
       "    .dataframe thead th {\n",
       "        text-align: right;\n",
       "    }\n",
       "</style>\n",
       "<table border=\"1\" class=\"dataframe\">\n",
       "  <thead>\n",
       "    <tr style=\"text-align: right;\">\n",
       "      <th></th>\n",
       "      <th>text</th>\n",
       "      <th>category</th>\n",
       "      <th>text_preprocessed</th>\n",
       "      <th>text_tokenized</th>\n",
       "    </tr>\n",
       "  </thead>\n",
       "  <tbody>\n",
       "    <tr>\n",
       "      <th>0</th>\n",
       "      <td>Well i'm not sure about the story nad it did seem biased. What\\nI disagree with is your statemen...</td>\n",
       "      <td>17</td>\n",
       "      <td>well sure story nad seem biased disagree statement media ruin israels reputation rediculous medi...</td>\n",
       "      <td>[well, sure, story, nad, seem, biased, disagree, statement, media, ruin, israels, reputation, re...</td>\n",
       "    </tr>\n",
       "    <tr>\n",
       "      <th>1</th>\n",
       "      <td>\\n\\n\\n\\n\\n\\n\\nYeah, do you expect people to read the FAQ, etc. and actually accept hard\\natheism...</td>\n",
       "      <td>0</td>\n",
       "      <td>yeah expect people read faq etc actually accept hard atheism need little leap faith jimmy logic ...</td>\n",
       "      <td>[yeah, expect, people, read, faq, etc, actually, accept, hard, atheism, need, little, leap, fait...</td>\n",
       "    </tr>\n",
       "    <tr>\n",
       "      <th>2</th>\n",
       "      <td>Although I realize that principle is not one of your strongest\\npoints, I would still like to kn...</td>\n",
       "      <td>17</td>\n",
       "      <td>although realize principle one strongest points would still like know ask question sort arab cou...</td>\n",
       "      <td>[although, realize, principle, one, strongest, points, would, still, like, know, ask, question, ...</td>\n",
       "    </tr>\n",
       "    <tr>\n",
       "      <th>3</th>\n",
       "      <td>Notwithstanding all the legitimate fuss about this proposal, how much\\nof a change is it?  ATT's...</td>\n",
       "      <td>11</td>\n",
       "      <td>notwithstanding legitimate fuss proposal much change atts last product area priced suspect clipp...</td>\n",
       "      <td>[notwithstanding, legitimate, fuss, proposal, much, change, atts, last, product, area, priced, s...</td>\n",
       "    </tr>\n",
       "    <tr>\n",
       "      <th>4</th>\n",
       "      <td>Well, I will have to change the scoring on my playoff pool.  Unfortunately\\nI don't have time ri...</td>\n",
       "      <td>10</td>\n",
       "      <td>well change scoring playoff pool unfortunately time right now certainly post new scoring rules t...</td>\n",
       "      <td>[well, change, scoring, playoff, pool, unfortunately, time, right, now, certainly, post, new, sc...</td>\n",
       "    </tr>\n",
       "  </tbody>\n",
       "</table>\n",
       "</div>"
      ],
      "text/plain": [
       "                                                                                                  text  \\\n",
       "0  Well i'm not sure about the story nad it did seem biased. What\\nI disagree with is your statemen...   \n",
       "1  \\n\\n\\n\\n\\n\\n\\nYeah, do you expect people to read the FAQ, etc. and actually accept hard\\natheism...   \n",
       "2  Although I realize that principle is not one of your strongest\\npoints, I would still like to kn...   \n",
       "3  Notwithstanding all the legitimate fuss about this proposal, how much\\nof a change is it?  ATT's...   \n",
       "4  Well, I will have to change the scoring on my playoff pool.  Unfortunately\\nI don't have time ri...   \n",
       "\n",
       "   category  \\\n",
       "0        17   \n",
       "1         0   \n",
       "2        17   \n",
       "3        11   \n",
       "4        10   \n",
       "\n",
       "                                                                                     text_preprocessed  \\\n",
       "0  well sure story nad seem biased disagree statement media ruin israels reputation rediculous medi...   \n",
       "1  yeah expect people read faq etc actually accept hard atheism need little leap faith jimmy logic ...   \n",
       "2  although realize principle one strongest points would still like know ask question sort arab cou...   \n",
       "3  notwithstanding legitimate fuss proposal much change atts last product area priced suspect clipp...   \n",
       "4  well change scoring playoff pool unfortunately time right now certainly post new scoring rules t...   \n",
       "\n",
       "                                                                                        text_tokenized  \n",
       "0  [well, sure, story, nad, seem, biased, disagree, statement, media, ruin, israels, reputation, re...  \n",
       "1  [yeah, expect, people, read, faq, etc, actually, accept, hard, atheism, need, little, leap, fait...  \n",
       "2  [although, realize, principle, one, strongest, points, would, still, like, know, ask, question, ...  \n",
       "3  [notwithstanding, legitimate, fuss, proposal, much, change, atts, last, product, area, priced, s...  \n",
       "4  [well, change, scoring, playoff, pool, unfortunately, time, right, now, certainly, post, new, sc...  "
      ]
     },
     "execution_count": 206,
     "metadata": {},
     "output_type": "execute_result"
    }
   ],
   "source": [
    "df['text_tokenized'] = df['text_preprocessed'].apply(lambda x: NLTKWordTokenizer()(x))\n",
    "\n",
    "print(f\"dataframe shape: {df.shape}\")\n",
    "df.head()"
   ]
  },
  {
   "cell_type": "markdown",
   "id": "b36172da",
   "metadata": {},
   "source": [
    "## 1.2. Build Corpus (BoW):"
   ]
  },
  {
   "cell_type": "code",
   "execution_count": 207,
   "id": "203acb40",
   "metadata": {},
   "outputs": [
    {
     "name": "stdout",
     "output_type": "stream",
     "text": [
      "number of tokens: 91167\n",
      "preview tokens: [(0, 'acts'), (1, 'all'), (2, 'atrocities'), (3, 'austria'), (4, 'away')]\n"
     ]
    }
   ],
   "source": [
    "dictionary = Dictionary(df['text_tokenized'])\n",
    "\n",
    "# preview tokens\n",
    "list_tokens = list(dictionary.items())\n",
    "\n",
    "print(f\"number of tokens: {len(list_tokens)}\")\n",
    "print(f\"preview tokens: {list_tokens[:5]}\")"
   ]
  },
  {
   "cell_type": "code",
   "execution_count": 214,
   "id": "3bb3e095",
   "metadata": {},
   "outputs": [
    {
     "name": "stdout",
     "output_type": "stream",
     "text": [
      "number of tokens: 15199\n",
      "preview tokens: [(0, 'acts'), (1, 'all'), (2, 'atrocities'), (3, 'austria'), (4, 'away')]\n"
     ]
    }
   ],
   "source": [
    "# filter out tokens that appear in:\n",
    "## less than no_below documents (absolute number) or\n",
    "## more than no_above documents (fraction of total corpus size, not absolute number).\n",
    "dictionary.filter_extremes(no_below=5, no_above=0.5)\n",
    "\n",
    "# preview tokens\n",
    "list_tokens = list(dictionary.items())\n",
    "\n",
    "print(f\"number of tokens: {len(list_tokens)}\")\n",
    "print(f\"preview tokens: {list_tokens[:5]}\")"
   ]
  },
  {
   "cell_type": "markdown",
   "id": "2ddcce7d",
   "metadata": {},
   "source": [
    "### Construct the Corpus/BoW"
   ]
  },
  {
   "cell_type": "code",
   "execution_count": 215,
   "id": "2a4b112b",
   "metadata": {},
   "outputs": [
    {
     "name": "stdout",
     "output_type": "stream",
     "text": [
      "preview corpus:\n",
      "[[(0, 1), (1, 1), (2, 1), (3, 1), (4, 1), (5, 1), (6, 1), (7, 1), (8, 1), (9, 1), (10, 1), (11, 1), (12, 1), (13, 1), (14, 1), (15, 1), (16, 1), (17, 1), (18, 1), (19, 1), (20, 1), (21, 1), (22, 1), (23, 2), (24, 1), (25, 1), (26, 1), (27, 1), (28, 1), (29, 1), (30, 4), (31, 1), (32, 1), (33, 1), (34, 1), (35, 1), (36, 1), (37, 1), (38, 1), (39, 1), (40, 1), (41, 1), (42, 1), (43, 1), (44, 2), (45, 1), (46, 1), (47, 1), (48, 1), (49, 1), (50, 1), (51, 1), (52, 1), (53, 1), (54, 1), (55, 1), (56, 1), (57, 1)]]\n"
     ]
    }
   ],
   "source": [
    "corpus = [ dictionary.doc2bow(doc) for doc in df[\"text_tokenized\"] ]\n",
    "\n",
    "print(f\"preview corpus:\\n{corpus[:1]}\")"
   ]
  },
  {
   "cell_type": "markdown",
   "id": "3cae7243",
   "metadata": {},
   "source": [
    "## 1.3. Determine Best Number of Topics"
   ]
  },
  {
   "cell_type": "code",
   "execution_count": 216,
   "id": "be2360a8",
   "metadata": {},
   "outputs": [
    {
     "name": "stderr",
     "output_type": "stream",
     "text": [
      "100%|███████████████████████████████████████████| 11/11 [04:11<00:00, 22.88s/it]\n"
     ]
    }
   ],
   "source": [
    "topics = []\n",
    "score = []\n",
    "# range with step of 2 for quick, less accurate run\n",
    "for i in tqdm(range(3, 25, 2)):\n",
    "    lda_model = LdaModel(corpus=corpus, id2word=dictionary,\n",
    "                        iterations=10, num_topics=i, passes=10,\n",
    "                        random_state=100)\n",
    "    \n",
    "    cm = CoherenceModel(model=lda_model, texts = df['text_tokenized'],\n",
    "                        corpus=corpus, dictionary=dictionary, coherence='c_v')\n",
    "    topics.append(i)\n",
    "    score.append(cm.get_coherence())"
   ]
  },
  {
   "cell_type": "code",
   "execution_count": 281,
   "id": "e7e2b7c8",
   "metadata": {
    "scrolled": true
   },
   "outputs": [
    {
     "name": "stdout",
     "output_type": "stream",
     "text": [
      "dataframe shape: (11, 2)\n"
     ]
    },
    {
     "data": {
      "text/html": [
       "<div>\n",
       "<style scoped>\n",
       "    .dataframe tbody tr th:only-of-type {\n",
       "        vertical-align: middle;\n",
       "    }\n",
       "\n",
       "    .dataframe tbody tr th {\n",
       "        vertical-align: top;\n",
       "    }\n",
       "\n",
       "    .dataframe thead th {\n",
       "        text-align: right;\n",
       "    }\n",
       "</style>\n",
       "<table border=\"1\" class=\"dataframe\">\n",
       "  <thead>\n",
       "    <tr style=\"text-align: right;\">\n",
       "      <th></th>\n",
       "      <th>num_topics</th>\n",
       "      <th>coherence_score (c_v)</th>\n",
       "    </tr>\n",
       "  </thead>\n",
       "  <tbody>\n",
       "    <tr>\n",
       "      <th>0</th>\n",
       "      <td>3</td>\n",
       "      <td>0.488612</td>\n",
       "    </tr>\n",
       "    <tr>\n",
       "      <th>1</th>\n",
       "      <td>5</td>\n",
       "      <td>0.463649</td>\n",
       "    </tr>\n",
       "    <tr>\n",
       "      <th>2</th>\n",
       "      <td>7</td>\n",
       "      <td>0.475304</td>\n",
       "    </tr>\n",
       "    <tr>\n",
       "      <th>3</th>\n",
       "      <td>9</td>\n",
       "      <td>0.503517</td>\n",
       "    </tr>\n",
       "    <tr>\n",
       "      <th>4</th>\n",
       "      <td>11</td>\n",
       "      <td>0.531414</td>\n",
       "    </tr>\n",
       "  </tbody>\n",
       "</table>\n",
       "</div>"
      ],
      "text/plain": [
       "   num_topics  coherence_score (c_v)\n",
       "0           3               0.488612\n",
       "1           5               0.463649\n",
       "2           7               0.475304\n",
       "3           9               0.503517\n",
       "4          11               0.531414"
      ]
     },
     "execution_count": 281,
     "metadata": {},
     "output_type": "execute_result"
    }
   ],
   "source": [
    "df_topics_coh = pd.DataFrame({\"num_topics\": topics, \"coherence_score (c_v)\": score})\n",
    "\n",
    "print(f\"dataframe shape: {df_topics_coh.shape}\")\n",
    "df_topics_coh.head()"
   ]
  },
  {
   "cell_type": "code",
   "execution_count": 218,
   "id": "c519871e",
   "metadata": {},
   "outputs": [
    {
     "data": {
      "image/png": "[encoded data removed]",
      "text/plain": [
       "<Figure size 576x432 with 1 Axes>"
      ]
     },
     "metadata": {
      "needs_background": "light"
     },
     "output_type": "display_data"
    }
   ],
   "source": [
    "plt.figure(figsize=(8, 6))\n",
    "plt.plot(topics, score)\n",
    "plt.xlabel('Number of Topics')\n",
    "plt.ylabel('Coherence Score')\n",
    "plt.show()"
   ]
  },
  {
   "cell_type": "code",
   "execution_count": 284,
   "id": "eae9dbbc",
   "metadata": {},
   "outputs": [
    {
     "data": {
      "text/html": [
       "<div>\n",
       "<style scoped>\n",
       "    .dataframe tbody tr th:only-of-type {\n",
       "        vertical-align: middle;\n",
       "    }\n",
       "\n",
       "    .dataframe tbody tr th {\n",
       "        vertical-align: top;\n",
       "    }\n",
       "\n",
       "    .dataframe thead th {\n",
       "        text-align: right;\n",
       "    }\n",
       "</style>\n",
       "<table border=\"1\" class=\"dataframe\">\n",
       "  <thead>\n",
       "    <tr style=\"text-align: right;\">\n",
       "      <th></th>\n",
       "      <th>num_topics</th>\n",
       "      <th>coherence_score (c_v)</th>\n",
       "    </tr>\n",
       "  </thead>\n",
       "  <tbody>\n",
       "    <tr>\n",
       "      <th>count</th>\n",
       "      <td>11.00000</td>\n",
       "      <td>11.000000</td>\n",
       "    </tr>\n",
       "    <tr>\n",
       "      <th>mean</th>\n",
       "      <td>13.00000</td>\n",
       "      <td>0.540386</td>\n",
       "    </tr>\n",
       "    <tr>\n",
       "      <th>std</th>\n",
       "      <td>6.63325</td>\n",
       "      <td>0.051611</td>\n",
       "    </tr>\n",
       "    <tr>\n",
       "      <th>min</th>\n",
       "      <td>3.00000</td>\n",
       "      <td>0.463649</td>\n",
       "    </tr>\n",
       "    <tr>\n",
       "      <th>25%</th>\n",
       "      <td>8.00000</td>\n",
       "      <td>0.496064</td>\n",
       "    </tr>\n",
       "    <tr>\n",
       "      <th>50%</th>\n",
       "      <td>13.00000</td>\n",
       "      <td>0.549478</td>\n",
       "    </tr>\n",
       "    <tr>\n",
       "      <th>75%</th>\n",
       "      <td>18.00000</td>\n",
       "      <td>0.576208</td>\n",
       "    </tr>\n",
       "    <tr>\n",
       "      <th>max</th>\n",
       "      <td>23.00000</td>\n",
       "      <td>0.618279</td>\n",
       "    </tr>\n",
       "  </tbody>\n",
       "</table>\n",
       "</div>"
      ],
      "text/plain": [
       "       num_topics  coherence_score (c_v)\n",
       "count    11.00000              11.000000\n",
       "mean     13.00000               0.540386\n",
       "std       6.63325               0.051611\n",
       "min       3.00000               0.463649\n",
       "25%       8.00000               0.496064\n",
       "50%      13.00000               0.549478\n",
       "75%      18.00000               0.576208\n",
       "max      23.00000               0.618279"
      ]
     },
     "execution_count": 284,
     "metadata": {},
     "output_type": "execute_result"
    }
   ],
   "source": [
    "df_topics_coh.describe()"
   ]
  },
  {
   "cell_type": "code",
   "execution_count": 283,
   "id": "890f511e",
   "metadata": {},
   "outputs": [
    {
     "data": {
      "text/plain": [
       "17"
      ]
     },
     "execution_count": 283,
     "metadata": {},
     "output_type": "execute_result"
    }
   ],
   "source": [
    "BEST_NUM_TOPICS = int(df_topics_coh.loc[df_topics_coh['coherence_score (c_v)'].idxmax()]['num_topics'])\n",
    "\n",
    "BEST_NUM_TOPICS"
   ]
  },
  {
   "cell_type": "markdown",
   "id": "8dfcb2c3",
   "metadata": {},
   "source": [
    "## 1.4. Train LDA"
   ]
  },
  {
   "cell_type": "code",
   "execution_count": 231,
   "id": "cb86fc55",
   "metadata": {},
   "outputs": [],
   "source": [
    "lda_model_tuned = LdaModel(corpus=corpus,\n",
    "                     id2word=dictionary,\n",
    "                     iterations=50,\n",
    "                     num_topics=BEST_NUM_TOPICS,\n",
    "                     passes=10)"
   ]
  },
  {
   "cell_type": "markdown",
   "id": "50647233",
   "metadata": {},
   "source": [
    "## 1.5. Visualization"
   ]
  },
  {
   "cell_type": "markdown",
   "id": "9aac1b69",
   "metadata": {},
   "source": [
    "### Overview: Visualise Inter-Topic Distance and Word Relevancy"
   ]
  },
  {
   "cell_type": "markdown",
   "id": "e5d57635",
   "metadata": {},
   "source": [
    "* The words shown in the graph below are chosen based on **Term Saliency** and **Word Relevancy**:\n",
    "    * Quick Overiew: https://community.alteryx.com/t5/Data-Science/Getting-to-the-Point-with-Topic-Modeling-Part-3-Interpreting-the/ba-p/614992\n",
    "    * Saliency:\n",
    "        * The metric shows the most informative words for identifying topics across the corpus.\n",
    "        * ![Term Saliency Formula](imgs/term_saliency.png)\n",
    "        * Source: [Termite: Visualization Techniques for Assessing Textual Topic Models](https://idl.cs.washington.edu/files/2012-Termite-AVI.pdf)\n",
    "        * Term Saliency relies on KL-Divergence:\n",
    "            * Entropy, Cross Entropy and KL-Divergence: https://medium.com/intro-to-artificial-intelligence/entropy-cross-entropy-and-kl-divergence-b898f4587cf3\n",
    "            * More on KL-Divergence: https://www.countbayesie.com/blog/2017/5/9/kullback-leibler-divergence-explained\n",
    "    * Relevancy:\n",
    "        * The metric ranks terms within topics.\n",
    "        * ![Term Relevancy Formula](imgs/term_relevancy.png)\n",
    "        * ![Term Lift Formula](imgs/term_lift.png)\n",
    "        * Source: [LDAvis: A method for visualizing and interpreting topics](https://aclanthology.org/W14-3110.pdf)"
   ]
  },
  {
   "cell_type": "code",
   "execution_count": 431,
   "id": "f880f7fa",
   "metadata": {
    "scrolled": false
   },
   "outputs": [
    {
     "name": "stderr",
     "output_type": "stream",
     "text": [
      "/Users/amrgalal/.pyenv/versions/3.9.10/envs/topic_modeling/lib/python3.9/site-packages/pyLDAvis/_prepare.py:246: FutureWarning: In a future version of pandas all arguments of DataFrame.drop except for the argument 'labels' will be keyword-only.\n",
      "  default_term_info = default_term_info.sort_values(\n",
      "/Users/amrgalal/.pyenv/versions/3.9.10/envs/topic_modeling/lib/python3.9/site-packages/past/builtins/misc.py:45: DeprecationWarning: the imp module is deprecated in favour of importlib; see the module's documentation for alternative uses\n",
      "  from imp import reload\n",
      "/Users/amrgalal/.pyenv/versions/3.9.10/envs/topic_modeling/lib/python3.9/site-packages/past/builtins/misc.py:45: DeprecationWarning: the imp module is deprecated in favour of importlib; see the module's documentation for alternative uses\n",
      "  from imp import reload\n",
      "/Users/amrgalal/.pyenv/versions/3.9.10/envs/topic_modeling/lib/python3.9/site-packages/past/builtins/misc.py:45: DeprecationWarning: the imp module is deprecated in favour of importlib; see the module's documentation for alternative uses\n",
      "  from imp import reload\n",
      "/Users/amrgalal/.pyenv/versions/3.9.10/envs/topic_modeling/lib/python3.9/site-packages/past/builtins/misc.py:45: DeprecationWarning: the imp module is deprecated in favour of importlib; see the module's documentation for alternative uses\n",
      "  from imp import reload\n",
      "/Users/amrgalal/.pyenv/versions/3.9.10/envs/topic_modeling/lib/python3.9/site-packages/past/builtins/misc.py:45: DeprecationWarning: the imp module is deprecated in favour of importlib; see the module's documentation for alternative uses\n",
      "  from imp import reload\n",
      "/Users/amrgalal/.pyenv/versions/3.9.10/envs/topic_modeling/lib/python3.9/site-packages/past/builtins/misc.py:45: DeprecationWarning: the imp module is deprecated in favour of importlib; see the module's documentation for alternative uses\n",
      "  from imp import reload\n",
      "/Users/amrgalal/.pyenv/versions/3.9.10/envs/topic_modeling/lib/python3.9/site-packages/past/builtins/misc.py:45: DeprecationWarning: the imp module is deprecated in favour of importlib; see the module's documentation for alternative uses\n",
      "  from imp import reload\n",
      "/Users/amrgalal/.pyenv/versions/3.9.10/envs/topic_modeling/lib/python3.9/site-packages/past/builtins/misc.py:45: DeprecationWarning: the imp module is deprecated in favour of importlib; see the module's documentation for alternative uses\n",
      "  from imp import reload\n"
     ]
    },
    {
     "data": {
      "text/html": [
       "\n",
       "<link rel=\"stylesheet\" type=\"text/css\" href=\"https://cdn.jsdelivr.net/gh/bmabey/pyLDAvis@3.3.1/pyLDAvis/js/ldavis.v1.0.0.css\">\n",
       "\n",
       "\n",
       "<div id=\"ldavis_el446311833163440279842044\"></div>\n",
       "<script type=\"text/javascript\">\n",
       "\n",
       "var ldavis_el446311833163440279842044_data = {\"mdsDat\": {\"x\": [-0.031810032766585346, -0.1509254733003255, 0.10745436887452335, 0.10006310656436752, -0.15586554621819843, -0.013248872759239078, -0.13701010636791386, -0.12384994975761877, -0.04121868406324749, 0.2055124898116687, 0.035378626623351964, -0.16718569800418198, 0.20112001300245091, 0.24878441796646447, -0.09145040357324237, 0.0654176362209043, -0.051165892253177934], \"y\": [0.13583516629539905, -0.12206448175699516, -0.1508495011072407, 0.11294727913076641, -0.12239754114606943, -0.07416227203820133, 0.11239672461058416, -0.12045409600767251, -0.2321676680392267, 0.057732819488958316, 0.00022044726326257667, 0.10847283714731593, 0.089440060218008, -0.06884764368916857, 0.14715410493956932, -0.11148974037797936, 0.23823350506868976], \"topics\": [1, 2, 3, 4, 5, 6, 7, 8, 9, 10, 11, 12, 13, 14, 15, 16, 17], \"cluster\": [1, 1, 1, 1, 1, 1, 1, 1, 1, 1, 1, 1, 1, 1, 1, 1, 1], \"Freq\": [1.6926146320219364, 20.682861475835907, 4.713800026985263, 2.2380516252549185, 13.475172429097704, 7.070544166444984, 6.2603071861528266, 2.857180176968513, 5.610560995446334, 0.996477618011218, 8.069552840407718, 9.28736734194964, 1.3708384754307004, 1.5681753825762874, 3.748323123318081, 5.33634254708636, 5.021829957011611]}, \"tinfo\": {\"Term\": [\"maxaxaxaxaxaxaxaxaxaxaxaxaxaxax\", \"would\", \"know\", \"file\", \"please\", \"thanks\", \"anyone\", \"use\", \"new\", \"email\", \"god\", \"program\", \"key\", \"said\", \"could\", \"information\", \"people\", \"jesus\", \"game\", \"available\", \"like\", \"windows\", \"window\", \"space\", \"think\", \"team\", \"system\", \"looking\", \"drive\", \"government\", \"maxaxaxaxaxaxaxaxaxaxaxaxaxaxax\", \"pointer\", \"toyota\", \"gifs\", \"weiss\", \"timothy\", \"sphere\", \"nissan\", \"repairs\", \"pity\", \"eprom\", \"vdc\", \"gamma\", \"tranny\", \"endometriosis\", \"kermit\", \"latch\", \"mpeg\", \"similarity\", \"ntsc\", \"zones\", \"composite\", \"detecting\", \"triangles\", \"jazz\", \"projector\", \"hdd\", \"pic\", \"construed\", \"thanx\", \"advance\", \"appreciated\", \"distortion\", \"intersection\", \"thanks\", \"appreciate\", \"wondering\", \"replies\", \"greatly\", \"please\", \"hello\", \"email\", \"anyone\", \"looking\", \"anybody\", \"reply\", \"forged\", \"thank\", \"interested\", \"voltage\", \"info\", \"post\", \"help\", \"know\", \"would\", \"someone\", \"information\", \"could\", \"find\", \"send\", \"need\", \"address\", \"respond\", \"mail\", \"give\", \"christianity\", \"belief\", \"beliefs\", \"morality\", \"atheists\", \"atheism\", \"atheist\", \"lds\", \"marriage\", \"gay\", \"homosexuality\", \"mormon\", \"homosexuals\", \"arguing\", \"decenso\", \"prophet\", \"zionist\", \"conclude\", \"fallacy\", \"mormons\", \"arrogant\", \"implies\", \"contradiction\", \"pagan\", \"imply\", \"der\", \"convince\", \"paranoid\", \"interpreted\", \"interpret\", \"moral\", \"notion\", \"argument\", \"truth\", \"absolute\", \"believe\", \"conclusion\", \"phrase\", \"bible\", \"claim\", \"religion\", \"evidence\", \"agree\", \"meaning\", \"say\", \"context\", \"true\", \"mean\", \"objective\", \"existence\", \"merely\", \"statement\", \"words\", \"people\", \"think\", \"god\", \"not\", \"exist\", \"life\", \"certainly\", \"question\", \"christians\", \"you\", \"reason\", \"point\", \"would\", \"even\", \"one\", \"see\", \"things\", \"many\", \"know\", \"can\", \"way\", \"wrong\", \"must\", \"well\", \"may\", \"like\", \"something\", \"make\", \"this\", \"good\", \"time\", \"much\", \"want\", \"could\", \"season\", \"players\", \"hockey\", \"league\", \"nhl\", \"baseball\", \"pts\", \"cal\", \"puck\", \"rangers\", \"calgary\", \"sleeve\", \"playoffs\", \"bos\", \"pit\", \"scored\", \"det\", \"chi\", \"scoring\", \"pitching\", \"que\", \"scorer\", \"braves\", \"leafs\", \"flyers\", \"stl\", \"pens\", \"espn\", \"playoff\", \"quebec\", \"game\", \"teams\", \"games\", \"team\", \"player\", \"play\", \"cup\", \"kings\", \"fans\", \"montreal\", \"toronto\", \"win\", \"detroit\", \"played\", \"period\", \"year\", \"flames\", \"division\", \"goal\", \"last\", \"pittsburgh\", \"first\", \"good\", \"second\", \"power\", \"two\", \"best\", \"series\", \"disease\", \"patients\", \"diseases\", \"adl\", \"mbs\", \"infections\", \"symptoms\", \"cdc\", \"illness\", \"patient\", \"prevention\", \"syndrome\", \"infection\", \"cancer\", \"clinical\", \"acid\", \"bandwidth\", \"cure\", \"infectious\", \"glutamate\", \"dpi\", \"therapy\", \"gerard\", \"vitamin\", \"phd\", \"hiv\", \"lyme\", \"chewing\", \"methanol\", \"immune\", \"medicine\", \"medical\", \"health\", \"genetic\", \"pain\", \"aids\", \"newsletter\", \"drugs\", \"drug\", \"treatment\", \"doctors\", \"study\", \"burst\", \"among\", \"studies\", \"associated\", \"effects\", \"doctor\", \"research\", \"reported\", \"page\", \"use\", \"blood\", \"april\", \"volume\", \"age\", \"number\", \"years\", \"cause\", \"center\", \"information\", \"nec\", \"bikes\", \"detector\", \"curt\", \"wires\", \"gear\", \"wiring\", \"skip\", \"powerbook\", \"steering\", \"intake\", \"detectors\", \"outlet\", \"screw\", \"garage\", \"fuse\", \"battery\", \"electronics\", \"suck\", \"safer\", \"amplifier\", \"pickup\", \"tight\", \"retail\", \"bronx\", \"brakes\", \"bicycle\", \"trips\", \"wheels\", \"cage\", \"riding\", \"cars\", \"amp\", \"car\", \"wire\", \"lock\", \"ford\", \"mph\", \"bike\", \"wheel\", \"circuit\", \"buying\", \"fat\", \"buy\", \"spare\", \"dealer\", \"insurance\", \"ive\", \"radar\", \"electrical\", \"good\", \"get\", \"ground\", \"like\", \"much\", \"enough\", \"getting\", \"turn\", \"sell\", \"one\", \"thing\", \"better\", \"back\", \"really\", \"little\", \"lot\", \"time\", \"going\", \"probably\", \"problem\", \"would\", \"sure\", \"want\", \"need\", \"way\", \"got\", \"know\", \"think\", \"well\", \"also\", \"make\", \"could\", \"use\", \"even\", \"used\", \"two\", \"right\", \"gun\", \"israeli\", \"guns\", \"crime\", \"weapons\", \"arab\", \"tobacco\", \"amendment\", \"firearms\", \"constitution\", \"criminal\", \"militia\", \"weapon\", \"nazi\", \"armed\", \"arabs\", \"crimes\", \"batf\", \"lebanon\", \"deaths\", \"assault\", \"firearm\", \"handgun\", \"citizen\", \"israelis\", \"arrest\", \"civil\", \"palestinians\", \"deaf\", \"homicide\", \"palestinian\", \"israel\", \"rights\", \"criminals\", \"court\", \"police\", \"ban\", \"citizens\", \"government\", \"laws\", \"federal\", \"state\", \"law\", \"fbi\", \"military\", \"states\", \"war\", \"country\", \"control\", \"arms\", \"public\", \"people\", \"right\", \"would\", \"american\", \"united\", \"legal\", \"case\", \"the\", \"encryption\", \"keys\", \"clipper\", \"privacy\", \"char\", \"ripem\", \"des\", \"nsa\", \"rsa\", \"pgp\", \"com\", \"escrow\", \"filename\", \"cryptography\", \"encrypted\", \"crypto\", \"uuencode\", \"export\", \"wiretap\", \"cipher\", \"pem\", \"cryptographic\", \"cursor\", \"pixmap\", \"colormap\", \"classified\", \"xbased\", \"gcc\", \"scicrypt\", \"decrypt\", \"key\", \"algorithm\", \"secure\", \"clients\", \"visual\", \"chip\", \"bits\", \"implementation\", \"compile\", \"security\", \"scheme\", \"data\", \"remark\", \"users\", \"use\", \"user\", \"system\", \"public\", \"technology\", \"information\", \"used\", \"bit\", \"using\", \"number\", \"message\", \"access\", \"two\", \"one\", \"available\", \"standard\", \"may\", \"slots\", \"circuits\", \"liar\", \"na\", \"francis\", \"balloon\", \"prediction\", \"gon\", \"expos\", \"wow\", \"dram\", \"prize\", \"radiation\", \"spy\", \"beam\", \"hst\", \"paranoia\", \"nixon\", \"affair\", \"volvo\", \"statistic\", \"clever\", \"rode\", \"pentium\", \"bottle\", \"homers\", \"obp\", \"intrinsics\", \"rbi\", \"liver\", \"hmm\", \"music\", \"filters\", \"instruction\", \"hole\", \"simms\", \"keywords\", \"sleep\", \"array\", \"buck\", \"theory\", \"centris\", \"would\", \"could\", \"performance\", \"like\", \"really\", \"maybe\", \"deleted\", \"get\", \"work\", \"much\", \"might\", \"real\", \"well\", \"lets\", \"course\", \"think\", \"answer\", \"memory\", \"help\", \"know\", \"time\", \"question\", \"better\", \"thought\", \"bit\", \"make\", \"apartment\", \"azerbaijani\", \"sumgait\", \"baku\", \"crowd\", \"azerbaijanis\", \"mamma\", \"balls\", \"batteries\", \"shouting\", \"armored\", \"girl\", \"nolan\", \"gang\", \"igor\", \"agdam\", \"sister\", \"calm\", \"girlfriend\", \"stones\", \"corpses\", \"witnessed\", \"kitchen\", \"microdistrict\", \"balcony\", \"mydisplay\", \"karabagh\", \"survivors\", \"coat\", \"clothes\", \"girls\", \"bed\", \"her\", \"went\", \"wife\", \"saw\", \"town\", \"legs\", \"burned\", \"woman\", \"took\", \"started\", \"rocks\", \"said\", \"told\", \"happened\", \"came\", \"fire\", \"burning\", \"kids\", \"night\", \"home\", \"there\", \"left\", \"face\", \"building\", \"hours\", \"him\", \"going\", \"day\", \"back\", \"people\", \"one\", \"later\", \"says\", \"got\", \"know\", \"them\", \"heard\", \"time\", \"well\", \"two\", \"something\", \"say\", \"around\", \"could\", \"like\", \"first\", \"still\", \"get\", \"msg\", \"diet\", \"riders\", \"foods\", \"dodgers\", \"protein\", \"astros\", \"eaten\", \"sticking\", \"bounced\", \"marijuana\", \"patented\", \"cica\", \"rectangle\", \"ate\", \"moore\", \"sugar\", \"wwg\", \"enhancement\", \"publisher\", \"seizures\", \"temporarily\", \"robinson\", \"champs\", \"fever\", \"cardinals\", \"pace\", \"goddess\", \"charlie\", \"soundblaster\", \"smoking\", \"eating\", \"taste\", \"food\", \"dod\", \"linked\", \"easter\", \"eat\", \"salt\", \"smith\", \"copyright\", \"keith\", \"illinois\", \"michael\", \"nationwide\", \"cbc\", \"day\", \"bill\", \"mike\", \"john\", \"says\", \"week\", \"university\", \"from\", \"lets\", \"jobs\", \"launch\", \"satellite\", \"myers\", \"shuttle\", \"orbit\", \"lunar\", \"henrik\", \"senior\", \"satellites\", \"spacecraft\", \"funding\", \"launched\", \"investment\", \"missions\", \"mars\", \"planetary\", \"atmosphere\", \"payload\", \"propulsion\", \"weaver\", \"senator\", \"republicans\", \"saturn\", \"graduate\", \"deficit\", \"billion\", \"vat\", \"aerospace\", \"estimates\", \"funds\", \"president\", \"nasa\", \"georgia\", \"flight\", \"mission\", \"space\", \"moon\", \"tax\", \"budget\", \"solar\", \"meeting\", \"rocket\", \"administration\", \"station\", \"april\", \"national\", \"earth\", \"center\", \"university\", \"summer\", \"research\", \"science\", \"office\", \"program\", \"american\", \"money\", \"year\", \"new\", \"years\", \"also\", \"press\", \"technology\", \"first\", \"work\", \"working\", \"going\", \"time\", \"data\", \"well\", \"card\", \"ram\", \"controller\", \"jpeg\", \"printer\", \"ide\", \"vga\", \"font\", \"motherboard\", \"gif\", \"fonts\", \"meg\", \"scsi\", \"bios\", \"microsoft\", \"isa\", \"norton\", \"manuals\", \"screen\", \"amiga\", \"adapter\", \"upgrade\", \"pcs\", \"irq\", \"vesa\", \"keyboard\", \"adaptec\", \"nubus\", \"settings\", \"dma\", \"mac\", \"windows\", \"drives\", \"modem\", \"mouse\", \"color\", \"video\", \"graphics\", \"floppy\", \"disk\", \"port\", \"apple\", \"drive\", \"ibm\", \"dos\", \"image\", \"tape\", \"bus\", \"memory\", \"software\", \"monitor\", \"interface\", \"system\", \"files\", \"use\", \"hardware\", \"bit\", \"using\", \"data\", \"also\", \"problem\", \"hard\", \"computer\", \"one\", \"need\", \"work\", \"used\", \"like\", \"get\", \"engine\", \"candida\", \"borland\", \"exhaust\", \"temperature\", \"cds\", \"tower\", \"stewart\", \"plants\", \"nords\", \"torque\", \"sockets\", \"cooling\", \"yeast\", \"valve\", \"storm\", \"debugger\", \"ulf\", \"mainstream\", \"dealership\", \"harley\", \"deskjet\", \"het\", \"seal\", \"albicans\", \"ink\", \"discharge\", \"abs\", \"positively\", \"drops\", \"oil\", \"helmet\", \"water\", \"tires\", \"snow\", \"cycle\", \"fuel\", \"electric\", \"plant\", \"miles\", \"air\", \"hot\", \"turbo\", \"cylinder\", \"excellent\", \"gas\", \"condition\", \"dos\", \"sale\", \"new\", \"energy\", \"used\", \"nuclear\", \"power\", \"system\", \"dog\", \"cubs\", \"yankees\", \"sox\", \"allocation\", \"phillies\", \"compass\", \"reds\", \"jays\", \"cooper\", \"oto\", \"pitched\", \"rings\", \"jagr\", \"innings\", \"denver\", \"bolt\", \"inning\", \"giants\", \"crashes\", \"swing\", \"collaboration\", \"oakland\", \"pipes\", \"crowley\", \"losses\", \"dawn\", \"adb\", \"orioles\", \"hawk\", \"ticket\", \"hanging\", \"neutral\", \"row\", \"francisco\", \"san\", \"friday\", \"seats\", \"york\", \"milwaukee\", \"angeles\", \"los\", \"spring\", \"chicago\", \"east\", \"philadelphia\", \"cross\", \"lost\", \"street\", \"jose\", \"boston\", \"new\", \"west\", \"field\", \"washington\", \"south\", \"ball\", \"last\", \"news\", \"home\", \"california\", \"run\", \"said\", \"widget\", \"int\", \"null\", \"xlib\", \"exit\", \"openwindows\", \"expose\", \"col\", \"void\", \"obscure\", \"graph\", \"terminals\", \"displayed\", \"hulk\", \"handler\", \"reset\", \"static\", \"app\", \"powerpc\", \"thu\", \"comics\", \"maine\", \"tigers\", \"spiderman\", \"shipped\", \"darren\", \"copper\", \"quicktime\", \"hackers\", \"wolverine\", \"window\", \"client\", \"script\", \"winners\", \"duo\", \"entry\", \"file\", \"output\", \"character\", \"pointers\", \"stream\", \"application\", \"title\", \"returns\", \"manager\", \"resource\", \"program\", \"code\", \"error\", \"input\", \"rules\", \"build\", \"size\", \"function\", \"count\", \"display\", \"server\", \"return\", \"section\", \"set\", \"write\", \"line\", \"lines\", \"open\", \"use\", \"name\", \"read\", \"must\", \"turkish\", \"greek\", \"turkey\", \"turks\", \"muslim\", \"genocide\", \"judas\", \"holy\", \"lord\", \"greece\", \"nazis\", \"serdar\", \"argic\", \"ottoman\", \"azeris\", \"karabakh\", \"cyprus\", \"jerusalem\", \"ancient\", \"greeks\", \"xsoviet\", \"holocaust\", \"sins\", \"istanbul\", \"empire\", \"hebrew\", \"eve\", \"romans\", \"kurds\", \"homeland\", \"spirit\", \"jews\", \"jesus\", \"jewish\", \"matthew\", \"christ\", \"armenia\", \"armenian\", \"son\", \"muslims\", \"german\", \"armenians\", \"satan\", \"church\", \"heaven\", \"god\", \"father\", \"history\", \"sin\", \"world\", \"the\", \"christian\", \"war\", \"also\", \"book\", \"one\", \"first\", \"new\", \"people\", \"two\", \"entries\", \"contest\", \"mailing\", \"guidelines\", \"echo\", \"outlets\", \"compiled\", \"isbn\", \"ireland\", \"tyre\", \"pex\", \"cigarettes\", \"nick\", \"solaris\", \"invaded\", \"zoom\", \"ontario\", \"carbs\", \"jonathan\", \"anon\", \"gainey\", \"cocaine\", \"summarize\", \"mounting\", \"chars\", \"alias\", \"challenges\", \"editors\", \"bulletin\", \"bindings\", \"visualization\", \"anonymous\", \"contrib\", \"binaries\", \"ftp\", \"archive\", \"compilers\", \"patches\", \"usenet\", \"requests\", \"list\", \"send\", \"sites\", \"library\", \"mit\", \"mail\", \"author\", \"contact\", \"available\", \"site\", \"source\", \"faq\", \"info\", \"address\", \"email\", \"information\", \"version\", \"posting\", \"fax\", \"sun\", \"distribution\", \"files\", \"subject\", \"posted\", \"may\", \"name\", \"section\", \"also\", \"please\", \"software\", \"server\", \"number\", \"many\"], \"Freq\": [3518.0, 6084.0, 3491.0, 1745.0, 1485.0, 1221.0, 1556.0, 3303.0, 2535.0, 1227.0, 1623.0, 1552.0, 1074.0, 1800.0, 2548.0, 1486.0, 4024.0, 887.0, 836.0, 1348.0, 3915.0, 1107.0, 717.0, 1092.0, 3036.0, 737.0, 1901.0, 691.0, 1018.0, 1124.0, 3517.4769204789663, 55.25493321933722, 49.53363583640685, 35.51515172118688, 33.749685209903234, 32.84766843012171, 23.481896903093403, 23.916160449087656, 20.250433018662793, 19.50479782267894, 19.434078510364316, 19.266266336904415, 17.88961521281604, 17.805269846734674, 17.604184360873532, 17.43011222349287, 17.265331170822968, 16.901380300631203, 16.55159269207542, 16.048991828381208, 15.02555581097269, 14.573056109653248, 14.552575059638356, 14.386588087220309, 13.685995346175854, 13.656791196853618, 13.51062588909707, 13.379325197694682, 13.137610568764382, 52.3765361498309, 271.41559107450104, 215.68672113496496, 27.379511602521113, 21.434967043818222, 763.8467367429236, 144.17253516559092, 119.75966075570949, 79.58234681068654, 112.88081098591745, 658.6737320363626, 103.68545373296568, 439.7339486491963, 527.4764680712441, 269.5697448357819, 174.90149679613023, 131.1249945842645, 24.63238164892535, 105.08149283827946, 160.131637941129, 51.90716569652059, 163.02371142763977, 171.3009207422919, 210.92016524581618, 385.30422640677966, 397.52967480131525, 135.72865710950612, 145.4614460683131, 169.1145294817951, 127.09005612326155, 100.73522749460933, 99.37072696795238, 78.43960867694129, 59.44015931237113, 62.20736554477475, 62.49823749169845, 233.52499090320117, 204.63295597275493, 183.90041065477016, 174.42015506673818, 161.01134665997162, 110.29780573696675, 107.88668871087737, 88.49840330297661, 82.11794529825754, 76.68958710972151, 73.24431529364496, 73.18804495570636, 71.73024717388296, 66.76618907705068, 66.12451918190243, 64.91537646201589, 63.165987213560214, 64.95828437540095, 60.83272554212957, 59.17480479641723, 58.30424711045202, 57.86339536716522, 54.39011089475387, 52.81088884648658, 76.24545886574461, 50.633651288787235, 94.08178271111967, 50.224550261752974, 50.1068868482751, 49.46742218054783, 265.3981742041444, 64.26985454170848, 353.7724294714078, 404.41012652626455, 138.36649878095758, 1146.795572932408, 170.5951054802382, 76.64642847280537, 453.7817837144685, 346.5394886680087, 313.99204141287834, 445.15735010668936, 397.16558406129144, 213.0512036658029, 1390.2916107357073, 188.1724205214957, 723.274523904487, 608.3641915560318, 208.9619256671295, 185.0330656028947, 127.1620060732457, 264.13099468507767, 353.77755790727053, 2259.37112193393, 1759.5319725953996, 1031.0112639407457, 1051.1619597187903, 311.0485927442347, 528.6326499212671, 353.62630323889164, 700.3110292105335, 329.3129130536673, 725.6815609749344, 480.10055187336906, 738.1841405751793, 2360.700626740258, 1090.3059202832758, 2179.4947988564977, 1043.7152885016799, 692.6210194099972, 1001.4521448663203, 1327.6304211623803, 497.6320073014894, 860.1234843240821, 429.88482252130007, 662.2387521900267, 886.7274391030486, 880.2947850177708, 1062.7079150827687, 690.7520350372221, 752.2623580168496, 628.6929922133278, 745.0753452057324, 763.1576174385613, 686.4293334311242, 626.95634427886, 641.194705677738, 420.5562028306974, 404.9351523935958, 342.47561522107105, 358.6629535153775, 224.1645693204814, 202.12380977440046, 194.8270225289731, 159.70664047075343, 144.34540962659534, 120.63659125510412, 120.25019688205701, 108.11207754218852, 104.92886156080773, 103.09670122905777, 102.53921324370283, 99.71645954547846, 98.68358108050434, 98.50326162852387, 97.98100429894595, 95.18628136134863, 93.82250901379062, 92.76524648833033, 89.60471069614483, 89.07698851108513, 86.70509577956648, 86.48897944628854, 83.84575040642419, 83.75010504603398, 82.68716468118056, 82.322910245456, 802.1683909739763, 311.1258795506869, 550.426186895219, 681.0618325368985, 230.08878434650083, 479.87747921132734, 140.4409054478336, 179.33228713549784, 128.32490526636946, 122.29956963501898, 139.07919021317556, 303.4720065963076, 132.38302798724825, 160.1136994779322, 291.47245147233355, 505.6559297810076, 149.48953211677969, 164.8602381476286, 163.07895499704642, 277.8476317049444, 141.86622495104567, 284.68352176618424, 212.44413740444162, 179.41567293416085, 173.8052819094391, 178.349423526587, 163.70366278271905, 147.18999157836956, 193.38184768162333, 151.87763089629752, 106.67220013052001, 101.06688314393212, 93.06133384846673, 76.51834822133836, 69.79894279054466, 65.2416889671151, 64.93868299483995, 64.29703663637208, 63.33725053183351, 62.206050268430566, 60.021760337469786, 97.08263602370143, 53.05041802178865, 51.335664768232824, 48.095364963036566, 45.4248803513763, 44.788793237715346, 44.64565871547744, 44.541443839669455, 44.36803190427732, 42.397864154841265, 39.97615944787641, 37.93169167634267, 34.48776664876021, 34.32737479026944, 33.67455321519992, 33.64445584857227, 33.42246341408443, 107.8592148171618, 290.8667520407316, 366.7251187545806, 53.54057865885438, 221.1959481165127, 62.108188815259055, 97.74098478049778, 122.37601602757172, 146.33136917042688, 115.63404805396807, 80.92379569256502, 186.52021042761538, 54.48381528129252, 219.32139247186134, 111.92359990645465, 101.47549503641235, 81.69750247869092, 101.03192945386843, 181.97745404916145, 112.10621147943765, 106.08383767835582, 303.7579846880107, 101.88326835602908, 136.38913091390566, 100.96706337648523, 97.11138427457514, 135.4355650469017, 136.32732316108348, 106.82190018500104, 104.82929321229379, 109.24293896645663, 140.97478728963017, 110.85808984566683, 83.89526266629295, 67.8886753515387, 67.00415805956068, 66.55946030295516, 115.90751659651242, 56.51058443767137, 56.397056275337526, 51.37409591655466, 48.871572136497115, 47.63219209354321, 47.60179416701641, 44.13697628003991, 39.70628172641091, 38.646538282242076, 88.3191559251739, 104.78938958190164, 37.139572583417134, 36.899114144098526, 36.13379028507965, 35.870448013431876, 35.77387111300831, 35.13380690726425, 35.12740656220658, 34.67716604738116, 34.67685048512483, 34.45756070445984, 33.9825986712243, 33.394962349995566, 113.90481001799732, 249.71568457018768, 106.78718081421236, 752.3735998190324, 177.6581793628087, 136.24711524032642, 75.44153544423946, 120.27149757665748, 286.29640382264995, 64.86154231408308, 124.31850555156828, 155.11631256958054, 87.92500752953428, 392.1514582816479, 68.02977251758382, 107.02366688159843, 138.53221662577698, 784.9950448288361, 113.75949545520885, 102.20713250091394, 1133.1947841498888, 1471.7131031469096, 221.98358343484517, 1410.094085528957, 858.9908150894917, 435.5362046800578, 352.6915638524773, 205.59445299048974, 228.8884568529196, 1703.5486293241097, 453.0681605419263, 511.65534510105243, 588.0768312885764, 545.2039639948948, 420.75871379119843, 390.9768538886744, 804.6560138466862, 502.59667389613514, 424.56877534907863, 547.3728939200527, 1203.7441096718803, 454.81181649547966, 549.0782072032141, 512.3505621642075, 563.9068117526036, 428.92599958444123, 734.9418516797837, 674.6174560621275, 615.3279264453505, 689.4306166234429, 549.74841688568, 593.2557944893942, 594.7454859390584, 508.56114209038805, 487.4704161765926, 498.357536769586, 468.59640745105384, 596.2098619091277, 358.15777666038383, 327.97305310913276, 299.03961881488095, 270.36671524270696, 209.16102342926945, 206.7458547023347, 177.2268418452886, 171.6084293456317, 167.5470143919441, 161.71932643668347, 143.75497109939482, 143.69184094296838, 138.73382504634358, 121.19631901776843, 106.8626021964933, 106.75236986830707, 100.37876423598536, 83.65459466607525, 79.50849709821306, 77.80424000814314, 76.38162975023687, 76.33187053289063, 76.24853592131562, 75.2401208899164, 71.59098434979077, 183.26701552823977, 71.01197437769845, 67.06996284502772, 64.1306704483788, 111.06766124222254, 512.5735470933333, 407.25664415512506, 183.13592422341154, 286.5389439794319, 316.04997790779606, 108.54260303169337, 211.56433285009692, 768.3280076596953, 256.89278253036326, 231.83751275548198, 533.2486343633784, 502.75625454252213, 180.80364596846698, 262.15278217698346, 360.6947954720133, 291.8374824749394, 265.26013855091725, 293.76754168832235, 171.9240645439188, 301.06642253853175, 561.0282096000824, 406.57139131918746, 598.526867995892, 217.85760376102186, 202.53427381743873, 187.58986506701993, 194.67613551877815, 191.4595987262012, 449.5443936153307, 417.127276404711, 328.96292814206606, 289.5595040919195, 265.9149053030959, 244.2983149646777, 213.56298576305326, 187.69211447462044, 164.99669671501098, 160.21727612767663, 153.6395706723152, 153.62346835862454, 143.40389419904577, 143.14613299762772, 129.3368329302643, 128.8954887951239, 117.7087271630008, 167.01060356765132, 86.88398665656457, 79.90876654287362, 79.05752400772646, 74.85351621960717, 72.99003560848814, 67.22337209621074, 66.95158518625237, 64.1738118922489, 63.359044478131054, 62.15097770716826, 61.281728728690936, 55.92419782515222, 1030.2190205224863, 251.33048649204312, 187.44795814149626, 100.49338070786115, 117.20560919890323, 476.75018396342807, 231.66402846138254, 130.93481163903942, 102.16646905209045, 287.872693596049, 97.93167783479907, 505.8847472520224, 118.99707783474251, 229.66249845139902, 708.7795845469427, 200.61197902971955, 468.7883832307556, 292.59217549386136, 214.0055441257899, 356.3236704890888, 391.74569744342796, 305.1125729678484, 330.17276796128016, 313.67980413763996, 227.02409226916276, 199.82462142378205, 264.4134576882194, 303.9157033070484, 220.89674106962724, 204.52954638848075, 208.94712715214467, 86.25619981114079, 73.67465959457071, 65.72094537227235, 65.9105340809134, 62.3261323978139, 59.016447310268674, 42.48149825055662, 43.37528123810291, 38.58244203294713, 38.39962929755055, 37.34479729536313, 36.97253439352939, 36.58942426686891, 36.008283803189876, 32.97946469583945, 32.61782546209438, 32.33649032761825, 31.696091584914694, 30.73368927352243, 29.40132260140631, 28.49117589036957, 28.474371350775844, 27.17085609261837, 26.588645075545692, 26.571679952942922, 26.245184783030595, 26.111830040077038, 25.917061742222643, 24.857623211756117, 24.84417674626333, 52.91893413034112, 109.29562977468683, 35.82212716278139, 48.37555905539547, 87.15870151147234, 89.36493572932656, 31.573333746214963, 58.579718202018995, 39.53138370975757, 33.77155770573558, 93.05214832245308, 46.6958513347123, 514.0906718661005, 293.6442062592748, 88.44414645808244, 319.68112275128857, 193.87898285292312, 135.96609976505772, 78.25537494214929, 230.1795844089333, 166.15144844167042, 179.49738267341937, 137.77226188233513, 111.85169565209154, 161.36087314207356, 87.98192558431829, 111.97113162658452, 165.04144830415947, 90.39161532594765, 90.71245388064916, 110.5099773812133, 131.90324887822104, 118.64527635119201, 99.40463583388157, 100.5725151257511, 86.79613026653752, 89.21005814013112, 86.87582981800769, 134.68439569908952, 112.13859217527866, 105.02123640894264, 88.74263462711289, 78.24912882837855, 64.16230807388338, 64.06861114455972, 52.51879210842842, 45.80985021420602, 41.915334317206096, 41.17669658012065, 40.285042371680966, 39.828422870065424, 38.98249491481389, 38.892214083777894, 38.6770833619297, 37.890580059425275, 35.191485250184485, 34.29489702105057, 34.03530137461276, 33.47741697208241, 31.347546156792024, 31.098436850075267, 31.03286012891869, 29.674879135041493, 29.55781362023685, 29.444021995103373, 29.310868357684225, 28.59750974792752, 28.352397739931085, 49.92687622365384, 48.36038957456236, 103.43525172193232, 463.713263117505, 148.72297063469114, 337.4093324824731, 148.76520041080838, 61.46872848576947, 83.0350856208934, 138.83519316346448, 312.5737971094756, 305.04314600569, 60.91104812168888, 859.5122416702349, 347.8870160268759, 212.64533567463872, 310.1332251990656, 179.96527623228968, 77.38607710080538, 95.0088409087785, 172.42265487278473, 249.11603380261758, 310.8016798924165, 291.42821672162586, 172.3750459011738, 170.39846979148732, 124.90144452717348, 206.36067937072804, 341.0401039512234, 259.98974979502356, 329.24356533143083, 552.0727939147496, 664.6158521272882, 202.33603949813875, 219.6356929634567, 284.82194635702496, 453.5339456164862, 271.60893572109035, 208.58410490672557, 320.14394511074835, 289.3435125995326, 266.9108824025226, 245.74205399736672, 249.66676449343962, 220.37752730292175, 248.19514026602877, 257.0179606891686, 235.85734328586977, 219.59434117097177, 225.94384460400656, 196.2398279182505, 79.58913626187524, 52.10169316523355, 44.134235977889574, 42.80893417287289, 39.60002970600348, 37.15773085543603, 34.97201776816541, 34.913339535924564, 33.59847888508211, 33.01758261508989, 29.007744547117674, 26.878610040554342, 26.76164451537492, 26.015082225323294, 25.976148624135526, 25.960761428901055, 25.29146455825404, 25.224288886909257, 25.15627203717812, 24.89221450137376, 24.65297941497563, 24.336637041924366, 23.732198758555285, 22.94160747865703, 22.795018418033337, 22.19238548357701, 21.72457829006469, 21.522065142621795, 21.18257169549594, 44.02076694354847, 69.18522235061577, 41.087325337184055, 196.90458286486887, 117.77867014300118, 60.53628328560783, 60.67390270516135, 72.21723337207057, 36.69891965845245, 71.02831667263057, 49.402191394380836, 40.48529198941043, 38.19936446717639, 55.33961499199988, 30.176582779695913, 27.288200222350962, 79.3824655408413, 58.37990602002532, 48.12395165323572, 57.04477362895817, 55.963417948560846, 48.03328009056659, 47.89174688541389, 36.538548889279475, 35.519255921262356, 260.8388297179838, 245.57715935794113, 210.47929797216062, 166.6090077039447, 162.9756179821196, 160.4352491835777, 151.56490995726992, 146.66484851426918, 122.93811305156034, 120.39456950344874, 98.60968695611741, 87.26070424433024, 86.99629295873932, 80.38393878353274, 78.11644726943432, 74.79082150589564, 74.21773919071263, 69.90059111513385, 64.02315144746164, 62.054566607135875, 61.56340972727748, 60.80575618711081, 60.419663953726506, 67.04922135874425, 55.80388932933709, 56.39563774913299, 155.14828625730232, 52.224039046683934, 51.65656367716956, 49.5095881467367, 124.97111774029766, 575.0250840625336, 269.64750588122064, 92.0554298087508, 152.28021571746203, 173.07114375665432, 946.2232066084082, 122.639304199203, 208.08496765382506, 111.92140300902346, 103.23995693568502, 125.2416206322058, 107.62821673376837, 223.10336504684034, 176.03561285485756, 319.3672144280496, 314.5293229409082, 195.79840224768694, 242.16808303428456, 276.6662635727729, 139.08198139917494, 238.3402065531054, 226.65033399466444, 197.22250419752484, 372.0442955740436, 224.28405174395587, 227.61213193573332, 322.8925559502336, 387.6232986053615, 310.8523404392772, 338.5614123979444, 181.05130810361416, 188.03659308541748, 250.9767769832333, 218.811352628569, 189.02667030836773, 201.44330262544835, 203.5632705523989, 191.55016046634017, 190.15577844104553, 741.4284234197395, 290.08194353007167, 263.6039009900067, 223.0803562662633, 212.5860639333119, 200.35738269387144, 167.5242742388472, 166.69506157006833, 161.81276979664884, 161.57457252640654, 150.32418578612135, 147.37047003766753, 560.5708540718101, 141.09860377938335, 140.8571518048942, 125.62158441271565, 108.46995830152707, 104.17874333615825, 350.4672902154892, 95.76970316845822, 95.21849136997203, 143.91997179005074, 87.49639849673866, 87.09659185524531, 83.83734842180728, 402.5234393364447, 77.37842366614058, 76.883601153969, 76.83869544678952, 75.08107839159533, 535.3030497656243, 1055.0176628361808, 317.2684676342114, 267.961786217841, 285.33940957580563, 455.57614205207875, 395.3802027779578, 435.5516867574141, 213.68009489669177, 638.6726204044356, 239.35805334749531, 300.196704596099, 847.6582035868811, 270.7369845088305, 441.13237869967827, 479.7197428536277, 271.57014785634925, 279.8579963479895, 406.8884275980756, 663.8815943961216, 298.5125896118129, 289.68441927551874, 813.7441034553024, 450.1481960411984, 842.521420552147, 320.35271953978594, 470.4960338370695, 470.8403774524191, 436.69263458955993, 568.8256847147071, 441.8995472893866, 357.3634148892715, 349.03444249302794, 529.7074557812739, 393.82715616658123, 385.07908430650053, 391.1122006089156, 411.48128609666236, 405.9727708032938, 247.88305959581305, 95.9116374620124, 91.66489813932087, 70.50177536158878, 65.04863979675959, 62.16108281625586, 59.22583607536629, 56.69937856411963, 50.11438164684856, 44.52738300333875, 42.88325555140511, 42.570474293507026, 41.26132933865767, 39.23090092916371, 38.96297838087337, 38.94752090405293, 37.166877585196225, 35.63999853934044, 35.22974997402429, 34.78524478787345, 33.97804483384138, 33.47419937311008, 33.38272652112824, 32.69801105748401, 31.26982600700352, 30.580061785781698, 30.41035585183897, 30.261999122590005, 26.811930178731313, 26.54181409483276, 153.1608864564501, 93.4185905799058, 212.0131084282766, 67.4449535713831, 66.57227083878777, 68.7640540356389, 77.0840499984425, 44.56823533799264, 55.99926605163314, 125.42294585437268, 142.4453501971438, 102.95608944723797, 69.2033654370645, 46.33112491685776, 104.4584377553484, 84.48468865829848, 96.465991648312, 103.98851354017285, 87.05124617587059, 105.336613391161, 54.14097882360288, 83.68583078665525, 54.720162866139866, 59.43509816383078, 56.770562722424906, 86.19603722408091, 76.31152102375903, 65.06806884647322, 60.759458039916154, 60.05957690939979, 53.35514896579282, 47.89585010315137, 45.74207351984088, 42.77781639322046, 42.052793848014254, 41.74804146747631, 40.075525618481734, 40.1413170439177, 46.96507165796076, 36.84553472974978, 36.2681601021571, 36.16981686979936, 34.111400697719674, 32.134865212195166, 31.301863159657987, 30.541195383533935, 30.24018276250856, 29.94140984958313, 29.449977107646617, 28.805858833041523, 28.438786920256504, 27.378798401370847, 27.126903823259603, 26.948639648934137, 26.247714703840327, 68.28946727480938, 93.56061913014744, 113.40071387420929, 52.16455055564965, 121.04318548897305, 258.2801794592172, 93.37754373101468, 38.93323992411182, 197.67300083205953, 46.90342092743798, 104.53057115010478, 107.6256265384942, 72.67435258499245, 107.77465007929257, 102.83856845810479, 90.39835176072162, 84.19476817194648, 135.4101110793362, 115.1746110781231, 75.36198847957102, 86.57689129126183, 338.9027307272956, 87.29698509611228, 93.40382573779247, 99.15214717917732, 79.31520461688578, 67.85297996445446, 109.59159253733716, 88.35660205848444, 77.69171348963451, 70.63126182296703, 77.34486289203274, 72.42289004933876, 276.91748372517316, 227.16413181181736, 114.76178304349685, 105.70569410688469, 88.58748184900696, 86.28487015744464, 67.15117870361335, 54.99288072480399, 46.93657762891732, 45.61585324254692, 45.31892674099537, 42.19793518297285, 40.838237179533664, 40.08535446964398, 39.997088624437204, 38.99881463785557, 37.51001007358065, 40.908749065422825, 35.84944483401825, 35.65897599638794, 35.61816006525315, 35.534289337010996, 34.34468112087791, 32.674720492653826, 32.3103822323578, 32.2636820492342, 30.660625097624283, 31.70547327948421, 28.35155704533291, 27.387783074623933, 679.0418698827345, 159.45917250141085, 50.82372812420197, 100.59030669594192, 54.19248200885789, 513.6919518550359, 1275.0622935232434, 385.78135852356957, 140.2968590875722, 49.24215519828096, 163.9364748486705, 263.7324632912339, 173.78652679424485, 71.1582159279057, 164.75715554233867, 115.6412442958178, 659.4565677685414, 324.1730873629359, 217.24896273858297, 194.51444365826654, 219.75654219686004, 222.61098891242384, 228.9897246057534, 164.0439238923582, 126.66450331851392, 214.8859760192435, 221.64626073868965, 181.18342603072057, 206.0427693644816, 290.37754595231945, 203.10707907705674, 267.53486733948273, 185.27537906275887, 178.66537099291128, 307.6532306246006, 192.24043327296644, 193.95069555407147, 172.32781060588187, 454.29963232176755, 349.67176611108573, 286.40726564133666, 209.12626100368138, 192.81927243409473, 188.72336274561712, 185.38080545951823, 177.9373751002886, 167.35870873761678, 109.02273161269937, 101.8091929985658, 90.77313662621586, 86.93237666516289, 86.59743053210006, 82.56242815979869, 80.63821096542601, 75.88515855813085, 72.84068662902136, 70.73585868883393, 69.62967079780604, 69.34936306144043, 68.42069262200035, 65.66204460793497, 59.922201938300304, 58.64281897449987, 57.678852048462346, 52.32922315285063, 52.05804827947832, 50.861772604680695, 50.200519215398025, 191.068044484932, 561.9221366682522, 799.2775890788707, 313.1033592691997, 160.7276386025783, 315.7063840035537, 189.40279364907386, 475.84669659655884, 229.97466419987873, 165.9927194162488, 151.87544207367853, 360.32620053995566, 88.9677525049312, 298.73339624916883, 120.67938160953116, 591.7029620964753, 170.5952001402983, 223.7690455175856, 128.61509269069862, 313.6329359454862, 328.0338319077867, 184.3584187904186, 172.89643462153552, 277.36990663709423, 176.08405668006097, 230.50019489436264, 203.4117351242503, 189.66103078993794, 178.99665783018668, 174.79823425394395, 311.96145076074237, 227.55217885146723, 157.33910252395597, 115.33312172774498, 103.72693649404087, 67.1056582814691, 84.37499315812477, 46.55514850538598, 41.640813034521145, 41.56031552485729, 39.12389545459484, 36.12160481521279, 35.321604952233294, 34.29966760824252, 33.73129281973391, 33.689794722300725, 31.983912173225058, 31.90049538018506, 30.79806329362368, 30.322632400206302, 28.97472040328367, 28.313415555150055, 28.051369057515846, 27.852387382086064, 27.256911682311156, 26.97285019079961, 26.745016034077846, 25.96122303624913, 25.606503818661942, 24.532334822530817, 53.3941854922478, 352.2497971628555, 69.78641821967483, 62.179280420791024, 413.7596457826449, 139.71278494743666, 44.95836690887387, 69.75035746047303, 133.93338971715644, 102.12525437538739, 601.2307445846119, 564.3364926231715, 170.96651655450387, 202.06060901793464, 114.77532000253517, 392.64428926194375, 192.37108966143668, 330.88520301916293, 766.3613065228561, 183.83736301768545, 404.32571729523465, 202.24974537558973, 385.86885114628313, 342.48379534899584, 584.3282764649001, 650.594891197667, 416.28482867010155, 257.6686462021732, 190.99799158177507, 230.9473358559469, 151.87689365845347, 323.829070964473, 293.3716091786876, 190.3487872324129, 416.3116584062296, 276.59315110995703, 207.33676960184633, 399.7628469402979, 300.43564405169246, 250.12369052274784, 201.30324452771308, 220.15737672002578, 200.24754311191595], \"Total\": [3518.0, 6084.0, 3491.0, 1745.0, 1485.0, 1221.0, 1556.0, 3303.0, 2535.0, 1227.0, 1623.0, 1552.0, 1074.0, 1800.0, 2548.0, 1486.0, 4024.0, 887.0, 836.0, 1348.0, 3915.0, 1107.0, 717.0, 1092.0, 3036.0, 737.0, 1901.0, 691.0, 1018.0, 1124.0, 3518.4273399519025, 56.205353062279734, 50.48405561152968, 36.46557179440734, 34.700105606145705, 33.7980890002182, 24.432723706575427, 24.890570121688157, 21.20085362261232, 20.455218280944955, 20.38449807727312, 20.21668596554071, 18.84003517484776, 18.75569011652963, 18.554605635364084, 18.38092490233364, 18.215754012272395, 17.851799985075676, 17.502015020610077, 16.999411454564218, 15.97597805734182, 15.523475946433317, 15.502995466262666, 15.3370086237696, 14.63641507663979, 14.60721074869879, 14.461045623205466, 14.329745249794648, 14.08803120531707, 56.18374380747929, 330.2370539875722, 279.2883760176815, 30.990838673898978, 23.961545839225174, 1221.3937116313325, 198.8322687335108, 175.51557949404278, 115.27488235783666, 175.41214517363886, 1485.0937051750223, 170.89346276596902, 1227.2913900759308, 1556.8802153542545, 691.4805415034157, 425.5171129306956, 321.3645783174235, 29.649968960372302, 252.5166724221329, 523.9636600649374, 93.89149394354268, 666.0117371584956, 728.8324848042914, 1163.4548856253696, 3491.5393812723405, 6084.799648674137, 970.3571713461918, 1486.5794919020818, 2548.6975847267704, 1349.621248186294, 814.1874145386288, 1683.2289839265347, 589.7821267345058, 166.2619208096546, 575.4412131931875, 918.0227651303284, 234.47545971231276, 205.58240411124632, 184.85154758227435, 175.36960097413495, 161.9607926143582, 111.24725176801331, 108.8361348098994, 89.44784982760454, 83.07051445707398, 77.64408179169614, 74.19376380900388, 74.13749120866581, 72.67987045566326, 67.71627232457392, 67.07565583583694, 65.86482263926285, 64.11543353892512, 65.95508492902106, 61.78217153806605, 60.124722573706876, 59.25369309817541, 58.812842508776875, 55.33955711826857, 53.76033492339105, 77.64372088774763, 51.583098590445786, 95.85691203231363, 51.173997307003276, 51.05633284783872, 50.41831214247587, 273.82704149545543, 65.51283945741311, 369.96535070376524, 426.9089689826119, 144.23846286922162, 1363.6628546228887, 184.04463599196754, 79.22074005957329, 527.2447481038415, 398.71585958033336, 363.83380528951056, 534.5428676046746, 472.2295120429099, 244.74055890478348, 1973.6116507670595, 214.27965333505935, 977.1934587227279, 805.3782098846731, 242.8691103823723, 211.79246725597258, 138.7858178734676, 323.0953949520133, 453.8932192513368, 4024.08633287024, 3036.657513405597, 1623.6041048887437, 1709.7806210980718, 394.5078634260809, 755.7336473649868, 465.47983370777524, 1089.2944145479264, 427.40175723027335, 1205.496063088157, 710.8635281964861, 1253.8889682102024, 6084.799648674137, 2298.2543116938036, 6227.401135766813, 2202.7577167210225, 1232.307624809179, 2161.363728777638, 3491.5393812723405, 797.2675943932262, 2033.6869638108353, 636.4295429893716, 1371.2542003480935, 2559.5102278922595, 2537.848168237848, 3915.0433048712475, 1622.5796845221848, 2061.0244205716863, 1502.2321091600438, 2431.151324535982, 2885.9024656736037, 2094.3947529778657, 1779.9738242509031, 2548.6975847267704, 421.5069821591029, 405.8859319985551, 343.4263929235269, 359.7239064503256, 225.11534641557554, 203.07474286556172, 195.77780611078248, 160.6574179265203, 145.29618688083403, 121.58736841703484, 121.20097607383386, 109.06285521343435, 105.87963864446354, 104.04747830056796, 103.48999315660002, 100.66723867218855, 99.63435853520507, 99.45403869978546, 98.93178154444101, 96.13705898770796, 94.77328613048881, 93.71602363000683, 90.55548786719716, 90.02776565391557, 87.65587331491426, 87.43975651741323, 84.79652832443456, 84.70088217271334, 83.63794177979405, 83.27368962007088, 836.0562706186262, 321.0074755904934, 585.2892986361275, 737.1003466852185, 248.8306293188604, 550.0782400138103, 146.78606848573042, 197.68255418129107, 137.64812757984163, 131.32079271038924, 155.8890363047547, 432.0070367470586, 148.54905807669974, 197.68554498726726, 473.3777982450283, 1388.971967866821, 205.52001716376736, 262.6287538073105, 260.1605821864216, 1341.3010993139844, 208.76628641746828, 2133.4366234568415, 2431.151324535982, 918.6272955433825, 1032.3472352751571, 2190.7424981168083, 990.0839792878623, 342.3580264645485, 194.33705727230998, 152.83276108809852, 107.62732946419666, 102.02202978727989, 94.01646199735366, 77.47755967414602, 70.7543869142427, 66.19682234613772, 65.89381153185539, 65.25216815179657, 64.2923980717369, 63.16117888791377, 60.97688938873474, 98.63910564013766, 54.00554686759391, 52.29193809913587, 49.050493476685425, 46.38002934302386, 45.74392136250474, 45.600786880090716, 45.49657220593998, 45.32316247061749, 43.35299241945236, 40.931288105978226, 38.88682108542065, 35.44289501394583, 35.28250285840859, 34.62969398862263, 34.599583978077476, 34.37759164592115, 112.10741805522473, 307.2629646071535, 443.0283701859201, 56.86865183341411, 263.72464849788224, 66.99007838850693, 118.19819492719061, 159.97949163205217, 202.32757037094166, 150.60723619105605, 100.54073588090827, 310.61600626641797, 60.338235679709115, 480.633898248157, 183.51386841168588, 161.511396309977, 117.78221354642217, 171.61977989519343, 498.673192015303, 227.66781980163034, 229.41580372912165, 3303.5037469236077, 224.30232045465985, 569.0848755352669, 250.00647135572916, 240.81317370820827, 1344.9317846784243, 1463.4638332787722, 454.12703731539415, 467.52196740690715, 1486.5794919020818, 141.92434592292327, 111.80769143226678, 84.8448273129578, 68.83827128794641, 67.95371842749681, 67.50901847685263, 117.58054275918123, 57.46014577141465, 57.34667919929205, 52.3236571979441, 49.82113090254147, 48.58180238024922, 48.551394827947426, 45.0865442003569, 40.65584030268035, 39.59609630615344, 90.51305089077964, 107.42865451505654, 38.08913067554766, 37.8486723955761, 37.083348292585846, 36.82000606914426, 36.723706987941114, 36.083367636497876, 36.076965799058826, 35.62672414048573, 35.626408636469534, 35.4071200036629, 34.93216013861411, 34.344532788476386, 117.78203660498717, 260.98724600791206, 110.67199713700828, 805.0089212320817, 185.6492736490317, 143.4059027889789, 79.35695831854697, 129.08562450725634, 324.27851097196486, 68.28975575871338, 135.87546074253183, 172.4230893006451, 94.66667669024942, 484.46499803946534, 73.19428937566924, 122.28501611889163, 167.25858957737037, 1307.7850862122766, 136.97902014755343, 120.5379530703734, 2431.151324535982, 3532.4775418122754, 335.986523434303, 3915.0433048712475, 2094.3947529778657, 859.1789142110553, 644.7263665611807, 311.2334942142653, 362.5162061107421, 6227.401135766813, 982.1864447738722, 1173.5868770341078, 1456.5489840319779, 1470.2868043523117, 989.3489192503288, 889.1425079013859, 2885.9024656736037, 1376.5322232662174, 1043.786609984568, 1595.225409900572, 6084.799648674137, 1204.1597450209222, 1779.9738242509031, 1683.2289839265347, 2033.6869638108353, 1204.5930317157336, 3491.5393812723405, 3036.657513405597, 2559.5102278922595, 3419.6153917425695, 2061.0244205716863, 2548.6975847267704, 3303.5037469236077, 2298.2543116938036, 1934.3613631705005, 2190.7424981168083, 1826.480079126696, 597.1584608646418, 359.1063709531713, 328.9216473544798, 299.98825425303085, 271.31592025141816, 210.10961708085617, 207.69444830129132, 178.17544297954905, 172.5570220410999, 168.49560854644636, 162.677027981865, 144.70356374473494, 144.64043390897228, 139.68261780158272, 122.14810530981651, 107.81119591627203, 107.70096229305327, 101.32735692921284, 84.60318722911272, 80.45709061284852, 78.75283286769859, 77.33022222209954, 77.2804630038897, 77.19714715104878, 76.18871575351005, 72.53957762969696, 185.69726743777318, 71.96056854557936, 68.01855565405079, 65.07926284248884, 113.59424377694077, 562.0473913513164, 451.14755436714825, 200.37801657115077, 328.52444918788063, 373.6223395619692, 114.74985336281132, 243.64817999611626, 1124.1630036758381, 316.5473595770806, 292.0238207450329, 853.8399364073238, 887.7612395952875, 224.31389787584718, 378.66457110185996, 624.2568765657304, 479.9362956431869, 422.86026588926137, 698.5655151064756, 216.8200940610204, 823.8205054157859, 4024.08633287024, 1826.480079126696, 6084.799648674137, 531.2854572995809, 388.80234403220385, 287.9083202038781, 1088.2842138694084, 1362.6105211025006, 450.4937417345597, 418.0766545676859, 329.91227725954934, 290.5088925773358, 266.8642579809045, 245.2476629652199, 214.5123345684975, 188.64146544468812, 165.9460446877881, 161.1666241435712, 154.588919701963, 154.57281648972273, 144.353250291813, 144.0954817603026, 130.2861809422124, 129.84483694764978, 118.65807812529854, 168.55284785043142, 87.83333502199841, 80.85811451485966, 80.00687197700583, 75.80286419313182, 73.93938384214849, 68.17272019410039, 67.9009333006006, 65.12316082728205, 64.3086186606496, 63.100732286936996, 62.231076699294235, 56.873545779743104, 1074.0044334684549, 273.761704735975, 205.3058185133217, 105.5417078425751, 126.30111394400325, 609.6160098173278, 279.38652094884014, 147.20107900101686, 113.05465503008908, 453.16225995658056, 107.54373181182497, 1202.5919138239717, 144.15568172844806, 435.0772346037246, 3303.5037469236077, 382.0625413586172, 1901.7864283741833, 823.8205054157859, 439.6788064295785, 1486.5794919020818, 1934.3613631705005, 1205.4073596564392, 1504.3796289194584, 1344.9317846784243, 543.6826918036402, 467.9751591184653, 2190.7424981168083, 6227.401135766813, 1348.302802911654, 593.5162893822295, 2537.848168237848, 87.20455603200494, 74.6248513199493, 66.66930147417011, 66.87547926291461, 63.27448574111631, 59.96480210719093, 43.429878404855614, 44.36972070230072, 39.5307956398399, 39.347983832540244, 38.29315016206073, 37.920888806238445, 37.55123644303281, 36.95663748377657, 33.92781767044383, 33.566180351423775, 33.284843462300756, 32.64447422455314, 31.682043643005326, 30.34967543991088, 29.439529295577206, 29.42272448061984, 28.119209110036728, 27.537011320286584, 27.520034836444943, 27.19353814412162, 27.060183206399685, 26.865415403235076, 25.80597622702261, 25.792529759690048, 56.69518836157901, 120.78304128562245, 38.07569431728564, 54.44512739296059, 112.28011579173481, 131.59746260219092, 34.67312457117234, 84.37885090810676, 49.98673290148898, 38.813033928181135, 238.9547642962995, 70.55846396136218, 6084.799648674137, 2548.6975847267704, 245.59238838944833, 3915.0433048712475, 1470.2868043523117, 707.0722679541446, 238.46243627140257, 3532.4775418122754, 1645.6647336000383, 2094.3947529778657, 1240.9064894383614, 773.8218658960138, 2559.5102278922595, 446.0856984487818, 910.8265008596375, 3036.657513405597, 526.7849761061052, 533.7840320316229, 1163.4548856253696, 3491.5393812723405, 2885.9024656736037, 1089.2944145479264, 1173.5868770341078, 687.3636976782471, 1205.4073596564392, 2061.0244205716863, 135.62817065654394, 113.0823675874156, 105.96501113811674, 89.68641302444408, 79.19292921685624, 65.10608284002267, 65.01238590294895, 53.46256707150379, 46.75374681583898, 42.85910906747935, 42.1204717083402, 41.229150408093716, 40.772199031385, 39.92627074227383, 39.83598890352289, 39.62085807782373, 38.83435514070384, 36.14941925580689, 35.238676677912075, 34.97924403992403, 34.421191776344344, 32.291328630579244, 32.04225771226391, 31.976634814791872, 30.61865386417232, 30.501588494385903, 30.387796733457733, 30.254643340512313, 29.54128467035048, 29.296174484910544, 52.212615805087296, 51.024582863940296, 116.08262747675526, 590.7581018086588, 173.5118614215429, 439.17373548475115, 180.94343545121748, 67.89762495271279, 98.38589352352271, 179.25327382593088, 488.4902068138081, 479.0966409637104, 70.18534506504633, 1800.646396815344, 592.7422711435299, 335.7818989132018, 579.7615386421313, 295.1283780166068, 97.96746223599963, 129.966206082535, 303.2992015081953, 531.3851977783494, 748.8442910655049, 700.0101748312119, 328.21591667161323, 325.28726476693606, 214.00631614611154, 522.8075211747774, 1376.5322232662174, 855.3770701715595, 1456.5489840319779, 4024.08633287024, 6227.401135766813, 562.7960721056695, 673.9179888667283, 1204.5930317157336, 3491.5393812723405, 1115.6390326879352, 653.4113871040445, 2885.9024656736037, 2559.5102278922595, 2190.7424981168083, 1622.5796845221848, 1973.6116507670595, 1065.8101530948452, 2548.6975847267704, 3915.0433048712475, 2133.4366234568415, 1415.8560435293218, 3532.4775418122754, 197.4343182941212, 80.54514709321751, 53.05358523203524, 45.086127710927656, 43.76082549082335, 40.5519318267879, 38.10962218412815, 35.924313629264155, 35.86523748108183, 34.550370411280674, 33.96947380074702, 29.95963630128547, 27.830501218393078, 27.713535879615872, 26.966973507151074, 26.928040057717077, 26.91265341591303, 26.243355648407825, 26.17621206786484, 26.10816397974199, 25.8441056385394, 25.604871176680625, 25.288589233833573, 24.684089929809776, 23.89350679758106, 23.7469097278668, 23.144450963949687, 22.676469500616975, 22.473956699375698, 22.134462961809742, 46.131536505853056, 74.21242261330785, 44.35041381000617, 279.7952361540953, 161.85688684569428, 76.27347825943143, 80.58613086582938, 109.33209979222963, 48.55644202044466, 187.59638175178148, 100.6259794718006, 67.73752374544262, 60.29207760629902, 162.79015581408737, 41.083708871459685, 31.15694591672819, 855.3770701715595, 371.4703104852887, 219.77725976049038, 471.6909696754496, 673.9179888667283, 382.79815317857026, 587.0670954346815, 482.3501831742369, 446.0856984487818, 261.7854243871528, 246.53532151153678, 211.42589374548479, 167.55559964207623, 163.92580783944283, 161.4264346277783, 152.511512213243, 147.61144020188698, 123.88470706858743, 121.34116154004082, 99.56432548236968, 88.2072956084647, 87.94295386916339, 81.33053578066819, 79.06309745357004, 75.73920678920928, 75.17568315563325, 70.84720590905616, 64.9697431628288, 63.001160333818994, 62.5100014595801, 61.75234755675307, 61.366255268354955, 68.1843250400182, 56.753363719124586, 57.38279392473082, 157.95849970921284, 53.17063035936641, 52.603154984065206, 50.456179722309855, 127.78685444965423, 597.9416745644911, 278.45781581937536, 94.20076535057852, 160.13510705744574, 183.2706250668372, 1092.2832951291398, 130.6694543023827, 244.89632658013946, 124.76926077085515, 114.7731820240611, 146.57823179601658, 122.67892124130765, 327.9290767754934, 240.53004500124538, 569.0848755352669, 596.1382540754912, 308.8525647780567, 467.52196740690715, 587.0670954346815, 192.20546512134575, 498.673192015303, 456.953464538461, 365.5126340657398, 1552.0819584122953, 531.2854572995809, 552.24733685333, 1388.971967866821, 2535.990256342515, 1463.4638332787722, 3419.6153917425695, 362.42099240661963, 439.6788064295785, 2133.4366234568415, 1645.6647336000383, 537.4683497763932, 1376.5322232662174, 2885.9024656736037, 1202.5919138239717, 2559.5102278922595, 742.3783452145648, 291.0316278212391, 264.55359219149574, 224.03003850258193, 213.5357462408644, 201.30729172127704, 168.47395639799996, 167.64576872866817, 162.76245789193325, 162.52428572116975, 151.28358456408628, 148.3201529550919, 564.2327942980647, 142.04828590442852, 141.8068386731429, 126.57134681263025, 109.41965204616467, 105.1285201920042, 353.9235001032729, 96.71938579786702, 96.16817991608339, 145.4231814031101, 88.44685468258258, 88.04628833164954, 84.78703075328606, 407.21196765052173, 78.32810573045731, 77.83329024541916, 77.78837786865596, 76.03076053430152, 546.2902459856178, 1107.1694750032048, 328.7800044772095, 276.7495112969132, 296.6912176014206, 481.99415002097396, 422.1662851131624, 467.53422830153744, 222.77941505208287, 699.4591405927323, 251.49098856104038, 321.41779080508707, 1018.9328789434351, 294.4744404440801, 546.0089196165106, 605.7449232362306, 309.04093469847646, 323.61784180842403, 533.7840320316229, 1025.705858910676, 363.7886955895719, 349.99806784911823, 1901.7864283741833, 937.528982449652, 3303.5037469236077, 478.4646994152624, 1205.4073596564392, 1504.3796289194584, 1202.5919138239717, 3419.6153917425695, 1595.225409900572, 758.9818698925424, 723.6516032934614, 6227.401135766813, 1683.2289839265347, 1645.6647336000383, 1934.3613631705005, 3915.0433048712475, 3532.4775418122754, 248.91997110268625, 96.85929629451128, 92.6125569607786, 71.44943467802193, 65.9965383173149, 63.10874163003603, 60.17349555870853, 57.64704465388154, 51.0620415074077, 45.47504202373592, 43.830914326442105, 43.51813382299281, 42.208988131068374, 40.178559805128614, 39.910637223464164, 39.89531564503649, 38.11453817689184, 36.58765737093708, 36.177410164700206, 35.732903682786535, 34.92570400854828, 34.4218607583801, 34.33038525332592, 33.64567037185316, 32.21748487430326, 31.52772123307955, 31.358014808928843, 31.20965831677417, 27.759589672772716, 27.489695358087346, 165.18643866214464, 102.09763892624656, 254.5520760203036, 74.73905198869525, 75.60952792618119, 80.3336329709482, 101.26533540769148, 50.17498416257768, 69.81162052283571, 215.2057326625737, 262.7496521006592, 172.5660538295748, 99.37628646076739, 57.09854593768076, 266.715860683686, 211.10168406231992, 325.53690028439644, 546.0089196165106, 338.88911664808694, 2535.990256342515, 125.36804717783345, 1934.3613631705005, 157.98980010909966, 1032.3472352751571, 1901.7864283741833, 87.14846615211525, 77.26521885089714, 66.02048889544268, 61.71187809047042, 61.011997400156154, 54.30756920749042, 48.84827086883159, 46.69449365758197, 43.73025641354559, 43.00521425684273, 42.70048245869052, 41.02794578838229, 41.136741679745896, 48.173590063781866, 37.79795547595193, 37.22138221261165, 37.12223724896885, 35.063820797506665, 33.08728555287175, 32.2542846206662, 31.493615853119394, 31.19260317482044, 30.89383018705419, 30.402397515763667, 29.7582790893148, 29.391207427280573, 28.331218671252877, 28.07932395372053, 27.901059730318963, 27.200134901344942, 72.4623130418525, 100.3952777680579, 124.0762462790318, 55.74069115716044, 138.1767041804248, 332.9982716369538, 112.51715707347607, 41.691831017557995, 294.9682744657787, 53.66714440359846, 161.42798903849126, 168.30231053566314, 100.1405422769504, 207.44106972691938, 192.75055344847283, 157.09734625810577, 143.66556449573937, 326.1595290190986, 260.33689528627735, 130.799708069286, 174.53754489056493, 2535.990256342515, 186.3437458438821, 283.26507842418346, 382.4292824058135, 224.43450525058748, 141.0850942854044, 1341.3010993139844, 519.069558343213, 531.3851977783494, 232.47828008709962, 889.469351645742, 1800.646396815344, 277.87809849732963, 228.1193141345424, 115.71695953894138, 106.66470068147147, 89.54292766257481, 87.41216515555304, 68.10635333597783, 55.948058961318544, 47.89175752379976, 46.57223882721403, 46.27410181040706, 43.15310988833406, 41.793750625040396, 41.040528773134554, 40.95226307634525, 39.95434940569635, 38.4651844844806, 41.99469204557005, 36.80461943098789, 36.61415069198874, 36.57333441931469, 36.48946450908919, 35.29985856536278, 33.62989476215162, 33.265559788205465, 33.218856449824315, 31.6157996634456, 32.73314500555421, 29.306731852816146, 28.34295737585999, 717.6968653633586, 166.27129048202278, 53.17509035254892, 108.81680513653228, 57.57064837941614, 633.9414516649732, 1745.8910443380366, 512.6701353740376, 174.0677963105009, 53.221850042283215, 218.448943456569, 396.1190690407391, 245.73698984371921, 83.51857615151556, 251.39693540576863, 159.9620406058081, 1552.0819584122953, 651.5124585498608, 387.64656241133343, 346.6349912020861, 415.8639849815825, 432.47910977141265, 471.3279941370668, 302.4891841855664, 206.21030081327638, 474.2919967304533, 508.06070219825165, 369.47293268831015, 493.9211892258072, 949.0119289119826, 482.99749212082526, 850.8130632994176, 432.3666381151851, 564.7778588299045, 3303.5037469236077, 956.8827824827792, 1088.3018882550502, 1371.2542003480935, 455.24937829206027, 350.62151277084575, 287.35701155282055, 210.07600690938796, 193.76903058343532, 189.67311822330086, 186.35684697364158, 178.89773964126286, 168.4481690431624, 109.97247749142817, 102.75911347831754, 91.72288315078606, 87.8821229428516, 87.54717644180896, 83.51217528980249, 81.6440304439986, 76.83490439352688, 73.7906901634672, 71.68562442849417, 70.57941665434991, 70.29910887133475, 69.37044011150262, 66.61298641209966, 60.87194781505065, 59.592565315820615, 58.628720925853905, 53.278969250750244, 53.007805486925044, 51.81151844261738, 51.15026700967109, 196.0167448924117, 612.0841033358298, 887.0527769408347, 340.0050753157803, 171.1470083661609, 349.4404195503357, 206.26018193929264, 583.7088180595703, 281.91727147731297, 197.60691612973656, 183.41318529522516, 538.0024766952929, 95.8978320840107, 475.3350653576236, 150.85798366877788, 1623.6041048887437, 254.10126189249186, 455.36852131434534, 186.594945702461, 1040.7224202568034, 1362.6105211025006, 551.2705787230658, 479.9362956431869, 3419.6153917425695, 620.899410899462, 6227.401135766813, 2133.4366234568415, 2535.990256342515, 4024.08633287024, 2190.7424981168083, 312.96854103615, 228.5026619049817, 158.3304125121414, 116.28365666614381, 104.67786009252684, 68.05614377607066, 85.73536838104862, 47.60777389059825, 42.591293783843945, 42.51079592473073, 40.07442630140821, 37.072087710721036, 36.27209712857517, 35.25014803207113, 34.68177940774156, 34.64027525108377, 32.934394985154164, 32.85097592024154, 31.748925085974427, 31.27313656259757, 29.92520216807151, 29.263896737056648, 29.00204113463349, 28.802868288961676, 28.20739220604952, 27.923368578392086, 27.6954995324452, 26.91170955346422, 26.55705835819742, 25.482815181367265, 55.81600314324646, 389.2095738967887, 74.08622846524868, 65.96654578539881, 498.6115830973978, 158.24806348650827, 47.90977866375418, 76.68102758787217, 160.04888900424592, 119.11434630481963, 847.5624183625268, 814.1874145386288, 215.25327860189446, 260.1071271777173, 139.5772100461496, 575.4412131931875, 259.1875022339201, 493.8113295534688, 1348.302802911654, 253.47871020021623, 681.9981657488613, 295.5939477925017, 666.0117371584956, 589.7821267345058, 1227.2913900759308, 1486.5794919020818, 883.3636627673167, 459.92931415545786, 326.7961237424894, 442.63534918860444, 239.13766663606907, 937.528982449652, 789.3551865731412, 372.41744864293446, 2537.848168237848, 956.8827824827792, 493.9211892258072, 3419.6153917425695, 1485.0937051750223, 1025.705858910676, 508.06070219825165, 1344.9317846784243, 2161.363728777638], \"Category\": [\"Default\", \"Default\", \"Default\", \"Default\", \"Default\", \"Default\", \"Default\", \"Default\", \"Default\", \"Default\", \"Default\", \"Default\", \"Default\", \"Default\", \"Default\", \"Default\", \"Default\", \"Default\", \"Default\", \"Default\", \"Default\", \"Default\", \"Default\", \"Default\", \"Default\", \"Default\", \"Default\", \"Default\", \"Default\", \"Default\", \"Topic1\", \"Topic1\", \"Topic1\", \"Topic1\", \"Topic1\", \"Topic1\", \"Topic1\", \"Topic1\", \"Topic1\", \"Topic1\", \"Topic1\", \"Topic1\", \"Topic1\", \"Topic1\", \"Topic1\", \"Topic1\", \"Topic1\", \"Topic1\", \"Topic1\", \"Topic1\", \"Topic1\", \"Topic1\", \"Topic1\", \"Topic1\", \"Topic1\", \"Topic1\", \"Topic1\", \"Topic1\", \"Topic1\", \"Topic1\", \"Topic1\", \"Topic1\", \"Topic1\", \"Topic1\", \"Topic1\", \"Topic1\", \"Topic1\", \"Topic1\", \"Topic1\", \"Topic1\", \"Topic1\", \"Topic1\", \"Topic1\", \"Topic1\", \"Topic1\", \"Topic1\", \"Topic1\", \"Topic1\", \"Topic1\", \"Topic1\", \"Topic1\", \"Topic1\", \"Topic1\", \"Topic1\", \"Topic1\", \"Topic1\", \"Topic1\", \"Topic1\", \"Topic1\", \"Topic1\", \"Topic1\", \"Topic1\", \"Topic1\", \"Topic1\", \"Topic1\", \"Topic2\", \"Topic2\", \"Topic2\", \"Topic2\", \"Topic2\", \"Topic2\", \"Topic2\", \"Topic2\", \"Topic2\", \"Topic2\", \"Topic2\", \"Topic2\", \"Topic2\", \"Topic2\", \"Topic2\", \"Topic2\", \"Topic2\", \"Topic2\", \"Topic2\", \"Topic2\", \"Topic2\", \"Topic2\", \"Topic2\", \"Topic2\", \"Topic2\", \"Topic2\", \"Topic2\", \"Topic2\", \"Topic2\", \"Topic2\", \"Topic2\", \"Topic2\", \"Topic2\", \"Topic2\", \"Topic2\", \"Topic2\", \"Topic2\", \"Topic2\", \"Topic2\", \"Topic2\", \"Topic2\", \"Topic2\", \"Topic2\", \"Topic2\", \"Topic2\", \"Topic2\", \"Topic2\", \"Topic2\", \"Topic2\", \"Topic2\", \"Topic2\", \"Topic2\", \"Topic2\", \"Topic2\", \"Topic2\", \"Topic2\", \"Topic2\", \"Topic2\", \"Topic2\", \"Topic2\", \"Topic2\", \"Topic2\", \"Topic2\", \"Topic2\", \"Topic2\", \"Topic2\", \"Topic2\", \"Topic2\", \"Topic2\", \"Topic2\", \"Topic2\", \"Topic2\", \"Topic2\", \"Topic2\", \"Topic2\", \"Topic2\", \"Topic2\", \"Topic2\", \"Topic2\", \"Topic2\", \"Topic2\", \"Topic2\", \"Topic2\", \"Topic2\", \"Topic2\", \"Topic2\", \"Topic2\", \"Topic3\", \"Topic3\", \"Topic3\", \"Topic3\", \"Topic3\", \"Topic3\", \"Topic3\", \"Topic3\", \"Topic3\", \"Topic3\", \"Topic3\", \"Topic3\", \"Topic3\", \"Topic3\", \"Topic3\", \"Topic3\", \"Topic3\", \"Topic3\", \"Topic3\", \"Topic3\", \"Topic3\", \"Topic3\", \"Topic3\", \"Topic3\", \"Topic3\", \"Topic3\", \"Topic3\", \"Topic3\", \"Topic3\", \"Topic3\", \"Topic3\", \"Topic3\", \"Topic3\", \"Topic3\", \"Topic3\", \"Topic3\", \"Topic3\", \"Topic3\", \"Topic3\", \"Topic3\", \"Topic3\", \"Topic3\", \"Topic3\", \"Topic3\", \"Topic3\", \"Topic3\", \"Topic3\", \"Topic3\", \"Topic3\", \"Topic3\", \"Topic3\", \"Topic3\", \"Topic3\", \"Topic3\", \"Topic3\", \"Topic3\", \"Topic3\", \"Topic3\", \"Topic4\", \"Topic4\", \"Topic4\", \"Topic4\", \"Topic4\", \"Topic4\", \"Topic4\", \"Topic4\", \"Topic4\", \"Topic4\", \"Topic4\", \"Topic4\", \"Topic4\", \"Topic4\", \"Topic4\", \"Topic4\", \"Topic4\", \"Topic4\", \"Topic4\", \"Topic4\", \"Topic4\", \"Topic4\", \"Topic4\", \"Topic4\", \"Topic4\", \"Topic4\", \"Topic4\", \"Topic4\", \"Topic4\", \"Topic4\", \"Topic4\", \"Topic4\", \"Topic4\", \"Topic4\", \"Topic4\", \"Topic4\", \"Topic4\", \"Topic4\", \"Topic4\", \"Topic4\", \"Topic4\", \"Topic4\", \"Topic4\", \"Topic4\", \"Topic4\", \"Topic4\", \"Topic4\", \"Topic4\", \"Topic4\", \"Topic4\", \"Topic4\", \"Topic4\", \"Topic4\", \"Topic4\", \"Topic4\", \"Topic4\", \"Topic4\", \"Topic4\", \"Topic4\", \"Topic4\", \"Topic4\", \"Topic5\", \"Topic5\", \"Topic5\", \"Topic5\", \"Topic5\", \"Topic5\", \"Topic5\", \"Topic5\", \"Topic5\", \"Topic5\", \"Topic5\", \"Topic5\", \"Topic5\", \"Topic5\", \"Topic5\", \"Topic5\", \"Topic5\", \"Topic5\", \"Topic5\", \"Topic5\", \"Topic5\", \"Topic5\", \"Topic5\", \"Topic5\", \"Topic5\", \"Topic5\", \"Topic5\", \"Topic5\", \"Topic5\", \"Topic5\", \"Topic5\", \"Topic5\", \"Topic5\", \"Topic5\", \"Topic5\", \"Topic5\", \"Topic5\", \"Topic5\", \"Topic5\", \"Topic5\", \"Topic5\", \"Topic5\", \"Topic5\", \"Topic5\", \"Topic5\", \"Topic5\", \"Topic5\", \"Topic5\", \"Topic5\", \"Topic5\", \"Topic5\", \"Topic5\", \"Topic5\", \"Topic5\", \"Topic5\", \"Topic5\", \"Topic5\", \"Topic5\", \"Topic5\", \"Topic5\", \"Topic5\", \"Topic5\", \"Topic5\", \"Topic5\", \"Topic5\", \"Topic5\", \"Topic5\", \"Topic5\", \"Topic5\", \"Topic5\", \"Topic5\", \"Topic5\", \"Topic5\", \"Topic5\", \"Topic5\", \"Topic5\", \"Topic5\", \"Topic5\", \"Topic5\", \"Topic5\", \"Topic5\", \"Topic5\", \"Topic5\", \"Topic5\", \"Topic5\", \"Topic5\", \"Topic5\", \"Topic6\", \"Topic6\", \"Topic6\", \"Topic6\", \"Topic6\", \"Topic6\", \"Topic6\", \"Topic6\", \"Topic6\", \"Topic6\", \"Topic6\", \"Topic6\", \"Topic6\", \"Topic6\", \"Topic6\", \"Topic6\", \"Topic6\", \"Topic6\", \"Topic6\", \"Topic6\", \"Topic6\", \"Topic6\", \"Topic6\", \"Topic6\", \"Topic6\", \"Topic6\", \"Topic6\", \"Topic6\", \"Topic6\", \"Topic6\", \"Topic6\", \"Topic6\", \"Topic6\", \"Topic6\", \"Topic6\", \"Topic6\", \"Topic6\", \"Topic6\", \"Topic6\", \"Topic6\", \"Topic6\", \"Topic6\", \"Topic6\", \"Topic6\", \"Topic6\", \"Topic6\", \"Topic6\", \"Topic6\", \"Topic6\", \"Topic6\", \"Topic6\", \"Topic6\", \"Topic6\", \"Topic6\", \"Topic6\", \"Topic6\", \"Topic6\", \"Topic6\", \"Topic6\", \"Topic7\", \"Topic7\", \"Topic7\", \"Topic7\", \"Topic7\", \"Topic7\", \"Topic7\", \"Topic7\", \"Topic7\", \"Topic7\", \"Topic7\", \"Topic7\", \"Topic7\", \"Topic7\", \"Topic7\", \"Topic7\", \"Topic7\", \"Topic7\", \"Topic7\", \"Topic7\", \"Topic7\", \"Topic7\", \"Topic7\", \"Topic7\", \"Topic7\", \"Topic7\", \"Topic7\", \"Topic7\", \"Topic7\", \"Topic7\", \"Topic7\", \"Topic7\", \"Topic7\", \"Topic7\", \"Topic7\", \"Topic7\", \"Topic7\", \"Topic7\", \"Topic7\", \"Topic7\", \"Topic7\", \"Topic7\", \"Topic7\", \"Topic7\", \"Topic7\", \"Topic7\", \"Topic7\", \"Topic7\", \"Topic7\", \"Topic7\", \"Topic7\", \"Topic7\", \"Topic7\", \"Topic7\", \"Topic7\", \"Topic7\", \"Topic7\", \"Topic7\", \"Topic7\", \"Topic7\", \"Topic7\", \"Topic8\", \"Topic8\", \"Topic8\", \"Topic8\", \"Topic8\", \"Topic8\", \"Topic8\", \"Topic8\", \"Topic8\", \"Topic8\", \"Topic8\", \"Topic8\", \"Topic8\", \"Topic8\", \"Topic8\", \"Topic8\", \"Topic8\", \"Topic8\", \"Topic8\", \"Topic8\", \"Topic8\", \"Topic8\", \"Topic8\", \"Topic8\", \"Topic8\", \"Topic8\", \"Topic8\", \"Topic8\", \"Topic8\", \"Topic8\", \"Topic8\", \"Topic8\", \"Topic8\", \"Topic8\", \"Topic8\", \"Topic8\", \"Topic8\", \"Topic8\", \"Topic8\", \"Topic8\", \"Topic8\", \"Topic8\", \"Topic8\", \"Topic8\", \"Topic8\", \"Topic8\", \"Topic8\", \"Topic8\", \"Topic8\", \"Topic8\", \"Topic8\", \"Topic8\", \"Topic8\", \"Topic8\", \"Topic8\", \"Topic8\", \"Topic8\", \"Topic8\", \"Topic8\", \"Topic8\", \"Topic8\", \"Topic8\", \"Topic8\", \"Topic8\", \"Topic8\", \"Topic8\", \"Topic8\", \"Topic8\", \"Topic9\", \"Topic9\", \"Topic9\", \"Topic9\", \"Topic9\", \"Topic9\", \"Topic9\", \"Topic9\", \"Topic9\", \"Topic9\", \"Topic9\", \"Topic9\", \"Topic9\", \"Topic9\", \"Topic9\", \"Topic9\", \"Topic9\", \"Topic9\", \"Topic9\", \"Topic9\", \"Topic9\", \"Topic9\", \"Topic9\", \"Topic9\", \"Topic9\", \"Topic9\", \"Topic9\", \"Topic9\", \"Topic9\", \"Topic9\", \"Topic9\", \"Topic9\", \"Topic9\", \"Topic9\", \"Topic9\", \"Topic9\", \"Topic9\", \"Topic9\", \"Topic9\", \"Topic9\", \"Topic9\", \"Topic9\", \"Topic9\", \"Topic9\", \"Topic9\", \"Topic9\", \"Topic9\", \"Topic9\", \"Topic9\", \"Topic9\", \"Topic9\", \"Topic9\", \"Topic9\", \"Topic9\", \"Topic9\", \"Topic9\", \"Topic9\", \"Topic9\", \"Topic9\", \"Topic9\", \"Topic9\", \"Topic9\", \"Topic9\", \"Topic9\", \"Topic9\", \"Topic9\", \"Topic9\", \"Topic9\", \"Topic9\", \"Topic9\", \"Topic9\", \"Topic9\", \"Topic9\", \"Topic9\", \"Topic9\", \"Topic9\", \"Topic9\", \"Topic9\", \"Topic9\", \"Topic9\", \"Topic10\", \"Topic10\", \"Topic10\", \"Topic10\", \"Topic10\", \"Topic10\", \"Topic10\", \"Topic10\", \"Topic10\", \"Topic10\", \"Topic10\", \"Topic10\", \"Topic10\", \"Topic10\", \"Topic10\", \"Topic10\", \"Topic10\", \"Topic10\", \"Topic10\", \"Topic10\", \"Topic10\", \"Topic10\", \"Topic10\", \"Topic10\", \"Topic10\", \"Topic10\", \"Topic10\", \"Topic10\", \"Topic10\", \"Topic10\", \"Topic10\", \"Topic10\", \"Topic10\", \"Topic10\", \"Topic10\", \"Topic10\", \"Topic10\", \"Topic10\", \"Topic10\", \"Topic10\", \"Topic10\", \"Topic10\", \"Topic10\", \"Topic10\", \"Topic10\", \"Topic10\", \"Topic10\", \"Topic10\", \"Topic10\", \"Topic10\", \"Topic10\", \"Topic10\", \"Topic10\", \"Topic10\", \"Topic10\", \"Topic11\", \"Topic11\", \"Topic11\", \"Topic11\", \"Topic11\", \"Topic11\", \"Topic11\", \"Topic11\", \"Topic11\", \"Topic11\", \"Topic11\", \"Topic11\", \"Topic11\", \"Topic11\", \"Topic11\", \"Topic11\", \"Topic11\", \"Topic11\", \"Topic11\", \"Topic11\", \"Topic11\", \"Topic11\", \"Topic11\", \"Topic11\", \"Topic11\", \"Topic11\", \"Topic11\", \"Topic11\", \"Topic11\", \"Topic11\", \"Topic11\", \"Topic11\", \"Topic11\", \"Topic11\", \"Topic11\", \"Topic11\", \"Topic11\", \"Topic11\", \"Topic11\", \"Topic11\", \"Topic11\", \"Topic11\", \"Topic11\", \"Topic11\", \"Topic11\", \"Topic11\", \"Topic11\", \"Topic11\", \"Topic11\", \"Topic11\", \"Topic11\", \"Topic11\", \"Topic11\", \"Topic11\", \"Topic11\", \"Topic11\", \"Topic11\", \"Topic11\", \"Topic11\", \"Topic11\", \"Topic11\", \"Topic11\", \"Topic11\", \"Topic11\", \"Topic11\", \"Topic11\", \"Topic11\", \"Topic11\", \"Topic11\", \"Topic11\", \"Topic12\", \"Topic12\", \"Topic12\", \"Topic12\", \"Topic12\", \"Topic12\", \"Topic12\", \"Topic12\", \"Topic12\", \"Topic12\", \"Topic12\", \"Topic12\", \"Topic12\", \"Topic12\", \"Topic12\", \"Topic12\", \"Topic12\", \"Topic12\", \"Topic12\", \"Topic12\", \"Topic12\", \"Topic12\", \"Topic12\", \"Topic12\", \"Topic12\", \"Topic12\", \"Topic12\", \"Topic12\", \"Topic12\", \"Topic12\", \"Topic12\", \"Topic12\", \"Topic12\", \"Topic12\", \"Topic12\", \"Topic12\", \"Topic12\", \"Topic12\", \"Topic12\", \"Topic12\", \"Topic12\", \"Topic12\", \"Topic12\", \"Topic12\", \"Topic12\", \"Topic12\", \"Topic12\", \"Topic12\", \"Topic12\", \"Topic12\", \"Topic12\", \"Topic12\", \"Topic12\", \"Topic12\", \"Topic12\", \"Topic12\", \"Topic12\", \"Topic12\", \"Topic12\", \"Topic12\", \"Topic12\", \"Topic12\", \"Topic12\", \"Topic12\", \"Topic12\", \"Topic12\", \"Topic12\", \"Topic12\", \"Topic12\", \"Topic13\", \"Topic13\", \"Topic13\", \"Topic13\", \"Topic13\", \"Topic13\", \"Topic13\", \"Topic13\", \"Topic13\", \"Topic13\", \"Topic13\", \"Topic13\", \"Topic13\", \"Topic13\", \"Topic13\", \"Topic13\", \"Topic13\", \"Topic13\", \"Topic13\", \"Topic13\", \"Topic13\", \"Topic13\", \"Topic13\", \"Topic13\", \"Topic13\", \"Topic13\", \"Topic13\", \"Topic13\", \"Topic13\", \"Topic13\", \"Topic13\", \"Topic13\", \"Topic13\", \"Topic13\", \"Topic13\", \"Topic13\", \"Topic13\", \"Topic13\", \"Topic13\", \"Topic13\", \"Topic13\", \"Topic13\", \"Topic13\", \"Topic13\", \"Topic13\", \"Topic13\", \"Topic13\", \"Topic13\", \"Topic13\", \"Topic13\", \"Topic13\", \"Topic13\", \"Topic13\", \"Topic13\", \"Topic13\", \"Topic14\", \"Topic14\", \"Topic14\", \"Topic14\", \"Topic14\", \"Topic14\", \"Topic14\", \"Topic14\", \"Topic14\", \"Topic14\", \"Topic14\", \"Topic14\", \"Topic14\", \"Topic14\", \"Topic14\", \"Topic14\", \"Topic14\", \"Topic14\", \"Topic14\", \"Topic14\", \"Topic14\", \"Topic14\", \"Topic14\", \"Topic14\", \"Topic14\", \"Topic14\", \"Topic14\", \"Topic14\", \"Topic14\", \"Topic14\", \"Topic14\", \"Topic14\", \"Topic14\", \"Topic14\", \"Topic14\", \"Topic14\", \"Topic14\", \"Topic14\", \"Topic14\", \"Topic14\", \"Topic14\", \"Topic14\", \"Topic14\", \"Topic14\", \"Topic14\", \"Topic14\", \"Topic14\", \"Topic14\", \"Topic14\", \"Topic14\", \"Topic14\", \"Topic14\", \"Topic14\", \"Topic14\", \"Topic14\", \"Topic14\", \"Topic14\", \"Topic14\", \"Topic14\", \"Topic14\", \"Topic14\", \"Topic14\", \"Topic14\", \"Topic15\", \"Topic15\", \"Topic15\", \"Topic15\", \"Topic15\", \"Topic15\", \"Topic15\", \"Topic15\", \"Topic15\", \"Topic15\", \"Topic15\", \"Topic15\", \"Topic15\", \"Topic15\", \"Topic15\", \"Topic15\", \"Topic15\", \"Topic15\", \"Topic15\", \"Topic15\", \"Topic15\", \"Topic15\", \"Topic15\", \"Topic15\", \"Topic15\", \"Topic15\", \"Topic15\", \"Topic15\", \"Topic15\", \"Topic15\", \"Topic15\", \"Topic15\", \"Topic15\", \"Topic15\", \"Topic15\", \"Topic15\", \"Topic15\", \"Topic15\", \"Topic15\", \"Topic15\", \"Topic15\", \"Topic15\", \"Topic15\", \"Topic15\", \"Topic15\", \"Topic15\", \"Topic15\", \"Topic15\", \"Topic15\", \"Topic15\", \"Topic15\", \"Topic15\", \"Topic15\", \"Topic15\", \"Topic15\", \"Topic15\", \"Topic15\", \"Topic15\", \"Topic15\", \"Topic15\", \"Topic15\", \"Topic15\", \"Topic15\", \"Topic15\", \"Topic15\", \"Topic15\", \"Topic15\", \"Topic15\", \"Topic16\", \"Topic16\", \"Topic16\", \"Topic16\", \"Topic16\", \"Topic16\", \"Topic16\", \"Topic16\", \"Topic16\", \"Topic16\", \"Topic16\", \"Topic16\", \"Topic16\", \"Topic16\", \"Topic16\", \"Topic16\", \"Topic16\", \"Topic16\", \"Topic16\", \"Topic16\", \"Topic16\", \"Topic16\", \"Topic16\", \"Topic16\", \"Topic16\", \"Topic16\", \"Topic16\", \"Topic16\", \"Topic16\", \"Topic16\", \"Topic16\", \"Topic16\", \"Topic16\", \"Topic16\", \"Topic16\", \"Topic16\", \"Topic16\", \"Topic16\", \"Topic16\", \"Topic16\", \"Topic16\", \"Topic16\", \"Topic16\", \"Topic16\", \"Topic16\", \"Topic16\", \"Topic16\", \"Topic16\", \"Topic16\", \"Topic16\", \"Topic16\", \"Topic16\", \"Topic16\", \"Topic16\", \"Topic16\", \"Topic16\", \"Topic16\", \"Topic16\", \"Topic16\", \"Topic16\", \"Topic17\", \"Topic17\", \"Topic17\", \"Topic17\", \"Topic17\", \"Topic17\", \"Topic17\", \"Topic17\", \"Topic17\", \"Topic17\", \"Topic17\", \"Topic17\", \"Topic17\", \"Topic17\", \"Topic17\", \"Topic17\", \"Topic17\", \"Topic17\", \"Topic17\", \"Topic17\", \"Topic17\", \"Topic17\", \"Topic17\", \"Topic17\", \"Topic17\", \"Topic17\", \"Topic17\", \"Topic17\", \"Topic17\", \"Topic17\", \"Topic17\", \"Topic17\", \"Topic17\", \"Topic17\", \"Topic17\", \"Topic17\", \"Topic17\", \"Topic17\", \"Topic17\", \"Topic17\", \"Topic17\", \"Topic17\", \"Topic17\", \"Topic17\", \"Topic17\", \"Topic17\", \"Topic17\", \"Topic17\", \"Topic17\", \"Topic17\", \"Topic17\", \"Topic17\", \"Topic17\", \"Topic17\", \"Topic17\", \"Topic17\", \"Topic17\", \"Topic17\", \"Topic17\", \"Topic17\", \"Topic17\", \"Topic17\", \"Topic17\", \"Topic17\", \"Topic17\", \"Topic17\", \"Topic17\", \"Topic17\", \"Topic17\", \"Topic17\", \"Topic17\", \"Topic17\", \"Topic17\"], \"logprob\": [30.0, 29.0, 28.0, 27.0, 26.0, 25.0, 24.0, 23.0, 22.0, 21.0, 20.0, 19.0, 18.0, 17.0, 16.0, 15.0, 14.0, 13.0, 12.0, 11.0, 10.0, 9.0, 8.0, 7.0, 6.0, 5.0, 4.0, 3.0, 2.0, 1.0, -1.5163, -5.6698, -5.7791, -6.1118, -6.1628, -6.1899, -6.5255, -6.5072, -6.6736, -6.7111, -6.7147, -6.7234, -6.7976, -6.8023, -6.8136, -6.8236, -6.8331, -6.8544, -6.8753, -6.9061, -6.972, -7.0026, -7.004, -7.0155, -7.0654, -7.0675, -7.0783, -7.0881, -7.1063, -5.7233, -4.0781, -4.3079, -6.372, -6.6167, -3.0434, -4.7108, -4.8963, -5.305, -4.9554, -3.1915, -5.0404, -3.5956, -3.4137, -4.0849, -4.5175, -4.8056, -6.4777, -5.027, -4.6058, -5.7323, -4.5879, -4.5383, -4.3303, -3.7277, -3.6965, -4.7711, -4.7019, -4.5512, -4.8369, -5.0693, -5.0829, -5.3194, -5.5968, -5.5513, -5.5466, -6.7315, -6.8636, -6.9704, -7.0233, -7.1033, -7.4816, -7.5037, -7.7018, -7.7766, -7.845, -7.891, -7.8918, -7.9119, -7.9836, -7.9933, -8.0117, -8.039, -8.0111, -8.0767, -8.1043, -8.1191, -8.1267, -8.1886, -8.2181, -7.8508, -8.2602, -7.6406, -8.2683, -8.2706, -8.2835, -6.6036, -8.0217, -6.3161, -6.1824, -7.2549, -5.1401, -7.0455, -7.8456, -6.0672, -6.3368, -6.4354, -6.0864, -6.2004, -6.8233, -4.9475, -6.9474, -5.601, -5.774, -6.8426, -6.9643, -7.3393, -6.6084, -6.3161, -4.462, -4.712, -5.2465, -5.2272, -6.4449, -5.9145, -6.3166, -5.6333, -6.3878, -5.5977, -6.0108, -5.5806, -4.4181, -5.1906, -4.498, -5.2343, -5.6443, -5.2756, -4.9937, -5.9749, -5.4277, -6.1213, -5.6892, -5.3973, -5.4045, -5.2162, -5.647, -5.5617, -5.7412, -5.5713, -5.5473, -5.6533, -5.7439, -5.7215, -4.6644, -4.7023, -4.8698, -4.8236, -5.2936, -5.3971, -5.4339, -5.6327, -5.7338, -5.9132, -5.9164, -6.0228, -6.0527, -6.0703, -6.0757, -6.1037, -6.1141, -6.1159, -6.1212, -6.1502, -6.1646, -6.1759, -6.2106, -6.2165, -6.2435, -6.246, -6.277, -6.2782, -6.2909, -6.2953, -4.0187, -4.9658, -4.3953, -4.1823, -5.2675, -4.5325, -5.7612, -5.5168, -5.8514, -5.8995, -5.7709, -4.9907, -5.8203, -5.6301, -5.031, -4.4801, -5.6988, -5.6009, -5.6118, -5.0789, -5.7511, -5.0546, -5.3473, -5.5163, -5.5481, -5.5222, -5.6079, -5.7143, -4.6964, -4.938, -5.2913, -5.3453, -5.4278, -5.6236, -5.7155, -5.783, -5.7877, -5.7976, -5.8126, -5.8306, -5.8664, -5.3855, -5.9899, -6.0227, -6.0879, -6.145, -6.1591, -6.1623, -6.1647, -6.1686, -6.214, -6.2728, -6.3253, -6.4205, -6.4252, -6.4444, -6.4453, -6.4519, -5.2803, -4.2882, -4.0565, -5.9807, -4.5621, -5.8322, -5.3788, -5.154, -4.9752, -5.2107, -5.5676, -4.7326, -5.9632, -4.5706, -5.2433, -5.3413, -5.5581, -5.3457, -4.7572, -5.2417, -5.2969, -4.2449, -5.3373, -5.0456, -5.3463, -5.3852, -5.0526, -5.046, -5.2899, -5.3088, -5.2675, -6.8078, -7.0481, -7.3268, -7.5385, -7.5516, -7.5582, -7.0036, -7.7219, -7.7239, -7.8172, -7.8671, -7.8928, -7.8935, -7.969, -8.0748, -8.1019, -7.2754, -7.1044, -8.1417, -8.1482, -8.1691, -8.1764, -8.1791, -8.1972, -8.1974, -8.2103, -8.2103, -8.2166, -8.2305, -8.2479, -7.021, -6.236, -7.0855, -5.1331, -6.5765, -6.8419, -7.433, -6.9666, -6.0993, -7.5841, -6.9335, -6.7122, -7.2799, -5.7847, -7.5364, -7.0833, -6.8252, -5.0907, -7.0223, -7.1293, -4.7235, -4.4622, -6.3537, -4.5049, -5.0006, -5.6798, -5.8908, -6.4304, -6.3231, -4.3159, -5.6403, -5.5187, -5.3795, -5.4552, -5.7143, -5.7877, -5.0659, -5.5366, -5.7053, -5.4512, -4.6632, -5.6365, -5.4481, -5.5173, -5.4215, -5.6951, -5.1566, -5.2422, -5.3342, -5.2205, -5.4469, -5.3707, -5.3682, -5.5248, -5.5671, -5.545, -5.6066, -4.7208, -5.2305, -5.3185, -5.4109, -5.5117, -5.7683, -5.7799, -5.934, -5.9662, -5.9902, -6.0256, -6.1433, -6.1438, -6.1789, -6.314, -6.4399, -6.4409, -6.5025, -6.6847, -6.7356, -6.7572, -6.7757, -6.7763, -6.7774, -6.7907, -6.8405, -5.9005, -6.8486, -6.9057, -6.9505, -6.4013, -4.872, -5.102, -5.9012, -5.4536, -5.3555, -6.4243, -5.7569, -4.4672, -5.5628, -5.6654, -4.8324, -4.8913, -5.914, -5.5425, -5.2234, -5.4352, -5.5307, -5.4286, -5.9644, -5.4041, -4.7817, -5.1037, -4.717, -5.7276, -5.8005, -5.8772, -5.8401, -5.8568, -4.8815, -4.9563, -5.1938, -5.3214, -5.4065, -5.4913, -5.6258, -5.7549, -5.8838, -5.9132, -5.9551, -5.9552, -6.0241, -6.0259, -6.1273, -6.1307, -6.2215, -5.8717, -6.5252, -6.6088, -6.6196, -6.6742, -6.6994, -6.7817, -6.7858, -6.8281, -6.8409, -6.8602, -6.8742, -6.9657, -4.0522, -5.463, -5.7562, -6.3796, -6.2258, -4.8227, -5.5444, -6.115, -6.3631, -5.3272, -6.4055, -4.7634, -6.2106, -5.5531, -4.4262, -5.6884, -4.8396, -5.3109, -5.6237, -5.1139, -5.0191, -5.269, -5.1901, -5.2414, -5.5647, -5.6923, -5.4122, -5.273, -5.592, -5.669, -5.6476, -5.748, -5.9057, -6.0199, -6.017, -6.073, -6.1275, -6.4563, -6.4354, -6.5525, -6.5573, -6.5851, -6.5952, -6.6056, -6.6216, -6.7094, -6.7205, -6.7291, -6.7491, -6.78, -6.8243, -6.8557, -6.8563, -6.9032, -6.9248, -6.9255, -6.9378, -6.9429, -6.9504, -6.9922, -6.9927, -6.2366, -5.5113, -6.6268, -6.3263, -5.7376, -5.7126, -6.753, -6.1349, -6.5282, -6.6857, -5.6722, -6.3617, -3.9629, -4.523, -5.723, -4.438, -4.9381, -5.2929, -5.8454, -4.7665, -5.0924, -5.0152, -5.2797, -5.4882, -5.1217, -5.7282, -5.4871, -5.0991, -5.7012, -5.6976, -5.5002, -5.3233, -5.4292, -5.6061, -5.5945, -5.7418, -5.7143, -5.7409, -5.9772, -6.1604, -6.226, -6.3944, -6.5202, -6.7187, -6.7202, -6.919, -7.0556, -7.1445, -7.1623, -7.1842, -7.1956, -7.217, -7.2194, -7.2249, -7.2454, -7.3193, -7.3452, -7.3527, -7.3693, -7.435, -7.443, -7.4451, -7.4898, -7.4938, -7.4977, -7.5022, -7.5268, -7.5354, -6.9696, -7.0015, -6.2412, -4.7409, -5.8781, -5.0589, -5.8778, -6.7616, -6.4609, -5.9469, -5.1353, -5.1597, -6.7707, -4.1238, -5.0283, -5.5205, -5.1431, -5.6874, -6.5313, -6.3262, -5.7302, -5.3622, -5.141, -5.2054, -5.7305, -5.742, -6.0526, -5.5505, -5.0481, -5.3195, -5.0833, -4.5665, -4.3809, -5.5702, -5.4882, -5.2283, -4.7631, -5.2758, -5.5398, -5.1114, -5.2125, -5.2932, -5.3759, -5.36, -5.4848, -5.3659, -5.331, -5.4169, -5.4884, -5.4599, -3.8726, -4.7751, -5.1988, -5.3647, -5.3952, -5.4731, -5.5368, -5.5974, -5.5991, -5.6375, -5.6549, -5.7844, -5.8606, -5.865, -5.8933, -5.8948, -5.8954, -5.9215, -5.9242, -5.9269, -5.9374, -5.9471, -5.96, -5.9851, -6.019, -6.0254, -6.0522, -6.0735, -6.0829, -6.0988, -5.3673, -4.9152, -5.4363, -3.8692, -4.3832, -5.0487, -5.0465, -4.8723, -5.5492, -4.8889, -5.252, -5.451, -5.5091, -5.1385, -5.7449, -5.8455, -4.7777, -5.085, -5.2782, -5.1081, -5.1273, -5.2801, -5.283, -5.5536, -5.5819, -5.6797, -5.74, -5.8942, -6.1279, -6.15, -6.1657, -6.2226, -6.2554, -6.4319, -6.4528, -6.6524, -6.7747, -6.7777, -6.8568, -6.8854, -6.9289, -6.9366, -6.9965, -7.0843, -7.1156, -7.1235, -7.1359, -7.1423, -7.0382, -7.2218, -7.2112, -6.1992, -7.2881, -7.299, -7.3414, -6.4155, -4.8892, -5.6465, -6.7212, -6.2179, -6.0899, -4.3911, -6.4343, -5.9056, -6.5258, -6.6065, -6.4133, -6.5649, -5.836, -6.0729, -5.4773, -5.4925, -5.9665, -5.754, -5.6208, -6.3085, -5.7699, -5.8202, -5.9593, -5.3246, -5.8307, -5.816, -5.4663, -5.2836, -5.5043, -5.4189, -6.0448, -6.007, -5.7182, -5.8554, -6.0017, -5.9381, -5.9276, -5.9884, -5.9958, -4.7756, -5.714, -5.8097, -5.9766, -6.0248, -6.084, -6.263, -6.268, -6.2977, -6.2992, -6.3714, -6.3912, -5.0552, -6.4347, -6.4364, -6.5509, -6.6977, -6.738, -5.5249, -6.8222, -6.828, -6.4149, -6.9126, -6.9171, -6.9553, -5.3864, -7.0354, -7.0419, -7.0424, -7.0656, -5.1013, -4.4228, -5.6244, -5.7933, -5.7305, -5.2626, -5.4043, -5.3075, -6.0197, -4.9248, -5.9062, -5.6797, -4.6417, -5.783, -5.2948, -5.2109, -5.7799, -5.7499, -5.3756, -4.886, -5.6853, -5.7154, -4.6825, -5.2746, -4.6478, -5.6147, -5.2304, -5.2296, -5.3049, -5.0406, -5.2931, -5.5054, -5.529, -5.1118, -5.4082, -5.4307, -5.4152, -5.3644, -5.3779, -3.958, -4.9075, -4.9528, -5.2153, -5.2958, -5.3412, -5.3896, -5.4332, -5.5566, -5.6748, -5.7124, -5.7198, -5.751, -5.8015, -5.8083, -5.8087, -5.8555, -5.8975, -5.909, -5.9217, -5.9452, -5.9601, -5.9629, -5.9836, -6.0283, -6.0506, -6.0561, -6.061, -6.1821, -6.1922, -4.4394, -4.9338, -4.1143, -5.2596, -5.2726, -5.2402, -5.126, -5.6739, -5.4456, -4.6392, -4.512, -4.8366, -5.2339, -5.6351, -4.8221, -5.0343, -4.9017, -4.8266, -5.0044, -4.8138, -5.4793, -5.0438, -5.4687, -5.386, -5.4319, -5.1488, -5.2706, -5.43, -5.4985, -5.5101, -5.6284, -5.7364, -5.7824, -5.8494, -5.8665, -5.8738, -5.9146, -5.913, -5.756, -5.9987, -6.0145, -6.0172, -6.0758, -6.1355, -6.1617, -6.1863, -6.1962, -6.2062, -6.2227, -6.2448, -6.2577, -6.2956, -6.3049, -6.3115, -6.3378, -5.3817, -5.0668, -4.8745, -5.651, -4.8093, -4.0514, -5.0688, -5.9436, -4.3188, -5.7573, -4.9559, -4.9268, -5.3194, -4.9254, -4.9722, -5.1012, -5.1723, -4.6971, -4.859, -5.2831, -5.1444, -3.7797, -5.1361, -5.0685, -5.0088, -5.232, -5.3881, -4.9086, -5.124, -5.2527, -5.3479, -5.2571, -5.3229, -4.8531, -5.0511, -5.7339, -5.8161, -5.9928, -6.0192, -6.2699, -6.4696, -6.628, -6.6565, -6.6631, -6.7344, -6.7672, -6.7858, -6.788, -6.8133, -6.8522, -6.7655, -6.8975, -6.9028, -6.9039, -6.9063, -6.9404, -6.9902, -7.0014, -7.0029, -7.0538, -7.0203, -7.1321, -7.1667, -3.9561, -5.405, -6.5484, -5.8657, -6.4843, -4.2352, -3.3261, -4.5215, -5.533, -6.5801, -5.3773, -4.9019, -5.319, -6.2119, -5.3723, -5.7263, -3.9854, -4.6955, -5.0958, -5.2063, -5.0843, -5.0714, -5.0431, -5.3767, -5.6353, -5.1067, -5.0757, -5.2773, -5.1487, -4.8056, -5.1631, -4.8876, -5.255, -5.2913, -4.7478, -5.2181, -5.2092, -5.3274, -4.7113, -4.973, -5.1726, -5.4871, -5.5683, -5.5898, -5.6076, -5.6486, -5.7099, -6.1385, -6.2069, -6.3217, -6.3649, -6.3688, -6.4165, -6.4401, -6.5008, -6.5418, -6.5711, -6.5868, -6.5909, -6.6044, -6.6455, -6.737, -6.7586, -6.7751, -6.8725, -6.8777, -6.9009, -6.914, -5.5774, -4.4987, -4.1463, -5.0835, -5.7503, -5.0752, -5.5862, -4.6649, -5.3921, -5.7181, -5.807, -4.943, -6.3418, -5.1305, -6.0369, -4.447, -5.6907, -5.4194, -5.9732, -5.0818, -5.0369, -5.6132, -5.6773, -5.2047, -5.6591, -5.3898, -5.5148, -5.5848, -5.6427, -5.6664, -5.0264, -5.3419, -5.7109, -6.0215, -6.1275, -6.563, -6.334, -6.9287, -7.0402, -7.0421, -7.1026, -7.1824, -7.2048, -7.2342, -7.2509, -7.2521, -7.3041, -7.3067, -7.3418, -7.3574, -7.4029, -7.426, -7.4353, -7.4424, -7.464, -7.4745, -7.4829, -7.5127, -7.5264, -7.5693, -6.7916, -4.905, -6.5239, -6.6393, -4.744, -5.8297, -6.9636, -6.5244, -5.8719, -6.1431, -4.3703, -4.4336, -5.6278, -5.4607, -6.0263, -4.7964, -5.5099, -4.9675, -4.1276, -5.5552, -4.7671, -5.4598, -4.8138, -4.9331, -4.3988, -4.2914, -4.7379, -5.2176, -5.517, -5.3271, -5.7462, -4.9891, -5.0879, -5.5204, -4.7379, -5.1467, -5.4349, -4.7784, -5.0641, -5.2473, -5.4645, -5.3749, -5.4697], \"loglift\": [30.0, 29.0, 28.0, 27.0, 26.0, 25.0, 24.0, 23.0, 22.0, 21.0, 20.0, 19.0, 18.0, 17.0, 16.0, 15.0, 14.0, 13.0, 12.0, 11.0, 10.0, 9.0, 8.0, 7.0, 6.0, 5.0, 4.0, 3.0, 2.0, 1.0, 4.0786, 4.0618, 4.0599, 4.0525, 4.0511, 4.0504, 4.0392, 4.039, 4.033, 4.0313, 4.0311, 4.0307, 4.0271, 4.0269, 4.0263, 4.0258, 4.0253, 4.0242, 4.0231, 4.0214, 4.0176, 4.0157, 4.0156, 4.0149, 4.0118, 4.0116, 4.0109, 4.0103, 4.009, 4.0087, 3.8827, 3.8205, 3.955, 3.9675, 3.6095, 3.7574, 3.6967, 3.7084, 3.6381, 3.2659, 3.5792, 3.0525, 2.9966, 3.1369, 3.1898, 3.1825, 3.8935, 3.2022, 2.8935, 3.4862, 2.6715, 2.6309, 2.3712, 1.8748, 1.3506, 2.1119, 1.7546, 1.3661, 1.7162, 1.9892, 1.2493, 2.0615, 3.0503, 1.8542, 1.3918, 1.5718, 1.5712, 1.5707, 1.5704, 1.57, 1.5673, 1.5671, 1.5652, 1.5643, 1.5635, 1.563, 1.563, 1.5627, 1.5617, 1.5616, 1.5613, 1.5609, 1.5606, 1.5604, 1.5599, 1.5597, 1.5596, 1.5586, 1.558, 1.5577, 1.5573, 1.5572, 1.5571, 1.5571, 1.5568, 1.5446, 1.5567, 1.5311, 1.5217, 1.5343, 1.4027, 1.5, 1.5428, 1.4258, 1.4356, 1.4285, 1.3929, 1.4028, 1.4372, 1.2255, 1.4459, 1.275, 1.2953, 1.4255, 1.4408, 1.4884, 1.3744, 1.3267, 0.9987, 1.0302, 1.1218, 1.0894, 1.3382, 1.2185, 1.301, 1.1341, 1.3151, 1.0683, 1.1834, 1.0461, 0.629, 0.8302, 0.526, 0.8289, 0.9997, 0.8066, 0.6089, 1.1045, 0.7153, 1.1835, 0.848, 0.5158, 0.517, 0.2719, 0.7219, 0.568, 0.7048, 0.3932, 0.2457, 0.4603, 0.5324, 0.1959, 3.0524, 3.0523, 3.0519, 3.0517, 3.0504, 3.05, 3.0498, 3.0487, 3.0481, 3.0468, 3.0468, 3.0459, 3.0457, 3.0455, 3.0454, 3.0452, 3.0451, 3.0451, 3.045, 3.0447, 3.0446, 3.0445, 3.0441, 3.0441, 3.0438, 3.0437, 3.0434, 3.0434, 3.0432, 3.0432, 3.0133, 3.0234, 2.9933, 2.9756, 2.9764, 2.9181, 3.0105, 2.9573, 2.9845, 2.9835, 2.9406, 2.7015, 2.9395, 2.8439, 2.5697, 2.0442, 2.7364, 2.589, 2.5876, 1.4804, 2.6683, 1.0406, 0.6172, 1.4215, 1.273, 0.5464, 1.2549, 2.2105, 3.7946, 3.7933, 3.7907, 3.7902, 3.7894, 3.7871, 3.786, 3.785, 3.785, 3.7848, 3.7846, 3.7843, 3.7838, 3.7837, 3.7817, 3.7811, 3.7799, 3.7788, 3.7785, 3.7784, 3.7783, 3.7783, 3.7773, 3.776, 3.7747, 3.7722, 3.7721, 3.7716, 3.7716, 3.7714, 3.7609, 3.7447, 3.6105, 3.7393, 3.6237, 3.7239, 3.6095, 3.5316, 3.4756, 3.5353, 3.5825, 3.2895, 3.6975, 3.015, 3.3051, 3.3348, 3.4338, 3.2697, 2.7915, 3.0911, 3.0283, 1.4131, 3.0104, 2.371, 2.8929, 2.8914, 1.504, 1.4261, 2.3524, 2.3045, 1.1889, 1.9976, 1.9958, 1.9931, 1.9904, 1.9902, 1.9902, 1.99, 1.9877, 1.9876, 1.986, 1.9851, 1.9846, 1.9846, 1.983, 1.9807, 1.98, 1.9798, 1.9794, 1.9791, 1.9789, 1.9784, 1.9782, 1.9781, 1.9777, 1.9776, 1.9773, 1.9773, 1.9771, 1.9768, 1.9763, 1.9708, 1.9602, 1.9686, 1.9367, 1.9603, 1.9531, 1.9537, 1.9336, 1.8797, 1.9528, 1.9154, 1.8985, 1.9304, 1.7929, 1.9311, 1.871, 1.8159, 1.4939, 1.8186, 1.8394, 1.241, 1.1287, 1.5899, 0.9832, 1.1131, 1.3249, 1.4011, 1.5897, 1.5445, 0.7081, 1.2306, 1.1742, 1.0974, 1.0123, 1.1493, 1.1827, 0.7271, 0.9968, 1.1048, 0.9347, 0.384, 1.0307, 0.8282, 0.8149, 0.7216, 0.9717, 0.446, 0.5, 0.5789, 0.4029, 0.6828, 0.5466, 0.2897, 0.496, 0.626, 0.5236, 0.6439, 2.6476, 2.6466, 2.6463, 2.6461, 2.6457, 2.6447, 2.6447, 2.6439, 2.6437, 2.6436, 2.6433, 2.6427, 2.6427, 2.6424, 2.6414, 2.6404, 2.6404, 2.6398, 2.638, 2.6374, 2.6371, 2.6369, 2.6369, 2.6369, 2.6367, 2.6361, 2.6361, 2.636, 2.6352, 2.6345, 2.6267, 2.5571, 2.5469, 2.5593, 2.5125, 2.4819, 2.5936, 2.508, 2.2687, 2.4404, 2.4184, 2.1785, 2.0806, 2.4336, 2.2815, 2.1007, 2.1518, 2.1829, 1.783, 2.4172, 1.6426, 0.679, 1.1468, 0.3302, 1.7578, 1.9971, 2.2208, 0.9282, 0.6868, 2.7688, 2.7687, 2.7681, 2.7677, 2.7674, 2.7671, 2.7665, 2.7659, 2.7652, 2.765, 2.7648, 2.7648, 2.7643, 2.7643, 2.7636, 2.7636, 2.7629, 2.7617, 2.7601, 2.7591, 2.759, 2.7583, 2.758, 2.7569, 2.7569, 2.7563, 2.7561, 2.7558, 2.7556, 2.7541, 2.7293, 2.6855, 2.6799, 2.7219, 2.6962, 2.5251, 2.5836, 2.6538, 2.6697, 2.3172, 2.6773, 1.905, 2.5791, 2.132, 1.2317, 2.1267, 1.3705, 1.7358, 2.0509, 1.3425, 1.174, 1.397, 1.2544, 1.3152, 1.8976, 1.92, 0.6565, -0.249, 0.962, 1.7056, 0.274, 3.5444, 3.5425, 3.541, 3.5408, 3.5402, 3.5394, 3.5333, 3.5327, 3.5311, 3.5309, 3.5303, 3.53, 3.5294, 3.5293, 3.527, 3.5267, 3.5264, 3.5259, 3.5249, 3.5236, 3.5226, 3.5226, 3.521, 3.5203, 3.5203, 3.5198, 3.5197, 3.5194, 3.5179, 3.5179, 3.4864, 3.4554, 3.4943, 3.4371, 3.3021, 3.1683, 3.4617, 3.1904, 3.3207, 3.4162, 2.6122, 3.1425, 1.0842, 1.3944, 2.534, 1.0501, 1.5294, 1.9066, 2.4411, 0.8244, 1.2623, 1.0985, 1.3573, 1.6212, 0.7914, 1.932, 1.4592, 0.643, 1.7927, 1.783, 1.2013, 0.2793, 0.3639, 1.1612, 1.0984, 1.486, 0.9518, 0.3889, 2.8735, 2.8721, 2.8716, 2.8699, 2.8685, 2.8659, 2.8659, 2.8627, 2.8601, 2.8583, 2.8579, 2.8574, 2.8571, 2.8566, 2.8565, 2.8564, 2.8559, 2.8537, 2.8534, 2.8532, 2.8527, 2.8509, 2.8506, 2.8506, 2.8492, 2.8491, 2.849, 2.8488, 2.8481, 2.8478, 2.8358, 2.8269, 2.7652, 2.6384, 2.7264, 2.6169, 2.6847, 2.781, 2.7109, 2.625, 2.434, 2.4291, 2.7388, 2.141, 2.3476, 2.4237, 2.2549, 2.3859, 2.6447, 2.5672, 2.3157, 2.123, 2.0011, 2.0042, 2.2365, 2.234, 2.342, 1.9509, 1.4852, 1.6896, 1.3935, 0.8941, 0.643, 1.8575, 1.7594, 1.4385, 0.8395, 1.4677, 1.7387, 0.6817, 0.7006, 0.7754, 0.993, 0.813, 1.3044, 0.5514, 0.1571, 0.6783, 1.0168, 0.1311, 4.6026, 4.5968, 4.5906, 4.5874, 4.5867, 4.5849, 4.5834, 4.5818, 4.5818, 4.5808, 4.5803, 4.5764, 4.5739, 4.5737, 4.5728, 4.5727, 4.5727, 4.5718, 4.5717, 4.5716, 4.5712, 4.5708, 4.5703, 4.5694, 4.568, 4.5678, 4.5667, 4.5658, 4.5654, 4.5647, 4.5619, 4.5386, 4.5323, 4.2574, 4.2908, 4.3776, 4.3249, 4.194, 4.3287, 3.6375, 3.8973, 4.094, 4.1523, 3.5297, 4.3002, 4.4761, 2.2314, 2.7582, 3.0899, 2.4962, 2.1203, 2.5331, 2.1025, 2.0284, 2.0783, 2.5134, 2.5132, 2.5126, 2.5114, 2.5113, 2.5109, 2.5108, 2.5106, 2.5094, 2.5092, 2.5074, 2.5063, 2.5062, 2.5054, 2.505, 2.5045, 2.5042, 2.5036, 2.5024, 2.5019, 2.5018, 2.5016, 2.5015, 2.5003, 2.5002, 2.4997, 2.4991, 2.4991, 2.4989, 2.4981, 2.4948, 2.478, 2.4849, 2.494, 2.4668, 2.4598, 2.3735, 2.4536, 2.3542, 2.4084, 2.4112, 2.3598, 2.3862, 2.1319, 2.2049, 1.9394, 1.8777, 2.0613, 1.8593, 1.7647, 2.1936, 1.7788, 1.8159, 1.9001, 1.0887, 1.6547, 1.6307, 1.0581, 0.6388, 0.9678, 0.2045, 1.823, 1.6677, 0.3769, 0.4994, 1.4721, 0.5953, -0.1345, 0.68, -0.0827, 2.3752, 2.3732, 2.3729, 2.3723, 2.3721, 2.3718, 2.3709, 2.3708, 2.3707, 2.3707, 2.3702, 2.3701, 2.37, 2.3698, 2.3698, 2.369, 2.3678, 2.3674, 2.3667, 2.3666, 2.3666, 2.3661, 2.3657, 2.3657, 2.3653, 2.3649, 2.3643, 2.3642, 2.3642, 2.3639, 2.3562, 2.3283, 2.3409, 2.3442, 2.3375, 2.3201, 2.311, 2.3057, 2.3348, 2.2856, 2.3271, 2.3082, 2.1925, 2.2925, 2.1632, 2.1433, 2.2473, 2.2312, 2.1051, 1.9415, 2.1788, 2.1874, 1.5276, 1.6428, 1.0102, 1.9754, 1.4357, 1.2149, 1.3635, 0.5828, 1.0928, 1.6233, 1.6474, -0.0879, 0.924, 0.9241, 0.778, 0.1237, 0.213, 4.2856, 4.2799, 4.2795, 4.2764, 4.2753, 4.2746, 4.2739, 4.2732, 4.271, 4.2687, 4.2679, 4.2677, 4.267, 4.2659, 4.2657, 4.2657, 4.2646, 4.2635, 4.2632, 4.2629, 4.2622, 4.2618, 4.2618, 4.2612, 4.2599, 4.2592, 4.2591, 4.2589, 4.255, 4.2547, 4.2142, 4.2009, 4.1069, 4.1871, 4.1625, 4.1342, 4.0169, 4.1713, 4.0693, 3.7498, 3.6775, 3.7733, 3.9279, 4.0808, 3.3524, 3.374, 3.0735, 2.6314, 2.9306, 1.1086, 3.4501, 1.1493, 3.2294, 1.435, 0.7782, 4.1443, 4.1428, 4.1407, 4.1397, 4.1395, 4.1376, 4.1356, 4.1346, 4.1332, 4.1329, 4.1327, 4.1318, 4.1308, 4.1299, 4.1297, 4.1293, 4.1293, 4.1277, 4.126, 4.1253, 4.1245, 4.1242, 4.1239, 4.1234, 4.1227, 4.1223, 4.1211, 4.1207, 4.1205, 4.1196, 4.0959, 4.0848, 4.0653, 4.089, 4.0229, 3.9012, 3.9688, 4.0868, 3.755, 4.0205, 3.7207, 3.7082, 3.8347, 3.5005, 3.527, 3.6026, 3.6209, 3.2762, 3.3397, 3.6039, 3.4542, 2.1426, 3.397, 3.0458, 2.8054, 3.1151, 3.4232, 1.6506, 2.3846, 2.2325, 2.9639, 1.7129, 0.9419, 3.2804, 3.2797, 3.2756, 3.2748, 3.2731, 3.2709, 3.2697, 3.2666, 3.2637, 3.2631, 3.263, 3.2615, 3.2607, 3.2603, 3.2603, 3.2597, 3.2587, 3.2577, 3.2576, 3.2574, 3.2574, 3.2573, 3.2564, 3.255, 3.2547, 3.2547, 3.2532, 3.252, 3.2507, 3.2496, 3.2285, 3.242, 3.2386, 3.2053, 3.2234, 3.0735, 2.9696, 2.9995, 3.0682, 3.2061, 2.9968, 2.8771, 2.9374, 3.1237, 2.8613, 2.9594, 2.4279, 2.5858, 2.7048, 2.7061, 2.646, 2.6198, 2.562, 2.672, 2.7965, 2.4921, 2.4543, 2.5713, 2.4096, 2.0996, 2.4176, 2.1269, 2.4364, 2.1329, 0.9101, 1.6789, 1.5591, 1.2098, 2.9285, 2.9279, 2.9273, 2.9261, 2.9257, 2.9256, 2.9254, 2.9252, 2.9241, 2.922, 2.9213, 2.9202, 2.9198, 2.9197, 2.9192, 2.9182, 2.9182, 2.9177, 2.9173, 2.9171, 2.917, 2.9168, 2.9163, 2.9149, 2.9146, 2.9143, 2.9126, 2.9125, 2.9121, 2.9119, 2.9051, 2.8451, 2.8264, 2.8482, 2.8678, 2.8291, 2.8454, 2.7263, 2.727, 2.7563, 2.7419, 2.5298, 2.8556, 2.4662, 2.7074, 1.9212, 2.5322, 2.2201, 2.5585, 1.7312, 1.5066, 1.8353, 1.9097, 0.4187, 1.6704, -0.3658, 0.5804, 0.3375, -0.1821, 0.4023, 2.9882, 2.9872, 2.9851, 2.9832, 2.9822, 2.9773, 2.9754, 2.969, 2.9688, 2.9688, 2.9674, 2.9654, 2.9648, 2.964, 2.9636, 2.9636, 2.9621, 2.962, 2.961, 2.9605, 2.9591, 2.9584, 2.958, 2.9578, 2.9571, 2.9567, 2.9565, 2.9554, 2.9549, 2.9534, 2.947, 2.8916, 2.9316, 2.9322, 2.8048, 2.8668, 2.9278, 2.8966, 2.8132, 2.8375, 2.648, 2.6248, 2.761, 2.7388, 2.7957, 2.6091, 2.6933, 2.591, 2.4264, 2.6701, 2.4686, 2.6119, 2.4456, 2.4478, 2.2493, 2.165, 2.239, 2.412, 2.4543, 2.3408, 2.5374, 1.9283, 2.0016, 2.3202, 1.1837, 1.7502, 2.1233, 0.845, 1.3934, 1.5802, 2.0656, 1.1816, 0.6124]}, \"token.table\": {\"Topic\": [13, 2, 5, 17, 2, 4, 5, 6, 7, 8, 11, 12, 17, 4, 12, 12, 14, 1, 2, 6, 8, 11, 12, 15, 17, 4, 4, 6, 7, 9, 11, 1, 12, 14, 11, 8, 9, 2, 3, 4, 6, 8, 9, 11, 16, 2, 5, 6, 4, 11, 5, 6, 9, 11, 13, 16, 13, 1, 7, 17, 14, 1, 2, 3, 4, 5, 6, 7, 8, 9, 10, 11, 12, 14, 15, 16, 17, 6, 2, 3, 4, 5, 6, 11, 14, 16, 12, 2, 3, 4, 6, 7, 9, 11, 12, 16, 17, 5, 12, 5, 16, 3, 11, 14, 17, 7, 17, 1, 2, 5, 6, 7, 8, 11, 12, 15, 16, 1, 2, 3, 5, 6, 7, 8, 12, 15, 16, 1, 2, 3, 4, 5, 6, 7, 8, 9, 10, 12, 15, 9, 15, 4, 5, 12, 7, 8, 12, 15, 1, 2, 5, 6, 15, 1, 5, 12, 15, 3, 4, 7, 9, 11, 14, 16, 6, 6, 7, 12, 16, 17, 16, 2, 2, 15, 6, 9, 16, 9, 16, 9, 16, 9, 6, 9, 11, 16, 2, 3, 5, 6, 7, 8, 9, 11, 12, 14, 15, 16, 17, 5, 8, 6, 2, 6, 2, 4, 7, 11, 17, 10, 10, 2, 2, 2, 11, 2, 7, 15, 16, 17, 4, 5, 7, 10, 11, 12, 13, 17, 9, 9, 16, 2, 3, 5, 6, 7, 8, 9, 11, 12, 13, 14, 15, 16, 9, 9, 3, 5, 6, 8, 11, 14, 8, 9, 6, 10, 4, 3, 6, 9, 5, 13, 8, 4, 9, 2, 2, 2, 3, 5, 6, 8, 11, 12, 2, 3, 5, 6, 7, 8, 11, 12, 15, 16, 17, 2, 3, 5, 6, 7, 8, 11, 12, 15, 2, 16, 5, 5, 13, 5, 2, 3, 5, 6, 8, 10, 11, 2, 8, 11, 12, 17, 17, 12, 2, 3, 5, 7, 8, 11, 12, 15, 5, 7, 12, 17, 2, 4, 9, 16, 14, 1, 2, 5, 8, 10, 12, 13, 15, 16, 17, 13, 3, 3, 11, 14, 8, 10, 5, 3, 5, 8, 17, 5, 11, 5, 7, 8, 11, 12, 15, 17, 2, 5, 7, 9, 11, 12, 15, 17, 17, 9, 16, 9, 16, 4, 13, 9, 11, 12, 3, 5, 7, 11, 12, 5, 12, 17, 5, 3, 3, 4, 6, 11, 14, 17, 9, 2, 3, 5, 8, 9, 10, 12, 14, 16, 2, 5, 6, 7, 12, 15, 16, 17, 3, 4, 13, 5, 9, 13, 17, 12, 10, 5, 9, 17, 2, 4, 5, 6, 7, 8, 9, 12, 15, 16, 17, 2, 4, 5, 6, 8, 15, 16, 7, 10, 4, 13, 1, 3, 4, 6, 9, 11, 14, 17, 5, 8, 2, 3, 5, 6, 8, 11, 16, 17, 10, 7, 2, 7, 15, 16, 10, 17, 4, 3, 3, 14, 5, 7, 8, 12, 2, 16, 2, 16, 2, 2, 16, 2, 16, 10, 17, 7, 1, 5, 8, 13, 8, 6, 6, 7, 11, 2, 6, 2, 5, 6, 16, 7, 8, 7, 15, 7, 12, 4, 7, 9, 9, 17, 1, 2, 4, 6, 7, 12, 15, 17, 15, 14, 7, 8, 12, 7, 7, 15, 14, 7, 12, 17, 7, 17, 1, 1, 5, 7, 8, 10, 11, 12, 17, 2, 2, 6, 16, 2, 4, 5, 6, 9, 12, 13, 6, 1, 3, 4, 5, 9, 11, 12, 13, 16, 17, 17, 2, 15, 2, 15, 17, 2, 3, 4, 5, 6, 7, 11, 12, 13, 15, 12, 2, 11, 13, 14, 15, 7, 10, 9, 1, 2, 3, 4, 5, 6, 7, 8, 9, 10, 11, 12, 14, 15, 16, 2, 3, 5, 6, 7, 8, 9, 15, 2, 6, 11, 16, 17, 2, 3, 5, 6, 7, 8, 9, 10, 11, 16, 17, 6, 7, 14, 6, 6, 6, 6, 7, 1, 2, 3, 8, 14, 16, 17, 9, 14, 7, 7, 7, 14, 3, 16, 4, 7, 5, 6, 8, 13, 5, 13, 16, 15, 4, 7, 8, 11, 12, 15, 14, 2, 3, 4, 5, 6, 8, 9, 10, 11, 12, 14, 16, 17, 6, 5, 6, 13, 6, 13, 2, 7, 11, 2, 5, 8, 12, 15, 14, 2, 7, 13, 3, 1, 5, 5, 3, 14, 10, 13, 4, 4, 7, 12, 12, 15, 15, 1, 6, 5, 7, 11, 17, 3, 4, 6, 11, 13, 14, 16, 12, 4, 9, 2, 4, 9, 5, 8, 10, 17, 10, 14, 12, 13, 4, 8, 2, 5, 9, 12, 2, 5, 12, 13, 13, 4, 6, 7, 4, 6, 8, 13, 15, 2, 11, 16, 10, 11, 13, 14, 16, 10, 16, 2, 9, 10, 15, 10, 2, 10, 17, 17, 2, 4, 5, 11, 12, 5, 13, 5, 11, 5, 7, 1, 4, 7, 12, 13, 15, 17, 16, 7, 7, 1, 7, 11, 13, 16, 13, 10, 2, 3, 5, 6, 7, 8, 9, 11, 15, 17, 15, 17, 1, 2, 3, 12, 14, 15, 7, 3, 11, 16, 2, 3, 4, 5, 6, 7, 8, 9, 11, 12, 14, 16, 2, 4, 6, 16, 2, 3, 5, 11, 12, 13, 13, 2, 5, 7, 12, 15, 17, 2, 8, 16, 15, 6, 7, 8, 15, 2, 5, 6, 9, 11, 16, 2, 3, 5, 13, 1, 2, 7, 12, 17, 2, 5, 9, 16, 1, 4, 7, 11, 12, 17, 6, 7, 9, 6, 7, 11, 10, 2, 4, 5, 6, 7, 8, 11, 14, 15, 17, 7, 12, 15, 17, 7, 7, 12, 15, 17, 8, 15, 1, 2, 5, 6, 7, 8, 9, 11, 12, 16, 17, 2, 3, 5, 6, 9, 16, 6, 6, 2, 3, 4, 5, 6, 7, 8, 9, 10, 11, 12, 14, 15, 16, 17, 2, 3, 9, 17, 11, 15, 7, 12, 3, 12, 12, 4, 9, 10, 11, 16, 10, 5, 17, 1, 6, 8, 4, 14, 17, 7, 10, 11, 14, 1, 2, 4, 5, 6, 7, 8, 9, 10, 11, 12, 13, 15, 16, 17, 7, 12, 17, 8, 13, 2, 5, 7, 8, 12, 15, 11, 7, 11, 5, 17, 2, 3, 7, 12, 3, 12, 1, 9, 5, 5, 6, 8, 11, 13, 2, 7, 5, 4, 8, 16, 9, 11, 4, 6, 10, 14, 16, 17, 1, 2, 3, 5, 6, 7, 8, 9, 10, 11, 12, 15, 17, 1, 2, 3, 5, 6, 8, 9, 11, 12, 13, 15, 14, 12, 1, 9, 9, 9, 16, 1, 2, 3, 5, 6, 7, 8, 9, 11, 12, 15, 16, 17, 4, 2, 3, 6, 7, 8, 11, 2, 16, 10, 2, 3, 5, 6, 7, 8, 9, 11, 12, 8, 1, 2, 3, 5, 6, 7, 8, 10, 11, 12, 13, 14, 16, 17, 1, 2, 3, 5, 6, 8, 9, 11, 12, 14, 15, 6, 7, 9, 11, 16, 11, 15, 1, 4, 12, 15, 17, 1, 2, 5, 11, 12, 16, 16, 16, 2, 5, 9, 11, 13, 16, 17, 6, 6, 15, 6, 15, 14, 15, 2, 5, 6, 8, 9, 11, 14, 16, 2, 3, 5, 8, 9, 11, 12, 16, 5, 7, 11, 12, 13, 14, 1, 4, 11, 1, 2, 5, 6, 8, 9, 12, 16, 17, 2, 16, 16, 1, 2, 12, 5, 13, 1, 2, 4, 5, 6, 7, 8, 9, 11, 12, 15, 16, 17, 11, 2, 7, 9, 16, 13, 2, 3, 9, 16, 2, 3, 4, 6, 10, 11, 16, 4, 8, 16, 3, 7, 8, 13, 17, 16, 16, 3, 4, 5, 6, 7, 9, 12, 13, 14, 16, 16, 8, 6, 2, 2, 2, 3, 5, 10, 13, 16, 4, 8, 9, 11, 12, 17, 8, 15, 7, 12, 17, 12, 9, 6, 10, 11, 4, 2, 7, 9, 11, 12, 15, 16, 17, 4, 7, 12, 2, 2, 6, 4, 4, 4, 1, 5, 12, 15, 17, 1, 2, 4, 6, 7, 9, 11, 12, 15, 16, 17, 13, 14, 14, 1, 5, 7, 12, 15, 5, 8, 5, 11, 15, 5, 1, 2, 3, 4, 5, 6, 7, 10, 11, 12, 13, 17, 7, 12, 2, 2, 1, 2, 8, 17, 11, 17, 12, 12, 17, 6, 16, 6, 6, 16, 1, 2, 5, 7, 8, 9, 11, 12, 14, 15, 14, 14, 1, 16, 2, 16, 2, 6, 16, 6, 16, 11, 2, 3, 4, 5, 10, 11, 12, 15, 16, 17, 17, 3, 14, 12, 16, 9, 16, 3, 5, 10, 12, 15, 1, 3, 7, 14, 16, 7, 12, 15, 7, 7, 8, 2, 6, 8, 9, 10, 11, 13, 2, 3, 13, 16, 9, 1, 2, 3, 5, 6, 7, 8, 9, 10, 11, 12, 15, 16, 2, 3, 5, 6, 7, 8, 9, 11, 12, 14, 15, 16, 17, 1, 2, 3, 5, 6, 7, 8, 9, 11, 12, 14, 15, 16, 17, 11, 11, 2, 6, 7, 16, 2, 6, 17, 2, 3, 3, 6, 2, 3, 5, 6, 7, 9, 11, 12, 14, 15, 16, 2, 5, 6, 7, 11, 3, 9, 2, 3, 5, 6, 7, 8, 9, 10, 11, 15, 8, 4, 6, 7, 11, 12, 13, 15, 17, 2, 5, 6, 8, 9, 11, 13, 16, 1, 2, 3, 4, 5, 6, 7, 8, 9, 10, 11, 12, 14, 15, 16, 17, 1, 2, 3, 5, 6, 7, 9, 12, 15, 16, 17, 1, 3, 5, 6, 7, 9, 11, 12, 15, 17, 10, 11, 12, 15, 1, 2, 3, 4, 5, 7, 9, 11, 12, 13, 15, 16, 17, 2, 3, 5, 6, 7, 8, 9, 11, 12, 13, 15, 16, 8, 5, 13, 1, 2, 5, 8, 9, 11, 12, 13, 16, 3, 11, 14, 14, 2, 3, 5, 6, 7, 9, 11, 12, 14, 16, 1, 2, 3, 4, 5, 8, 9, 10, 11, 12, 11, 4, 10, 12, 1, 5, 7, 12, 17, 17, 15, 13, 2, 3, 5, 6, 7, 8, 9, 10, 11, 12, 15, 16, 17, 9, 3, 5, 7, 11, 12, 15, 12, 2, 3, 4, 5, 6, 7, 8, 9, 10, 11, 12, 13, 14, 15, 16, 17, 10, 2, 11, 2, 16, 17, 1, 2, 3, 4, 5, 6, 7, 8, 10, 11, 12, 14, 15, 16, 17, 2, 3, 5, 7, 8, 9, 12, 4, 2, 5, 6, 7, 8, 9, 10, 11, 12, 2, 3, 12, 14, 4, 9, 11, 4, 6, 2, 7, 11, 12, 6, 8, 12, 15, 2, 5, 7, 16, 1, 2, 7, 12, 15, 17, 4, 2, 3, 5, 8, 10, 11, 12, 13, 15, 16, 17, 9, 12, 2, 3, 5, 6, 7, 8, 11, 12, 14, 15, 16, 17, 2, 3, 5, 6, 10, 11, 12, 13, 17, 5, 9, 13, 16, 6, 9, 11, 16, 6, 11, 14, 2, 11, 16, 11, 7, 15, 17, 7, 12, 2, 5, 8, 9, 11, 12, 1, 5, 11, 12, 3, 14, 11, 16, 10, 2, 6, 2, 2, 2, 12, 17, 12, 15, 1, 5, 11, 10, 1, 2, 3, 4, 5, 6, 7, 8, 9, 10, 11, 12, 13, 15, 16, 17, 6, 8, 17, 16, 2, 9, 16, 2, 3, 5, 6, 7, 8, 9, 11, 12, 13, 15, 16, 17, 9, 11, 8, 1, 2, 3, 5, 6, 7, 9, 10, 12, 14, 15, 16, 17, 7, 11, 3, 4, 6, 7, 11, 13, 14, 16, 4, 10, 6, 16, 5, 1, 2, 3, 4, 5, 6, 7, 8, 9, 11, 12, 15, 16, 17, 2, 3, 14, 2, 3, 4, 5, 6, 7, 11, 12, 13, 14, 15, 16, 17, 1, 2, 3, 4, 6, 9, 10, 11, 14, 17, 4, 11, 3, 17, 2, 3, 9, 11, 14, 16, 1, 8, 9, 13, 12, 2, 3, 5, 6, 7, 8, 9, 10, 12, 15, 16, 17, 2, 7, 1, 12, 6, 11, 13, 15, 2, 3, 4, 5, 6, 7, 8, 9, 11, 12, 15, 16, 17, 14, 2, 11, 8, 15, 3, 4, 6, 7, 9, 11, 12, 14, 16, 11, 13, 1, 2, 3, 4, 5, 6, 7, 8, 9, 10, 11, 12, 14, 15, 16, 17, 17, 2, 3, 5, 6, 7, 9, 11, 12, 15, 16, 17, 15, 11, 14, 14, 16, 5, 17, 7, 12, 15, 10, 2, 4, 10, 11, 12, 15, 16, 2, 4, 5, 8, 6, 16, 6, 8, 2, 12, 17, 10, 4, 4, 11, 12, 7, 3, 8, 2, 4, 5, 6, 7, 8, 9, 10, 11, 16, 17, 5, 8, 12, 13, 17, 2, 3, 5, 6, 7, 10, 11, 16, 17, 7, 4, 3, 14, 17, 14, 2, 13, 1, 5, 14, 3, 14, 3, 3, 11, 14, 1, 7, 11, 9, 13, 13, 2, 3, 5, 7, 10, 11, 12, 14, 3, 6, 9, 11, 16, 3, 5, 3, 3, 3, 1, 2, 4, 5, 6, 7, 8, 11, 12, 15, 17, 1, 2, 3, 4, 5, 6, 7, 8, 9, 11, 12, 15, 16, 17, 1, 2, 15, 6, 9, 6, 7, 12, 13, 1, 2, 3, 5, 7, 8, 10, 11, 12, 14, 17, 1, 2, 3, 5, 6, 7, 12, 15, 17, 1, 2, 5, 7, 8, 17, 2, 3, 5, 6, 11, 12, 13, 14, 16, 5, 15, 8, 7, 11, 6, 7, 9, 11, 12, 15, 16, 17, 4, 12, 7, 8, 2, 3, 5, 6, 7, 8, 9, 11, 12, 17, 2, 4, 5, 6, 7, 11, 12, 15, 16, 1, 7, 11, 12, 15, 17, 1, 2, 11, 10, 3, 2, 4, 6, 7, 11, 15, 17, 10, 3, 3, 3, 1, 2, 5, 6, 7, 8, 11, 12, 15, 15, 5, 11, 8, 12, 3, 8, 1, 2, 3, 5, 6, 7, 8, 12, 15, 16, 17, 2, 5, 6, 7, 8, 9, 11, 12, 13, 16, 2, 3, 5, 6, 7, 8, 9, 11, 12, 2, 3, 5, 6, 7, 8, 12, 15, 17, 10, 14, 2, 16, 2, 7, 1, 1, 2, 12, 17, 1, 2, 4, 12, 17, 4, 6, 9, 11, 12, 16, 11, 6, 7, 12, 17, 2, 4, 6, 7, 11, 16, 17, 15, 7, 11, 12, 13, 15, 1, 2, 5, 8, 11, 12, 15, 5, 2, 3, 5, 6, 7, 9, 11, 14, 15, 16, 17, 3, 11, 15, 10, 5, 13, 1, 2, 3, 5, 6, 7, 8, 9, 11, 12, 14, 15, 17, 2, 6, 7, 11, 14, 7, 10, 6, 9, 11, 8, 9, 8, 16, 3, 14, 7, 2, 3, 11, 15, 17, 2, 3, 5, 6, 7, 8, 9, 11, 12, 13, 14, 15, 17, 5, 2, 3, 4, 5, 6, 8, 9, 10, 11, 14, 16, 11, 12, 13, 2, 3, 10, 3, 4, 14, 17, 2, 16, 11, 11, 11, 2, 5, 8, 9, 16, 2, 3, 5, 6, 7, 8, 9, 11, 14, 1, 2, 4, 5, 6, 9, 10, 12, 16, 7, 11, 16, 7, 2, 8, 11, 3, 3, 3, 7, 12, 5, 7, 15, 4, 12, 13, 3, 11, 14, 2, 3, 5, 6, 7, 8, 9, 11, 12, 13, 14, 15, 16, 5, 6, 7, 12, 14, 15, 16, 17, 6, 7, 16, 6, 7, 11, 2, 3, 5, 6, 7, 8, 9, 10, 11, 12, 14, 15, 16, 17, 10, 2, 3, 5, 6, 7, 11, 12, 17, 11, 1, 2, 5, 7, 11, 12, 15, 16, 17, 11, 16, 3, 4, 5, 7, 11, 12, 15, 17, 7, 12, 15, 17, 2, 3, 5, 6, 7, 8, 9, 11, 12, 15, 16, 17, 12, 15, 9, 11, 1, 8, 12, 2, 16, 16, 9, 4, 7, 9, 11, 12, 17, 4, 7, 11, 12, 13, 17, 5, 7, 8, 11, 12, 13, 15, 17, 5, 8, 9, 15, 3, 8, 3, 6, 10, 13, 9, 10, 3, 13, 16, 13, 4, 7, 12, 17, 11, 13, 17, 1, 2, 5, 6, 7, 8, 9, 12, 2, 5, 7, 8, 9, 11, 12, 15, 17, 9, 16, 10, 1, 2, 4, 5, 6, 7, 11, 12, 15, 16, 17, 6, 11, 14, 16, 14, 7, 8, 11, 12, 15, 17, 11, 2, 5, 1, 15, 2, 16, 3, 5, 11, 14, 8, 2, 4, 5, 7, 12, 17, 2, 3, 5, 6, 7, 8, 9, 12, 13, 14, 16, 17, 2, 4, 5, 6, 7, 11, 15, 16, 17, 2, 6, 7, 11, 15, 2, 4, 6, 11, 12, 16, 15, 5, 9, 11, 12, 13, 8, 5, 13, 10, 2, 3, 5, 6, 7, 8, 9, 11, 12, 14, 15, 16, 3, 9, 13, 7, 15, 16, 4, 5, 6, 9, 11, 12, 14, 17, 4, 11, 16, 2, 4, 6, 11, 16, 1, 2, 5, 6, 7, 10, 11, 15, 16, 17, 5, 10, 9, 17, 3, 5, 8, 11, 13, 15, 2, 5, 7, 8, 9, 12, 15, 17, 2, 3, 5, 6, 7, 8, 9, 11, 12, 15, 17, 9, 14, 4, 4, 2, 4, 5, 6, 7, 8, 11, 12, 13, 17, 5, 6, 9, 12, 2, 10, 5, 6, 11, 3, 11, 3, 11, 4, 5, 7, 11, 12, 13, 10, 15, 1, 2, 8, 11, 12, 1, 2, 5, 10, 12, 15, 16, 1, 12, 2, 3, 4, 5, 6, 7, 8, 9, 10, 11, 12, 13, 14, 15, 16, 17, 1, 2, 3, 5, 6, 7, 8, 9, 12, 16, 17, 2, 7, 8, 10, 11, 17, 4, 1, 2, 3, 5, 6, 8, 9, 12, 16, 17, 2, 5, 6, 8, 9, 11, 12, 15, 2, 3, 5, 7, 8, 9, 10, 11, 12, 15, 16, 17, 2, 3, 5, 6, 8, 9, 10, 11, 12, 1, 2, 3, 4, 5, 6, 7, 8, 9, 10, 11, 12, 14, 15, 16, 17, 2, 3, 5, 6, 8, 9, 10, 11, 12, 13, 15, 16, 15, 3, 14, 15, 5, 2, 3, 4, 5, 6, 7, 8, 9, 11, 12, 13, 14, 15, 16, 17, 1, 5, 13, 1, 2, 3, 6, 15, 16, 17, 6, 2, 5, 6, 8, 9, 11, 12, 16, 2, 3, 5, 9, 11, 14, 16, 3, 14, 13, 13, 6, 9, 11, 16, 1, 1, 2, 4, 6, 11, 16, 1, 5, 2, 3, 5, 6, 7, 12, 15, 2, 6, 11, 16, 12, 13, 16, 16, 16, 2, 5, 7, 12, 14, 16, 2, 3, 4, 5, 6, 7, 8, 9, 10, 11, 12, 14, 15, 16, 17, 13, 4, 6, 11, 16, 3, 4, 10, 11, 12, 15, 16, 17, 5, 12, 2, 4, 5, 6, 7, 8, 10, 11, 12, 13, 15, 16, 17, 1, 2, 4, 5, 6, 7, 8, 9, 11, 12, 13, 14, 15, 16, 17, 2, 7, 17, 6, 7, 12, 15, 17, 4, 7, 12, 17, 2, 4, 5, 6, 7, 8, 11, 12, 13, 15, 17, 7, 13, 11, 1, 2, 5, 7, 12, 15, 17, 12, 12, 5, 7, 9, 12, 7, 12, 12, 17, 4, 15, 1, 15, 4, 9, 12, 13, 15, 16, 17, 8, 1, 2, 5, 6, 7, 8, 9, 10, 11, 12, 15, 16, 17, 6, 9, 16, 3, 4, 6, 11, 14, 9, 11, 13, 16, 2, 3, 5, 6, 7, 8, 9, 11, 12, 13, 14, 15, 16, 6, 6, 11, 2, 3, 4, 5, 6, 9, 10, 11, 12, 14, 16, 17, 1, 2, 3, 4, 5, 6, 7, 8, 9, 10, 11, 12, 13, 14, 15, 16, 17, 3, 5, 9, 14, 16, 6, 10, 11, 14, 16, 17, 5, 15, 5, 15, 2, 6, 9, 16, 2, 3, 12, 14, 15, 7, 9, 12, 15, 7, 9, 12, 15, 3, 15, 5, 7, 12, 16, 5, 7, 5, 15, 9, 15, 2, 9, 15, 16, 1, 5, 12, 2, 4, 6, 8, 11, 12, 14, 16, 17, 2, 5, 7, 8, 9, 11, 12, 15, 16, 17, 2, 5, 6, 7, 8, 9, 11, 12, 15, 17, 2, 3, 4, 6, 7, 8, 9, 11, 12, 13, 16, 17, 1, 2, 3, 5, 6, 7, 8, 9, 11, 12, 15, 16, 17, 8, 2, 5, 6, 7, 8, 9, 10, 11, 12, 15, 16, 17, 2, 5, 6, 8, 9, 10, 12, 15, 10, 7, 15, 16, 14, 2, 3, 5, 6, 9, 11, 12, 13, 14, 15, 16, 17, 2, 3, 4, 5, 6, 8, 9, 10, 11, 14, 16, 13, 3, 4, 6, 11, 14, 16, 17, 1, 2, 5, 6, 7, 8, 9, 12, 16, 17, 2, 1, 17], \"Freq\": [0.9612408984264971, 0.9567489645610137, 0.013865927022623386, 0.02079889053393508, 0.002136865559026084, 0.01068432779513042, 0.012821193354156504, 0.03632671450344343, 0.4273731118052168, 0.02136865559026084, 0.03632671450344343, 0.3504459516802778, 0.10043268127422596, 0.9752937422842008, 0.9830443272172624, 0.987852739678522, 0.9615616118287094, 0.13225222749944776, 0.0525617827241395, 0.033910827563960966, 0.023737579294772677, 0.049170699967743405, 0.09834139993548681, 0.027128662051168772, 0.5798751513437326, 0.9899822637384214, 0.018296639197102112, 0.033543838528020536, 0.2470046291608785, 0.018296639197102112, 0.6800250901589617, 0.8206226307063608, 0.1059844726004525, 0.06964693913744022, 0.9885338629546475, 0.9784722333353674, 0.9843300193901849, 0.1204253054491907, 0.07059414457366352, 0.40280188374384474, 0.049831160875527185, 0.07889933805291804, 0.04152596739627266, 0.10796751523030891, 0.12457790218881797, 0.840692904351827, 0.08682218911442043, 0.07199888853390962, 0.925510187350922, 0.05971033466780142, 0.09134170039093188, 0.026641329280688467, 0.04567085019546594, 0.2816369095387066, 0.5404383939796803, 0.011417712548866485, 0.9622104307939219, 0.08036186076945108, 0.9168557751423737, 0.9669320491974376, 0.9834131409676884, 0.0014621527356771247, 0.18247666141250515, 0.018715555016667194, 0.02076256884661517, 0.20148464697630777, 0.028950624166407066, 0.05585423450286616, 0.003801597112760524, 0.011404791338281572, 0.0005848610942708498, 0.09913395547890905, 0.16639298132005678, 0.0029243054713542493, 0.008188055319791897, 0.0810032615565127, 0.11697221885416996, 0.9934028900958929, 0.03388009167706273, 0.028233409730885613, 0.013175591207746619, 0.011293363892354245, 0.41032555475553756, 0.4216189186478918, 0.07152463798491021, 0.011293363892354245, 0.9925621343442931, 0.10819045470894312, 0.012483514004878052, 0.45564826117804885, 0.05409522735447156, 0.00416117133495935, 0.05201464168699188, 0.05201464168699188, 0.029128199344715455, 0.18725271007317076, 0.04369229901707318, 0.9668209011132015, 0.027107128068594433, 0.9707861252431069, 0.9904356775300455, 0.26637264241547964, 0.08053126398607524, 0.6504448245029154, 0.9592897706295238, 0.0924951553466836, 0.9043970745009063, 0.02467800068273309, 0.5562041692339074, 0.003796615489651245, 0.01518646195860498, 0.003796615489651245, 0.17084769703430602, 0.02277969293790747, 0.03037292391720996, 0.15376292733087543, 0.0170847697034306, 0.41126430566965805, 0.18095629449464956, 0.042301471440307686, 0.10810376034745298, 0.06345220716046153, 0.018800653973470083, 0.04700163493367521, 0.11985416908087178, 0.0023500817466837604, 0.004700163493367521, 0.3384974610137786, 0.2209546994093735, 0.0019269305181050015, 0.002569240690806669, 0.20297001457372685, 0.014130823799436679, 0.017342374662945016, 0.010919272935928342, 0.028261647598873358, 0.003211550863508336, 0.1547967516211018, 0.003853861036210003, 0.9953684352336014, 0.9763138626069535, 0.02177850822279129, 0.04044580098518383, 0.9333646381196268, 0.27012080044294845, 0.012622467310418151, 0.050489869241672605, 0.6664662739900784, 0.7242285214428603, 0.1860864950929572, 0.060352376786905026, 0.005029364732242086, 0.020117458928968344, 0.7733941636952525, 0.0035805285356261688, 0.16470431263880378, 0.0572884565700187, 0.07555990652458526, 0.23898016947310685, 0.01757207128478727, 0.007028828513914908, 0.5605490739847139, 0.09313197780937253, 0.005271621385436181, 0.9947188658174121, 0.9924757729530983, 0.044234348565009754, 0.031595963260721255, 0.037915155912865504, 0.8846869713001951, 0.9899624302040902, 0.9894224489921606, 0.956846362305564, 0.04054433738582898, 0.9906007112684683, 0.0775719280840603, 0.9163184004929622, 0.1833105765914267, 0.815475088388029, 0.3289947679929493, 0.6691419010026087, 0.9733984055046009, 0.7932844081858643, 0.12913932226281513, 0.06456966113140757, 0.009224237304486795, 0.15199705081584433, 0.038468389404009984, 0.3631040658378503, 0.0215798282022495, 0.005629520400586827, 0.0422214030044012, 0.206415748021517, 0.0206415748021517, 0.0853810594089002, 0.017826814601858285, 0.03283886900342316, 0.0009382534000978045, 0.011259040801173653, 0.20005308247905368, 0.8002123299162147, 0.9925616105396777, 0.9788419416136946, 0.9904405614339827, 0.12383027115693722, 0.6253428693425329, 0.1424048118304778, 0.03714908134708116, 0.06191513557846861, 0.9708834115760328, 0.9641423051461576, 0.9887884711919515, 0.9923174889354546, 0.9940677456633228, 0.9880417879832314, 0.003858210721508813, 0.023149264329052878, 0.1466120074173349, 0.08102242515168508, 0.7407764585296921, 0.02299186794913994, 0.03782533114213345, 0.16390976828257828, 0.0014833463192993508, 0.04301704325968118, 0.1564930366860815, 0.005191712117547728, 0.5681216402916514, 0.9904285025994092, 0.9830110676026922, 0.9938670584495597, 0.10984869149892405, 0.07964030133671994, 0.4036939412585459, 0.03089494448407239, 0.03089494448407239, 0.019910075334179985, 0.2258763718946626, 0.03638737905901859, 0.03776048770275515, 0.0013731086437365507, 0.006865543218682753, 0.004805880253077928, 0.009611760506155856, 0.9923465216045936, 0.9797948705741037, 0.2055497084712238, 0.014175841963532677, 0.06379128883589705, 0.22681347141652283, 0.0070879209817663385, 0.481978626760111, 0.9839105262872997, 0.9913478327577289, 0.9498922813902718, 0.04357304043074641, 0.9785834269499298, 0.9947076487681523, 0.9869003103461967, 0.9838783655391736, 0.9722354857553958, 0.011048130519947678, 0.9726531874388108, 0.03919679275640732, 0.9407230261537757, 0.9971670527263065, 0.9953933435050343, 0.8411169931861161, 0.014666381746924431, 0.05353229337627417, 0.014666381746924431, 0.025666168057117755, 0.021999572620386647, 0.02786612531915642, 0.23331354191404183, 0.16564251460564008, 0.2979545232235599, 0.00606009199776732, 0.00202003066592244, 0.00101001533296122, 0.00202003066592244, 0.18382279059894205, 0.00909013799665098, 0.00404006133184488, 0.09393142596539347, 0.2752246180668674, 0.11077151810740793, 0.436269363623022, 0.005964620205783504, 0.0017041772016524296, 0.0860609486834477, 0.015337594814871867, 0.06390664506196611, 0.005112531604957289, 0.8610801750662183, 0.13845562286307034, 0.9824172949100376, 0.8819579168004932, 0.11409945077488898, 0.9927760655647194, 0.03499606733850898, 0.10229619683564163, 0.005384010359770612, 0.3041965853270396, 0.01346002589942653, 0.15613630043334775, 0.37957273036382816, 0.0063307767663082935, 0.0063307767663082935, 0.9812703987777854, 0.045477597231777855, 0.9398703427900756, 0.9810533028658351, 0.9926202143323727, 0.11946168973204407, 0.008295950675836394, 0.15098630230022236, 0.25302649561301, 0.07383396101494391, 0.0008295950675836393, 0.3899096817643105, 0.0024887852027509184, 0.053689061122410855, 0.8303908120266212, 0.1002195807618336, 0.014317082965976228, 0.053499223617821036, 0.4547434007514788, 0.11145671587046048, 0.37449456532474723, 0.96976913752686, 0.04670643825863731, 0.2544695601677481, 0.05959097295067518, 0.014495101528542612, 0.025769069384075756, 0.04831700509514204, 0.0418747377491231, 0.01771623520155208, 0.2834597632248333, 0.20615255507260605, 0.9933858109431314, 0.9899326892138409, 0.49273066178352637, 0.0057294262998084464, 0.4984600880833348, 0.9811034092240226, 0.9840704917276089, 0.9824085947948965, 0.9938657735684467, 0.9701481048861675, 0.8759943905161581, 0.10305816359013625, 0.09617753544311355, 0.8976569974690599, 0.14798402640494537, 0.06243076113958633, 0.006936751237731815, 0.14798402640494537, 0.02774700495092726, 0.5156318420047316, 0.09017776609051359, 0.009222617436773798, 0.04918729299612693, 0.12604243830257525, 0.5226149880838487, 0.15985870223741253, 0.003074205812257933, 0.024593646498063466, 0.10144879180451179, 0.9790240940587657, 0.843616874609731, 0.14229682222332812, 0.7859752436427324, 0.20414941393317726, 0.894954905321493, 0.08286619493717527, 0.12051251495301456, 0.012360257943898929, 0.865218056072925, 0.006192397824694065, 0.8091399824266913, 0.020641326082313553, 0.0020641326082313552, 0.15893821083381435, 0.8989515303819584, 0.0811956220990156, 0.017399061878360485, 0.9608516209331718, 0.9959079516214994, 0.990091036287511, 0.11183840481897456, 0.09893397349370826, 0.3570225999990342, 0.305404874697969, 0.12474283614424085, 0.9682036591605202, 0.11211506053374552, 0.05519510672430549, 0.06899388340538186, 0.0017248470851345466, 0.5347025963917095, 0.003449694170269093, 0.09486658968240007, 0.003449694170269093, 0.12418899012968736, 0.624633439891673, 0.06271420079233665, 0.04515422457048238, 0.050171360633869316, 0.0953255852043517, 0.07400275693495724, 0.010034272126773864, 0.03637423645955526, 0.010137967021398922, 0.9833828010756954, 0.9911284065919858, 0.9341511381626051, 0.06335333516794263, 0.0012422222581949536, 0.9740958709321875, 0.9981433386042983, 0.9685470768017319, 0.9579012148065696, 0.0344844437330365, 0.007663209718452557, 0.3105806329747601, 0.02480969553348675, 0.2480969553348675, 0.1791811344085154, 0.018377552247027223, 0.020215307471729945, 0.003675510449405444, 0.07626684182516297, 0.11761633438097421, 0.000918877612351361, 0.000918877612351361, 0.31709188876149447, 0.23561688956583268, 0.28185945667688395, 0.08367702620094992, 0.01101013502644078, 0.04844459411633943, 0.019818243047593404, 0.09628671590655802, 0.8665804431590222, 0.9819202447531449, 0.9824312511801323, 0.008555747705687174, 0.0684459816454974, 0.22458837727428835, 0.04491767545485767, 0.006416810779265381, 0.5176227361940741, 0.05775129701338843, 0.07058491857191919, 0.3259708149626784, 0.6661142740541688, 0.7605055565570185, 0.010741603906172577, 0.10097107671802222, 0.07304290656197353, 0.045114736405924824, 0.004296641562469031, 0.004296641562469031, 0.9748876335799459, 0.9722862000683431, 0.9967614322448294, 0.06319376836585142, 0.0287244401662961, 0.8042843246562907, 0.09766309656540673, 0.9789108475327416, 0.9571958939972276, 0.981816357117406, 0.9954346881662993, 0.4772439716509661, 0.5206297872555994, 0.008201884332890562, 0.7824597653577596, 0.0032807537331562245, 0.20504710832226405, 0.09443669980268685, 0.9043029435651225, 0.6639207933929345, 0.3337743879352458, 0.9979722410486107, 0.7697675417435007, 0.22695274027088017, 0.37026513048765813, 0.6290299659989191, 0.9701585964307318, 0.971080999832362, 0.9893874038492207, 0.014719361311236082, 0.912600401296637, 0.036798403278090204, 0.029438722622472165, 0.9916267662997372, 0.9844923394810644, 0.8701070535531161, 0.11902407808037908, 0.012312835663487492, 0.010770217718309702, 0.9854749212253378, 0.8702939490925526, 0.05266908625632163, 0.07273350006825367, 0.002508051726491506, 0.9827532814283866, 0.9516453861518854, 0.03608560433136663, 0.9562685147812157, 0.9474927215424537, 0.03789970886169815, 0.9813806742840838, 0.997234788389425, 0.9557561863383166, 0.9816770097715573, 0.9568103746260086, 0.0015348900652273087, 0.013814010587045778, 0.006139560260909235, 0.0030697801304546174, 0.20107059854477743, 0.05986071254386504, 0.497304381133648, 0.21488460913182322, 0.9830546585722658, 0.9617664749512428, 0.010373569886237053, 0.04356899352219562, 0.9460695736248192, 0.9867316507033544, 0.9961904145323067, 0.9843237039111231, 0.9826345773607957, 0.9022184886845489, 0.08845279300828911, 0.9797590141173032, 0.04174513128179167, 0.9392654538403127, 0.9662784322119821, 0.012436924010172119, 0.029019489357068277, 0.25702976287689044, 0.05665709826856188, 0.011055043564597439, 0.03731077203051636, 0.4822762755055633, 0.11331419653712375, 0.9855191615620101, 0.9291224331442245, 0.010866929042622509, 0.05433464521311255, 0.009215545142130221, 0.08908360304059214, 0.13516132875124326, 0.05529327085278133, 0.05836511923349141, 0.35633441216236855, 0.2948974445481671, 0.9970586263302539, 0.9227691087945327, 0.022275714107140476, 0.010125324594154762, 0.00810025967532381, 0.020250649188309523, 0.10125324594154762, 0.11542870037336429, 0.04455142821428095, 0.004050129837661905, 0.6702964881330452, 0.9978001923444082, 0.8773581489140873, 0.11666996661091586, 0.9757938590761442, 0.04049335567685427, 0.9448449657932663, 0.017178059524124885, 0.011452039682749925, 0.07873277281890573, 0.1445820009947178, 0.42086245834105973, 0.04008213888962474, 0.08016427777924948, 0.16032855555849895, 0.011452039682749925, 0.03435611904824977, 0.9979074478372797, 0.9806282928070157, 0.010432215880925699, 0.9713570927757331, 0.9766257586617468, 0.980522407467125, 0.49688957327378847, 0.48695178180831267, 0.958711720803315, 0.06630837687952587, 0.2515010034306277, 0.01530193312604443, 0.004708287115705979, 0.2326678549678038, 0.06513130510059938, 0.05649944538847174, 0.11535303433479648, 0.09730460039125689, 0.0003923572596421649, 0.01687136216461309, 0.04551344211849113, 0.0003923572596421649, 0.0023541435578529894, 0.029426794473162366, 0.21822382210065996, 0.03879534615122844, 0.04849418268903555, 0.014548254806710664, 0.004849418268903555, 0.043644764420131994, 0.014548254806710664, 0.6158761201507514, 0.1253369121559405, 0.6266845607797026, 0.15371508094596478, 0.06621572717672329, 0.026013321390855576, 0.43257415065124155, 0.0032937118069891486, 0.29753196656468645, 0.023055982648924042, 0.02415388658458709, 0.12296524079426155, 0.02634969445591319, 0.0010979039356630495, 0.030741310198565387, 0.023055982648924042, 0.016468559034945745, 0.8736031692906572, 0.12480045275580817, 0.9611126200621872, 0.9967056901761318, 0.993491587464688, 0.9958382078264888, 0.9132738367784965, 0.07984907862544231, 0.02784244097769599, 0.02784244097769599, 0.02784244097769599, 0.07656671268866397, 0.5846912605316158, 0.20185769708829593, 0.04872427171096798, 0.9849364175734728, 0.9745187184030721, 0.9934934883241419, 0.9894085243126661, 0.9923975287294234, 0.983624988452583, 0.9537689880535896, 0.034063178144771056, 0.9702451817609419, 0.9872952167933404, 0.9878225982108125, 0.04979234539842804, 0.07468851809764207, 0.8589179581228837, 0.17513580837792841, 0.8056247185384706, 0.9891337875654698, 0.9633082959473531, 0.031598416356524925, 0.42075785990530556, 0.02328304363112363, 0.15965515632770488, 0.36338178810003663, 0.0008315372725401296, 0.9530123046699844, 0.18939015978942284, 0.004676300241714144, 0.018705200966856576, 0.09352600483428289, 0.022212426148142186, 0.002338150120857072, 0.3039595157114194, 0.09235692977385435, 0.0748208038674263, 0.001169075060428536, 0.05611560290056973, 0.10287860531771117, 0.036241326873284616, 0.9850253266295265, 0.8750049956731348, 0.1144866349478868, 0.9794893891273775, 0.9943188274722984, 0.9707581875524977, 0.9839635435176433, 0.9846405606021801, 0.9759022900393342, 0.47386918362014335, 0.17193483653474229, 0.32709554267585117, 0.02516119559045009, 0.004193532598408349, 0.9671860059995888, 0.9886959371115835, 0.9976116311934785, 0.9586930884311958, 0.9936331347485825, 0.9675549497929432, 0.9900426774417068, 0.9880242734574675, 0.8885953348276701, 0.10097674259405341, 0.9932317822626037, 0.9566932148860978, 0.9931199057396631, 0.9941712809625611, 0.08578056460761252, 0.9135630130710733, 0.5439686981406624, 0.453307248450552, 0.9810079111549078, 0.8712252122024652, 0.09680280135582946, 0.033453533742866096, 0.3136268788393696, 0.016726766871433048, 0.6356171411144558, 0.628263271283158, 0.03426890570635407, 0.07996077998149283, 0.17515218472136523, 0.030461249516759173, 0.04569187427513876, 0.0038076561895948966, 0.98644284856474, 0.5885102524993316, 0.40787839282131894, 0.06962352064233532, 0.8056435960041658, 0.11935460681543197, 0.006178297503975513, 0.21624041263914295, 0.7290391054691105, 0.04942638003180411, 0.9826140050538376, 0.986821728450038, 0.8076791132088764, 0.19047307885197992, 0.9890855028881682, 0.9662302485800206, 0.0019628378289979864, 0.1570270263198389, 0.007851351315991946, 0.8322432394951461, 0.0121661899918773, 0.018249284987815948, 0.964170556856276, 0.003041547497969325, 0.9821862209926863, 0.7216021016430323, 0.15321688459543836, 0.11861952355775872, 0.7625977477200402, 0.16252083148132004, 0.06875881331902002, 0.03473992488010751, 0.9379779717629028, 0.12627384210982878, 0.6346070013724728, 0.23635873010301284, 0.010376105096552428, 0.07263273567586699, 0.06744468312759078, 0.5343694124724501, 0.316471205444849, 0.7569540731712384, 0.23577258016809063, 0.14634311451445425, 0.14634311451445425, 0.6585440153150441, 0.03658577862861356, 0.9742705277878655, 0.053899331933178474, 0.9297634758473287, 0.9935243222212637, 0.9661221985302357, 0.05094147765897765, 0.6962001946726946, 0.11037320159445158, 0.1018829553179553, 0.0339609851059851, 0.09965125218174321, 0.8968612696356889, 0.8462065051034139, 0.14103441751723567, 0.9773928610944658, 0.01861700687798982, 0.3585130667076364, 0.0008148024243355373, 0.011407233940697523, 0.1336275975910281, 0.004074012121677686, 0.015481246062375208, 0.47584461581195375, 0.9900563885330289, 0.9901280325134184, 0.9989039986822933, 0.9701095433520271, 0.007976514131878509, 0.5104969044402246, 0.43073176312143946, 0.04785908479127105, 0.9963041490861063, 0.9550656120597062, 0.3445149724976704, 0.013966823209365015, 0.5074612432735955, 0.0034917058023412537, 0.032589254155185036, 0.011639019341137513, 0.050047783166891305, 0.012802921275251265, 0.022114136748161276, 0.9969053086519705, 0.8108004274685604, 0.18771449585361613, 0.9320808355435197, 0.15735983732334155, 0.00515933892863415, 0.23990926018148795, 0.033535703036121974, 0.5597882737568052, 0.9962941964652574, 0.9917252081119513, 0.990958892947891, 0.9759948574693526, 0.47427301428477453, 0.02262586857138374, 0.000435112857141995, 0.22147244428527546, 0.05874023571416932, 0.04394639857134149, 0.016969401428537804, 0.09311415142838693, 0.00174045142856798, 0.03350368999993361, 0.001305338571425985, 0.031763238571365635, 0.8324870220307631, 0.0972793823496622, 0.0673472647036123, 0.0018707573528781193, 0.12372717511215667, 0.10498063342849656, 0.08998340008156848, 0.06373824172444434, 0.22495850020392122, 0.3899280670201301, 0.9937097517979359, 0.7883239570921055, 0.022813233484980544, 0.06590489673438824, 0.04562646696996109, 0.04562646696996109, 0.030417644646640724, 0.8734965997464339, 0.004721603241872616, 0.1180400810468154, 0.9939366773373691, 0.005932857336752738, 0.9907871752377072, 0.9865726041874817, 0.9837555047101106, 0.2803032861201789, 0.10968389456876566, 0.05179517243525045, 0.5240452740507693, 0.024374198793059035, 0.0030467748491323794, 0.9873398503387967, 0.9299073096781115, 0.014529801713720493, 0.05085430599802173, 0.020298115184049115, 0.03721321117075671, 0.21651322862985722, 0.04059623036809823, 0.6833698778629869, 0.06338027497925248, 0.9295773663623699, 0.3266414317734345, 0.6729600582320158, 0.05508021268386812, 0.01836007089462271, 0.03060011815770451, 0.04590017723655677, 0.2631610161562588, 0.5844622568121561, 0.8069049742971321, 0.10253488623665216, 0.0891607706405671, 0.7944557379192709, 0.09930696723990887, 0.10273134542059538, 0.9626046186878052, 0.18357363459441725, 0.01059078661121638, 0.007060524407477587, 0.03177235983364914, 0.10943812831590259, 0.03883288424112673, 0.22240651883554396, 0.32831438494770776, 0.04589340864860431, 0.017651311018693966, 0.07503331918955418, 0.15350327895267574, 0.7302861218830655, 0.04123968688280841, 0.990625425551019, 0.1055967355177914, 0.4799851614445064, 0.0682645562943298, 0.34558931624004463, 0.9454850566876383, 0.026263473796878843, 0.09410047461142938, 0.40159415149129707, 0.17782766855703191, 0.009632332046839229, 0.09558237184940466, 0.005927588951901064, 0.05038450609115904, 0.002222845856962899, 0.09558237184940466, 0.018523715474690824, 0.04964355747217141, 0.0033883559646837153, 0.020330135788102294, 0.050825339470255734, 0.2846219010334321, 0.6099040736430688, 0.027106847717469722, 0.9827981585481674, 0.9967719537894711, 0.14014946434899272, 0.13358728207178236, 0.0037498184441202066, 0.14296182818208286, 0.04687273055150258, 0.061872004327983406, 0.01781163760957098, 0.1106196441015461, 0.0018749092220601033, 0.11765055368427148, 0.03281091138605181, 0.013124364554420722, 0.06562182277210361, 0.09515164301955023, 0.015936728387510878, 0.11191124016729033, 0.7249902080402721, 0.09731412188460029, 0.05838847313076017, 0.9491984786663463, 0.043713087833318585, 0.03590996052364042, 0.9605914440073812, 0.9925176341286572, 0.9961480165376954, 0.9915153744685199, 0.007148084533142351, 0.03574042266571176, 0.7040863265145215, 0.18227615559512994, 0.06790680306485233, 0.9759099358035042, 0.9450967071966431, 0.03780386828786572, 0.843171203093431, 0.13490739249494896, 0.9798578253748156, 0.014474219890123388, 0.875690303352465, 0.10131953923086372, 0.0355501338999164, 0.0266626004249373, 0.0977628682247701, 0.8265406131730563, 0.010365912928852097, 0.07256139050196468, 0.014512278100392937, 0.08292730343081678, 0.062195477573112584, 0.04146365171540839, 0.035244103958097135, 0.020731825857704195, 0.07670775567350552, 0.024878191029245034, 0.03317092137232671, 0.004146365171540839, 0.07048820791619427, 0.05182956464426049, 0.40219742163946137, 0.05013922830412175, 0.11832857879772733, 0.8303056207162561, 0.22712609312360074, 0.7603786595877069, 0.0661180665148368, 0.039670839908902085, 0.2876135893395401, 0.0033059033257418404, 0.06281216318909497, 0.5421681454216618, 0.9863129733188549, 0.015651062142608453, 0.9781913839130284, 0.9849455789392854, 0.969082843187651, 0.0011960917406433258, 0.9592655759959473, 0.021529651331579865, 0.017941376109649885, 0.939706229520409, 0.05809093055217074, 0.9554122289554299, 0.9768004693387731, 0.983868484877015, 0.16105982361544197, 0.26527500360190437, 0.11842634089370732, 0.05210758999323122, 0.3979125054028566, 0.9917046891812813, 0.9825559506673923, 0.9924599929263205, 0.949556535262744, 0.03516876056528682, 0.9964511669887327, 0.01061562500345289, 0.9766375003176658, 0.9687912565213082, 0.06542604873627043, 0.010904341456045071, 0.010904341456045071, 0.8287299506594255, 0.08178256092033803, 0.004529398930528368, 0.13616505534900908, 0.025760956417380094, 0.4167047016086099, 0.02066538262053568, 0.04076459037475531, 0.0651101096263453, 0.06397775989371321, 0.0008492622994740691, 0.014437459091059174, 0.11493349786215735, 0.04218002754054543, 0.054069699733182396, 0.004653136827645651, 0.23265684138228257, 0.05583764193174782, 0.5475191000529717, 0.006204182436860869, 0.009306273655291302, 0.02171463852901304, 0.029469866575089126, 0.07289914363311521, 0.009306273655291302, 0.01085731926450652, 0.9671388711795555, 0.9967741084426655, 0.9872325656366441, 0.9701873457025585, 0.964848944549371, 0.9576229658106554, 0.019152459316213108, 0.06753645155106593, 0.36818259071387555, 0.056643475494442395, 0.13943009352478128, 0.05337558267745533, 0.023964547324571782, 0.03158963056420826, 0.06426855873407887, 0.04683979704348121, 0.06753645155106593, 0.04901839225480592, 0.014160868873610599, 0.016339464084935307, 0.9868250764691734, 0.11531339508805023, 0.6265361133117396, 0.049969137871488434, 0.06150047738029346, 0.0038437798362683413, 0.13837607410566027, 0.6350070173483877, 0.3646209061787057, 0.9701686587235915, 0.20195676882911268, 0.024699748705718817, 0.3654109882051931, 0.002179389591681072, 0.000726463197227024, 0.002905852788908096, 0.24772395025441518, 0.14601910264263182, 0.007991095169497264, 0.9691293819158593, 0.005347260727376246, 0.3064391724534849, 0.08720148263105879, 0.46603433877825284, 0.0012339832447791337, 0.0008226554965194225, 0.02673630363688123, 0.0008226554965194225, 0.013985143440830183, 0.05182729628072362, 0.00041132774825971126, 0.00041132774825971126, 0.0024679664895582674, 0.03578551409859488, 0.004150779448622883, 0.113731356892267, 0.11539166867171616, 0.3561368766918434, 0.0008301558897245766, 0.04233795037595341, 0.23659442857150434, 0.0008301558897245766, 0.11456151278199159, 0.009131714786970344, 0.005811091228072037, 0.6831749465947193, 0.16011912810813736, 0.0026686521351356224, 0.12542665035137426, 0.028465622774779972, 0.9867256551901835, 0.9724662011673987, 0.008555523334689818, 0.0021388808336724545, 0.9325520434811901, 0.008555523334689818, 0.047055378340794, 0.644197127217972, 0.08551289299353611, 0.12541890972385294, 0.028504297664512034, 0.11401719065804813, 0.991157082993752, 0.9982273969274328, 0.9917905717868497, 0.05357357734474616, 0.6607407872518692, 0.16667335173921027, 0.09524191527954873, 0.014881549262429487, 0.0029763098524858977, 0.9889609881306944, 0.9980600444596155, 0.9971979729461633, 0.9554118876380077, 0.9834309610201838, 0.9767469974841197, 0.9362990181387532, 0.05976376711523956, 0.16975304560635132, 0.005956247214257942, 0.07445309017822427, 0.05658434853545044, 0.6343403283184708, 0.005956247214257942, 0.002978123607128971, 0.04467185410693456, 0.22530182443516128, 0.032938863221514805, 0.22530182443516128, 0.01185799075974533, 0.0171282088751877, 0.007905327173163553, 0.4703669668032314, 0.006587772644302961, 0.008360073386580973, 0.24453214655749347, 0.07524066047922875, 0.6688058709264779, 0.9734950508564778, 0.9558776121626662, 0.9681180991182524, 0.8283893869956584, 0.16928938426341794, 0.04132159391905534, 0.16681680508063082, 0.3076163102863009, 0.009182576426456743, 0.02754772927937023, 0.31985974552157653, 0.07346061141165394, 0.045912882132283714, 0.0061217176176378285, 0.19223377705797845, 0.8020788628970825, 0.9892762298763258, 0.608566286367685, 0.0819223847033422, 0.3042831431838425, 0.06856182056332047, 0.9108927589126863, 0.18135640892219487, 0.1229097937245207, 0.013752144752393924, 0.09024844993758513, 0.008595090470246203, 0.040396925210157156, 0.09540550421973286, 0.05586808805660032, 0.03266134378693557, 0.20800118937995812, 0.06102514233874804, 0.03180183473991095, 0.0593061242446988, 0.995857772263107, 0.025843660375457378, 0.04307276729242897, 0.8872990062240367, 0.03445821383394317, 0.9612475874212034, 0.3213419723237621, 0.12432873929193176, 0.39402646606366065, 0.15684548649136007, 0.3491677455900399, 0.013176141343020373, 0.00878409422868025, 0.015372164900190437, 0.024156259128870684, 0.09662503651548274, 0.491909276806094, 0.9592895836139207, 0.9348235984681348, 0.05291454330951706, 0.9958465832768871, 0.035625185918221586, 0.7748477937213194, 0.11578185423422015, 0.07125037183644317, 0.9802446098179594, 0.9949818279254782, 0.08656620506615514, 0.020700614254950143, 0.16936866208595572, 0.052692472648964, 0.031991858394013854, 0.4685866317711441, 0.01693686620859557, 0.0018818740231772858, 0.1467861738078283, 0.0018818740231772858, 0.9775120038092155, 0.9561094941821822, 0.9834161790507526, 0.9839101866825766, 0.9906456842671727, 0.01738464740558292, 0.03476929481116584, 0.2491799461466885, 0.06374370715380404, 0.5968728942583469, 0.03476929481116584, 0.07009138921749786, 0.02336379640583262, 0.5840949101458155, 0.20092864909016053, 0.018691037124666094, 0.098127944904497, 0.9831324164532245, 0.9746463117255036, 0.057729967919671644, 0.9202836062488833, 0.020375282795178227, 0.993505989226227, 0.97901422993295, 0.1326874162844274, 0.6302652273510301, 0.2156170514621945, 0.9864355770128233, 0.0066034395775531165, 0.0066034395775531165, 0.0049525796831648376, 0.034668057782153865, 0.792412749306374, 0.03631891767654214, 0.034668057782153865, 0.08254299471941395, 0.959927627853925, 0.8899391287688526, 0.10190142695826557, 0.9861791664183622, 0.9788299572849681, 0.012879341543223264, 0.9839793502337097, 0.9938361549311241, 0.983737262999177, 0.24474043159574185, 0.004504425121394022, 0.1201180032371739, 0.04954867633533424, 0.5795693656193641, 0.09753935177356185, 0.004036111107871524, 0.0733226851263327, 0.03363425923226271, 0.2394759257337105, 0.0006726851846452542, 0.06794120364917067, 0.03699768515548898, 0.0060541666618072875, 0.0026907407385810167, 0.43791805520406046, 0.9832616753625107, 0.9696604427780354, 0.9788889249192431, 0.05481270062814609, 0.11539515921714967, 0.07789173247157602, 0.19040201270829696, 0.5625514011836046, 0.09183558271270513, 0.8816215940419692, 0.8310485001172478, 0.16740545326102835, 0.9950932951960295, 0.9835184210461272, 0.3053646888033617, 0.09924352386109256, 0.005725587915063032, 0.04007911540544123, 0.09924352386109256, 0.013359705135147075, 0.011451175830126064, 0.0019085293050210108, 0.061072937760672345, 0.25765145617783647, 0.019085293050210107, 0.08397528942092447, 0.16857235916352115, 0.8285760026681548, 0.9718691070326215, 0.9793104441913824, 0.8764042245397579, 0.08346706900378646, 0.9677870083061934, 0.9803418561739259, 0.9836403908089777, 0.9861170269481638, 0.9881166105752418, 0.9954859703478067, 0.9872337259037798, 0.9127344204313572, 0.08718126043106532, 0.9969190996243407, 0.9843977452336137, 0.985675703729739, 0.015293032632697913, 0.21869036664758015, 0.6002515308333931, 0.0007646516316348956, 0.006117213053079165, 0.006117213053079165, 0.0007646516316348956, 0.14681311327389995, 0.0030586065265395825, 0.0022939548949046868, 0.9756383100734649, 0.9833008888253536, 0.9565183773958742, 0.9892846894138596, 0.09807759161753099, 0.9007355827862904, 0.005882265134255707, 0.07058718161106849, 0.920574493511018, 0.08005435810692074, 0.9181744746140705, 0.9969997398098406, 0.18232276114841234, 0.1187217979571057, 0.0021200321063768878, 0.008480128425507551, 0.12084183006348259, 0.014840224744638213, 0.03816057791478398, 0.008480128425507551, 0.3370851049139251, 0.169602568510151, 0.9764110096972928, 0.42049023512243555, 0.5733957751669576, 0.9954022303907694, 0.9927190924525918, 0.9543304588473263, 0.9921117264728821, 0.206680126846856, 0.029525732406693712, 0.5905146481338743, 0.08857719722008114, 0.059051464813387425, 0.9248718489591176, 0.016759707352296222, 0.9590276984925059, 0.013966422793580183, 0.009310948529053455, 0.0024557235038293913, 0.9896565720432448, 0.007367170511488174, 0.9974247436303296, 0.057681562441673474, 0.9229049990667756, 0.14619184919450565, 0.02308292355702721, 0.007694307852342403, 0.7309592459725283, 0.061554462818739226, 0.015388615704684807, 0.015388615704684807, 0.0303516920086813, 0.9054921449256588, 0.010117230669560433, 0.050586153347802164, 0.9674724009268237, 0.11026654949534134, 0.38034799410341114, 0.0011456264882632866, 0.21050886721837891, 0.0022912529765265733, 0.018330023812212586, 0.03780567411268846, 0.13002860641788302, 0.00028640662206582166, 0.015179550969488548, 0.09336855879345786, 0.00028640662206582166, 0.9843371036593696, 0.05144258812230186, 0.2072614419999988, 0.20577035248920744, 0.029821790215827162, 0.008946537064748149, 0.0007455447553956791, 0.13047033219424384, 0.12897924268345248, 0.03354951399280556, 0.0820099230935247, 0.023111887417266053, 0.07455447553956791, 0.02460297692805741, 0.9332581011220665, 0.1154947648387207, 0.028429480575685097, 0.1350400327345042, 0.030206323111665413, 0.026652638039704777, 0.008884212679901592, 0.35892219226802435, 0.005330527607940955, 0.0479747484714686, 0.0017768425359803186, 0.0017768425359803186, 0.17057688345411057, 0.0675200163672521, 0.9978286214394974, 0.9892776643531185, 0.143056482233778, 0.5665937839652783, 0.13967719525187774, 0.1486886272036118, 0.1800678422216321, 0.8118848324729728, 0.006318169902513408, 0.9838134753334482, 0.9885839035718548, 0.9979876053902867, 0.992870395916891, 0.08999869182643054, 0.12285535709639724, 0.2028541942754466, 0.03142811460605511, 0.004285651991734788, 0.4157082431982744, 0.0014285506639115958, 0.02428536128649713, 0.011428405311292767, 0.059999127884287025, 0.0342852159338783, 0.03125995106229226, 0.06946655791620503, 0.6529856444123273, 0.2361862969150971, 0.006946655791620503, 0.08836833400547799, 0.8984113957223595, 0.3048741541657272, 0.11656952953395452, 0.08742714715046589, 0.06052648648878408, 0.06500992993239771, 0.19727151151899996, 0.08294370370685225, 0.08070198198504544, 0.0022417217218068178, 0.0044834434436136356, 0.9899608746548901, 0.011533709331810275, 0.007689139554540183, 0.061513116436321465, 0.007689139554540183, 0.02691198844089064, 0.03844569777270092, 0.07304682576813173, 0.7766030950085585, 0.6999820662272508, 0.04895904811041263, 0.029110785362948047, 0.046312613077417346, 0.05954478824239373, 0.041019743011426794, 0.005292870065990554, 0.07013052837437485, 0.01353752586441518, 0.27151679233723275, 0.018901451206919308, 0.0005108500326194408, 0.36014927299670574, 0.017624326125370706, 0.031928127038715046, 0.08173600521911052, 0.06564422919159814, 0.003831375244645806, 0.001277125081548602, 0.10497968170329508, 0.0015325500978583223, 0.009450725603459654, 0.009961575636079094, 0.007407325472981891, 0.022331580013967806, 0.08462493478977273, 0.08932632005587123, 0.19745818117613637, 0.007052077899147728, 0.05876731582623106, 0.030559004229640155, 0.06699474004190341, 0.31499281282859853, 0.0011753463165246213, 0.1269374021846591, 0.03469277848399559, 0.050882741776526866, 0.1942795595103753, 0.03469277848399559, 0.0647598531701251, 0.0647598531701251, 0.0023128518989330394, 0.041631334180794705, 0.42787760130261226, 0.08326266836158941, 0.7997537465450145, 0.026221434312951295, 0.09177502009532953, 0.09177502009532953, 0.005899270533561289, 0.04129489373492902, 0.035395623201367736, 0.0011798541067122577, 0.024776936240957413, 0.01533810338725935, 0.04719416426849031, 0.029496352667806446, 0.04129489373492902, 0.004719416426849031, 0.03421576909465548, 0.01061868696041032, 0.7090923181340669, 0.2971651297934162, 0.022236846447126382, 0.42553237973819125, 0.010107657475966538, 0.020215314951933076, 0.06367824209858919, 0.0960227460216821, 0.026279909437513, 0.014150720466353153, 0.0020215314951933074, 0.003032297242789961, 0.01920454920433642, 0.9692728954052171, 0.9483570575203125, 0.04183928194942555, 0.39046651900423185, 0.07520095921562985, 0.26320335725470445, 0.011569378340866129, 0.07809330380084638, 0.06797009775258851, 0.10557057736040343, 0.008677033755649597, 0.9914028804742226, 0.24955094119816157, 0.10695040337064067, 0.641702420223844, 0.952665863397321, 0.0797155921772181, 0.15023323141091105, 0.02452787451606711, 0.042923780403117444, 0.033725827459592274, 0.11957338826582717, 0.03065984314508389, 0.058253701975659385, 0.41390788245863247, 0.04598976471762583, 0.02136890299491482, 0.25530215683398233, 0.038239089569847576, 0.007872753734968619, 0.43974953005324713, 0.08547561197965928, 0.05848331345976688, 0.0011246791049955168, 0.048361201514807224, 0.04273780598982964, 0.9966460747400642, 0.9636504568977043, 0.01830528747947528, 0.9793328801519273, 0.10774341249552682, 0.0017377969757343037, 0.16682850967049315, 0.03996933044188899, 0.6829542114635814, 0.991597239651988, 0.9865861416254199, 0.9674545480359162, 0.36486709836820397, 0.02474497608614149, 0.26685758524270237, 0.05725308192479796, 0.05337151704854047, 0.04221201802930019, 0.004851956095321861, 0.0009703912190643722, 0.0524011258294761, 0.07714610191561759, 0.028141345352866793, 0.0019407824381287445, 0.025230171695673678, 0.9844277995817559, 0.1352442898523091, 0.04773327877140321, 0.003977773230950267, 0.05171105200235348, 0.10342210400470696, 0.6563325831067941, 0.9892653279058518, 0.4631335238359519, 0.0032386959708807827, 0.023133542649148447, 0.12630914286435052, 0.062460565152700806, 0.04256571847443314, 0.010178758765625316, 0.045804414445313926, 0.0004626708529829689, 0.03099894714985892, 0.04117770591548423, 0.0018506834119318756, 0.0009253417059659378, 0.0004626708529829689, 0.05459516065199033, 0.09253417059659379, 0.9714604410290955, 0.9871131837322716, 0.9902401038966968, 0.04674344048646401, 0.9407117397900883, 0.011685860121616003, 0.9995943244483991, 0.346750452219144, 0.0303406645691751, 0.031128733778764062, 0.1777096067623113, 0.03822135666506474, 0.0823532324020467, 0.0086687613054786, 0.002364207628766891, 0.0216719032636965, 0.031916802988353025, 0.005910519071917228, 0.04452591034177645, 0.013791211167806863, 0.16391839559450444, 0.31962786583882347, 0.02262852147531494, 0.25315658400508584, 0.0014142825922071837, 0.19234243254017697, 0.17961388921031232, 0.031114217028558037, 0.9891884678942474, 0.7549248198396914, 0.09064064448733138, 0.00993322131368015, 0.007449915985260113, 0.04345784324735066, 0.024833053284200376, 0.02855801127683043, 0.00993322131368015, 0.02855801127683043, 0.8703093633240734, 0.008171918904451394, 0.06128939178338545, 0.053117472878934056, 0.9470715104635332, 0.04556357782298785, 0.0032545412730705606, 0.9633617638647124, 0.02676004899624201, 0.09551213593218189, 0.04775606796609094, 0.8527869279659096, 0.9910993015528266, 0.003746833700490902, 0.17048093337233605, 0.7624806580498986, 0.061822756058099886, 0.9150790905435824, 0.014410694339269014, 0.043232083017807045, 0.021616041508903523, 0.0018393081388751772, 0.19864527899851914, 0.41752294752466523, 0.10300125577700993, 0.02023238952762695, 0.2575031394425248, 0.9826707749302022, 0.01228575517971785, 0.061428775898589257, 0.006142877589858925, 0.15971481733633205, 0.3378582674422409, 0.05528589830873033, 0.0982860414377428, 0.05528589830873033, 0.07985740866816603, 0.08600028625802496, 0.04300014312901248, 0.9694578613275435, 0.994310297862273, 0.38036709777674615, 0.02820518733514007, 0.2949456732760362, 0.048351749717382986, 0.04996347470796242, 0.11120902434998085, 0.020952424877532627, 0.02820518733514007, 0.0008058624952897163, 0.0016117249905794326, 0.01531138741050461, 0.02014656238224291, 0.059150796648239155, 0.5050568021503496, 0.10920147073521075, 0.013650183841901344, 0.2184029414704215, 0.018200245122535125, 0.03185042896443647, 0.004550061280633781, 0.03185042896443647, 0.26486283285664924, 0.11152119278174706, 0.5808395457382659, 0.037173730927249016, 0.6919052374971795, 0.07658493086800841, 0.21919135386361027, 0.010563438740414953, 0.9951378962167369, 0.11180024699800668, 0.8757686014843856, 0.010912823586816585, 0.9439592402596346, 0.04365129434726634, 0.9865538097063001, 0.12179638777977542, 0.050151453791672226, 0.8239167408631867, 0.02890700678209013, 0.9683847272000194, 0.15210575840641735, 0.4092369214267896, 0.009053914190858176, 0.012675479867201446, 0.41285848710313283, 0.0054323485145149055, 0.030237333191931427, 0.1374424235996883, 0.010995393887975064, 0.821905693126136, 0.9290227197231057, 0.060919522604793816, 0.9413064488305372, 0.053570285705802925, 0.9655362939252937, 0.9677641716930213, 0.029215522164317623, 0.9921902030538522, 0.984657004302125, 0.9812935091329847, 0.9953155174614069, 0.9721254049802615, 0.9605946623700646, 0.03370507587263385, 0.9522849244452777, 0.9296155203808492, 0.06197436802538994, 0.99273521287224, 0.018621131448380863, 0.32754092752793, 0.028647894535970556, 0.003819719271462741, 0.4101423567733118, 0.02196338581091076, 0.017666201630515178, 0.08546621869897883, 0.0028647894535970557, 0.002387324544664213, 0.016711271812649493, 0.05538592943620974, 0.0004774649089328426, 0.0014323947267985279, 0.004774649089328426, 0.0014323947267985279, 0.057955156001136834, 0.9024445720177022, 0.03311723200064962, 0.9960311997169011, 0.1315743421800581, 0.025302758111549636, 0.8400515693034478, 0.4827697153685662, 0.0021877781663228076, 0.07365519826620119, 0.04813111965910177, 0.07073816071110411, 0.012397409609162578, 0.0021877781663228076, 0.013126668997936847, 0.05979926987949008, 0.013126668997936847, 0.1254326148691743, 0.0284411161621965, 0.06709186376723277, 0.9835553320615342, 0.9966840878892554, 0.9869088151208196, 0.005225300414567741, 0.13481275069584772, 0.0303067424044929, 0.044937583565282574, 0.004180240331654193, 0.008360480663308386, 0.11913684945214449, 0.01149566091204903, 0.01776602140953032, 0.0020901201658270964, 0.20065153591940127, 0.13272263053002062, 0.28948164296705287, 0.028729665843494533, 0.9696262222179405, 0.008387316139867837, 0.08722808785462549, 0.19794066090088092, 0.09393794076651976, 0.5284009168116737, 0.0016774632279735672, 0.08051823494273122, 0.0033549264559471345, 0.24340548296862433, 0.730216448905873, 0.995113079835371, 0.9926126894966087, 0.9934870517322992, 0.058815527147743615, 0.18416983248283353, 0.003564577402893552, 0.000594096233815592, 0.3041772717135831, 0.0148524058453898, 0.08911443507233881, 0.02316975311880809, 0.018416983248283354, 0.03208119662604197, 0.23407391612334327, 0.0148524058453898, 0.001782288701446776, 0.01960517571591454, 0.07253604352085359, 0.008059560391205955, 0.9107303242062729, 0.05993713880400282, 0.03982665144213345, 0.01853319423544824, 0.1569406660789021, 0.013406991574579578, 0.07255548381537183, 0.1529974332628493, 0.1332812691825852, 0.041403944568554576, 0.1336755924641905, 0.052444996453502465, 0.07492142350500353, 0.04968473348226549, 0.05394267405966076, 0.092473155530847, 0.02697133702983038, 0.04816310183898282, 0.12715058885491465, 0.10210577589864357, 0.017338716662033814, 0.09825272775152495, 0.16953411847321953, 0.26586032215118516, 0.8291158766034238, 0.16920732175580078, 0.9950454447760458, 0.9649290438304156, 0.01648537145873395, 0.1648537145873395, 0.5670967781804479, 0.0659414858349358, 0.17144786317083308, 0.00989122287524037, 0.9642205816365705, 0.9802577851271255, 0.9810606479481132, 0.9895537859318972, 0.987025620904317, 0.6146987438218926, 0.004094092489774736, 0.07720288695003788, 0.04620475809888631, 0.03275273991819789, 0.029828388139787363, 0.01228227746932421, 0.0035092221340926313, 0.07135418339321684, 0.047959369165932624, 0.007018444268185263, 0.05205346165570736, 0.9769077409872223, 0.996599552260814, 0.9412090555466917, 0.9892939095496068, 0.3164761267212982, 0.32913517179015017, 0.34812373939342806, 0.9938041965343887, 0.06171316712530923, 0.020818899753116366, 0.10037683809538248, 0.06096963499126936, 0.08178853474438572, 0.23346909008851924, 0.0052047249382790916, 0.02974128536159481, 0.045355460176432084, 0.07807087407418638, 0.10037683809538248, 0.017844771216956885, 0.16357706948877143, 0.9710676798039519, 0.8605458292779642, 0.13587565725441542, 0.9608212849738226, 0.9877128769922985, 0.002735883542181865, 0.0629253214701829, 0.08207650626545594, 0.06839708855454663, 0.1176429923138202, 0.5389690578098274, 0.09028415689200155, 0.03283060250618238, 0.002735883542181865, 0.06659142293453199, 0.9262261553621267, 0.0040145157594575955, 0.349905193594324, 0.015255159885938863, 0.009955999083454837, 0.2736293941646297, 0.01509457925556056, 0.04881651163500436, 0.009955999083454837, 0.10678611920157204, 0.0008029031518915191, 0.02023315942766628, 0.08510773410050101, 0.001766386934161342, 0.01637922429858699, 0.03709412561738818, 0.005138580172105722, 0.9716285972286614, 0.15935468891514304, 0.003541215309225401, 0.09738342100369851, 0.014164861236901603, 0.10269524396753663, 0.10977767458598742, 0.023017899509965103, 0.07613612914834611, 0.31693877017567335, 0.04249458371070481, 0.05488883729299371, 0.9838447525806043, 0.991163562330622, 0.9677051789778501, 0.9835954439304477, 0.9937499247371769, 0.9886430692691442, 0.9844812868101115, 0.1150837466999211, 0.12873775054567443, 0.752920783494399, 0.9505518205753807, 0.9858569533751133, 0.4620431473202146, 0.026153385697370638, 0.12204913325439631, 0.18307369988159447, 0.12204913325439631, 0.07846015709211192, 0.0379183366323846, 0.8379952395756997, 0.10617134257067687, 0.0189591683161923, 0.9771621898198032, 0.017606525942699156, 0.986651459750892, 0.9613985427404518, 0.9770587140191487, 0.07824621276917991, 0.9128724823070989, 0.9679690270057018, 0.9808103211393123, 0.9945511611373788, 0.9850739264830028, 0.9836415360639443, 0.9874151813197346, 0.9906065927441391, 0.980498561952111, 0.5613696658413226, 0.005964086755286297, 0.05119174464954071, 0.13941052790481717, 0.01267368435498338, 0.0007455108444107871, 0.1371739953715848, 0.0017395253036251697, 0.029571930161627888, 0.04448214704984363, 0.015407224117822933, 0.18323043435955846, 0.3583172938586921, 0.35017371899826727, 0.040717874302124105, 0.06107681145318616, 0.03168716415431834, 0.6147309845937757, 0.06126185069834879, 0.11618626856583392, 0.008449910441151558, 0.006337432830863667, 0.09717397007324291, 0.06126185069834879, 0.9731892281295003, 0.9927613787918524, 0.9771948166327966, 0.3946597538200043, 0.5728931910290385, 0.0254619196012906, 0.9759228920282798, 0.9719676935875212, 0.025245914119156398, 0.9072038458036298, 0.9777293336778823, 0.9538721406745464, 0.9952653088317576, 0.9749452289499376, 0.9881725216094519, 0.6801864536501058, 0.17723168158488672, 0.13891131799896528, 0.9777456160725005, 0.9827978084083863, 0.9843608583749178, 0.18621541661173213, 0.8021587177120768, 0.9792009587541927, 0.05817354272947901, 0.872603140942185, 0.019997155313258408, 0.03090469457503572, 0.003635846420592438, 0.001817923210296219, 0.003635846420592438, 0.007271692841184876, 0.8093662083907321, 0.04552684922197868, 0.060702465629304904, 0.02529269401221038, 0.060702465629304904, 0.9243235072370044, 0.07233836143593947, 0.9978172882361483, 0.992372579164207, 0.9916920887176683, 0.44374304308450024, 0.14611872587152738, 0.001346716367479515, 0.010100372756096364, 0.020874103695932483, 0.00808029820487709, 0.01616059640975418, 0.004040149102438545, 0.13197820401299248, 0.015487238226014425, 0.20200745512192728, 0.039875938992724264, 0.5885688595326101, 0.039875938992724264, 0.0015950375597089705, 0.16987150010900534, 0.0215330070560711, 0.03907842021286977, 0.019937969496362132, 0.025520600955343527, 0.023925563395634557, 0.012760300477671764, 0.008772706578399337, 0.003987593899272426, 0.004785112679126911, 0.9785544793047717, 0.056367826327280754, 0.920674496678919, 0.8457738377487678, 0.1525604707331638, 0.019881428072666033, 0.027833999301732443, 0.9503322618734363, 0.9726368551651273, 0.23462181442957705, 0.3965245869599285, 0.052138180984350455, 0.04253377922407537, 0.002744114788650024, 0.05488229577300048, 0.004116172182975036, 0.009604401760275084, 0.02058086091487518, 0.010976459154600096, 0.16876305950197648, 0.045647700079432155, 0.23897913570996834, 0.0026851588282018916, 0.005370317656403783, 0.005370317656403783, 0.09666571781526809, 0.03759222359482648, 0.056388335392239725, 0.5101801773583594, 0.010871235744521344, 0.4087584639940025, 0.002174247148904269, 0.010871235744521344, 0.004348494297808538, 0.5609557644173013, 0.041652651870122924, 0.16854794012561367, 0.3613125383152523, 0.1065532954817098, 0.07071264154695286, 0.09396063328841682, 0.05715131303109889, 0.0009686663225609982, 0.09783529857866081, 0.9765168756396155, 0.978138085831953, 0.9670761591472531, 0.03679288622259626, 0.9616322535451295, 0.19866398886524575, 0.06898055168932145, 0.013796110337864289, 0.49941919423068726, 0.019314554473010004, 0.06898055168932145, 0.11312810477048717, 0.016555332405437148, 0.9798981199877651, 0.9974910699950907, 0.998248271945065, 0.9757155268447466, 0.28933116894885724, 0.0632313150682933, 0.4071713470306766, 0.026825406392609278, 0.07281181735136805, 0.04215421004552887, 0.03832200913229897, 0.007664401826459794, 0.03832200913229897, 0.014370753424612115, 0.21689724715553876, 0.022567343634680333, 0.3428982491158373, 0.029462920856388214, 0.008149318534745676, 0.008149318534745676, 0.277076830181353, 0.08838876256916464, 0.006268706565188981, 0.0019328876182987493, 0.08440275933237872, 0.23967806466904493, 0.19586594532093993, 0.4245909801529586, 0.05283226156683248, 0.9584307531981846, 0.9868697340308736, 0.9841088588128499, 0.9863895059513959, 0.9960270976254462, 0.019421706421260697, 0.08496996559301555, 0.36537085204996683, 0.35565999883933647, 0.11410252522490659, 0.002427713302657587, 0.057051262612453295, 0.9575548866399857, 0.9910790027690327, 0.9918406740753496, 0.9847047773926917, 0.04957337454301628, 0.642617818150211, 0.08537636726852804, 0.03672101818001206, 0.032130890907510555, 0.09088451999552985, 0.007344203636002412, 0.04039311999801327, 0.013770381817504522, 0.9776023658762453, 0.8322442362136881, 0.1606085368131679, 0.9853204183071557, 0.9964552724768706, 0.9951691658049526, 0.9687678458690263, 0.03675450757889869, 0.47780859852568297, 0.0009188626894724673, 0.05145631061045817, 0.005513176136834804, 0.05421289867887557, 0.04134882102626103, 0.09372399432619166, 0.17825936175765864, 0.011945214963142074, 0.04686199716309583, 0.37605554046091605, 0.23778082283439367, 0.031014889934920912, 0.09950610520787126, 0.14473615302963092, 0.018092019128703864, 0.042645473660516256, 0.04006089949927285, 0.0012922870806217047, 0.007753722483730228, 0.3951609973510856, 0.016323345845827977, 0.37067597858234363, 0.00884181233315682, 0.006801394102428324, 0.13194704558710948, 0.05985226810136925, 0.0006801394102428324, 0.009521951743399653, 0.6752350921952571, 0.007033698877033928, 0.1955368287815432, 0.04923589213923749, 0.004220219326220357, 0.009847178427847499, 0.019694356855694997, 0.036575234160576425, 0.0014067397754067856, 0.9742531634102778, 0.9851268617949944, 0.8630314045451145, 0.13467687523156244, 0.166486674075114, 0.8254964256224403, 0.9433582418902454, 0.6939933345727801, 0.04337458341079876, 0.16482341696103528, 0.09542408350375726, 0.4076367118177117, 0.43564228743877587, 0.012446922498250738, 0.11202230248425665, 0.03111730624562685, 0.49194479965410537, 0.17569457130503763, 0.14494802132665605, 0.14494802132665605, 0.030746549978381586, 0.008784728565251882, 0.9777360495213483, 0.05876706053598822, 0.06716235489827226, 0.008395294362284032, 0.8563200249529712, 0.014037249469358255, 0.3649684862033147, 0.034090462997012905, 0.008021285411061861, 0.4772664819581807, 0.008021285411061861, 0.09425010357997686, 0.9761140046104646, 0.04376038198493596, 0.08752076396987192, 0.1312811459548079, 0.012502966281410274, 0.7251720443217959, 0.3548617729945891, 0.37892019828235785, 0.006014606321942188, 0.0481168505755375, 0.060146063219421876, 0.08420448850719063, 0.05413145689747969, 0.9699759831894942, 0.010826232847141815, 0.016239349270712723, 0.07307707171820725, 0.08390330456534906, 0.010826232847141815, 0.07307707171820725, 0.0757836299299927, 0.03789181496499635, 0.4898870363331671, 0.10014265383606179, 0.027065582117854536, 0.05986692099406999, 0.07184030519288398, 0.8501102781157939, 0.9801411115304032, 0.9678895295581345, 0.025470777093635117, 0.006570014169405899, 0.28689061873072425, 0.05146511099367954, 0.25677805378761387, 0.22283298057901674, 0.011497524796460323, 0.0054750118078382495, 0.11990275859165765, 0.0010950023615676498, 0.020257543689001522, 0.0005475011807838249, 0.01642503542351475, 0.0005475011807838249, 0.015515987911802647, 0.9021438685862396, 0.07314680015564105, 0.0044331394033721855, 0.9723667545525225, 0.9949126407561453, 0.949044637408655, 0.03260543832246502, 0.08151359580616255, 0.8803468347065555, 0.11398390921332316, 0.8691273077515891, 0.9601977030841439, 0.980987602152788, 0.05382064588222495, 0.9328911952918992, 0.9942990826351542, 0.25970029601092537, 0.02164169133424378, 0.0384741179275445, 0.5290191215037369, 0.14908720696923494, 0.0033727974937520283, 0.034852240768770956, 0.16639134302510006, 0.0281066457812669, 0.09218979816255543, 0.044970633250027044, 0.019112519131261493, 0.0033727974937520283, 0.3429010785314562, 0.024733848287514872, 0.08656846900630205, 0.11917217811257166, 0.033727974937520284, 0.9775772215546641, 0.27490128038212613, 0.006664273463809118, 0.01943746426944326, 0.03387672344102968, 0.009996410195713677, 0.009441054073729584, 0.47760626490632013, 0.0011107122439681864, 0.05164811934452067, 0.03998564078285471, 0.07497307646785258, 0.053114718401216066, 0.6875405215268524, 0.25672113893921095, 0.16475671748419302, 0.06178376905657238, 0.7619998183643927, 0.10510565063280031, 0.0600603717901716, 0.7747787960932137, 0.05705735320066302, 0.06256658643486056, 0.9280710321170983, 0.993255822547444, 0.988947183931495, 0.9826305380404793, 0.018216025580786978, 0.11840416627511535, 0.018216025580786978, 0.7673500775906514, 0.07514110552074628, 0.7042925590045872, 0.006586908825222758, 0.11704430297126593, 0.0015200558827437134, 0.0025334264712395223, 0.033947914714609596, 0.1266713235619761, 0.00456016764823114, 0.0025334264712395223, 0.0296772015740852, 0.39915836117144593, 0.01038702055092982, 0.0816123043287343, 0.0074193003935213, 0.3264492173149372, 0.08309616440743856, 0.03412878181019798, 0.02819334149538094, 0.9112572006658264, 0.07438834291149603, 0.009298542863937003, 0.9802176538702214, 0.4858262760393507, 0.015318846541781329, 0.4967683092834802, 0.9933718389320151, 0.9923596456371889, 0.9905815752036928, 0.008476408034856733, 0.9889142707332855, 0.9759009207818528, 0.01880579785328123, 0.9590956905173428, 0.005316954332178011, 0.9942704601172881, 0.9808097040505603, 0.9987972152762311, 0.047971028165151225, 0.9354350492204488, 0.10450375300813862, 0.19485595612975845, 0.11756672213415595, 0.16437569483571804, 0.08708646084011551, 0.001088580760501444, 0.07511207247459963, 0.053340457264570755, 0.0968836876846285, 0.01959445368902599, 0.01959445368902599, 0.002177161521002888, 0.06313768410908374, 0.008098457987335526, 0.06883689289235197, 0.008098457987335526, 0.012147686981003289, 0.048590747924013154, 0.41707058634777955, 0.01619691597467105, 0.41909520084461344, 0.02922469535178165, 0.9108363384638615, 0.05357860814493303, 0.3243871191172996, 0.635533947658383, 0.037514156632612886, 0.4739513529223159, 0.03314027659322707, 0.17387295801652008, 0.001361929175064126, 0.04585161556049224, 0.021790866801026015, 0.0962429950378649, 0.000907952783376084, 0.006809645875320631, 0.04494366277711616, 0.003177834741816294, 0.002723858350128252, 0.011803386183889092, 0.08353165607059973, 0.9673385625973976, 0.01379248683429229, 0.008275492100575373, 0.6316958970105868, 0.02758497366858458, 0.03861896313601841, 0.022067978934867664, 0.24826476301726122, 0.008275492100575373, 0.9878166970727448, 0.1240500629173114, 0.0036846553341775665, 0.002456436889451711, 0.034390116452323954, 0.009825747557806843, 0.09702925713334258, 0.008597529113080989, 0.02702080578396882, 0.6927152028253825, 0.9928586256566952, 0.9921188352791125, 0.42937506538997994, 0.005841837624353468, 0.16065053466972037, 0.005841837624353468, 0.14896685942101345, 0.14604594060883672, 0.06133929505571142, 0.04089286337047428, 0.0570797935650686, 0.11022304964289109, 0.43695566108431827, 0.3956220174682341, 0.10642648097774056, 0.005268637672165374, 0.04741773904948837, 0.007376092741031524, 0.044256556446189144, 0.060062469462685265, 0.04531028398062222, 0.020020823154228422, 0.25289460826393795, 0.3055809849855917, 0.03266555356742532, 0.07270719987588217, 0.9898650943719752, 0.9619558547559997, 0.979955041386261, 0.9943522752662008, 0.9713167301011391, 0.6763048332401378, 0.3115561591330972, 0.30547451210651, 0.6913370537147332, 0.9907977941672299, 0.9785150252223624, 0.00789020899790855, 0.0157804179958171, 0.04339614948849703, 0.14991397096026246, 0.05917656748431413, 0.7258992278075866, 0.018582759928121233, 0.04181120983827277, 0.09755948962263647, 0.02787413989218185, 0.018582759928121233, 0.7944129869271827, 0.18034150540033733, 0.06789327262130347, 0.0509199544659776, 0.02333831246357307, 0.16973318155325867, 0.016973318155325868, 0.485861232196203, 0.004243329538831467, 0.9919919143044784, 0.6992273462488162, 0.16591835334717672, 0.13036442048706742, 0.9902546544251537, 0.9861870057389793, 0.4584310166162537, 0.11194245754582938, 0.37847211836923267, 0.04797533894821259, 0.021677144871884386, 0.953794374362913, 0.05290338545566989, 0.8861317063824706, 0.05290338545566989, 0.9880938409468503, 0.01559901394829935, 0.09164420694625869, 0.647359078854423, 0.24373459294217736, 0.8974221868171872, 0.09584120441736951, 0.9645349565359633, 0.140154578144999, 0.39985276706073236, 0.21744570579849107, 0.0030916451061396835, 0.012366580424558734, 0.049466321698234936, 0.12778799772044025, 0.049466321698234936, 0.42586506326404844, 0.27795245084238185, 0.015407563793923605, 0.03081512758784721, 0.15161042773220826, 0.00739563062108333, 0.04622269138177081, 0.044373783726499985, 0.0012326051035138883, 0.18090413450991483, 0.8158421752407924, 0.9487467591254816, 0.008797677620454828, 0.06305002294659294, 0.035190710481819314, 0.04692094730909242, 0.0014662796034091382, 0.04252210849886501, 0.007331398017045691, 0.014662796034091381, 0.06744886175682036, 0.12170120708295847, 0.5923769597772918, 0.32526192850111635, 0.29852807136403825, 0.3519957856381944, 0.02227821428089838, 0.9884644883205985, 0.0009155134061459493, 0.0009155134061459493, 0.866075682214068, 0.0796496663346976, 0.05035323733802721, 0.0009155134061459493, 0.9943320513684432, 0.054649072135532654, 0.9290342263040552, 0.9413604588754938, 0.9812697968100533, 0.02040641988109481, 0.9744065493222772, 0.029957896490146303, 0.14978948245073154, 0.07988772397372348, 0.7289754812602267, 0.9741145962157267, 0.20555459417463598, 0.011794116059200426, 0.10277729708731799, 0.34539911316229815, 0.31338651243018273, 0.018533610950172096, 0.06679236977247742, 0.08766498532637662, 0.06053058510630767, 0.018785353998509276, 0.025047138664679034, 0.039657969552408474, 0.6366147743939254, 0.0062617846661697585, 0.014610830887729437, 0.004174523110779839, 0.012523569332339517, 0.025047138664679034, 0.12180268873062745, 0.014054156391995476, 0.04450482857465234, 0.6242387797444657, 0.005855898496664781, 0.14522628271728658, 0.026937133084657994, 0.015225336091328432, 0.002342359398665913, 0.817096139792428, 0.1299925676942499, 0.018570366813464273, 0.02476048908461903, 0.006190122271154758, 0.0048057139818853374, 0.08490094701330764, 0.578287582486869, 0.2627123643430651, 0.017620951266912904, 0.05286285380073871, 0.9879063498403787, 0.029102393424338138, 0.16629939099621793, 0.7317173203833589, 0.062362271623581725, 0.008314969549810897, 0.9511021633150408, 0.9747025099385425, 0.9887757532451757, 0.9758753171078758, 0.29875918666532136, 0.046614908557709715, 0.29452146770552956, 0.026838886745348015, 0.01059429739947948, 0.02472002726545212, 0.15538302852569905, 0.019776021812361697, 0.0685097898499673, 0.016244589345868535, 0.012006870386076745, 0.025426313758750752, 0.9835343032190796, 0.972004997054643, 0.9775583767026073, 0.23804189288898253, 0.7507475083421757, 0.00457772870940351, 0.046094119647560126, 0.13060000566808702, 0.030729413098373418, 0.17285294867835047, 0.10755294584430695, 0.03457058973567009, 0.44173531328911786, 0.03457058973567009, 0.6103080980710667, 0.3269507668237857, 0.05449179447063095, 0.15131222812673634, 0.6020295033978659, 0.01609704554539748, 0.16740927367213382, 0.06116877307251044, 0.024070279543592348, 0.25590507725292916, 0.0164691386350895, 0.065876554540358, 0.032938277270179, 0.01773599545317331, 0.0025337136361676155, 0.20143023407532543, 0.01140171136275427, 0.37118904769855565, 0.971405735541062, 0.9660883153433919, 0.9908931153052122, 0.9654492892420293, 0.005202765693309847, 0.2341244561989431, 0.010405531386619694, 0.7231844313700687, 0.020811062773239387, 0.005202765693309847, 0.0271103517195299, 0.006777587929882475, 0.002259195976627492, 0.07229427125207974, 0.04970231148580482, 0.10166381894823713, 0.2168828137562392, 0.5218742706009506, 0.2856763825749905, 0.013287273608139093, 0.37785684323145546, 0.02989636561831296, 0.026574547216278187, 0.054810003633573766, 0.04816636682950422, 0.01494818280915648, 0.0498272760305216, 0.06643636804069547, 0.03238772941983904, 0.9585305526033986, 0.9843264788831638, 0.9893379485408156, 0.9816156235782995, 0.10358681556499126, 0.007887320982105935, 0.052056318481899164, 0.015248820565404806, 0.24661023604051222, 0.012619713571369495, 0.0878121736007794, 0.4280186186289487, 0.02997181973200255, 0.01577464196421187, 0.08736706684615494, 0.009707451871794994, 0.02265072103418832, 0.8801423030427462, 0.0450954078707777, 0.9244558613509428, 0.01225008166473369, 0.13475089831207057, 0.8493389954215358, 0.9238904893512737, 0.07461670618842886, 0.968824789603156, 0.028036730245750492, 0.025018262966381627, 0.009097550169593318, 0.48671893407324257, 0.42758485797088597, 0.050036525932763254, 0.9849001426025787, 0.9763767147076489, 0.9732786375925646, 0.4158141282032704, 0.22968780415037793, 0.019800672771584305, 0.19800672771584304, 0.13464457484677328, 0.6255149283350879, 0.0016374736343850468, 0.04257431449401122, 0.0024562104515775704, 0.2693644128563402, 0.0523991563003215, 0.005731157720347664, 0.9255346204443866, 0.05339622810256077, 0.2135606583784112, 0.0022016562719423837, 0.0044033125438847675, 0.06898522985419468, 0.14017211598033175, 0.02128267729544304, 0.06091249019040595, 0.019081021023500656, 0.0036694271199039724, 0.04403312543884767, 0.04109758374292449, 0.009540510511750328, 0.03669427119903973, 0.010274395935731123, 0.2407144190657006, 0.08292905290982978, 0.0008963472688748408, 0.3253740586015672, 0.0017926945377496816, 0.2348429844452083, 0.08604933781198472, 0.039439279830492995, 0.0035853890754993633, 0.2438064571339567, 0.02240868172187102, 0.0242013762596207, 0.019719639915246497, 0.4394137120856981, 0.05858849494475975, 0.3891950021330469, 0.025109354976325608, 0.020924462480271338, 0.06277338744081402, 0.9708060426834672, 0.01736008427266334, 0.2470473531109783, 0.00133539109789718, 0.1415514563771011, 0.00534156439158872, 0.06276338160116746, 0.415306631446023, 0.0734465103843449, 0.01068312878317744, 0.02403703976214924, 0.42863552255287585, 0.46121589481342695, 0.010181366331422229, 0.02138086929598668, 0.040725465325688916, 0.002036273266284446, 0.02850782572798224, 0.006108819798853337, 0.5623595813645234, 0.0008114856873946946, 0.2677902768402492, 0.0024344570621840835, 0.008114856873946946, 0.08682896855123232, 0.0008114856873946946, 0.011360799623525724, 0.04706616986889228, 0.0008114856873946946, 0.005680399811762862, 0.005680399811762862, 0.5795846229712511, 0.04281022783310378, 0.22228387528726962, 0.0029637850038302617, 0.05433605840355479, 0.04478608450232395, 0.00032930944487002907, 0.033260253931872936, 0.019758566692201746, 0.019970282765939654, 0.41871026199253475, 0.003328380460989942, 0.0026627043687919537, 0.2536225911274336, 0.0173075783971477, 0.047928678638255166, 0.03927488943968132, 0.0346151567942954, 0.003328380460989942, 0.009319465290771838, 0.09119762463112442, 0.009319465290771838, 0.031286776333305455, 0.0073224370141778735, 0.011316493567365804, 0.3971696511208401, 0.002909667773779048, 0.19203807306941717, 0.002909667773779048, 0.1265705481593886, 0.23422825578921336, 0.010183837208226668, 0.001454833886889524, 0.00727416943444762, 0.004364501660668572, 0.004364501660668572, 0.020367674416453336, 0.983226411636441, 0.04140083132962195, 0.9384188434714309, 0.9631766636414164, 0.9802931934900048, 0.2643886995750935, 0.021483747540833285, 0.0003465120571102143, 0.2789422059737225, 0.0169790907984005, 0.028760500740147785, 0.0412349347961155, 0.11088385827526857, 0.07068845965048372, 0.055095417080524074, 0.011434897884637071, 0.02252328371216393, 0.02980003691147843, 0.04504656742432786, 0.0027720964568817143, 0.9763865643346568, 0.08027931637275165, 0.8964523661623935, 0.004069391427948913, 0.012208174283846738, 0.0325551314235913, 0.012208174283846738, 0.7080741084631108, 0.09359600284282499, 0.13835930855026304, 0.9966563944921439, 0.2142583820704893, 0.10459858022338847, 0.0016870738745707818, 0.010122443247424692, 0.5871017083506321, 0.038802699115127987, 0.032054403616844855, 0.011809517121995473, 0.11054469311107916, 0.05936659444854251, 0.12692168468309087, 0.6407497952549588, 0.006141371839504397, 0.004094247893002932, 0.053225222609038114, 0.8916598838180156, 0.10263710892869245, 0.9810427334402916, 0.9804981321458448, 0.09947860200130232, 0.8234617610107803, 0.005526589000072351, 0.07184565700094056, 0.9904117130514544, 0.9597087544188186, 0.03319893603025251, 0.7702153159018582, 0.08631723367865651, 0.026559148824202006, 0.08631723367865651, 0.912824680707457, 0.9602588404954334, 0.7398739661489552, 0.008186710552132284, 0.05014360213181024, 0.06754036205509134, 0.01125672700918189, 0.0603769903219756, 0.06140032914099213, 0.9463375786242969, 0.021081777741630375, 0.01171209874535021, 0.018739357992560334, 0.2918201216086784, 0.6943306341723727, 0.9952776111308803, 0.997255617796234, 0.9948780114149253, 0.19599432944709097, 0.661882489608209, 0.028917196147931458, 0.02570417435371685, 0.03534323973636067, 0.0514083487074337, 0.09311911380518757, 0.08125099145746759, 0.005934061173859992, 0.22732018958325204, 0.050667753099881474, 0.12050708845377216, 0.02373624469543997, 0.12187648718620138, 0.006390527418003069, 0.07394753155117836, 0.10772603361776602, 0.0022823312207153816, 0.00502112868557384, 0.07988159272503836, 0.9879843246022695, 0.9839383712113835, 0.04886801813732446, 0.5221161937829929, 0.3858001431894036, 0.043724016228132406, 0.005110148436745059, 0.1090164999838946, 0.08176237498792094, 0.4718370389927938, 0.005110148436745059, 0.051101484367450586, 0.10390635154714953, 0.17204166403708365, 0.006876482761218243, 0.990213517615427, 0.07930973295973642, 0.09202350694564836, 0.18011179813375255, 0.050552387039221304, 0.2146206132383707, 0.0009081267132794247, 0.0003027089044264749, 0.008778558228367771, 0.25518360643151833, 0.0009081267132794247, 0.09323434256335426, 0.0018162534265588493, 0.022703167831985616, 0.0005169664877719422, 0.16594624257479346, 0.020161693023105748, 0.25176267954493586, 0.07082440882475609, 0.20265086320660136, 0.0020678659510877688, 0.0041357319021755375, 0.009822363267666901, 0.20213389671882942, 0.043425184972843145, 0.006720564341035249, 0.010339329755438845, 0.005169664877719422, 0.0041357319021755375, 0.1374579988456925, 0.018744272569867156, 0.8372441747873997, 0.015704235172241583, 0.526091878270093, 0.16751184183724355, 0.07852117586120791, 0.20938980229655443, 0.16318941639101836, 0.5286417714075243, 0.18157695626606268, 0.12641433664092971, 0.053842792366298776, 0.022600678277211832, 0.15953419960384824, 0.05982532485144309, 0.2193595244552913, 0.005982532485144309, 0.03257156575245235, 0.3130858667225522, 0.00731198414850971, 0.10768558473259755, 0.017282871623750223, 0.9944539964265758, 0.9771830948635222, 0.9779835154961597, 0.9398177343401116, 0.027168878471653578, 0.005660183014927828, 0.07471441579704734, 0.39508077444196243, 0.02377276866269688, 0.47092722684199534, 0.9907175573163286, 0.997186767568512, 0.0023687348688490087, 0.01894987895079207, 0.04026849277043315, 0.9356502731953584, 0.9263576254115464, 0.06334069233583223, 0.03583201747475881, 0.9495484630811085, 0.9772475250823537, 0.9813797285815496, 0.5538307871772474, 0.43667427450513735, 0.40398954255983693, 0.07599803275878121, 0.059998446914827266, 0.02799927522691939, 0.047998757531861815, 0.02799927522691939, 0.3559907850279751, 0.9555291639746497, 0.005618060144344242, 0.35225237105038393, 0.30843150192449886, 0.015730568404163876, 0.023595852606245814, 0.008427090216516362, 0.06910213977543417, 0.0005618060144344241, 0.0325847488371966, 0.13370983143539295, 0.032022942822762177, 0.0022472240577376965, 0.0162923744185983, 0.608414080474318, 0.029170538104933055, 0.36046450658238705, 0.10197963857436859, 0.10197963857436859, 0.10982422615701233, 0.4236077294627618, 0.25887139022724337, 0.07464091551343122, 0.051070100088137144, 0.8328354783603904, 0.0353562231379411, 0.42287727428241184, 0.023110734757294603, 0.2773288170875352, 0.024094170278881607, 0.029011347886816627, 0.0226190169965011, 0.0703156397934708, 0.013276379541424558, 0.057530978012839754, 0.0004917177607935021, 0.002950306564761013, 0.047204905036176206, 0.00885091969428304, 0.9955722345981391, 0.9951498598010808, 0.991841282232094, 0.010449371207217013, 0.05224685603608507, 0.14890353970284245, 0.1280047972884084, 0.020898742414434027, 0.08098262685593186, 0.12539245448660416, 0.20637508134253602, 0.0835949696577361, 0.0783702840541276, 0.026123428018042533, 0.03657279922525955, 0.9798241073358085, 0.3465506761152656, 0.04688396971119715, 0.001953498737966548, 0.24028034476988538, 0.03594437677858448, 0.003516297728339786, 0.06290265936252283, 0.11291222705446646, 0.00039069974759330957, 0.07423295204272881, 0.04180487299248412, 0.00039069974759330957, 0.005469796466306334, 0.00859539444705281, 0.004297697223526405, 0.013674491165765834, 0.09817893283634674, 0.06770960885265292, 0.7854314626907739, 0.040625765311591754, 0.008463701106581616, 0.2629548943437682, 0.005366426415178942, 0.21465705660715767, 0.46687909812056794, 0.03756498490625259, 0.010732852830357884, 0.9518265115731707, 0.04393045438030018, 0.9733151303865776, 0.9968399866629357, 0.05186965275033686, 0.005763294750037428, 0.8587309177555769, 0.07492283175048657, 0.04166598797912418, 0.701377464315257, 0.1388866265970806, 0.018518216879610746, 0.09722063861795642, 0.0013933459211831944, 0.048767107241411804, 0.002786691842366389, 0.946081880483389, 0.0009032040916744976, 0.01174165319176847, 0.952880316716595, 0.033418551391956416, 0.06432829921092713, 0.9281654600433771, 0.9587971797643949, 0.016159503029736993, 0.0053865010099123315, 0.021546004039649326, 0.9859651767472537, 0.9905123149224643, 0.9865577865002855, 0.008504808504312806, 0.9600100495909486, 0.9526175988605974, 0.055786986684052374, 0.7754391149083281, 0.011157397336810475, 0.15620356271534666, 0.6836999903138111, 0.22789999677127037, 0.08546249878922639, 0.779919119708148, 0.04626638845726302, 0.006609484065323288, 0.011015806775538813, 0.022031613551077626, 0.028641097616400914, 0.004406322710215525, 0.04626638845726302, 0.05507903387769406, 0.1257850373612668, 0.2509624175372135, 0.050435546381570745, 0.10087109276314149, 0.0370670883045279, 0.13307692358510836, 0.23394801634824985, 0.04071303141644868, 0.026129258968765567, 0.0006076571853201295, 0.03162976946842103, 0.1711728700643962, 0.01674517207151702, 0.10791333112755412, 0.05395666556377706, 0.05581724023839006, 0.3516486135018574, 0.18419689278668722, 0.02790862011919503, 0.001860574674613002, 0.3757005637521663, 0.049004421358978215, 0.0009608710070387886, 0.037473969274512756, 0.005765226042232731, 0.02594351719004729, 0.0038434840281551543, 0.099930584732034, 0.030747872225241234, 0.0249826461830085, 0.3017134962101796, 0.04420006632378427, 0.06540889149681753, 0.38801606237182457, 0.021036025406011665, 0.19787011397529725, 0.09844202514219522, 0.03073231836659517, 0.0844727895210156, 0.034676573130222356, 0.026788063602967982, 0.037306076305973816, 0.0027938471242359244, 0.011997108239366028, 0.0006573757939378645, 0.965741984690319, 0.1718435423661309, 0.0041408082497862864, 0.00621121237467943, 0.05797131549700801, 0.0020704041248931432, 0.02484484949871772, 0.008281616499572573, 0.016563232999145146, 0.1966883918648486, 0.42029203735330806, 0.01242242474935886, 0.0766049526210463, 0.6756443108851422, 0.1948369640692038, 0.012570126714142182, 0.03613911430315877, 0.006285063357071091, 0.0015712658392677728, 0.034567848463891, 0.037710380142426544, 0.9526220783246803, 0.9796509598883618, 0.9937683162543488, 0.9815202654458615, 0.9845428455239276, 0.0014399138688677743, 0.3642982088235469, 0.1562306547721535, 0.053996770082541536, 0.028798277377355484, 0.23254608982214556, 0.005759655475471097, 0.005759655475471097, 0.019438837229714952, 0.08567487519763257, 0.011519310950942194, 0.03455793285282658, 0.07584745005369452, 0.0922468987139528, 0.09293020907479689, 0.21455945330504575, 0.0922468987139528, 0.011616276134349611, 0.11001296809589926, 0.0047831725259086634, 0.21250952222251349, 0.010932965773505516, 0.08199724330129138, 0.9706669474753503, 0.044072536355119846, 0.040682341250879855, 0.040682341250879855, 0.1491685845865595, 0.6712586306395176, 0.044072536355119846, 0.003390195104239988, 0.014931612430063718, 0.6022417013459033, 0.15180472637231446, 0.015761146453956147, 0.008295340238924288, 0.010783942310601573, 0.1211119674882946, 0.03981763314683658, 0.014931612430063718, 0.02073835059731072, 0.9826027295245859, 0.9389096521140184, 0.9815164502463433], \"Term\": [\"abs\", \"absolute\", \"absolute\", \"absolute\", \"access\", \"access\", \"access\", \"access\", \"access\", \"access\", \"access\", \"access\", \"access\", \"acid\", \"adaptec\", \"adapter\", \"adb\", \"address\", \"address\", \"address\", \"address\", \"address\", \"address\", \"address\", \"address\", \"adl\", \"administration\", \"administration\", \"administration\", \"administration\", \"administration\", \"advance\", \"advance\", \"advance\", \"aerospace\", \"affair\", \"agdam\", \"age\", \"age\", \"age\", \"age\", \"age\", \"age\", \"age\", \"age\", \"agree\", \"agree\", \"agree\", \"aids\", \"aids\", \"air\", \"air\", \"air\", \"air\", \"air\", \"air\", \"albicans\", \"algorithm\", \"algorithm\", \"alias\", \"allocation\", \"also\", \"also\", \"also\", \"also\", \"also\", \"also\", \"also\", \"also\", \"also\", \"also\", \"also\", \"also\", \"also\", \"also\", \"also\", \"also\", \"amendment\", \"american\", \"american\", \"american\", \"american\", \"american\", \"american\", \"american\", \"american\", \"amiga\", \"among\", \"among\", \"among\", \"among\", \"among\", \"among\", \"among\", \"among\", \"among\", \"among\", \"amp\", \"amp\", \"amplifier\", \"ancient\", \"angeles\", \"angeles\", \"angeles\", \"anon\", \"anonymous\", \"anonymous\", \"answer\", \"answer\", \"answer\", \"answer\", \"answer\", \"answer\", \"answer\", \"answer\", \"answer\", \"answer\", \"anybody\", \"anybody\", \"anybody\", \"anybody\", \"anybody\", \"anybody\", \"anybody\", \"anybody\", \"anybody\", \"anybody\", \"anyone\", \"anyone\", \"anyone\", \"anyone\", \"anyone\", \"anyone\", \"anyone\", \"anyone\", \"anyone\", \"anyone\", \"anyone\", \"anyone\", \"apartment\", \"app\", \"apple\", \"apple\", \"apple\", \"application\", \"application\", \"application\", \"application\", \"appreciate\", \"appreciate\", \"appreciate\", \"appreciate\", \"appreciate\", \"appreciated\", \"appreciated\", \"appreciated\", \"appreciated\", \"april\", \"april\", \"april\", \"april\", \"april\", \"april\", \"april\", \"arab\", \"arabs\", \"archive\", \"archive\", \"archive\", \"archive\", \"argic\", \"arguing\", \"argument\", \"argument\", \"armed\", \"armenia\", \"armenia\", \"armenian\", \"armenian\", \"armenians\", \"armenians\", \"armored\", \"arms\", \"arms\", \"arms\", \"arms\", \"around\", \"around\", \"around\", \"around\", \"around\", \"around\", \"around\", \"around\", \"around\", \"around\", \"around\", \"around\", \"around\", \"array\", \"array\", \"arrest\", \"arrogant\", \"assault\", \"associated\", \"associated\", \"associated\", \"associated\", \"associated\", \"astros\", \"ate\", \"atheism\", \"atheist\", \"atheists\", \"atmosphere\", \"author\", \"author\", \"author\", \"author\", \"author\", \"available\", \"available\", \"available\", \"available\", \"available\", \"available\", \"available\", \"available\", \"azerbaijani\", \"azerbaijanis\", \"azeris\", \"back\", \"back\", \"back\", \"back\", \"back\", \"back\", \"back\", \"back\", \"back\", \"back\", \"back\", \"back\", \"back\", \"baku\", \"balcony\", \"ball\", \"ball\", \"ball\", \"ball\", \"ball\", \"ball\", \"balloon\", \"balls\", \"ban\", \"ban\", \"bandwidth\", \"baseball\", \"batf\", \"batteries\", \"battery\", \"battery\", \"beam\", \"bed\", \"bed\", \"belief\", \"beliefs\", \"believe\", \"believe\", \"believe\", \"believe\", \"believe\", \"believe\", \"believe\", \"best\", \"best\", \"best\", \"best\", \"best\", \"best\", \"best\", \"best\", \"best\", \"best\", \"best\", \"better\", \"better\", \"better\", \"better\", \"better\", \"better\", \"better\", \"better\", \"better\", \"bible\", \"bible\", \"bicycle\", \"bike\", \"bike\", \"bikes\", \"bill\", \"bill\", \"bill\", \"bill\", \"bill\", \"bill\", \"bill\", \"billion\", \"billion\", \"billion\", \"binaries\", \"binaries\", \"bindings\", \"bios\", \"bit\", \"bit\", \"bit\", \"bit\", \"bit\", \"bit\", \"bit\", \"bit\", \"bits\", \"bits\", \"bits\", \"bits\", \"blood\", \"blood\", \"blood\", \"blood\", \"bolt\", \"book\", \"book\", \"book\", \"book\", \"book\", \"book\", \"book\", \"book\", \"book\", \"book\", \"borland\", \"bos\", \"boston\", \"boston\", \"boston\", \"bottle\", \"bounced\", \"brakes\", \"braves\", \"bronx\", \"buck\", \"buck\", \"budget\", \"budget\", \"build\", \"build\", \"build\", \"build\", \"build\", \"build\", \"build\", \"building\", \"building\", \"building\", \"building\", \"building\", \"building\", \"building\", \"building\", \"bulletin\", \"burned\", \"burned\", \"burning\", \"burning\", \"burst\", \"burst\", \"bus\", \"bus\", \"bus\", \"buy\", \"buy\", \"buy\", \"buy\", \"buy\", \"buying\", \"buying\", \"buying\", \"cage\", \"cal\", \"calgary\", \"california\", \"california\", \"california\", \"california\", \"california\", \"calm\", \"came\", \"came\", \"came\", \"came\", \"came\", \"came\", \"came\", \"came\", \"came\", \"can\", \"can\", \"can\", \"can\", \"can\", \"can\", \"can\", \"can\", \"cancer\", \"cancer\", \"candida\", \"car\", \"car\", \"car\", \"carbs\", \"card\", \"cardinals\", \"cars\", \"cars\", \"cars\", \"case\", \"case\", \"case\", \"case\", \"case\", \"case\", \"case\", \"case\", \"case\", \"case\", \"case\", \"cause\", \"cause\", \"cause\", \"cause\", \"cause\", \"cause\", \"cause\", \"cbc\", \"cbc\", \"cdc\", \"cds\", \"center\", \"center\", \"center\", \"center\", \"center\", \"center\", \"center\", \"center\", \"centris\", \"centris\", \"certainly\", \"certainly\", \"certainly\", \"certainly\", \"certainly\", \"certainly\", \"certainly\", \"challenges\", \"champs\", \"char\", \"character\", \"character\", \"character\", \"character\", \"charlie\", \"chars\", \"chewing\", \"chi\", \"chicago\", \"chicago\", \"chip\", \"chip\", \"chip\", \"chip\", \"christ\", \"christ\", \"christian\", \"christian\", \"christianity\", \"christians\", \"christians\", \"church\", \"church\", \"cica\", \"cigarettes\", \"cipher\", \"circuit\", \"circuit\", \"circuit\", \"circuit\", \"circuits\", \"citizen\", \"citizens\", \"citizens\", \"citizens\", \"civil\", \"civil\", \"claim\", \"claim\", \"claim\", \"claim\", \"classified\", \"clever\", \"client\", \"client\", \"clients\", \"clients\", \"clinical\", \"clipper\", \"clothes\", \"coat\", \"cocaine\", \"code\", \"code\", \"code\", \"code\", \"code\", \"code\", \"code\", \"code\", \"col\", \"collaboration\", \"color\", \"color\", \"color\", \"colormap\", \"com\", \"comics\", \"compass\", \"compile\", \"compile\", \"compiled\", \"compilers\", \"compilers\", \"composite\", \"computer\", \"computer\", \"computer\", \"computer\", \"computer\", \"computer\", \"computer\", \"computer\", \"conclude\", \"conclusion\", \"conclusion\", \"conclusion\", \"condition\", \"condition\", \"condition\", \"condition\", \"condition\", \"condition\", \"condition\", \"constitution\", \"construed\", \"contact\", \"contact\", \"contact\", \"contact\", \"contact\", \"contact\", \"contact\", \"contact\", \"contact\", \"contest\", \"context\", \"context\", \"contradiction\", \"contrib\", \"contrib\", \"control\", \"control\", \"control\", \"control\", \"control\", \"control\", \"control\", \"control\", \"control\", \"control\", \"controller\", \"convince\", \"convince\", \"cooling\", \"cooper\", \"copper\", \"copyright\", \"copyright\", \"corpses\", \"could\", \"could\", \"could\", \"could\", \"could\", \"could\", \"could\", \"could\", \"could\", \"could\", \"could\", \"could\", \"could\", \"could\", \"could\", \"count\", \"count\", \"count\", \"count\", \"count\", \"count\", \"count\", \"count\", \"country\", \"country\", \"country\", \"country\", \"country\", \"course\", \"course\", \"course\", \"course\", \"course\", \"course\", \"course\", \"course\", \"course\", \"course\", \"course\", \"court\", \"court\", \"crashes\", \"crime\", \"crimes\", \"criminal\", \"criminals\", \"criminals\", \"cross\", \"cross\", \"cross\", \"cross\", \"cross\", \"cross\", \"cross\", \"crowd\", \"crowley\", \"crypto\", \"cryptographic\", \"cryptography\", \"cubs\", \"cup\", \"cup\", \"cure\", \"cursor\", \"curt\", \"cycle\", \"cycle\", \"cycle\", \"cylinder\", \"cylinder\", \"cyprus\", \"darren\", \"data\", \"data\", \"data\", \"data\", \"data\", \"data\", \"dawn\", \"day\", \"day\", \"day\", \"day\", \"day\", \"day\", \"day\", \"day\", \"day\", \"day\", \"day\", \"day\", \"day\", \"deaf\", \"dealer\", \"dealer\", \"dealership\", \"deaths\", \"debugger\", \"decenso\", \"decrypt\", \"deficit\", \"deleted\", \"deleted\", \"deleted\", \"deleted\", \"deleted\", \"denver\", \"der\", \"des\", \"deskjet\", \"det\", \"detecting\", \"detector\", \"detectors\", \"detroit\", \"detroit\", \"diet\", \"discharge\", \"disease\", \"diseases\", \"disk\", \"disk\", \"display\", \"display\", \"displayed\", \"distortion\", \"distortion\", \"distribution\", \"distribution\", \"distribution\", \"distribution\", \"division\", \"division\", \"division\", \"division\", \"division\", \"division\", \"division\", \"dma\", \"doctor\", \"doctor\", \"doctors\", \"doctors\", \"doctors\", \"dod\", \"dod\", \"dod\", \"dod\", \"dodgers\", \"dog\", \"dos\", \"dos\", \"dpi\", \"dram\", \"drive\", \"drive\", \"drive\", \"drive\", \"drives\", \"drives\", \"drives\", \"drives\", \"drops\", \"drug\", \"drug\", \"drug\", \"drugs\", \"drugs\", \"drugs\", \"duo\", \"duo\", \"earth\", \"earth\", \"earth\", \"east\", \"east\", \"east\", \"east\", \"east\", \"easter\", \"easter\", \"eat\", \"eat\", \"eat\", \"eat\", \"eaten\", \"eating\", \"eating\", \"echo\", \"editors\", \"effects\", \"effects\", \"effects\", \"effects\", \"effects\", \"electric\", \"electric\", \"electrical\", \"electrical\", \"electronics\", \"electronics\", \"email\", \"email\", \"email\", \"email\", \"email\", \"email\", \"email\", \"empire\", \"encrypted\", \"encryption\", \"endometriosis\", \"energy\", \"energy\", \"energy\", \"energy\", \"engine\", \"enhancement\", \"enough\", \"enough\", \"enough\", \"enough\", \"enough\", \"enough\", \"enough\", \"enough\", \"enough\", \"entries\", \"entry\", \"entry\", \"eprom\", \"error\", \"error\", \"error\", \"error\", \"error\", \"escrow\", \"espn\", \"estimates\", \"eve\", \"even\", \"even\", \"even\", \"even\", \"even\", \"even\", \"even\", \"even\", \"even\", \"even\", \"even\", \"even\", \"evidence\", \"evidence\", \"evidence\", \"evidence\", \"excellent\", \"excellent\", \"excellent\", \"excellent\", \"excellent\", \"excellent\", \"exhaust\", \"exist\", \"exist\", \"exist\", \"exist\", \"exist\", \"exist\", \"existence\", \"existence\", \"existence\", \"exit\", \"export\", \"export\", \"expos\", \"expose\", \"face\", \"face\", \"face\", \"face\", \"face\", \"face\", \"fallacy\", \"fans\", \"fans\", \"fans\", \"faq\", \"faq\", \"faq\", \"faq\", \"faq\", \"fat\", \"fat\", \"father\", \"father\", \"fax\", \"fax\", \"fax\", \"fax\", \"fax\", \"fax\", \"fbi\", \"fbi\", \"fbi\", \"federal\", \"federal\", \"federal\", \"fever\", \"field\", \"field\", \"field\", \"field\", \"field\", \"field\", \"field\", \"field\", \"field\", \"field\", \"file\", \"file\", \"file\", \"file\", \"filename\", \"files\", \"files\", \"files\", \"files\", \"filters\", \"filters\", \"find\", \"find\", \"find\", \"find\", \"find\", \"find\", \"find\", \"find\", \"find\", \"find\", \"find\", \"fire\", \"fire\", \"fire\", \"fire\", \"fire\", \"fire\", \"firearm\", \"firearms\", \"first\", \"first\", \"first\", \"first\", \"first\", \"first\", \"first\", \"first\", \"first\", \"first\", \"first\", \"first\", \"first\", \"first\", \"first\", \"flames\", \"flames\", \"flames\", \"flames\", \"flight\", \"flight\", \"floppy\", \"floppy\", \"flyers\", \"font\", \"fonts\", \"food\", \"food\", \"food\", \"food\", \"food\", \"foods\", \"ford\", \"ford\", \"forged\", \"forged\", \"francis\", \"francisco\", \"francisco\", \"francisco\", \"friday\", \"friday\", \"friday\", \"friday\", \"from\", \"from\", \"from\", \"from\", \"from\", \"from\", \"from\", \"from\", \"from\", \"from\", \"from\", \"from\", \"from\", \"from\", \"from\", \"ftp\", \"ftp\", \"ftp\", \"fuel\", \"fuel\", \"function\", \"function\", \"function\", \"function\", \"function\", \"function\", \"funding\", \"funds\", \"funds\", \"fuse\", \"gainey\", \"game\", \"game\", \"game\", \"game\", \"games\", \"games\", \"gamma\", \"gang\", \"garage\", \"gas\", \"gas\", \"gas\", \"gas\", \"gas\", \"gay\", \"gcc\", \"gear\", \"genetic\", \"genetic\", \"genocide\", \"georgia\", \"georgia\", \"gerard\", \"german\", \"german\", \"german\", \"german\", \"german\", \"get\", \"get\", \"get\", \"get\", \"get\", \"get\", \"get\", \"get\", \"get\", \"get\", \"get\", \"get\", \"get\", \"getting\", \"getting\", \"getting\", \"getting\", \"getting\", \"getting\", \"getting\", \"getting\", \"getting\", \"getting\", \"getting\", \"giants\", \"gif\", \"gifs\", \"girl\", \"girlfriend\", \"girls\", \"girls\", \"give\", \"give\", \"give\", \"give\", \"give\", \"give\", \"give\", \"give\", \"give\", \"give\", \"give\", \"give\", \"give\", \"glutamate\", \"goal\", \"goal\", \"goal\", \"goal\", \"goal\", \"goal\", \"god\", \"god\", \"goddess\", \"going\", \"going\", \"going\", \"going\", \"going\", \"going\", \"going\", \"going\", \"going\", \"gon\", \"good\", \"good\", \"good\", \"good\", \"good\", \"good\", \"good\", \"good\", \"good\", \"good\", \"good\", \"good\", \"good\", \"good\", \"got\", \"got\", \"got\", \"got\", \"got\", \"got\", \"got\", \"got\", \"got\", \"got\", \"got\", \"government\", \"government\", \"government\", \"government\", \"government\", \"graduate\", \"graph\", \"graphics\", \"graphics\", \"graphics\", \"graphics\", \"graphics\", \"greatly\", \"greatly\", \"greatly\", \"greatly\", \"greatly\", \"greece\", \"greek\", \"greeks\", \"ground\", \"ground\", \"ground\", \"ground\", \"ground\", \"ground\", \"guidelines\", \"gun\", \"guns\", \"hackers\", \"handgun\", \"handler\", \"hanging\", \"hanging\", \"happened\", \"happened\", \"happened\", \"happened\", \"happened\", \"happened\", \"happened\", \"happened\", \"hard\", \"hard\", \"hard\", \"hard\", \"hard\", \"hard\", \"hard\", \"hard\", \"hardware\", \"hardware\", \"hardware\", \"hardware\", \"harley\", \"hawk\", \"hdd\", \"health\", \"health\", \"heard\", \"heard\", \"heard\", \"heard\", \"heard\", \"heard\", \"heard\", \"heard\", \"heard\", \"heaven\", \"heaven\", \"hebrew\", \"hello\", \"hello\", \"hello\", \"helmet\", \"helmet\", \"help\", \"help\", \"help\", \"help\", \"help\", \"help\", \"help\", \"help\", \"help\", \"help\", \"help\", \"help\", \"help\", \"henrik\", \"her\", \"her\", \"her\", \"her\", \"het\", \"him\", \"him\", \"him\", \"him\", \"history\", \"history\", \"history\", \"history\", \"history\", \"history\", \"history\", \"hiv\", \"hmm\", \"hmm\", \"hockey\", \"hole\", \"hole\", \"hole\", \"hole\", \"holocaust\", \"holy\", \"home\", \"home\", \"home\", \"home\", \"home\", \"home\", \"home\", \"home\", \"home\", \"home\", \"homeland\", \"homers\", \"homicide\", \"homosexuality\", \"homosexuals\", \"hot\", \"hot\", \"hot\", \"hot\", \"hot\", \"hot\", \"hours\", \"hours\", \"hours\", \"hours\", \"hours\", \"hours\", \"hst\", \"hulk\", \"ibm\", \"ibm\", \"ibm\", \"ide\", \"igor\", \"illinois\", \"illinois\", \"illinois\", \"illness\", \"image\", \"image\", \"image\", \"image\", \"image\", \"image\", \"image\", \"image\", \"immune\", \"implementation\", \"implementation\", \"implies\", \"imply\", \"imply\", \"infection\", \"infections\", \"infectious\", \"info\", \"info\", \"info\", \"info\", \"info\", \"information\", \"information\", \"information\", \"information\", \"information\", \"information\", \"information\", \"information\", \"information\", \"information\", \"information\", \"ink\", \"inning\", \"innings\", \"input\", \"input\", \"input\", \"input\", \"input\", \"instruction\", \"instruction\", \"insurance\", \"insurance\", \"int\", \"intake\", \"interested\", \"interested\", \"interested\", \"interested\", \"interested\", \"interested\", \"interested\", \"interested\", \"interested\", \"interested\", \"interested\", \"interested\", \"interface\", \"interface\", \"interpret\", \"interpreted\", \"intersection\", \"intersection\", \"intrinsics\", \"invaded\", \"investment\", \"ireland\", \"irq\", \"isa\", \"isbn\", \"israel\", \"israel\", \"israeli\", \"israelis\", \"istanbul\", \"ive\", \"ive\", \"ive\", \"ive\", \"ive\", \"ive\", \"ive\", \"ive\", \"ive\", \"ive\", \"jagr\", \"jays\", \"jazz\", \"jerusalem\", \"jesus\", \"jesus\", \"jewish\", \"jewish\", \"jewish\", \"jews\", \"jews\", \"jobs\", \"john\", \"john\", \"john\", \"john\", \"john\", \"john\", \"john\", \"john\", \"john\", \"john\", \"jonathan\", \"jose\", \"jose\", \"jpeg\", \"judas\", \"karabagh\", \"karabakh\", \"keith\", \"keith\", \"keith\", \"keith\", \"keith\", \"kermit\", \"key\", \"key\", \"key\", \"key\", \"keyboard\", \"keyboard\", \"keyboard\", \"keys\", \"keywords\", \"keywords\", \"kids\", \"kids\", \"kids\", \"kids\", \"kids\", \"kids\", \"kids\", \"kings\", \"kings\", \"kings\", \"kings\", \"kitchen\", \"know\", \"know\", \"know\", \"know\", \"know\", \"know\", \"know\", \"know\", \"know\", \"know\", \"know\", \"know\", \"kurds\", \"last\", \"last\", \"last\", \"last\", \"last\", \"last\", \"last\", \"last\", \"last\", \"last\", \"last\", \"last\", \"last\", \"latch\", \"later\", \"later\", \"later\", \"later\", \"later\", \"later\", \"later\", \"later\", \"later\", \"later\", \"later\", \"later\", \"later\", \"launch\", \"launched\", \"law\", \"law\", \"law\", \"law\", \"laws\", \"laws\", \"laws\", \"lds\", \"leafs\", \"league\", \"lebanon\", \"left\", \"left\", \"left\", \"left\", \"left\", \"left\", \"left\", \"left\", \"left\", \"left\", \"left\", \"legal\", \"legal\", \"legal\", \"legal\", \"legal\", \"legs\", \"legs\", \"lets\", \"lets\", \"lets\", \"lets\", \"lets\", \"lets\", \"lets\", \"lets\", \"lets\", \"lets\", \"liar\", \"library\", \"library\", \"library\", \"library\", \"library\", \"library\", \"library\", \"library\", \"life\", \"life\", \"life\", \"life\", \"life\", \"life\", \"life\", \"life\", \"like\", \"like\", \"like\", \"like\", \"like\", \"like\", \"like\", \"like\", \"like\", \"like\", \"like\", \"like\", \"like\", \"like\", \"like\", \"like\", \"line\", \"line\", \"line\", \"line\", \"line\", \"line\", \"line\", \"line\", \"line\", \"line\", \"line\", \"lines\", \"lines\", \"lines\", \"lines\", \"lines\", \"lines\", \"lines\", \"lines\", \"lines\", \"lines\", \"linked\", \"linked\", \"linked\", \"linked\", \"list\", \"list\", \"list\", \"list\", \"list\", \"list\", \"list\", \"list\", \"list\", \"list\", \"list\", \"list\", \"list\", \"little\", \"little\", \"little\", \"little\", \"little\", \"little\", \"little\", \"little\", \"little\", \"little\", \"little\", \"little\", \"liver\", \"lock\", \"lock\", \"looking\", \"looking\", \"looking\", \"looking\", \"looking\", \"looking\", \"looking\", \"looking\", \"lord\", \"los\", \"los\", \"los\", \"losses\", \"lost\", \"lost\", \"lost\", \"lost\", \"lost\", \"lost\", \"lost\", \"lost\", \"lost\", \"lost\", \"lot\", \"lot\", \"lot\", \"lot\", \"lot\", \"lot\", \"lot\", \"lot\", \"lot\", \"lot\", \"lunar\", \"lyme\", \"mac\", \"mac\", \"mail\", \"mail\", \"mail\", \"mail\", \"mail\", \"mailing\", \"maine\", \"mainstream\", \"make\", \"make\", \"make\", \"make\", \"make\", \"make\", \"make\", \"make\", \"make\", \"make\", \"make\", \"make\", \"make\", \"mamma\", \"manager\", \"manager\", \"manager\", \"manager\", \"manager\", \"manager\", \"manuals\", \"many\", \"many\", \"many\", \"many\", \"many\", \"many\", \"many\", \"many\", \"many\", \"many\", \"many\", \"many\", \"many\", \"many\", \"many\", \"many\", \"marijuana\", \"marriage\", \"mars\", \"matthew\", \"matthew\", \"matthew\", \"maxaxaxaxaxaxaxaxaxaxaxaxaxaxax\", \"may\", \"may\", \"may\", \"may\", \"may\", \"may\", \"may\", \"may\", \"may\", \"may\", \"may\", \"may\", \"may\", \"may\", \"maybe\", \"maybe\", \"maybe\", \"maybe\", \"maybe\", \"maybe\", \"maybe\", \"mbs\", \"mean\", \"mean\", \"mean\", \"mean\", \"mean\", \"mean\", \"mean\", \"mean\", \"mean\", \"meaning\", \"meaning\", \"meaning\", \"meaning\", \"medical\", \"medical\", \"medical\", \"medicine\", \"medicine\", \"meeting\", \"meeting\", \"meeting\", \"meg\", \"memory\", \"memory\", \"memory\", \"memory\", \"merely\", \"merely\", \"merely\", \"merely\", \"message\", \"message\", \"message\", \"message\", \"message\", \"message\", \"methanol\", \"michael\", \"michael\", \"michael\", \"michael\", \"michael\", \"michael\", \"michael\", \"michael\", \"michael\", \"michael\", \"michael\", \"microdistrict\", \"microsoft\", \"might\", \"might\", \"might\", \"might\", \"might\", \"might\", \"might\", \"might\", \"might\", \"might\", \"might\", \"might\", \"mike\", \"mike\", \"mike\", \"mike\", \"mike\", \"mike\", \"mike\", \"mike\", \"mike\", \"miles\", \"miles\", \"miles\", \"miles\", \"military\", \"military\", \"military\", \"military\", \"militia\", \"milwaukee\", \"milwaukee\", \"mission\", \"mission\", \"mission\", \"missions\", \"mit\", \"mit\", \"mit\", \"modem\", \"modem\", \"money\", \"money\", \"money\", \"money\", \"money\", \"money\", \"monitor\", \"monitor\", \"monitor\", \"monitor\", \"montreal\", \"montreal\", \"moon\", \"moon\", \"moore\", \"moral\", \"moral\", \"morality\", \"mormon\", \"mormons\", \"motherboard\", \"mounting\", \"mouse\", \"mouse\", \"mpeg\", \"mph\", \"mph\", \"msg\", \"much\", \"much\", \"much\", \"much\", \"much\", \"much\", \"much\", \"much\", \"much\", \"much\", \"much\", \"much\", \"much\", \"much\", \"much\", \"much\", \"music\", \"music\", \"music\", \"muslim\", \"muslims\", \"muslims\", \"muslims\", \"must\", \"must\", \"must\", \"must\", \"must\", \"must\", \"must\", \"must\", \"must\", \"must\", \"must\", \"must\", \"must\", \"mydisplay\", \"myers\", \"na\", \"name\", \"name\", \"name\", \"name\", \"name\", \"name\", \"name\", \"name\", \"name\", \"name\", \"name\", \"name\", \"name\", \"nasa\", \"nasa\", \"national\", \"national\", \"national\", \"national\", \"national\", \"national\", \"national\", \"national\", \"nationwide\", \"nationwide\", \"nazi\", \"nazis\", \"nec\", \"need\", \"need\", \"need\", \"need\", \"need\", \"need\", \"need\", \"need\", \"need\", \"need\", \"need\", \"need\", \"need\", \"need\", \"neutral\", \"neutral\", \"neutral\", \"new\", \"new\", \"new\", \"new\", \"new\", \"new\", \"new\", \"new\", \"new\", \"new\", \"new\", \"new\", \"new\", \"news\", \"news\", \"news\", \"news\", \"news\", \"news\", \"news\", \"news\", \"news\", \"news\", \"newsletter\", \"newsletter\", \"nhl\", \"nick\", \"night\", \"night\", \"night\", \"night\", \"night\", \"night\", \"nissan\", \"nixon\", \"nolan\", \"nords\", \"norton\", \"not\", \"not\", \"not\", \"not\", \"not\", \"not\", \"not\", \"not\", \"not\", \"not\", \"not\", \"not\", \"notion\", \"nsa\", \"ntsc\", \"nubus\", \"nuclear\", \"nuclear\", \"nuclear\", \"null\", \"number\", \"number\", \"number\", \"number\", \"number\", \"number\", \"number\", \"number\", \"number\", \"number\", \"number\", \"number\", \"number\", \"oakland\", \"objective\", \"objective\", \"obp\", \"obscure\", \"office\", \"office\", \"office\", \"office\", \"office\", \"office\", \"office\", \"office\", \"office\", \"oil\", \"oil\", \"one\", \"one\", \"one\", \"one\", \"one\", \"one\", \"one\", \"one\", \"one\", \"one\", \"one\", \"one\", \"one\", \"one\", \"one\", \"one\", \"ontario\", \"open\", \"open\", \"open\", \"open\", \"open\", \"open\", \"open\", \"open\", \"open\", \"open\", \"open\", \"openwindows\", \"orbit\", \"orioles\", \"oto\", \"ottoman\", \"outlet\", \"outlets\", \"output\", \"output\", \"output\", \"pace\", \"pagan\", \"page\", \"page\", \"page\", \"page\", \"page\", \"page\", \"pain\", \"pain\", \"pain\", \"pain\", \"palestinian\", \"palestinian\", \"palestinians\", \"paranoia\", \"paranoid\", \"patches\", \"patches\", \"patented\", \"patient\", \"patients\", \"payload\", \"pcs\", \"pem\", \"pens\", \"pentium\", \"people\", \"people\", \"people\", \"people\", \"people\", \"people\", \"people\", \"people\", \"people\", \"people\", \"people\", \"performance\", \"performance\", \"performance\", \"performance\", \"performance\", \"period\", \"period\", \"period\", \"period\", \"period\", \"period\", \"period\", \"period\", \"pex\", \"pgp\", \"phd\", \"philadelphia\", \"philadelphia\", \"philadelphia\", \"phillies\", \"phrase\", \"phrase\", \"pic\", \"pickup\", \"pipes\", \"pit\", \"pitched\", \"pitching\", \"pittsburgh\", \"pittsburgh\", \"pittsburgh\", \"pity\", \"pixmap\", \"planetary\", \"plant\", \"plant\", \"plants\", \"play\", \"play\", \"play\", \"play\", \"play\", \"play\", \"play\", \"play\", \"played\", \"played\", \"played\", \"played\", \"played\", \"player\", \"player\", \"players\", \"playoff\", \"playoffs\", \"please\", \"please\", \"please\", \"please\", \"please\", \"please\", \"please\", \"please\", \"please\", \"please\", \"please\", \"point\", \"point\", \"point\", \"point\", \"point\", \"point\", \"point\", \"point\", \"point\", \"point\", \"point\", \"point\", \"point\", \"point\", \"pointer\", \"pointers\", \"pointers\", \"police\", \"police\", \"port\", \"port\", \"port\", \"positively\", \"post\", \"post\", \"post\", \"post\", \"post\", \"post\", \"post\", \"post\", \"post\", \"post\", \"post\", \"posted\", \"posted\", \"posted\", \"posted\", \"posted\", \"posted\", \"posted\", \"posted\", \"posted\", \"posting\", \"posting\", \"posting\", \"posting\", \"posting\", \"posting\", \"power\", \"power\", \"power\", \"power\", \"power\", \"power\", \"power\", \"power\", \"power\", \"powerbook\", \"powerpc\", \"prediction\", \"president\", \"president\", \"press\", \"press\", \"press\", \"press\", \"press\", \"press\", \"press\", \"press\", \"prevention\", \"printer\", \"privacy\", \"prize\", \"probably\", \"probably\", \"probably\", \"probably\", \"probably\", \"probably\", \"probably\", \"probably\", \"probably\", \"probably\", \"problem\", \"problem\", \"problem\", \"problem\", \"problem\", \"problem\", \"problem\", \"problem\", \"problem\", \"program\", \"program\", \"program\", \"program\", \"program\", \"program\", \"projector\", \"prophet\", \"propulsion\", \"protein\", \"pts\", \"public\", \"public\", \"public\", \"public\", \"public\", \"public\", \"public\", \"publisher\", \"puck\", \"que\", \"quebec\", \"question\", \"question\", \"question\", \"question\", \"question\", \"question\", \"question\", \"question\", \"question\", \"quicktime\", \"radar\", \"radar\", \"radiation\", \"ram\", \"rangers\", \"rbi\", \"read\", \"read\", \"read\", \"read\", \"read\", \"read\", \"read\", \"read\", \"read\", \"read\", \"read\", \"real\", \"real\", \"real\", \"real\", \"real\", \"real\", \"real\", \"real\", \"real\", \"real\", \"really\", \"really\", \"really\", \"really\", \"really\", \"really\", \"really\", \"really\", \"really\", \"reason\", \"reason\", \"reason\", \"reason\", \"reason\", \"reason\", \"reason\", \"reason\", \"reason\", \"rectangle\", \"reds\", \"religion\", \"religion\", \"remark\", \"remark\", \"repairs\", \"replies\", \"replies\", \"replies\", \"replies\", \"reply\", \"reply\", \"reply\", \"reply\", \"reply\", \"reported\", \"reported\", \"reported\", \"reported\", \"reported\", \"reported\", \"republicans\", \"requests\", \"requests\", \"requests\", \"requests\", \"research\", \"research\", \"research\", \"research\", \"research\", \"research\", \"research\", \"reset\", \"resource\", \"resource\", \"resource\", \"resource\", \"resource\", \"respond\", \"respond\", \"respond\", \"respond\", \"respond\", \"respond\", \"respond\", \"retail\", \"return\", \"return\", \"return\", \"return\", \"return\", \"return\", \"return\", \"return\", \"return\", \"return\", \"return\", \"returns\", \"returns\", \"returns\", \"riders\", \"riding\", \"riding\", \"right\", \"right\", \"right\", \"right\", \"right\", \"right\", \"right\", \"right\", \"right\", \"right\", \"right\", \"right\", \"right\", \"rights\", \"rights\", \"rights\", \"rights\", \"rings\", \"ripem\", \"robinson\", \"rocket\", \"rocket\", \"rocket\", \"rocks\", \"rocks\", \"rode\", \"romans\", \"row\", \"row\", \"rsa\", \"rules\", \"rules\", \"rules\", \"rules\", \"rules\", \"run\", \"run\", \"run\", \"run\", \"run\", \"run\", \"run\", \"run\", \"run\", \"run\", \"run\", \"run\", \"run\", \"safer\", \"said\", \"said\", \"said\", \"said\", \"said\", \"said\", \"said\", \"said\", \"said\", \"said\", \"said\", \"sale\", \"sale\", \"sale\", \"salt\", \"salt\", \"salt\", \"san\", \"san\", \"san\", \"san\", \"satan\", \"satan\", \"satellite\", \"satellites\", \"saturn\", \"saw\", \"saw\", \"saw\", \"saw\", \"saw\", \"say\", \"say\", \"say\", \"say\", \"say\", \"say\", \"say\", \"say\", \"say\", \"says\", \"says\", \"says\", \"says\", \"says\", \"says\", \"says\", \"says\", \"says\", \"scheme\", \"scheme\", \"scheme\", \"scicrypt\", \"science\", \"science\", \"science\", \"scored\", \"scorer\", \"scoring\", \"screen\", \"screen\", \"screw\", \"script\", \"script\", \"scsi\", \"scsi\", \"seal\", \"season\", \"seats\", \"seats\", \"second\", \"second\", \"second\", \"second\", \"second\", \"second\", \"second\", \"second\", \"second\", \"second\", \"second\", \"second\", \"second\", \"section\", \"section\", \"section\", \"section\", \"section\", \"section\", \"section\", \"section\", \"secure\", \"secure\", \"secure\", \"security\", \"security\", \"security\", \"see\", \"see\", \"see\", \"see\", \"see\", \"see\", \"see\", \"see\", \"see\", \"see\", \"see\", \"see\", \"see\", \"see\", \"seizures\", \"sell\", \"sell\", \"sell\", \"sell\", \"sell\", \"sell\", \"sell\", \"sell\", \"senator\", \"send\", \"send\", \"send\", \"send\", \"send\", \"send\", \"send\", \"send\", \"send\", \"senior\", \"serdar\", \"series\", \"series\", \"series\", \"series\", \"series\", \"series\", \"series\", \"series\", \"server\", \"server\", \"server\", \"server\", \"set\", \"set\", \"set\", \"set\", \"set\", \"set\", \"set\", \"set\", \"set\", \"set\", \"set\", \"set\", \"settings\", \"shipped\", \"shouting\", \"shuttle\", \"similarity\", \"simms\", \"simms\", \"sin\", \"sin\", \"sins\", \"sister\", \"site\", \"site\", \"site\", \"site\", \"site\", \"site\", \"sites\", \"sites\", \"sites\", \"sites\", \"sites\", \"sites\", \"size\", \"size\", \"size\", \"size\", \"size\", \"size\", \"size\", \"size\", \"skip\", \"sleep\", \"sleep\", \"sleep\", \"sleeve\", \"slots\", \"smith\", \"smith\", \"smith\", \"smith\", \"smoking\", \"smoking\", \"snow\", \"snow\", \"snow\", \"sockets\", \"software\", \"software\", \"software\", \"software\", \"solar\", \"solar\", \"solaris\", \"someone\", \"someone\", \"someone\", \"someone\", \"someone\", \"someone\", \"someone\", \"someone\", \"something\", \"something\", \"something\", \"something\", \"something\", \"something\", \"something\", \"something\", \"something\", \"son\", \"son\", \"soundblaster\", \"source\", \"source\", \"source\", \"source\", \"source\", \"source\", \"source\", \"source\", \"source\", \"source\", \"source\", \"south\", \"south\", \"south\", \"south\", \"sox\", \"space\", \"space\", \"space\", \"space\", \"space\", \"space\", \"spacecraft\", \"spare\", \"spare\", \"sphere\", \"spiderman\", \"spirit\", \"spirit\", \"spring\", \"spring\", \"spring\", \"spring\", \"spy\", \"standard\", \"standard\", \"standard\", \"standard\", \"standard\", \"standard\", \"started\", \"started\", \"started\", \"started\", \"started\", \"started\", \"started\", \"started\", \"started\", \"started\", \"started\", \"started\", \"state\", \"state\", \"state\", \"state\", \"state\", \"state\", \"state\", \"state\", \"state\", \"statement\", \"statement\", \"statement\", \"statement\", \"statement\", \"states\", \"states\", \"states\", \"states\", \"states\", \"states\", \"static\", \"station\", \"station\", \"station\", \"station\", \"station\", \"statistic\", \"steering\", \"stewart\", \"sticking\", \"still\", \"still\", \"still\", \"still\", \"still\", \"still\", \"still\", \"still\", \"still\", \"still\", \"still\", \"still\", \"stl\", \"stones\", \"storm\", \"stream\", \"stream\", \"stream\", \"street\", \"street\", \"street\", \"street\", \"street\", \"street\", \"street\", \"street\", \"studies\", \"studies\", \"studies\", \"study\", \"study\", \"study\", \"study\", \"study\", \"subject\", \"subject\", \"subject\", \"subject\", \"subject\", \"subject\", \"subject\", \"subject\", \"subject\", \"subject\", \"suck\", \"sugar\", \"sumgait\", \"summarize\", \"summer\", \"summer\", \"summer\", \"summer\", \"summer\", \"summer\", \"sun\", \"sun\", \"sun\", \"sun\", \"sun\", \"sun\", \"sun\", \"sun\", \"sure\", \"sure\", \"sure\", \"sure\", \"sure\", \"sure\", \"sure\", \"sure\", \"sure\", \"sure\", \"sure\", \"survivors\", \"swing\", \"symptoms\", \"syndrome\", \"system\", \"system\", \"system\", \"system\", \"system\", \"system\", \"system\", \"system\", \"system\", \"system\", \"tape\", \"tape\", \"tape\", \"tape\", \"taste\", \"taste\", \"tax\", \"tax\", \"tax\", \"team\", \"team\", \"teams\", \"teams\", \"technology\", \"technology\", \"technology\", \"technology\", \"technology\", \"temperature\", \"temporarily\", \"terminals\", \"thank\", \"thank\", \"thank\", \"thank\", \"thank\", \"thanks\", \"thanks\", \"thanks\", \"thanks\", \"thanks\", \"thanks\", \"thanks\", \"thanx\", \"thanx\", \"the\", \"the\", \"the\", \"the\", \"the\", \"the\", \"the\", \"the\", \"the\", \"the\", \"the\", \"the\", \"the\", \"the\", \"the\", \"the\", \"them\", \"them\", \"them\", \"them\", \"them\", \"them\", \"them\", \"them\", \"them\", \"them\", \"them\", \"theory\", \"theory\", \"theory\", \"theory\", \"theory\", \"theory\", \"therapy\", \"there\", \"there\", \"there\", \"there\", \"there\", \"there\", \"there\", \"there\", \"there\", \"there\", \"thing\", \"thing\", \"thing\", \"thing\", \"thing\", \"thing\", \"thing\", \"thing\", \"things\", \"things\", \"things\", \"things\", \"things\", \"things\", \"things\", \"things\", \"things\", \"things\", \"things\", \"things\", \"think\", \"think\", \"think\", \"think\", \"think\", \"think\", \"think\", \"think\", \"think\", \"this\", \"this\", \"this\", \"this\", \"this\", \"this\", \"this\", \"this\", \"this\", \"this\", \"this\", \"this\", \"this\", \"this\", \"this\", \"this\", \"thought\", \"thought\", \"thought\", \"thought\", \"thought\", \"thought\", \"thought\", \"thought\", \"thought\", \"thought\", \"thought\", \"thought\", \"thu\", \"ticket\", \"ticket\", \"tigers\", \"tight\", \"time\", \"time\", \"time\", \"time\", \"time\", \"time\", \"time\", \"time\", \"time\", \"time\", \"time\", \"time\", \"time\", \"time\", \"time\", \"timothy\", \"tires\", \"tires\", \"title\", \"title\", \"title\", \"title\", \"title\", \"title\", \"title\", \"tobacco\", \"told\", \"told\", \"told\", \"told\", \"told\", \"told\", \"told\", \"told\", \"took\", \"took\", \"took\", \"took\", \"took\", \"took\", \"took\", \"toronto\", \"toronto\", \"torque\", \"tower\", \"town\", \"town\", \"town\", \"town\", \"toyota\", \"tranny\", \"treatment\", \"treatment\", \"treatment\", \"treatment\", \"treatment\", \"triangles\", \"trips\", \"true\", \"true\", \"true\", \"true\", \"true\", \"true\", \"true\", \"truth\", \"truth\", \"truth\", \"truth\", \"turbo\", \"turbo\", \"turkey\", \"turkish\", \"turks\", \"turn\", \"turn\", \"turn\", \"turn\", \"turn\", \"turn\", \"two\", \"two\", \"two\", \"two\", \"two\", \"two\", \"two\", \"two\", \"two\", \"two\", \"two\", \"two\", \"two\", \"two\", \"tyre\", \"ulf\", \"united\", \"united\", \"united\", \"united\", \"university\", \"university\", \"university\", \"university\", \"university\", \"university\", \"university\", \"university\", \"upgrade\", \"upgrade\", \"use\", \"use\", \"use\", \"use\", \"use\", \"use\", \"use\", \"use\", \"use\", \"use\", \"use\", \"use\", \"use\", \"used\", \"used\", \"used\", \"used\", \"used\", \"used\", \"used\", \"used\", \"used\", \"used\", \"used\", \"used\", \"used\", \"used\", \"used\", \"usenet\", \"usenet\", \"usenet\", \"user\", \"user\", \"user\", \"user\", \"user\", \"users\", \"users\", \"users\", \"users\", \"using\", \"using\", \"using\", \"using\", \"using\", \"using\", \"using\", \"using\", \"using\", \"using\", \"using\", \"uuencode\", \"valve\", \"vat\", \"vdc\", \"version\", \"version\", \"version\", \"version\", \"version\", \"version\", \"vesa\", \"vga\", \"video\", \"video\", \"video\", \"video\", \"visual\", \"visual\", \"visualization\", \"visualization\", \"vitamin\", \"void\", \"voltage\", \"voltage\", \"volume\", \"volume\", \"volume\", \"volume\", \"volume\", \"volume\", \"volume\", \"volvo\", \"want\", \"want\", \"want\", \"want\", \"want\", \"want\", \"want\", \"want\", \"want\", \"want\", \"want\", \"want\", \"want\", \"war\", \"war\", \"war\", \"washington\", \"washington\", \"washington\", \"washington\", \"washington\", \"water\", \"water\", \"water\", \"water\", \"way\", \"way\", \"way\", \"way\", \"way\", \"way\", \"way\", \"way\", \"way\", \"way\", \"way\", \"way\", \"way\", \"weapon\", \"weapons\", \"weaver\", \"week\", \"week\", \"week\", \"week\", \"week\", \"week\", \"week\", \"week\", \"week\", \"week\", \"week\", \"week\", \"weiss\", \"well\", \"well\", \"well\", \"well\", \"well\", \"well\", \"well\", \"well\", \"well\", \"well\", \"well\", \"well\", \"well\", \"well\", \"well\", \"well\", \"went\", \"went\", \"went\", \"went\", \"went\", \"west\", \"west\", \"west\", \"west\", \"west\", \"west\", \"wheel\", \"wheel\", \"wheels\", \"widget\", \"wife\", \"wife\", \"wife\", \"wife\", \"win\", \"win\", \"win\", \"win\", \"win\", \"window\", \"window\", \"window\", \"window\", \"windows\", \"windows\", \"windows\", \"windows\", \"winners\", \"winners\", \"wire\", \"wire\", \"wire\", \"wire\", \"wires\", \"wiretap\", \"wiring\", \"wiring\", \"witnessed\", \"wolverine\", \"woman\", \"woman\", \"woman\", \"woman\", \"wondering\", \"wondering\", \"wondering\", \"words\", \"words\", \"words\", \"words\", \"words\", \"words\", \"words\", \"words\", \"words\", \"work\", \"work\", \"work\", \"work\", \"work\", \"work\", \"work\", \"work\", \"work\", \"work\", \"working\", \"working\", \"working\", \"working\", \"working\", \"working\", \"working\", \"working\", \"working\", \"working\", \"world\", \"world\", \"world\", \"world\", \"world\", \"world\", \"world\", \"world\", \"world\", \"world\", \"world\", \"world\", \"would\", \"would\", \"would\", \"would\", \"would\", \"would\", \"would\", \"would\", \"would\", \"would\", \"would\", \"would\", \"would\", \"wow\", \"write\", \"write\", \"write\", \"write\", \"write\", \"write\", \"write\", \"write\", \"write\", \"write\", \"write\", \"write\", \"wrong\", \"wrong\", \"wrong\", \"wrong\", \"wrong\", \"wrong\", \"wrong\", \"wrong\", \"wwg\", \"xbased\", \"xlib\", \"xsoviet\", \"yankees\", \"year\", \"year\", \"year\", \"year\", \"year\", \"year\", \"year\", \"year\", \"year\", \"year\", \"year\", \"year\", \"years\", \"years\", \"years\", \"years\", \"years\", \"years\", \"years\", \"years\", \"years\", \"years\", \"years\", \"yeast\", \"york\", \"york\", \"york\", \"york\", \"york\", \"york\", \"york\", \"you\", \"you\", \"you\", \"you\", \"you\", \"you\", \"you\", \"you\", \"you\", \"you\", \"zionist\", \"zones\", \"zoom\"]}, \"R\": 30, \"lambda.step\": 0.01, \"plot.opts\": {\"xlab\": \"PC1\", \"ylab\": \"PC2\"}, \"topic.order\": [1, 2, 3, 4, 5, 6, 7, 8, 9, 10, 11, 12, 13, 14, 15, 16, 17]};\n",
       "\n",
       "function LDAvis_load_lib(url, callback){\n",
       "  var s = document.createElement('script');\n",
       "  s.src = url;\n",
       "  s.async = true;\n",
       "  s.onreadystatechange = s.onload = callback;\n",
       "  s.onerror = function(){console.warn(\"failed to load library \" + url);};\n",
       "  document.getElementsByTagName(\"head\")[0].appendChild(s);\n",
       "}\n",
       "\n",
       "if(typeof(LDAvis) !== \"undefined\"){\n",
       "   // already loaded: just create the visualization\n",
       "   !function(LDAvis){\n",
       "       new LDAvis(\"#\" + \"ldavis_el446311833163440279842044\", ldavis_el446311833163440279842044_data);\n",
       "   }(LDAvis);\n",
       "}else if(typeof define === \"function\" && define.amd){\n",
       "   // require.js is available: use it to load d3/LDAvis\n",
       "   require.config({paths: {d3: \"https://d3js.org/d3.v5\"}});\n",
       "   require([\"d3\"], function(d3){\n",
       "      window.d3 = d3;\n",
       "      LDAvis_load_lib(\"https://cdn.jsdelivr.net/gh/bmabey/pyLDAvis@3.3.1/pyLDAvis/js/ldavis.v3.0.0.js\", function(){\n",
       "        new LDAvis(\"#\" + \"ldavis_el446311833163440279842044\", ldavis_el446311833163440279842044_data);\n",
       "      });\n",
       "    });\n",
       "}else{\n",
       "    // require.js not available: dynamically load d3 & LDAvis\n",
       "    LDAvis_load_lib(\"https://d3js.org/d3.v5.js\", function(){\n",
       "         LDAvis_load_lib(\"https://cdn.jsdelivr.net/gh/bmabey/pyLDAvis@3.3.1/pyLDAvis/js/ldavis.v3.0.0.js\", function(){\n",
       "                 new LDAvis(\"#\" + \"ldavis_el446311833163440279842044\", ldavis_el446311833163440279842044_data);\n",
       "            })\n",
       "         });\n",
       "}\n",
       "</script>"
      ],
      "text/plain": [
       "<IPython.core.display.HTML object>"
      ]
     },
     "execution_count": 431,
     "metadata": {},
     "output_type": "execute_result"
    }
   ],
   "source": [
    "lda_display = pyLDAvis.gensim_models.prepare(lda_model_tuned, corpus, dictionary, sort_topics=False)\n",
    "pyLDAvis.display(lda_display)"
   ]
  },
  {
   "cell_type": "markdown",
   "id": "29a19356",
   "metadata": {},
   "source": [
    "* Circles represent topics.\n",
    "* The bigger the circle, the more documents are associated to the topic. \n",
    "* The distance between the circles shows how related the topics are to each other.\n",
    "* Dimensionality reduction is applied to be able to visualise the topics in 2D."
   ]
  },
  {
   "cell_type": "code",
   "execution_count": 432,
   "id": "339582d7",
   "metadata": {},
   "outputs": [
    {
     "data": {
      "text/html": [
       "<div>\n",
       "<style scoped>\n",
       "    .dataframe tbody tr th:only-of-type {\n",
       "        vertical-align: middle;\n",
       "    }\n",
       "\n",
       "    .dataframe tbody tr th {\n",
       "        vertical-align: top;\n",
       "    }\n",
       "\n",
       "    .dataframe thead th {\n",
       "        text-align: right;\n",
       "    }\n",
       "</style>\n",
       "<table border=\"1\" class=\"dataframe\">\n",
       "  <thead>\n",
       "    <tr style=\"text-align: right;\">\n",
       "      <th></th>\n",
       "      <th>Term</th>\n",
       "      <th>Freq</th>\n",
       "      <th>Total</th>\n",
       "      <th>Category</th>\n",
       "      <th>logprob</th>\n",
       "      <th>loglift</th>\n",
       "    </tr>\n",
       "  </thead>\n",
       "  <tbody>\n",
       "    <tr>\n",
       "      <th>14204</th>\n",
       "      <td>maxaxaxaxaxaxaxaxaxaxaxaxaxaxax</td>\n",
       "      <td>3518.0</td>\n",
       "      <td>3518.0</td>\n",
       "      <td>Default</td>\n",
       "      <td>30.0</td>\n",
       "      <td>30.0</td>\n",
       "    </tr>\n",
       "    <tr>\n",
       "      <th>139</th>\n",
       "      <td>would</td>\n",
       "      <td>6084.0</td>\n",
       "      <td>6084.0</td>\n",
       "      <td>Default</td>\n",
       "      <td>29.0</td>\n",
       "      <td>29.0</td>\n",
       "    </tr>\n",
       "    <tr>\n",
       "      <th>116</th>\n",
       "      <td>know</td>\n",
       "      <td>3491.0</td>\n",
       "      <td>3491.0</td>\n",
       "      <td>Default</td>\n",
       "      <td>28.0</td>\n",
       "      <td>28.0</td>\n",
       "    </tr>\n",
       "    <tr>\n",
       "      <th>266</th>\n",
       "      <td>file</td>\n",
       "      <td>1745.0</td>\n",
       "      <td>1745.0</td>\n",
       "      <td>Default</td>\n",
       "      <td>27.0</td>\n",
       "      <td>27.0</td>\n",
       "    </tr>\n",
       "    <tr>\n",
       "      <th>1197</th>\n",
       "      <td>please</td>\n",
       "      <td>1485.0</td>\n",
       "      <td>1485.0</td>\n",
       "      <td>Default</td>\n",
       "      <td>26.0</td>\n",
       "      <td>26.0</td>\n",
       "    </tr>\n",
       "    <tr>\n",
       "      <th>406</th>\n",
       "      <td>thanks</td>\n",
       "      <td>1221.0</td>\n",
       "      <td>1221.0</td>\n",
       "      <td>Default</td>\n",
       "      <td>25.0</td>\n",
       "      <td>25.0</td>\n",
       "    </tr>\n",
       "    <tr>\n",
       "      <th>371</th>\n",
       "      <td>anyone</td>\n",
       "      <td>1556.0</td>\n",
       "      <td>1556.0</td>\n",
       "      <td>Default</td>\n",
       "      <td>24.0</td>\n",
       "      <td>24.0</td>\n",
       "    </tr>\n",
       "    <tr>\n",
       "      <th>203</th>\n",
       "      <td>use</td>\n",
       "      <td>3303.0</td>\n",
       "      <td>3303.0</td>\n",
       "      <td>Default</td>\n",
       "      <td>23.0</td>\n",
       "      <td>23.0</td>\n",
       "    </tr>\n",
       "    <tr>\n",
       "      <th>86</th>\n",
       "      <td>new</td>\n",
       "      <td>2535.0</td>\n",
       "      <td>2535.0</td>\n",
       "      <td>Default</td>\n",
       "      <td>22.0</td>\n",
       "      <td>22.0</td>\n",
       "    </tr>\n",
       "    <tr>\n",
       "      <th>737</th>\n",
       "      <td>email</td>\n",
       "      <td>1227.0</td>\n",
       "      <td>1227.0</td>\n",
       "      <td>Default</td>\n",
       "      <td>21.0</td>\n",
       "      <td>21.0</td>\n",
       "    </tr>\n",
       "  </tbody>\n",
       "</table>\n",
       "</div>"
      ],
      "text/plain": [
       "                                  Term    Freq   Total Category  logprob  \\\n",
       "14204  maxaxaxaxaxaxaxaxaxaxaxaxaxaxax  3518.0  3518.0  Default     30.0   \n",
       "139                              would  6084.0  6084.0  Default     29.0   \n",
       "116                               know  3491.0  3491.0  Default     28.0   \n",
       "266                               file  1745.0  1745.0  Default     27.0   \n",
       "1197                            please  1485.0  1485.0  Default     26.0   \n",
       "406                             thanks  1221.0  1221.0  Default     25.0   \n",
       "371                             anyone  1556.0  1556.0  Default     24.0   \n",
       "203                                use  3303.0  3303.0  Default     23.0   \n",
       "86                                 new  2535.0  2535.0  Default     22.0   \n",
       "737                              email  1227.0  1227.0  Default     21.0   \n",
       "\n",
       "       loglift  \n",
       "14204     30.0  \n",
       "139       29.0  \n",
       "116       28.0  \n",
       "266       27.0  \n",
       "1197      26.0  \n",
       "406       25.0  \n",
       "371       24.0  \n",
       "203       23.0  \n",
       "86        22.0  \n",
       "737       21.0  "
      ]
     },
     "execution_count": 432,
     "metadata": {},
     "output_type": "execute_result"
    }
   ],
   "source": [
    "# preview pyLDAvis output\n",
    "lda_display.topic_info.head(10)"
   ]
  },
  {
   "cell_type": "markdown",
   "id": "feb4dc22",
   "metadata": {},
   "source": [
    "### Visualize Topic-Words Relevancy"
   ]
  },
  {
   "cell_type": "code",
   "execution_count": 232,
   "id": "8bf7a93c",
   "metadata": {},
   "outputs": [],
   "source": [
    "NUM_TOP_WORDS_PER_TOPIC = 5"
   ]
  },
  {
   "cell_type": "code",
   "execution_count": 341,
   "id": "30fce252",
   "metadata": {
    "scrolled": true
   },
   "outputs": [
    {
     "data": {
      "text/plain": [
       "[(0,\n",
       "  [('maxaxaxaxaxaxaxaxaxaxaxaxaxaxax', 0.21952881),\n",
       "   ('thanks', 0.047672343),\n",
       "   ('please', 0.041108403),\n",
       "   ('anyone', 0.032920267),\n",
       "   ('email', 0.02744418)]),\n",
       " (1,\n",
       "  [('would', 0.012057261),\n",
       "   ('people', 0.011539721),\n",
       "   ('one', 0.011131753),\n",
       "   ('think', 0.008986796),\n",
       "   ('say', 0.007100904)]),\n",
       " (2,\n",
       "  [('game', 0.017976815),\n",
       "   ('team', 0.0152627835),\n",
       "   ('games', 0.012335203),\n",
       "   ('year', 0.011331889),\n",
       "   ('play', 0.010754187)]),\n",
       " (3,\n",
       "  [('health', 0.017309675),\n",
       "   ('use', 0.014337583),\n",
       "   ('medical', 0.0137291085),\n",
       "   ('pain', 0.010440599),\n",
       "   ('among', 0.010352119)]),\n",
       " (4,\n",
       "  [('one', 0.013354836),\n",
       "   ('get', 0.01153738),\n",
       "   ('like', 0.011054322),\n",
       "   ('would', 0.009436658),\n",
       "   ('good', 0.008883592)]),\n",
       " (5,\n",
       "  [('government', 0.011479215),\n",
       "   ('would', 0.008942299),\n",
       "   ('gun', 0.008907681),\n",
       "   ('people', 0.008382049),\n",
       "   ('state', 0.007967008)]),\n",
       " (6,\n",
       "  [('key', 0.017384103),\n",
       "   ('use', 0.011960075),\n",
       "   ('data', 0.008536391),\n",
       "   ('chip', 0.008044769),\n",
       "   ('system', 0.00791042)]),\n",
       " (7,\n",
       "  [('would', 0.019007301),\n",
       "   ('like', 0.011819462),\n",
       "   ('could', 0.010856808),\n",
       "   ('get', 0.008510352),\n",
       "   ('really', 0.007168222)]),\n",
       " (8,\n",
       "  [('said', 0.01618319),\n",
       "   ('one', 0.012513614),\n",
       "   ('people', 0.010394615),\n",
       "   ('went', 0.008730952),\n",
       "   ('know', 0.008539292)]),\n",
       " (9,\n",
       "  [('food', 0.020874046),\n",
       "   ('msg', 0.020803574),\n",
       "   ('dod', 0.012485831),\n",
       "   ('diet', 0.0084373215),\n",
       "   ('day', 0.008415412)]),\n",
       " (10,\n",
       "  [('space', 0.012386896),\n",
       "   ('president', 0.007527585),\n",
       "   ('new', 0.0050743306),\n",
       "   ('program', 0.0048703877),\n",
       "   ('also', 0.0044320673)]),\n",
       " (11,\n",
       "  [('windows', 0.0120001165),\n",
       "   ('drive', 0.009641542),\n",
       "   ('use', 0.009583115),\n",
       "   ('system', 0.009255792),\n",
       "   ('card', 0.00843325)]),\n",
       " (12,\n",
       "  [('engine', 0.019102003),\n",
       "   ('water', 0.016337845),\n",
       "   ('oil', 0.011802661),\n",
       "   ('air', 0.010976916),\n",
       "   ('miles', 0.00966516)]),\n",
       " (13,\n",
       "  [('new', 0.022829626),\n",
       "   ('san', 0.01739862),\n",
       "   ('york', 0.013315917),\n",
       "   ('lost', 0.00912168),\n",
       "   ('francisco', 0.008153875)]),\n",
       " (14,\n",
       "  [('file', 0.035934594),\n",
       "   ('window', 0.019137178),\n",
       "   ('program', 0.018585213),\n",
       "   ('entry', 0.014477184),\n",
       "   ('output', 0.010872329)]),\n",
       " (15,\n",
       "  [('jesus', 0.015822398),\n",
       "   ('god', 0.011713277),\n",
       "   ('jews', 0.011123739),\n",
       "   ('armenian', 0.009419801),\n",
       "   ('turkish', 0.008993258)]),\n",
       " (16,\n",
       "  [('available', 0.016120924),\n",
       "   ('information', 0.0136857),\n",
       "   ('list', 0.012647292),\n",
       "   ('email', 0.012291737),\n",
       "   ('send', 0.011871196)])]"
      ]
     },
     "execution_count": 341,
     "metadata": {},
     "output_type": "execute_result"
    }
   ],
   "source": [
    "# preview topics\n",
    "lda_model_tuned.show_topics(num_topics=BEST_NUM_TOPICS,\n",
    "                              num_words=5,\n",
    "                              formatted=False)"
   ]
  },
  {
   "cell_type": "code",
   "execution_count": 402,
   "id": "47d1267c",
   "metadata": {},
   "outputs": [
    {
     "data": {
      "text/plain": [
       "{0: ['maxaxaxaxaxaxaxaxaxaxaxaxaxaxax', 'thanks', 'please', 'anyone', 'email'],\n",
       " 1: ['would', 'people', 'one', 'think', 'say'],\n",
       " 2: ['game', 'team', 'games', 'year', 'play'],\n",
       " 3: ['health', 'use', 'medical', 'pain', 'among'],\n",
       " 4: ['one', 'get', 'like', 'would', 'good'],\n",
       " 5: ['government', 'would', 'gun', 'people', 'state'],\n",
       " 6: ['key', 'use', 'data', 'chip', 'system'],\n",
       " 7: ['would', 'like', 'could', 'get', 'really'],\n",
       " 8: ['said', 'one', 'people', 'went', 'know'],\n",
       " 9: ['food', 'msg', 'dod', 'diet', 'day'],\n",
       " 10: ['space', 'president', 'new', 'program', 'also'],\n",
       " 11: ['windows', 'drive', 'use', 'system', 'card'],\n",
       " 12: ['engine', 'water', 'oil', 'air', 'miles'],\n",
       " 13: ['new', 'san', 'york', 'lost', 'francisco'],\n",
       " 14: ['file', 'window', 'program', 'entry', 'output'],\n",
       " 15: ['jesus', 'god', 'jews', 'armenian', 'turkish'],\n",
       " 16: ['available', 'information', 'list', 'email', 'send']}"
      ]
     },
     "execution_count": 402,
     "metadata": {},
     "output_type": "execute_result"
    }
   ],
   "source": [
    "# separate words from weights\n",
    "dict_top_words_per_topic = {}\n",
    "for topic_num, words_weights in lda_model_tuned.show_topics(num_topics=BEST_NUM_TOPICS,\n",
    "                                                               num_words=NUM_TOP_WORDS_PER_TOPIC,\n",
    "                                                               formatted=False):\n",
    "    \n",
    "    # unzip words from their weights\n",
    "    words_list = list(zip(*words_weights))[0]\n",
    "    \n",
    "    dict_top_words_per_topic[topic_num] = list(words_list)\n",
    "    \n",
    "dict_top_words_per_topic"
   ]
  },
  {
   "cell_type": "code",
   "execution_count": 264,
   "id": "cc2ab3bb",
   "metadata": {},
   "outputs": [],
   "source": [
    "# Coherence model\n",
    "cm = CoherenceModel(model=lda_model_tuned,\n",
    "                    texts = df['text_tokenized'],\n",
    "                    corpus=corpus,\n",
    "                    dictionary=dictionary,\n",
    "                    coherence='c_v')\n",
    "\n",
    "coherence_per_topic = cm.get_coherence_per_topic()"
   ]
  },
  {
   "cell_type": "code",
   "execution_count": 343,
   "id": "fa10f45f",
   "metadata": {},
   "outputs": [
    {
     "data": {
      "text/plain": [
       "[0.59065207979149,\n",
       " 0.5367081306737563,\n",
       " 0.7364324402141096,\n",
       " 0.588454057303073,\n",
       " 0.4852214155646671,\n",
       " 0.6292780889744211,\n",
       " 0.5917436525795522,\n",
       " 0.48431347853137485,\n",
       " 0.6340494601567246,\n",
       " 0.3048833780996979,\n",
       " 0.48265371561187226,\n",
       " 0.6452223575915448,\n",
       " 0.35466744882226714,\n",
       " 0.5218465116478251,\n",
       " 0.6151575602374644,\n",
       " 0.5421648566857911,\n",
       " 0.7151608701122297]"
      ]
     },
     "execution_count": 343,
     "metadata": {},
     "output_type": "execute_result"
    }
   ],
   "source": [
    "coherence_per_topic"
   ]
  },
  {
   "cell_type": "markdown",
   "id": "d5348958",
   "metadata": {},
   "source": [
    "#### Visualise Topics based on Topic Coherence, and words weights from LDA"
   ]
  },
  {
   "cell_type": "code",
   "execution_count": 477,
   "id": "3a085a9c",
   "metadata": {
    "scrolled": true
   },
   "outputs": [
    {
     "data": {
      "text/html": [
       "<div>\n",
       "<style scoped>\n",
       "    .dataframe tbody tr th:only-of-type {\n",
       "        vertical-align: middle;\n",
       "    }\n",
       "\n",
       "    .dataframe tbody tr th {\n",
       "        vertical-align: top;\n",
       "    }\n",
       "\n",
       "    .dataframe thead th {\n",
       "        text-align: right;\n",
       "    }\n",
       "</style>\n",
       "<table border=\"1\" class=\"dataframe\">\n",
       "  <thead>\n",
       "    <tr style=\"text-align: right;\">\n",
       "      <th></th>\n",
       "      <th>topic</th>\n",
       "      <th>coherence</th>\n",
       "      <th>keywords</th>\n",
       "    </tr>\n",
       "  </thead>\n",
       "  <tbody>\n",
       "    <tr>\n",
       "      <th>0</th>\n",
       "      <td>0</td>\n",
       "      <td>0.590652</td>\n",
       "      <td>[maxaxaxaxaxaxaxaxaxaxaxaxaxaxax, thanks, please, anyone, email]</td>\n",
       "    </tr>\n",
       "    <tr>\n",
       "      <th>1</th>\n",
       "      <td>1</td>\n",
       "      <td>0.536708</td>\n",
       "      <td>[would, people, one, think, say]</td>\n",
       "    </tr>\n",
       "    <tr>\n",
       "      <th>2</th>\n",
       "      <td>2</td>\n",
       "      <td>0.736432</td>\n",
       "      <td>[game, team, games, year, play]</td>\n",
       "    </tr>\n",
       "    <tr>\n",
       "      <th>3</th>\n",
       "      <td>3</td>\n",
       "      <td>0.588454</td>\n",
       "      <td>[health, use, medical, pain, among]</td>\n",
       "    </tr>\n",
       "    <tr>\n",
       "      <th>4</th>\n",
       "      <td>4</td>\n",
       "      <td>0.485221</td>\n",
       "      <td>[one, get, like, would, good]</td>\n",
       "    </tr>\n",
       "  </tbody>\n",
       "</table>\n",
       "</div>"
      ],
      "text/plain": [
       "   topic  coherence  \\\n",
       "0      0   0.590652   \n",
       "1      1   0.536708   \n",
       "2      2   0.736432   \n",
       "3      3   0.588454   \n",
       "4      4   0.485221   \n",
       "\n",
       "                                                           keywords  \n",
       "0  [maxaxaxaxaxaxaxaxaxaxaxaxaxaxax, thanks, please, anyone, email]  \n",
       "1                                  [would, people, one, think, say]  \n",
       "2                                   [game, team, games, year, play]  \n",
       "3                               [health, use, medical, pain, among]  \n",
       "4                                     [one, get, like, would, good]  "
      ]
     },
     "execution_count": 477,
     "metadata": {},
     "output_type": "execute_result"
    }
   ],
   "source": [
    "df_topics = pd.DataFrame(data=zip(dict_top_words_per_topic.keys(), coherence_per_topic, dict_top_words_per_topic.values()),\n",
    "                        columns=['topic', 'coherence', 'keywords'])\n",
    "df_topics.head()"
   ]
  },
  {
   "cell_type": "code",
   "execution_count": 455,
   "id": "e57ad33f",
   "metadata": {
    "scrolled": false
   },
   "outputs": [
    {
     "data": {
      "text/plain": [
       "<AxesSubplot:title={'center':'Topics coherence\\n $C_v$'}>"
      ]
     },
     "execution_count": 455,
     "metadata": {},
     "output_type": "execute_result"
    },
    {
     "data": {
      "image/png": "[encoded data removed]",
      "text/plain": [
       "<Figure size 1800x1800 with 2 Axes>"
      ]
     },
     "metadata": {
      "needs_background": "light"
     },
     "output_type": "display_data"
    }
   ],
   "source": [
    "fig, ax = plt.subplots( figsize=(25, 25) )\n",
    "ax.set_title(\"Topics coherence\\n $C_v$\")\n",
    "\n",
    "# sort topics by coherence score\n",
    "df_topics_sorted_coh = df_topics.sort_values('coherence', ascending=False)\n",
    "\n",
    "sns.heatmap(data=df_topics['coherence'].values.reshape(-1, 1),\n",
    "            yticklabels=df_topics['keywords'].apply(lambda x: '\\n'.join(x)),\n",
    "            annot=True,\n",
    "            square=True,\n",
    "            cmap='Reds',\n",
    "            fmt='.2f',\n",
    "            linecolor='black',\n",
    ")"
   ]
  },
  {
   "cell_type": "markdown",
   "id": "eb62cabd",
   "metadata": {},
   "source": [
    "#### Visualise Topics based on Coherence, and Word Relevancy"
   ]
  },
  {
   "cell_type": "code",
   "execution_count": 413,
   "id": "7c94efd8",
   "metadata": {},
   "outputs": [
    {
     "data": {
      "text/html": [
       "<div>\n",
       "<style scoped>\n",
       "    .dataframe tbody tr th:only-of-type {\n",
       "        vertical-align: middle;\n",
       "    }\n",
       "\n",
       "    .dataframe tbody tr th {\n",
       "        vertical-align: top;\n",
       "    }\n",
       "\n",
       "    .dataframe thead th {\n",
       "        text-align: right;\n",
       "    }\n",
       "</style>\n",
       "<table border=\"1\" class=\"dataframe\">\n",
       "  <thead>\n",
       "    <tr style=\"text-align: right;\">\n",
       "      <th></th>\n",
       "      <th>Term</th>\n",
       "      <th>Freq</th>\n",
       "      <th>Total</th>\n",
       "      <th>Category</th>\n",
       "      <th>logprob</th>\n",
       "      <th>loglift</th>\n",
       "    </tr>\n",
       "  </thead>\n",
       "  <tbody>\n",
       "    <tr>\n",
       "      <th>14204</th>\n",
       "      <td>maxaxaxaxaxaxaxaxaxaxaxaxaxaxax</td>\n",
       "      <td>3519.0</td>\n",
       "      <td>3519.0</td>\n",
       "      <td>Default</td>\n",
       "      <td>30.0</td>\n",
       "      <td>30.0</td>\n",
       "    </tr>\n",
       "    <tr>\n",
       "      <th>139</th>\n",
       "      <td>would</td>\n",
       "      <td>6084.0</td>\n",
       "      <td>6084.0</td>\n",
       "      <td>Default</td>\n",
       "      <td>29.0</td>\n",
       "      <td>29.0</td>\n",
       "    </tr>\n",
       "    <tr>\n",
       "      <th>116</th>\n",
       "      <td>know</td>\n",
       "      <td>3491.0</td>\n",
       "      <td>3491.0</td>\n",
       "      <td>Default</td>\n",
       "      <td>28.0</td>\n",
       "      <td>28.0</td>\n",
       "    </tr>\n",
       "    <tr>\n",
       "      <th>266</th>\n",
       "      <td>file</td>\n",
       "      <td>1745.0</td>\n",
       "      <td>1745.0</td>\n",
       "      <td>Default</td>\n",
       "      <td>27.0</td>\n",
       "      <td>27.0</td>\n",
       "    </tr>\n",
       "    <tr>\n",
       "      <th>1197</th>\n",
       "      <td>please</td>\n",
       "      <td>1485.0</td>\n",
       "      <td>1485.0</td>\n",
       "      <td>Default</td>\n",
       "      <td>26.0</td>\n",
       "      <td>26.0</td>\n",
       "    </tr>\n",
       "    <tr>\n",
       "      <th>406</th>\n",
       "      <td>thanks</td>\n",
       "      <td>1221.0</td>\n",
       "      <td>1221.0</td>\n",
       "      <td>Default</td>\n",
       "      <td>25.0</td>\n",
       "      <td>25.0</td>\n",
       "    </tr>\n",
       "    <tr>\n",
       "      <th>371</th>\n",
       "      <td>anyone</td>\n",
       "      <td>1556.0</td>\n",
       "      <td>1556.0</td>\n",
       "      <td>Default</td>\n",
       "      <td>24.0</td>\n",
       "      <td>24.0</td>\n",
       "    </tr>\n",
       "    <tr>\n",
       "      <th>203</th>\n",
       "      <td>use</td>\n",
       "      <td>3303.0</td>\n",
       "      <td>3303.0</td>\n",
       "      <td>Default</td>\n",
       "      <td>23.0</td>\n",
       "      <td>23.0</td>\n",
       "    </tr>\n",
       "    <tr>\n",
       "      <th>86</th>\n",
       "      <td>new</td>\n",
       "      <td>2536.0</td>\n",
       "      <td>2536.0</td>\n",
       "      <td>Default</td>\n",
       "      <td>22.0</td>\n",
       "      <td>22.0</td>\n",
       "    </tr>\n",
       "    <tr>\n",
       "      <th>737</th>\n",
       "      <td>email</td>\n",
       "      <td>1227.0</td>\n",
       "      <td>1227.0</td>\n",
       "      <td>Default</td>\n",
       "      <td>21.0</td>\n",
       "      <td>21.0</td>\n",
       "    </tr>\n",
       "  </tbody>\n",
       "</table>\n",
       "</div>"
      ],
      "text/plain": [
       "                                  Term    Freq   Total Category  logprob  \\\n",
       "14204  maxaxaxaxaxaxaxaxaxaxaxaxaxaxax  3519.0  3519.0  Default     30.0   \n",
       "139                              would  6084.0  6084.0  Default     29.0   \n",
       "116                               know  3491.0  3491.0  Default     28.0   \n",
       "266                               file  1745.0  1745.0  Default     27.0   \n",
       "1197                            please  1485.0  1485.0  Default     26.0   \n",
       "406                             thanks  1221.0  1221.0  Default     25.0   \n",
       "371                             anyone  1556.0  1556.0  Default     24.0   \n",
       "203                                use  3303.0  3303.0  Default     23.0   \n",
       "86                                 new  2536.0  2536.0  Default     22.0   \n",
       "737                              email  1227.0  1227.0  Default     21.0   \n",
       "\n",
       "       loglift  \n",
       "14204     30.0  \n",
       "139       29.0  \n",
       "116       28.0  \n",
       "266       27.0  \n",
       "1197      26.0  \n",
       "406       25.0  \n",
       "371       24.0  \n",
       "203       23.0  \n",
       "86        22.0  \n",
       "737       21.0  "
      ]
     },
     "execution_count": 413,
     "metadata": {},
     "output_type": "execute_result"
    }
   ],
   "source": [
    "# preview pyLDAvis output\n",
    "lda_display.topic_info.head(10)"
   ]
  },
  {
   "cell_type": "code",
   "execution_count": 443,
   "id": "2dd30620",
   "metadata": {
    "scrolled": true
   },
   "outputs": [
    {
     "name": "stdout",
     "output_type": "stream",
     "text": [
      "dataframe shape: (17, 2)\n"
     ]
    },
    {
     "data": {
      "text/html": [
       "<div>\n",
       "<style scoped>\n",
       "    .dataframe tbody tr th:only-of-type {\n",
       "        vertical-align: middle;\n",
       "    }\n",
       "\n",
       "    .dataframe tbody tr th {\n",
       "        vertical-align: top;\n",
       "    }\n",
       "\n",
       "    .dataframe thead th {\n",
       "        text-align: right;\n",
       "    }\n",
       "</style>\n",
       "<table border=\"1\" class=\"dataframe\">\n",
       "  <thead>\n",
       "    <tr style=\"text-align: right;\">\n",
       "      <th></th>\n",
       "      <th>topic</th>\n",
       "      <th>keywords_by_relevance</th>\n",
       "    </tr>\n",
       "  </thead>\n",
       "  <tbody>\n",
       "    <tr>\n",
       "      <th>12</th>\n",
       "      <td>12</td>\n",
       "      <td>[engine, candida, borland, oil, exhaust]</td>\n",
       "    </tr>\n",
       "    <tr>\n",
       "      <th>13</th>\n",
       "      <td>13</td>\n",
       "      <td>[dog, cubs, yankees, sox, allocation]</td>\n",
       "    </tr>\n",
       "    <tr>\n",
       "      <th>14</th>\n",
       "      <td>14</td>\n",
       "      <td>[window, widget, int, client, null]</td>\n",
       "    </tr>\n",
       "    <tr>\n",
       "      <th>15</th>\n",
       "      <td>15</td>\n",
       "      <td>[turkish, greek, jesus, turkey, jews]</td>\n",
       "    </tr>\n",
       "    <tr>\n",
       "      <th>16</th>\n",
       "      <td>16</td>\n",
       "      <td>[entries, contest, mailing, anonymous, guidelines]</td>\n",
       "    </tr>\n",
       "  </tbody>\n",
       "</table>\n",
       "</div>"
      ],
      "text/plain": [
       "    topic                               keywords_by_relevance\n",
       "12     12            [engine, candida, borland, oil, exhaust]\n",
       "13     13               [dog, cubs, yankees, sox, allocation]\n",
       "14     14                 [window, widget, int, client, null]\n",
       "15     15               [turkish, greek, jesus, turkey, jews]\n",
       "16     16  [entries, contest, mailing, anonymous, guidelines]"
      ]
     },
     "execution_count": 443,
     "metadata": {},
     "output_type": "execute_result"
    }
   ],
   "source": [
    "df_topic_terms_relevance = pd.DataFrame()\n",
    "\n",
    "# smaller lambda leads to topic-exculisive terms, but is susceptible to fetch anomalies\n",
    "lambd = 0.1\n",
    "\n",
    "for i in range(1, BEST_NUM_TOPICS+1):\n",
    "    # separate topic i terms\n",
    "    topic = lda_display.topic_info[lda_display.topic_info.Category == 'Topic'+str(i)].copy()\n",
    "    \n",
    "    # calculate topic i terms relevancy\n",
    "    topic['relevance'] = lambd*topic['logprob'] + (1-lambd)*topic['loglift']\n",
    "    \n",
    "    # get top NUM_TOP_WORDS_PER_TOPIC terms\n",
    "    top_relevant_terms = topic.sort_values(by='relevance', ascending=False).Term[:NUM_TOP_WORDS_PER_TOPIC].values\n",
    "    \n",
    "    # append selected terms\n",
    "    df_topic_terms_relevance = pd.concat([df_topic_terms_relevance,\n",
    "                                            pd.DataFrame.from_records([{'topic': i-1, 'keywords_by_relevance': top_relevant_terms}])])\n",
    "    \n",
    "df_topic_terms_relevance.reset_index(inplace=True, drop=True)\n",
    "\n",
    "print(f\"dataframe shape: {df_topic_terms_relevance.shape}\")\n",
    "df_topic_terms_relevance.tail()"
   ]
  },
  {
   "cell_type": "code",
   "execution_count": 478,
   "id": "d3adb697",
   "metadata": {},
   "outputs": [
    {
     "name": "stdout",
     "output_type": "stream",
     "text": [
      "dataframe shape: (17, 4)\n"
     ]
    },
    {
     "data": {
      "text/html": [
       "<div>\n",
       "<style scoped>\n",
       "    .dataframe tbody tr th:only-of-type {\n",
       "        vertical-align: middle;\n",
       "    }\n",
       "\n",
       "    .dataframe tbody tr th {\n",
       "        vertical-align: top;\n",
       "    }\n",
       "\n",
       "    .dataframe thead th {\n",
       "        text-align: right;\n",
       "    }\n",
       "</style>\n",
       "<table border=\"1\" class=\"dataframe\">\n",
       "  <thead>\n",
       "    <tr style=\"text-align: right;\">\n",
       "      <th></th>\n",
       "      <th>topic</th>\n",
       "      <th>coherence</th>\n",
       "      <th>keywords</th>\n",
       "      <th>keywords_by_relevance</th>\n",
       "    </tr>\n",
       "  </thead>\n",
       "  <tbody>\n",
       "    <tr>\n",
       "      <th>0</th>\n",
       "      <td>0</td>\n",
       "      <td>0.590652</td>\n",
       "      <td>[maxaxaxaxaxaxaxaxaxaxaxaxaxaxax, thanks, please, anyone, email]</td>\n",
       "      <td>[maxaxaxaxaxaxaxaxaxaxaxaxaxaxax, pointer, advance, toyota, gifs]</td>\n",
       "    </tr>\n",
       "    <tr>\n",
       "      <th>1</th>\n",
       "      <td>1</td>\n",
       "      <td>0.536708</td>\n",
       "      <td>[would, people, one, think, say]</td>\n",
       "      <td>[truth, believe, argument, christianity, moral]</td>\n",
       "    </tr>\n",
       "    <tr>\n",
       "      <th>2</th>\n",
       "      <td>2</td>\n",
       "      <td>0.736432</td>\n",
       "      <td>[game, team, games, year, play]</td>\n",
       "      <td>[game, season, players, league, team]</td>\n",
       "    </tr>\n",
       "    <tr>\n",
       "      <th>3</th>\n",
       "      <td>3</td>\n",
       "      <td>0.588454</td>\n",
       "      <td>[health, use, medical, pain, among]</td>\n",
       "      <td>[disease, medical, patients, diseases, adl]</td>\n",
       "    </tr>\n",
       "    <tr>\n",
       "      <th>4</th>\n",
       "      <td>4</td>\n",
       "      <td>0.485221</td>\n",
       "      <td>[one, get, like, would, good]</td>\n",
       "      <td>[car, cars, nec, wire, bikes]</td>\n",
       "    </tr>\n",
       "  </tbody>\n",
       "</table>\n",
       "</div>"
      ],
      "text/plain": [
       "   topic  coherence  \\\n",
       "0      0   0.590652   \n",
       "1      1   0.536708   \n",
       "2      2   0.736432   \n",
       "3      3   0.588454   \n",
       "4      4   0.485221   \n",
       "\n",
       "                                                           keywords  \\\n",
       "0  [maxaxaxaxaxaxaxaxaxaxaxaxaxaxax, thanks, please, anyone, email]   \n",
       "1                                  [would, people, one, think, say]   \n",
       "2                                   [game, team, games, year, play]   \n",
       "3                               [health, use, medical, pain, among]   \n",
       "4                                     [one, get, like, would, good]   \n",
       "\n",
       "                                               keywords_by_relevance  \n",
       "0  [maxaxaxaxaxaxaxaxaxaxaxaxaxaxax, pointer, advance, toyota, gifs]  \n",
       "1                    [truth, believe, argument, christianity, moral]  \n",
       "2                              [game, season, players, league, team]  \n",
       "3                        [disease, medical, patients, diseases, adl]  \n",
       "4                                      [car, cars, nec, wire, bikes]  "
      ]
     },
     "execution_count": 478,
     "metadata": {},
     "output_type": "execute_result"
    }
   ],
   "source": [
    "# merge top relevant terms\n",
    "df_topics = pd.merge(\n",
    "    left=df_topics,\n",
    "    right=df_topic_terms_relevance,\n",
    "    left_on='topic',\n",
    "    right_on='topic',\n",
    ")\n",
    "\n",
    "print(f\"dataframe shape: {df_topics.shape}\")\n",
    "df_topics.head()"
   ]
  },
  {
   "cell_type": "markdown",
   "id": "ef69cc7d",
   "metadata": {},
   "source": [
    "### Visualise Documents by Dominant Topics"
   ]
  },
  {
   "cell_type": "code",
   "execution_count": 447,
   "id": "241b07d7",
   "metadata": {},
   "outputs": [
    {
     "data": {
      "text/plain": [
       "[(1, 0.43112642), (5, 0.32567912), (10, 0.065627016), (15, 0.16559733)]"
      ]
     },
     "execution_count": 447,
     "metadata": {},
     "output_type": "execute_result"
    }
   ],
   "source": [
    "# preview topics for doc 1\n",
    "lda_model_tuned.get_document_topics(corpus[0])"
   ]
  },
  {
   "cell_type": "code",
   "execution_count": 448,
   "id": "18f0288b",
   "metadata": {},
   "outputs": [
    {
     "data": {
      "text/plain": [
       "1"
      ]
     },
     "execution_count": 448,
     "metadata": {},
     "output_type": "execute_result"
    }
   ],
   "source": [
    "# extract the dominant topic \n",
    "sorted(lda_model_tuned.get_document_topics(corpus[0]), key=lambda x: x[1], reverse=True)[0][0]"
   ]
  },
  {
   "cell_type": "code",
   "execution_count": 449,
   "id": "12508580",
   "metadata": {},
   "outputs": [
    {
     "name": "stdout",
     "output_type": "stream",
     "text": [
      "preview dominant topics: [1, 1, 5, 4, 2, 1, 11, 1, 1, 4]\n"
     ]
    }
   ],
   "source": [
    "func_get_dominant_topic = lambda x: sorted(lda_model_tuned.get_document_topics(x), key=lambda x: x[1], reverse=True)[0][0]\n",
    "\n",
    "text_dominant_topic = [ func_get_dominant_topic(x) for x in corpus ]\n",
    "\n",
    "print(f\"preview dominant topics: {text_dominant_topic[:10]}\")"
   ]
  },
  {
   "cell_type": "code",
   "execution_count": 450,
   "id": "5b23176f",
   "metadata": {},
   "outputs": [],
   "source": [
    "# sanity check the documents lengths\n",
    "\n",
    "assert df.shape[0] == len(corpus) == len(text_dominant_topic)"
   ]
  },
  {
   "cell_type": "code",
   "execution_count": 451,
   "id": "28ce8888",
   "metadata": {},
   "outputs": [
    {
     "name": "stdout",
     "output_type": "stream",
     "text": [
      "dataframe shape: (10974, 5)\n"
     ]
    },
    {
     "data": {
      "text/html": [
       "<div>\n",
       "<style scoped>\n",
       "    .dataframe tbody tr th:only-of-type {\n",
       "        vertical-align: middle;\n",
       "    }\n",
       "\n",
       "    .dataframe tbody tr th {\n",
       "        vertical-align: top;\n",
       "    }\n",
       "\n",
       "    .dataframe thead th {\n",
       "        text-align: right;\n",
       "    }\n",
       "</style>\n",
       "<table border=\"1\" class=\"dataframe\">\n",
       "  <thead>\n",
       "    <tr style=\"text-align: right;\">\n",
       "      <th></th>\n",
       "      <th>text</th>\n",
       "      <th>category</th>\n",
       "      <th>text_preprocessed</th>\n",
       "      <th>text_tokenized</th>\n",
       "      <th>dominant_topic</th>\n",
       "    </tr>\n",
       "  </thead>\n",
       "  <tbody>\n",
       "    <tr>\n",
       "      <th>0</th>\n",
       "      <td>Well i'm not sure about the story nad it did seem biased. What\\nI disagree with is your statemen...</td>\n",
       "      <td>17</td>\n",
       "      <td>well sure story nad seem biased disagree statement media ruin israels reputation rediculous medi...</td>\n",
       "      <td>[well, sure, story, nad, seem, biased, disagree, statement, media, ruin, israels, reputation, re...</td>\n",
       "      <td>1</td>\n",
       "    </tr>\n",
       "    <tr>\n",
       "      <th>1</th>\n",
       "      <td>\\n\\n\\n\\n\\n\\n\\nYeah, do you expect people to read the FAQ, etc. and actually accept hard\\natheism...</td>\n",
       "      <td>0</td>\n",
       "      <td>yeah expect people read faq etc actually accept hard atheism need little leap faith jimmy logic ...</td>\n",
       "      <td>[yeah, expect, people, read, faq, etc, actually, accept, hard, atheism, need, little, leap, fait...</td>\n",
       "      <td>1</td>\n",
       "    </tr>\n",
       "    <tr>\n",
       "      <th>2</th>\n",
       "      <td>Although I realize that principle is not one of your strongest\\npoints, I would still like to kn...</td>\n",
       "      <td>17</td>\n",
       "      <td>although realize principle one strongest points would still like know ask question sort arab cou...</td>\n",
       "      <td>[although, realize, principle, one, strongest, points, would, still, like, know, ask, question, ...</td>\n",
       "      <td>5</td>\n",
       "    </tr>\n",
       "    <tr>\n",
       "      <th>3</th>\n",
       "      <td>Notwithstanding all the legitimate fuss about this proposal, how much\\nof a change is it?  ATT's...</td>\n",
       "      <td>11</td>\n",
       "      <td>notwithstanding legitimate fuss proposal much change atts last product area priced suspect clipp...</td>\n",
       "      <td>[notwithstanding, legitimate, fuss, proposal, much, change, atts, last, product, area, priced, s...</td>\n",
       "      <td>4</td>\n",
       "    </tr>\n",
       "    <tr>\n",
       "      <th>4</th>\n",
       "      <td>Well, I will have to change the scoring on my playoff pool.  Unfortunately\\nI don't have time ri...</td>\n",
       "      <td>10</td>\n",
       "      <td>well change scoring playoff pool unfortunately time right now certainly post new scoring rules t...</td>\n",
       "      <td>[well, change, scoring, playoff, pool, unfortunately, time, right, now, certainly, post, new, sc...</td>\n",
       "      <td>2</td>\n",
       "    </tr>\n",
       "  </tbody>\n",
       "</table>\n",
       "</div>"
      ],
      "text/plain": [
       "                                                                                                  text  \\\n",
       "0  Well i'm not sure about the story nad it did seem biased. What\\nI disagree with is your statemen...   \n",
       "1  \\n\\n\\n\\n\\n\\n\\nYeah, do you expect people to read the FAQ, etc. and actually accept hard\\natheism...   \n",
       "2  Although I realize that principle is not one of your strongest\\npoints, I would still like to kn...   \n",
       "3  Notwithstanding all the legitimate fuss about this proposal, how much\\nof a change is it?  ATT's...   \n",
       "4  Well, I will have to change the scoring on my playoff pool.  Unfortunately\\nI don't have time ri...   \n",
       "\n",
       "   category  \\\n",
       "0        17   \n",
       "1         0   \n",
       "2        17   \n",
       "3        11   \n",
       "4        10   \n",
       "\n",
       "                                                                                     text_preprocessed  \\\n",
       "0  well sure story nad seem biased disagree statement media ruin israels reputation rediculous medi...   \n",
       "1  yeah expect people read faq etc actually accept hard atheism need little leap faith jimmy logic ...   \n",
       "2  although realize principle one strongest points would still like know ask question sort arab cou...   \n",
       "3  notwithstanding legitimate fuss proposal much change atts last product area priced suspect clipp...   \n",
       "4  well change scoring playoff pool unfortunately time right now certainly post new scoring rules t...   \n",
       "\n",
       "                                                                                        text_tokenized  \\\n",
       "0  [well, sure, story, nad, seem, biased, disagree, statement, media, ruin, israels, reputation, re...   \n",
       "1  [yeah, expect, people, read, faq, etc, actually, accept, hard, atheism, need, little, leap, fait...   \n",
       "2  [although, realize, principle, one, strongest, points, would, still, like, know, ask, question, ...   \n",
       "3  [notwithstanding, legitimate, fuss, proposal, much, change, atts, last, product, area, priced, s...   \n",
       "4  [well, change, scoring, playoff, pool, unfortunately, time, right, now, certainly, post, new, sc...   \n",
       "\n",
       "   dominant_topic  \n",
       "0               1  \n",
       "1               1  \n",
       "2               5  \n",
       "3               4  \n",
       "4               2  "
      ]
     },
     "execution_count": 451,
     "metadata": {},
     "output_type": "execute_result"
    }
   ],
   "source": [
    "df[\"dominant_topic\"] = text_dominant_topic\n",
    "\n",
    "print(f\"dataframe shape: {df.shape}\")\n",
    "df.head()"
   ]
  },
  {
   "cell_type": "code",
   "execution_count": 476,
   "id": "88afb7a7",
   "metadata": {},
   "outputs": [
    {
     "name": "stdout",
     "output_type": "stream",
     "text": [
      "dataframe shape: (17, 2)\n"
     ]
    },
    {
     "data": {
      "text/html": [
       "<div>\n",
       "<style scoped>\n",
       "    .dataframe tbody tr th:only-of-type {\n",
       "        vertical-align: middle;\n",
       "    }\n",
       "\n",
       "    .dataframe tbody tr th {\n",
       "        vertical-align: top;\n",
       "    }\n",
       "\n",
       "    .dataframe thead th {\n",
       "        text-align: right;\n",
       "    }\n",
       "</style>\n",
       "<table border=\"1\" class=\"dataframe\">\n",
       "  <thead>\n",
       "    <tr style=\"text-align: right;\">\n",
       "      <th></th>\n",
       "      <th>topic</th>\n",
       "      <th>count</th>\n",
       "    </tr>\n",
       "  </thead>\n",
       "  <tbody>\n",
       "    <tr>\n",
       "      <th>0</th>\n",
       "      <td>0</td>\n",
       "      <td>308</td>\n",
       "    </tr>\n",
       "    <tr>\n",
       "      <th>1</th>\n",
       "      <td>1</td>\n",
       "      <td>2537</td>\n",
       "    </tr>\n",
       "    <tr>\n",
       "      <th>2</th>\n",
       "      <td>2</td>\n",
       "      <td>698</td>\n",
       "    </tr>\n",
       "    <tr>\n",
       "      <th>3</th>\n",
       "      <td>3</td>\n",
       "      <td>97</td>\n",
       "    </tr>\n",
       "    <tr>\n",
       "      <th>4</th>\n",
       "      <td>4</td>\n",
       "      <td>2455</td>\n",
       "    </tr>\n",
       "  </tbody>\n",
       "</table>\n",
       "</div>"
      ],
      "text/plain": [
       "   topic  count\n",
       "0      0    308\n",
       "1      1   2537\n",
       "2      2    698\n",
       "3      3     97\n",
       "4      4   2455"
      ]
     },
     "execution_count": 476,
     "metadata": {},
     "output_type": "execute_result"
    }
   ],
   "source": [
    "# count documents per topic\n",
    "df_doc_per_topic_count = df.groupby('dominant_topic').aggregate(['count'])['text'].reset_index()\n",
    "\n",
    "df_doc_per_topic_count.rename(columns={'dominant_topic': 'topic'}, inplace=True)\n",
    "\n",
    "print(f\"dataframe shape: {df_doc_per_topic_count.shape}\")\n",
    "df_doc_per_topic_count.head()"
   ]
  },
  {
   "cell_type": "code",
   "execution_count": 479,
   "id": "d739348f",
   "metadata": {},
   "outputs": [
    {
     "name": "stdout",
     "output_type": "stream",
     "text": [
      "dataframe shape: (17, 5)\n"
     ]
    },
    {
     "data": {
      "text/html": [
       "<div>\n",
       "<style scoped>\n",
       "    .dataframe tbody tr th:only-of-type {\n",
       "        vertical-align: middle;\n",
       "    }\n",
       "\n",
       "    .dataframe tbody tr th {\n",
       "        vertical-align: top;\n",
       "    }\n",
       "\n",
       "    .dataframe thead th {\n",
       "        text-align: right;\n",
       "    }\n",
       "</style>\n",
       "<table border=\"1\" class=\"dataframe\">\n",
       "  <thead>\n",
       "    <tr style=\"text-align: right;\">\n",
       "      <th></th>\n",
       "      <th>topic</th>\n",
       "      <th>coherence</th>\n",
       "      <th>keywords</th>\n",
       "      <th>keywords_by_relevance</th>\n",
       "      <th>num_documents</th>\n",
       "    </tr>\n",
       "  </thead>\n",
       "  <tbody>\n",
       "    <tr>\n",
       "      <th>0</th>\n",
       "      <td>0</td>\n",
       "      <td>0.590652</td>\n",
       "      <td>[maxaxaxaxaxaxaxaxaxaxaxaxaxaxax, thanks, please, anyone, email]</td>\n",
       "      <td>[maxaxaxaxaxaxaxaxaxaxaxaxaxaxax, pointer, advance, toyota, gifs]</td>\n",
       "      <td>308</td>\n",
       "    </tr>\n",
       "    <tr>\n",
       "      <th>1</th>\n",
       "      <td>1</td>\n",
       "      <td>0.536708</td>\n",
       "      <td>[would, people, one, think, say]</td>\n",
       "      <td>[truth, believe, argument, christianity, moral]</td>\n",
       "      <td>2537</td>\n",
       "    </tr>\n",
       "    <tr>\n",
       "      <th>2</th>\n",
       "      <td>2</td>\n",
       "      <td>0.736432</td>\n",
       "      <td>[game, team, games, year, play]</td>\n",
       "      <td>[game, season, players, league, team]</td>\n",
       "      <td>698</td>\n",
       "    </tr>\n",
       "    <tr>\n",
       "      <th>3</th>\n",
       "      <td>3</td>\n",
       "      <td>0.588454</td>\n",
       "      <td>[health, use, medical, pain, among]</td>\n",
       "      <td>[disease, medical, patients, diseases, adl]</td>\n",
       "      <td>97</td>\n",
       "    </tr>\n",
       "    <tr>\n",
       "      <th>4</th>\n",
       "      <td>4</td>\n",
       "      <td>0.485221</td>\n",
       "      <td>[one, get, like, would, good]</td>\n",
       "      <td>[car, cars, nec, wire, bikes]</td>\n",
       "      <td>2455</td>\n",
       "    </tr>\n",
       "  </tbody>\n",
       "</table>\n",
       "</div>"
      ],
      "text/plain": [
       "   topic  coherence  \\\n",
       "0      0   0.590652   \n",
       "1      1   0.536708   \n",
       "2      2   0.736432   \n",
       "3      3   0.588454   \n",
       "4      4   0.485221   \n",
       "\n",
       "                                                           keywords  \\\n",
       "0  [maxaxaxaxaxaxaxaxaxaxaxaxaxaxax, thanks, please, anyone, email]   \n",
       "1                                  [would, people, one, think, say]   \n",
       "2                                   [game, team, games, year, play]   \n",
       "3                               [health, use, medical, pain, among]   \n",
       "4                                     [one, get, like, would, good]   \n",
       "\n",
       "                                               keywords_by_relevance  \\\n",
       "0  [maxaxaxaxaxaxaxaxaxaxaxaxaxaxax, pointer, advance, toyota, gifs]   \n",
       "1                    [truth, believe, argument, christianity, moral]   \n",
       "2                              [game, season, players, league, team]   \n",
       "3                        [disease, medical, patients, diseases, adl]   \n",
       "4                                      [car, cars, nec, wire, bikes]   \n",
       "\n",
       "   num_documents  \n",
       "0            308  \n",
       "1           2537  \n",
       "2            698  \n",
       "3             97  \n",
       "4           2455  "
      ]
     },
     "execution_count": 479,
     "metadata": {},
     "output_type": "execute_result"
    }
   ],
   "source": [
    "# merge doc count per topic\n",
    "df_topics = pd.merge(\n",
    "    left=df_topics,\n",
    "    right=df_doc_per_topic_count,\n",
    "    left_on='topic',\n",
    "    right_on='topic',\n",
    ")\n",
    "\n",
    "df_topics.rename(columns={'count': 'num_documents'}, inplace=True)\n",
    "\n",
    "print(f\"dataframe shape: {df_topics.shape}\")\n",
    "df_topics.head()"
   ]
  },
  {
   "cell_type": "code",
   "execution_count": 537,
   "id": "1a759285",
   "metadata": {
    "scrolled": true
   },
   "outputs": [
    {
     "data": {
      "image/png": "[encoded data removed]",
      "text/plain": [
       "<Figure size 864x288 with 1 Axes>"
      ]
     },
     "metadata": {
      "needs_background": "light"
     },
     "output_type": "display_data"
    }
   ],
   "source": [
    "plt.figure(figsize=(12, 4))\n",
    "\n",
    "df_topics_sorted_num_docs = df_topics.sort_values('num_documents', ascending=False)\n",
    "\n",
    "plt.xlabel('topic')\n",
    "plt.ylabel('number of documents')\n",
    "\n",
    "\n",
    "sns.barplot(x='topic',\n",
    "            y='num_documents',\n",
    "            data=df_topics_sorted_num_docs,\n",
    "            order=df_topics_sorted_num_docs['topic'],\n",
    "            palette='Blues_r'\n",
    ")\n",
    "\n",
    "legend = (\n",
    "    'topic ' +\\\n",
    "    df_topics_sorted_num_docs['topic'].astype(str) +\\\n",
    "    ': ' +\\\n",
    "    df_topics_sorted_num_docs['keywords_by_relevance'].apply(lambda x: ', '.join(x))\n",
    ")\n",
    "\n",
    "plt.legend(labels=legend, loc=2, bbox_to_anchor=(1, 1), handletextpad=0.5, handlelength=0)\n",
    "sns.despine()"
   ]
  },
  {
   "cell_type": "markdown",
   "id": "84387d50",
   "metadata": {},
   "source": [
    "### Topics"
   ]
  },
  {
   "cell_type": "code",
   "execution_count": 323,
   "id": "f696716f",
   "metadata": {},
   "outputs": [
    {
     "data": {
      "text/html": [
       "<div>\n",
       "<style scoped>\n",
       "    .dataframe tbody tr th:only-of-type {\n",
       "        vertical-align: middle;\n",
       "    }\n",
       "\n",
       "    .dataframe tbody tr th {\n",
       "        vertical-align: top;\n",
       "    }\n",
       "\n",
       "    .dataframe thead th {\n",
       "        text-align: right;\n",
       "    }\n",
       "</style>\n",
       "<table border=\"1\" class=\"dataframe\">\n",
       "  <thead>\n",
       "    <tr style=\"text-align: right;\">\n",
       "      <th></th>\n",
       "      <th>topic</th>\n",
       "      <th>coherence</th>\n",
       "    </tr>\n",
       "  </thead>\n",
       "  <tbody>\n",
       "    <tr>\n",
       "      <th>0</th>\n",
       "      <td>0</td>\n",
       "      <td>0.590652</td>\n",
       "    </tr>\n",
       "    <tr>\n",
       "      <th>1</th>\n",
       "      <td>1</td>\n",
       "      <td>0.536708</td>\n",
       "    </tr>\n",
       "    <tr>\n",
       "      <th>2</th>\n",
       "      <td>2</td>\n",
       "      <td>0.736432</td>\n",
       "    </tr>\n",
       "    <tr>\n",
       "      <th>3</th>\n",
       "      <td>3</td>\n",
       "      <td>0.588454</td>\n",
       "    </tr>\n",
       "    <tr>\n",
       "      <th>4</th>\n",
       "      <td>4</td>\n",
       "      <td>0.485221</td>\n",
       "    </tr>\n",
       "  </tbody>\n",
       "</table>\n",
       "</div>"
      ],
      "text/plain": [
       "   topic  coherence\n",
       "0      0   0.590652\n",
       "1      1   0.536708\n",
       "2      2   0.736432\n",
       "3      3   0.588454\n",
       "4      4   0.485221"
      ]
     },
     "execution_count": 323,
     "metadata": {},
     "output_type": "execute_result"
    }
   ],
   "source": [
    "df_topics = pd.DataFrame(data=zip(range(len(coherence_per_topic)), coherence_per_topic),\n",
    "                        columns=['topic', 'coherence'])\n",
    "\n",
    "df_topics.head()"
   ]
  },
  {
   "cell_type": "code",
   "execution_count": 324,
   "id": "2a5c94ea",
   "metadata": {},
   "outputs": [
    {
     "data": {
      "text/html": [
       "<div>\n",
       "<style scoped>\n",
       "    .dataframe tbody tr th:only-of-type {\n",
       "        vertical-align: middle;\n",
       "    }\n",
       "\n",
       "    .dataframe tbody tr th {\n",
       "        vertical-align: top;\n",
       "    }\n",
       "\n",
       "    .dataframe thead th {\n",
       "        text-align: right;\n",
       "    }\n",
       "</style>\n",
       "<table border=\"1\" class=\"dataframe\">\n",
       "  <thead>\n",
       "    <tr style=\"text-align: right;\">\n",
       "      <th></th>\n",
       "      <th>topic</th>\n",
       "      <th>coherence</th>\n",
       "      <th>doc_count</th>\n",
       "    </tr>\n",
       "  </thead>\n",
       "  <tbody>\n",
       "    <tr>\n",
       "      <th>0</th>\n",
       "      <td>0</td>\n",
       "      <td>0.590652</td>\n",
       "      <td>309</td>\n",
       "    </tr>\n",
       "    <tr>\n",
       "      <th>1</th>\n",
       "      <td>1</td>\n",
       "      <td>0.536708</td>\n",
       "      <td>2537</td>\n",
       "    </tr>\n",
       "    <tr>\n",
       "      <th>2</th>\n",
       "      <td>2</td>\n",
       "      <td>0.736432</td>\n",
       "      <td>699</td>\n",
       "    </tr>\n",
       "    <tr>\n",
       "      <th>3</th>\n",
       "      <td>3</td>\n",
       "      <td>0.588454</td>\n",
       "      <td>97</td>\n",
       "    </tr>\n",
       "    <tr>\n",
       "      <th>4</th>\n",
       "      <td>4</td>\n",
       "      <td>0.485221</td>\n",
       "      <td>2456</td>\n",
       "    </tr>\n",
       "  </tbody>\n",
       "</table>\n",
       "</div>"
      ],
      "text/plain": [
       "   topic  coherence  doc_count\n",
       "0      0   0.590652        309\n",
       "1      1   0.536708       2537\n",
       "2      2   0.736432        699\n",
       "3      3   0.588454         97\n",
       "4      4   0.485221       2456"
      ]
     },
     "execution_count": 324,
     "metadata": {},
     "output_type": "execute_result"
    }
   ],
   "source": [
    "df_topics = pd.merge(left=df_topics,\n",
    "                     right=df['dominant_topic'].value_counts().rename('doc_count'),\n",
    "                     left_on='topic',\n",
    "                     right_index=True)\n",
    "df_topics.head()"
   ]
  },
  {
   "cell_type": "code",
   "execution_count": null,
   "id": "fff7c098",
   "metadata": {},
   "outputs": [],
   "source": []
  }
 ],
 "metadata": {
  "kernelspec": {
   "display_name": "Python 3 (ipykernel)",
   "language": "python",
   "name": "python3"
  },
  "language_info": {
   "codemirror_mode": {
    "name": "ipython",
    "version": 3
   },
   "file_extension": ".py",
   "mimetype": "text/x-python",
   "name": "python",
   "nbconvert_exporter": "python",
   "pygments_lexer": "ipython3",
   "version": "3.9.10"
  }
 },
 "nbformat": 4,
 "nbformat_minor": 5
}
