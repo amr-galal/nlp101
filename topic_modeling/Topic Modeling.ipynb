{
 "cells": [
  {
   "cell_type": "code",
   "execution_count": 34,
   "id": "7d198495",
   "metadata": {},
   "outputs": [],
   "source": [
    "import os, sys\n",
    "sys.path.insert(0, os.path.abspath('..'))\n",
    "\n",
    "seed = 1"
   ]
  },
  {
   "cell_type": "code",
   "execution_count": 2,
   "id": "202fc252",
   "metadata": {},
   "outputs": [],
   "source": [
    "%load_ext autoreload\n",
    "%autoreload 2"
   ]
  },
  {
   "cell_type": "code",
   "execution_count": 3,
   "id": "866c3cd4",
   "metadata": {},
   "outputs": [
    {
     "name": "stderr",
     "output_type": "stream",
     "text": [
      "/Users/amrgalal/.pyenv/versions/3.9.10/envs/topic_modeling/lib/python3.9/site-packages/past/builtins/misc.py:45: DeprecationWarning: the imp module is deprecated in favour of importlib; see the module's documentation for alternative uses\n",
      "  from imp import reload\n"
     ]
    }
   ],
   "source": [
    "from sklearn.datasets import fetch_20newsgroups\n",
    "\n",
    "# general packages\n",
    "import pandas as pd\n",
    "pd.set_option('max_colwidth', 100)\n",
    "from nltk.corpus import stopwords\n",
    "import string\n",
    "import re\n",
    "\n",
    "# LDA\n",
    "from gensim.corpora.dictionary import Dictionary\n",
    "from gensim.models import LdaModel\n",
    "from gensim.models import CoherenceModel\n",
    "\n",
    "# visualization\n",
    "from tqdm import tqdm\n",
    "import pyLDAvis.gensim_models\n",
    "# Visualise inside a notebook\n",
    "pyLDAvis.enable_notebook()\n",
    "from matplotlib import pyplot as plt\n",
    "%matplotlib inline\n",
    "import seaborn as sns\n",
    "\n",
    "# preprocessing\n",
    "from preprocessing.text_preprocessor import (\n",
    "    ToLower,\n",
    "    StopwordsRemover,\n",
    "    RegexMapper,\n",
    "    RegexSubstituter,\n",
    "    SequentialRegexSubstituter,\n",
    "    FunctionApplier,\n",
    "    CompositeTextPreprocessors\n",
    ")\n",
    "\n",
    "from preprocessing.text_tokenizer import (\n",
    "    NLTKWordTokenizer,\n",
    "    TextTokenizer\n",
    "\n",
    ")"
   ]
  },
  {
   "cell_type": "markdown",
   "id": "8f68b95d",
   "metadata": {},
   "source": [
    "# 0. Data Preparation"
   ]
  },
  {
   "cell_type": "markdown",
   "id": "2b1d792b",
   "metadata": {},
   "source": [
    "## 0.1. Load Data"
   ]
  },
  {
   "cell_type": "code",
   "execution_count": 178,
   "id": "582b888c",
   "metadata": {},
   "outputs": [],
   "source": [
    "data, target = fetch_20newsgroups(\n",
    "    shuffle=True,\n",
    "    random_state=seed,\n",
    "    remove=(\"headers\", \"footers\", \"quotes\"),\n",
    "    return_X_y=True,\n",
    ")"
   ]
  },
  {
   "cell_type": "markdown",
   "id": "78da1caa",
   "metadata": {},
   "source": [
    "### Quick Analysis"
   ]
  },
  {
   "cell_type": "code",
   "execution_count": 179,
   "id": "aa3a50df",
   "metadata": {},
   "outputs": [
    {
     "name": "stdout",
     "output_type": "stream",
     "text": [
      "dataframe shape: (11314, 2)\n"
     ]
    },
    {
     "data": {
      "text/html": [
       "<div>\n",
       "<style scoped>\n",
       "    .dataframe tbody tr th:only-of-type {\n",
       "        vertical-align: middle;\n",
       "    }\n",
       "\n",
       "    .dataframe tbody tr th {\n",
       "        vertical-align: top;\n",
       "    }\n",
       "\n",
       "    .dataframe thead th {\n",
       "        text-align: right;\n",
       "    }\n",
       "</style>\n",
       "<table border=\"1\" class=\"dataframe\">\n",
       "  <thead>\n",
       "    <tr style=\"text-align: right;\">\n",
       "      <th></th>\n",
       "      <th>text</th>\n",
       "      <th>category</th>\n",
       "    </tr>\n",
       "  </thead>\n",
       "  <tbody>\n",
       "    <tr>\n",
       "      <th>0</th>\n",
       "      <td>Well i'm not sure about the story nad it did seem biased. What\\nI disagree with is your statemen...</td>\n",
       "      <td>17</td>\n",
       "    </tr>\n",
       "    <tr>\n",
       "      <th>1</th>\n",
       "      <td>\\n\\n\\n\\n\\n\\n\\nYeah, do you expect people to read the FAQ, etc. and actually accept hard\\natheism...</td>\n",
       "      <td>0</td>\n",
       "    </tr>\n",
       "    <tr>\n",
       "      <th>2</th>\n",
       "      <td>Although I realize that principle is not one of your strongest\\npoints, I would still like to kn...</td>\n",
       "      <td>17</td>\n",
       "    </tr>\n",
       "    <tr>\n",
       "      <th>3</th>\n",
       "      <td>Notwithstanding all the legitimate fuss about this proposal, how much\\nof a change is it?  ATT's...</td>\n",
       "      <td>11</td>\n",
       "    </tr>\n",
       "    <tr>\n",
       "      <th>4</th>\n",
       "      <td>Well, I will have to change the scoring on my playoff pool.  Unfortunately\\nI don't have time ri...</td>\n",
       "      <td>10</td>\n",
       "    </tr>\n",
       "  </tbody>\n",
       "</table>\n",
       "</div>"
      ],
      "text/plain": [
       "                                                                                                  text  \\\n",
       "0  Well i'm not sure about the story nad it did seem biased. What\\nI disagree with is your statemen...   \n",
       "1  \\n\\n\\n\\n\\n\\n\\nYeah, do you expect people to read the FAQ, etc. and actually accept hard\\natheism...   \n",
       "2  Although I realize that principle is not one of your strongest\\npoints, I would still like to kn...   \n",
       "3  Notwithstanding all the legitimate fuss about this proposal, how much\\nof a change is it?  ATT's...   \n",
       "4  Well, I will have to change the scoring on my playoff pool.  Unfortunately\\nI don't have time ri...   \n",
       "\n",
       "   category  \n",
       "0        17  \n",
       "1         0  \n",
       "2        17  \n",
       "3        11  \n",
       "4        10  "
      ]
     },
     "execution_count": 179,
     "metadata": {},
     "output_type": "execute_result"
    }
   ],
   "source": [
    "df = pd.DataFrame({\"text\": data, \"category\": target})\n",
    "\n",
    "print(f\"dataframe shape: {df.shape}\")\n",
    "df.head()"
   ]
  },
  {
   "cell_type": "code",
   "execution_count": 180,
   "id": "fb110cd3",
   "metadata": {
    "scrolled": true
   },
   "outputs": [
    {
     "name": "stdout",
     "output_type": "stream",
     "text": [
      "number of articles: 11314\n",
      "number of null records: 0\n",
      "number of empty text records: 300\n",
      "number of duplicated articles : 320\n"
     ]
    }
   ],
   "source": [
    "print(f\"number of articles: {df.shape[0]}\")\n",
    "print(f\"number of null records: {df['text'].isna().sum()}\")\n",
    "print(f\"number of empty text records: {(~df['text'].str.strip().astype(bool)).sum()}\")\n",
    "print(f\"number of duplicated articles : {df.duplicated(subset=['text']).sum()}\")"
   ]
  },
  {
   "cell_type": "code",
   "execution_count": 181,
   "id": "2a8da14c",
   "metadata": {},
   "outputs": [
    {
     "name": "stdout",
     "output_type": "stream",
     "text": [
      "dataframe shape: (11014, 2)\n"
     ]
    }
   ],
   "source": [
    "# drop empty text records\n",
    "df = df[df['text'].str.strip().astype(bool)]\n",
    "print(f\"dataframe shape: {df.shape}\")"
   ]
  },
  {
   "cell_type": "markdown",
   "id": "783620cf",
   "metadata": {},
   "source": [
    "#### Check duplicate articles"
   ]
  },
  {
   "cell_type": "code",
   "execution_count": 182,
   "id": "852c6282",
   "metadata": {},
   "outputs": [
    {
     "name": "stdout",
     "output_type": "stream",
     "text": [
      "dataframe shape: (66, 2)\n"
     ]
    },
    {
     "data": {
      "text/html": [
       "<div>\n",
       "<style scoped>\n",
       "    .dataframe tbody tr th:only-of-type {\n",
       "        vertical-align: middle;\n",
       "    }\n",
       "\n",
       "    .dataframe tbody tr th {\n",
       "        vertical-align: top;\n",
       "    }\n",
       "\n",
       "    .dataframe thead th {\n",
       "        text-align: right;\n",
       "    }\n",
       "</style>\n",
       "<table border=\"1\" class=\"dataframe\">\n",
       "  <thead>\n",
       "    <tr style=\"text-align: right;\">\n",
       "      <th></th>\n",
       "      <th>text</th>\n",
       "      <th>category</th>\n",
       "    </tr>\n",
       "  </thead>\n",
       "  <tbody>\n",
       "    <tr>\n",
       "      <th>0</th>\n",
       "      <td>\\n\\nIs this the joke of the month? \\n\\n1. Your fascist grandparents exterminated 2.5 million Mus...</td>\n",
       "      <td>17</td>\n",
       "    </tr>\n",
       "    <tr>\n",
       "      <th>1</th>\n",
       "      <td>\\n\\nIs this the joke of the month? \\n\\n1. Your fascist grandparents exterminated 2.5 million Mus...</td>\n",
       "      <td>17</td>\n",
       "    </tr>\n",
       "    <tr>\n",
       "      <th>2</th>\n",
       "      <td>\\nCould someone please send me the postal and email address of\\nCongruent Corporation (and any c...</td>\n",
       "      <td>5</td>\n",
       "    </tr>\n",
       "    <tr>\n",
       "      <th>3</th>\n",
       "      <td>\\nCould someone please send me the postal and email address of\\nCongruent Corporation (and any c...</td>\n",
       "      <td>5</td>\n",
       "    </tr>\n",
       "    <tr>\n",
       "      <th>4</th>\n",
       "      <td>10 month old stereo system for sale. Luxman R-351 receiver, Onkyo TA-RW404\\ntape deck, and Polk ...</td>\n",
       "      <td>6</td>\n",
       "    </tr>\n",
       "    <tr>\n",
       "      <th>5</th>\n",
       "      <td>10 month old stereo system for sale. Luxman R-351 receiver, Onkyo TA-RW404\\ntape deck, and Polk ...</td>\n",
       "      <td>6</td>\n",
       "    </tr>\n",
       "    <tr>\n",
       "      <th>6</th>\n",
       "      <td>After having OpenWindows \\n(Version 3 for SunOS 4.1) or Xwindows\\nrunning continuously on my mac...</td>\n",
       "      <td>5</td>\n",
       "    </tr>\n",
       "    <tr>\n",
       "      <th>7</th>\n",
       "      <td>After having OpenWindows \\n(Version 3 for SunOS 4.1) or Xwindows\\nrunning continuously on my mac...</td>\n",
       "      <td>5</td>\n",
       "    </tr>\n",
       "    <tr>\n",
       "      <th>8</th>\n",
       "      <td>Anyone, \\n\\n    I am a serious motorcycle enthusiast without a motorcycle, and to\\nput it bluntl...</td>\n",
       "      <td>8</td>\n",
       "    </tr>\n",
       "    <tr>\n",
       "      <th>9</th>\n",
       "      <td>Anyone, \\n\\n    I am a serious motorcycle enthusiast without a motorcycle, and to\\nput it bluntl...</td>\n",
       "      <td>8</td>\n",
       "    </tr>\n",
       "  </tbody>\n",
       "</table>\n",
       "</div>"
      ],
      "text/plain": [
       "                                                                                                  text  \\\n",
       "0  \\n\\nIs this the joke of the month? \\n\\n1. Your fascist grandparents exterminated 2.5 million Mus...   \n",
       "1  \\n\\nIs this the joke of the month? \\n\\n1. Your fascist grandparents exterminated 2.5 million Mus...   \n",
       "2  \\nCould someone please send me the postal and email address of\\nCongruent Corporation (and any c...   \n",
       "3  \\nCould someone please send me the postal and email address of\\nCongruent Corporation (and any c...   \n",
       "4  10 month old stereo system for sale. Luxman R-351 receiver, Onkyo TA-RW404\\ntape deck, and Polk ...   \n",
       "5  10 month old stereo system for sale. Luxman R-351 receiver, Onkyo TA-RW404\\ntape deck, and Polk ...   \n",
       "6  After having OpenWindows \\n(Version 3 for SunOS 4.1) or Xwindows\\nrunning continuously on my mac...   \n",
       "7  After having OpenWindows \\n(Version 3 for SunOS 4.1) or Xwindows\\nrunning continuously on my mac...   \n",
       "8  Anyone, \\n\\n    I am a serious motorcycle enthusiast without a motorcycle, and to\\nput it bluntl...   \n",
       "9  Anyone, \\n\\n    I am a serious motorcycle enthusiast without a motorcycle, and to\\nput it bluntl...   \n",
       "\n",
       "   category  \n",
       "0        17  \n",
       "1        17  \n",
       "2         5  \n",
       "3         5  \n",
       "4         6  \n",
       "5         6  \n",
       "6         5  \n",
       "7         5  \n",
       "8         8  \n",
       "9         8  "
      ]
     },
     "execution_count": 182,
     "metadata": {},
     "output_type": "execute_result"
    }
   ],
   "source": [
    "# preview duplicated records after removing empty text\n",
    "df_duplicates = df[df.duplicated(subset=['text'], keep=False)].sort_values(\"text\").reset_index(drop=True)\n",
    "\n",
    "print(f\"dataframe shape: {df_duplicates.shape}\")\n",
    "df_duplicates.head(10)"
   ]
  },
  {
   "cell_type": "code",
   "execution_count": 183,
   "id": "03aebeb8",
   "metadata": {},
   "outputs": [
    {
     "name": "stdout",
     "output_type": "stream",
     "text": [
      "dataframe shape: (33, 2)\n"
     ]
    },
    {
     "data": {
      "text/html": [
       "<div>\n",
       "<style scoped>\n",
       "    .dataframe tbody tr th:only-of-type {\n",
       "        vertical-align: middle;\n",
       "    }\n",
       "\n",
       "    .dataframe tbody tr th {\n",
       "        vertical-align: top;\n",
       "    }\n",
       "\n",
       "    .dataframe thead th {\n",
       "        text-align: right;\n",
       "    }\n",
       "</style>\n",
       "<table border=\"1\" class=\"dataframe\">\n",
       "  <thead>\n",
       "    <tr style=\"text-align: right;\">\n",
       "      <th></th>\n",
       "      <th>text</th>\n",
       "      <th>different_category_duplication</th>\n",
       "    </tr>\n",
       "  </thead>\n",
       "  <tbody>\n",
       "    <tr>\n",
       "      <th>0</th>\n",
       "      <td>\\n\\nIs this the joke of the month? \\n\\n1. Your fascist grandparents exterminated 2.5 million Mus...</td>\n",
       "      <td>False</td>\n",
       "    </tr>\n",
       "    <tr>\n",
       "      <th>1</th>\n",
       "      <td>\\nCould someone please send me the postal and email address of\\nCongruent Corporation (and any c...</td>\n",
       "      <td>False</td>\n",
       "    </tr>\n",
       "    <tr>\n",
       "      <th>2</th>\n",
       "      <td>10 month old stereo system for sale. Luxman R-351 receiver, Onkyo TA-RW404\\ntape deck, and Polk ...</td>\n",
       "      <td>False</td>\n",
       "    </tr>\n",
       "    <tr>\n",
       "      <th>3</th>\n",
       "      <td>After having OpenWindows \\n(Version 3 for SunOS 4.1) or Xwindows\\nrunning continuously on my mac...</td>\n",
       "      <td>False</td>\n",
       "    </tr>\n",
       "    <tr>\n",
       "      <th>4</th>\n",
       "      <td>Anyone, \\n\\n    I am a serious motorcycle enthusiast without a motorcycle, and to\\nput it bluntl...</td>\n",
       "      <td>False</td>\n",
       "    </tr>\n",
       "    <tr>\n",
       "      <th>5</th>\n",
       "      <td>Article 10886 of alt.radio.scanner:\\nPath: usenet.ins.cwru.edu!cleveland.Freenet.Edu!aj008\\nFrom...</td>\n",
       "      <td>True</td>\n",
       "    </tr>\n",
       "    <tr>\n",
       "      <th>6</th>\n",
       "      <td>CALL FOR PRESENTATIONS\\n\\t\\n      NAVY SCIENTIFIC VISUALIZATION AND VIRTUAL REALITY SEMINAR\\n\\n\\...</td>\n",
       "      <td>True</td>\n",
       "    </tr>\n",
       "    <tr>\n",
       "      <th>7</th>\n",
       "      <td>Can someone please remind me who said a well known quotation? \\n\\nHe was sitting atop a rocket a...</td>\n",
       "      <td>False</td>\n",
       "    </tr>\n",
       "    <tr>\n",
       "      <th>8</th>\n",
       "      <td>Do anyone know about any shading program based on Xlib in the public domain?\\nI need an example ...</td>\n",
       "      <td>False</td>\n",
       "    </tr>\n",
       "    <tr>\n",
       "      <th>9</th>\n",
       "      <td>From: payne@crl.dec.com (Andrew Payne)\\nMessage-ID: &lt;1993Apr20.004418.11548@crl.dec.com&gt;\\nOrgani...</td>\n",
       "      <td>False</td>\n",
       "    </tr>\n",
       "  </tbody>\n",
       "</table>\n",
       "</div>"
      ],
      "text/plain": [
       "                                                                                                  text  \\\n",
       "0  \\n\\nIs this the joke of the month? \\n\\n1. Your fascist grandparents exterminated 2.5 million Mus...   \n",
       "1  \\nCould someone please send me the postal and email address of\\nCongruent Corporation (and any c...   \n",
       "2  10 month old stereo system for sale. Luxman R-351 receiver, Onkyo TA-RW404\\ntape deck, and Polk ...   \n",
       "3  After having OpenWindows \\n(Version 3 for SunOS 4.1) or Xwindows\\nrunning continuously on my mac...   \n",
       "4  Anyone, \\n\\n    I am a serious motorcycle enthusiast without a motorcycle, and to\\nput it bluntl...   \n",
       "5  Article 10886 of alt.radio.scanner:\\nPath: usenet.ins.cwru.edu!cleveland.Freenet.Edu!aj008\\nFrom...   \n",
       "6  CALL FOR PRESENTATIONS\\n\\t\\n      NAVY SCIENTIFIC VISUALIZATION AND VIRTUAL REALITY SEMINAR\\n\\n\\...   \n",
       "7  Can someone please remind me who said a well known quotation? \\n\\nHe was sitting atop a rocket a...   \n",
       "8  Do anyone know about any shading program based on Xlib in the public domain?\\nI need an example ...   \n",
       "9  From: payne@crl.dec.com (Andrew Payne)\\nMessage-ID: <1993Apr20.004418.11548@crl.dec.com>\\nOrgani...   \n",
       "\n",
       "   different_category_duplication  \n",
       "0                           False  \n",
       "1                           False  \n",
       "2                           False  \n",
       "3                           False  \n",
       "4                           False  \n",
       "5                            True  \n",
       "6                            True  \n",
       "7                           False  \n",
       "8                           False  \n",
       "9                           False  "
      ]
     },
     "execution_count": 183,
     "metadata": {},
     "output_type": "execute_result"
    }
   ],
   "source": [
    "# check if articles are not duplicated across multiple categories\n",
    "df_different_category_duplication = (df_duplicates.groupby(\"text\").nunique() > 1)\\\n",
    "                                    .reset_index()\\\n",
    "                                    .rename(columns={'category': 'different_category_duplication'})\n",
    "\n",
    "print(f\"dataframe shape: {df_different_category_duplication.shape}\")\n",
    "df_different_category_duplication.head(10)"
   ]
  },
  {
   "cell_type": "code",
   "execution_count": 184,
   "id": "ad512e1d",
   "metadata": {},
   "outputs": [
    {
     "name": "stdout",
     "output_type": "stream",
     "text": [
      "dataframe shape: (7, 2)\n"
     ]
    },
    {
     "name": "stderr",
     "output_type": "stream",
     "text": [
      "/var/folders/wh/3r2crvs53yv7tvnnrdm8jqxw0000gn/T/ipykernel_4463/1645741638.py:3: UserWarning: Boolean Series key will be reindexed to match DataFrame index.\n",
      "  df_different_category_duplication = df_distinct_duplicate_category[mask_different_category_duplication]\n"
     ]
    },
    {
     "data": {
      "text/html": [
       "<div>\n",
       "<style scoped>\n",
       "    .dataframe tbody tr th:only-of-type {\n",
       "        vertical-align: middle;\n",
       "    }\n",
       "\n",
       "    .dataframe tbody tr th {\n",
       "        vertical-align: top;\n",
       "    }\n",
       "\n",
       "    .dataframe thead th {\n",
       "        text-align: right;\n",
       "    }\n",
       "</style>\n",
       "<table border=\"1\" class=\"dataframe\">\n",
       "  <thead>\n",
       "    <tr style=\"text-align: right;\">\n",
       "      <th></th>\n",
       "      <th>text</th>\n",
       "      <th>different_category_duplication</th>\n",
       "    </tr>\n",
       "  </thead>\n",
       "  <tbody>\n",
       "    <tr>\n",
       "      <th>5</th>\n",
       "      <td>Article 10886 of alt.radio.scanner:\\nPath: usenet.ins.cwru.edu!cleveland.Freenet.Edu!aj008\\nFrom...</td>\n",
       "      <td>True</td>\n",
       "    </tr>\n",
       "    <tr>\n",
       "      <th>6</th>\n",
       "      <td>CALL FOR PRESENTATIONS\\n\\t\\n      NAVY SCIENTIFIC VISUALIZATION AND VIRTUAL REALITY SEMINAR\\n\\n\\...</td>\n",
       "      <td>True</td>\n",
       "    </tr>\n",
       "    <tr>\n",
       "      <th>11</th>\n",
       "      <td>Hello,</td>\n",
       "      <td>True</td>\n",
       "    </tr>\n",
       "    <tr>\n",
       "      <th>18</th>\n",
       "      <td>I am looking for a WINDOW 3.1 driver  for \\n     Cornerstone  DualPage (Cornerstone Technology, ...</td>\n",
       "      <td>True</td>\n",
       "    </tr>\n",
       "    <tr>\n",
       "      <th>26</th>\n",
       "      <td>Tektronix 453 scope for sale:\\n\\n  - 50MHz bandwidth\\n  - portable (NOT one of the 5xx series bo...</td>\n",
       "      <td>True</td>\n",
       "    </tr>\n",
       "    <tr>\n",
       "      <th>28</th>\n",
       "      <td>This article was probably generated by a buggy news reader.\\n</td>\n",
       "      <td>True</td>\n",
       "    </tr>\n",
       "    <tr>\n",
       "      <th>29</th>\n",
       "      <td>This is for a friend of mine. Please send answers directly to him (E-Mail\\nadress see below )!\\n...</td>\n",
       "      <td>True</td>\n",
       "    </tr>\n",
       "  </tbody>\n",
       "</table>\n",
       "</div>"
      ],
      "text/plain": [
       "                                                                                                   text  \\\n",
       "5   Article 10886 of alt.radio.scanner:\\nPath: usenet.ins.cwru.edu!cleveland.Freenet.Edu!aj008\\nFrom...   \n",
       "6   CALL FOR PRESENTATIONS\\n\\t\\n      NAVY SCIENTIFIC VISUALIZATION AND VIRTUAL REALITY SEMINAR\\n\\n\\...   \n",
       "11                                                                                               Hello,   \n",
       "18  I am looking for a WINDOW 3.1 driver  for \\n     Cornerstone  DualPage (Cornerstone Technology, ...   \n",
       "26  Tektronix 453 scope for sale:\\n\\n  - 50MHz bandwidth\\n  - portable (NOT one of the 5xx series bo...   \n",
       "28                                        This article was probably generated by a buggy news reader.\\n   \n",
       "29  This is for a friend of mine. Please send answers directly to him (E-Mail\\nadress see below )!\\n...   \n",
       "\n",
       "    different_category_duplication  \n",
       "5                             True  \n",
       "6                             True  \n",
       "11                            True  \n",
       "18                            True  \n",
       "26                            True  \n",
       "28                            True  \n",
       "29                            True  "
      ]
     },
     "execution_count": 184,
     "metadata": {},
     "output_type": "execute_result"
    }
   ],
   "source": [
    "# keep only articles duplicated across different categories\n",
    "mask_different_category_duplication = df_different_category_duplication[\"different_category_duplication\"] == True\n",
    "df_different_category_duplication = df_distinct_duplicate_category[mask_different_category_duplication]\n",
    "\n",
    "print(f\"dataframe shape: {df_distinct_duplicate_category.shape}\")\n",
    "df_different_category_duplication.head(10)"
   ]
  },
  {
   "cell_type": "code",
   "execution_count": 185,
   "id": "a69085d8",
   "metadata": {},
   "outputs": [
    {
     "data": {
      "text/html": [
       "<div>\n",
       "<style scoped>\n",
       "    .dataframe tbody tr th:only-of-type {\n",
       "        vertical-align: middle;\n",
       "    }\n",
       "\n",
       "    .dataframe tbody tr th {\n",
       "        vertical-align: top;\n",
       "    }\n",
       "\n",
       "    .dataframe thead th {\n",
       "        text-align: right;\n",
       "    }\n",
       "</style>\n",
       "<table border=\"1\" class=\"dataframe\">\n",
       "  <thead>\n",
       "    <tr style=\"text-align: right;\">\n",
       "      <th></th>\n",
       "      <th>text</th>\n",
       "      <th>category</th>\n",
       "      <th>different_category_duplication</th>\n",
       "    </tr>\n",
       "  </thead>\n",
       "  <tbody>\n",
       "    <tr>\n",
       "      <th>0</th>\n",
       "      <td>Article 10886 of alt.radio.scanner:\\nPath: usenet.ins.cwru.edu!cleveland.Freenet.Edu!aj008\\nFrom...</td>\n",
       "      <td>6</td>\n",
       "      <td>True</td>\n",
       "    </tr>\n",
       "    <tr>\n",
       "      <th>1</th>\n",
       "      <td>Article 10886 of alt.radio.scanner:\\nPath: usenet.ins.cwru.edu!cleveland.Freenet.Edu!aj008\\nFrom...</td>\n",
       "      <td>12</td>\n",
       "      <td>True</td>\n",
       "    </tr>\n",
       "    <tr>\n",
       "      <th>2</th>\n",
       "      <td>CALL FOR PRESENTATIONS\\n\\t\\n      NAVY SCIENTIFIC VISUALIZATION AND VIRTUAL REALITY SEMINAR\\n\\n\\...</td>\n",
       "      <td>1</td>\n",
       "      <td>True</td>\n",
       "    </tr>\n",
       "    <tr>\n",
       "      <th>3</th>\n",
       "      <td>CALL FOR PRESENTATIONS\\n\\t\\n      NAVY SCIENTIFIC VISUALIZATION AND VIRTUAL REALITY SEMINAR\\n\\n\\...</td>\n",
       "      <td>2</td>\n",
       "      <td>True</td>\n",
       "    </tr>\n",
       "    <tr>\n",
       "      <th>4</th>\n",
       "      <td>Hello,</td>\n",
       "      <td>1</td>\n",
       "      <td>True</td>\n",
       "    </tr>\n",
       "    <tr>\n",
       "      <th>5</th>\n",
       "      <td>Hello,</td>\n",
       "      <td>13</td>\n",
       "      <td>True</td>\n",
       "    </tr>\n",
       "    <tr>\n",
       "      <th>6</th>\n",
       "      <td>I am looking for a WINDOW 3.1 driver  for \\n     Cornerstone  DualPage (Cornerstone Technology, ...</td>\n",
       "      <td>2</td>\n",
       "      <td>True</td>\n",
       "    </tr>\n",
       "    <tr>\n",
       "      <th>7</th>\n",
       "      <td>I am looking for a WINDOW 3.1 driver  for \\n     Cornerstone  DualPage (Cornerstone Technology, ...</td>\n",
       "      <td>1</td>\n",
       "      <td>True</td>\n",
       "    </tr>\n",
       "    <tr>\n",
       "      <th>8</th>\n",
       "      <td>Tektronix 453 scope for sale:\\n\\n  - 50MHz bandwidth\\n  - portable (NOT one of the 5xx series bo...</td>\n",
       "      <td>6</td>\n",
       "      <td>True</td>\n",
       "    </tr>\n",
       "    <tr>\n",
       "      <th>9</th>\n",
       "      <td>Tektronix 453 scope for sale:\\n\\n  - 50MHz bandwidth\\n  - portable (NOT one of the 5xx series bo...</td>\n",
       "      <td>12</td>\n",
       "      <td>True</td>\n",
       "    </tr>\n",
       "    <tr>\n",
       "      <th>10</th>\n",
       "      <td>This article was probably generated by a buggy news reader.\\n</td>\n",
       "      <td>6</td>\n",
       "      <td>True</td>\n",
       "    </tr>\n",
       "    <tr>\n",
       "      <th>11</th>\n",
       "      <td>This article was probably generated by a buggy news reader.\\n</td>\n",
       "      <td>1</td>\n",
       "      <td>True</td>\n",
       "    </tr>\n",
       "    <tr>\n",
       "      <th>12</th>\n",
       "      <td>This is for a friend of mine. Please send answers directly to him (E-Mail\\nadress see below )!\\n...</td>\n",
       "      <td>12</td>\n",
       "      <td>True</td>\n",
       "    </tr>\n",
       "    <tr>\n",
       "      <th>13</th>\n",
       "      <td>This is for a friend of mine. Please send answers directly to him (E-Mail\\nadress see below )!\\n...</td>\n",
       "      <td>3</td>\n",
       "      <td>True</td>\n",
       "    </tr>\n",
       "  </tbody>\n",
       "</table>\n",
       "</div>"
      ],
      "text/plain": [
       "                                                                                                   text  \\\n",
       "0   Article 10886 of alt.radio.scanner:\\nPath: usenet.ins.cwru.edu!cleveland.Freenet.Edu!aj008\\nFrom...   \n",
       "1   Article 10886 of alt.radio.scanner:\\nPath: usenet.ins.cwru.edu!cleveland.Freenet.Edu!aj008\\nFrom...   \n",
       "2   CALL FOR PRESENTATIONS\\n\\t\\n      NAVY SCIENTIFIC VISUALIZATION AND VIRTUAL REALITY SEMINAR\\n\\n\\...   \n",
       "3   CALL FOR PRESENTATIONS\\n\\t\\n      NAVY SCIENTIFIC VISUALIZATION AND VIRTUAL REALITY SEMINAR\\n\\n\\...   \n",
       "4                                                                                                Hello,   \n",
       "5                                                                                                Hello,   \n",
       "6   I am looking for a WINDOW 3.1 driver  for \\n     Cornerstone  DualPage (Cornerstone Technology, ...   \n",
       "7   I am looking for a WINDOW 3.1 driver  for \\n     Cornerstone  DualPage (Cornerstone Technology, ...   \n",
       "8   Tektronix 453 scope for sale:\\n\\n  - 50MHz bandwidth\\n  - portable (NOT one of the 5xx series bo...   \n",
       "9   Tektronix 453 scope for sale:\\n\\n  - 50MHz bandwidth\\n  - portable (NOT one of the 5xx series bo...   \n",
       "10                                        This article was probably generated by a buggy news reader.\\n   \n",
       "11                                        This article was probably generated by a buggy news reader.\\n   \n",
       "12  This is for a friend of mine. Please send answers directly to him (E-Mail\\nadress see below )!\\n...   \n",
       "13  This is for a friend of mine. Please send answers directly to him (E-Mail\\nadress see below )!\\n...   \n",
       "\n",
       "    category  different_category_duplication  \n",
       "0          6                            True  \n",
       "1         12                            True  \n",
       "2          1                            True  \n",
       "3          2                            True  \n",
       "4          1                            True  \n",
       "5         13                            True  \n",
       "6          2                            True  \n",
       "7          1                            True  \n",
       "8          6                            True  \n",
       "9         12                            True  \n",
       "10         6                            True  \n",
       "11         1                            True  \n",
       "12        12                            True  \n",
       "13         3                            True  "
      ]
     },
     "execution_count": 185,
     "metadata": {},
     "output_type": "execute_result"
    }
   ],
   "source": [
    "# preview the articles duplicated across different categories\n",
    "pd.merge(\n",
    "    left=df_duplicates,\n",
    "    right=df_different_category_duplication,\n",
    "    left_on='text',\n",
    "    right_on='text',\n",
    "    how='inner'\n",
    ")"
   ]
  },
  {
   "cell_type": "code",
   "execution_count": 192,
   "id": "c2171489",
   "metadata": {},
   "outputs": [
    {
     "name": "stdout",
     "output_type": "stream",
     "text": [
      "dataframe shape: (11000, 2)\n"
     ]
    },
    {
     "data": {
      "text/html": [
       "<div>\n",
       "<style scoped>\n",
       "    .dataframe tbody tr th:only-of-type {\n",
       "        vertical-align: middle;\n",
       "    }\n",
       "\n",
       "    .dataframe tbody tr th {\n",
       "        vertical-align: top;\n",
       "    }\n",
       "\n",
       "    .dataframe thead th {\n",
       "        text-align: right;\n",
       "    }\n",
       "</style>\n",
       "<table border=\"1\" class=\"dataframe\">\n",
       "  <thead>\n",
       "    <tr style=\"text-align: right;\">\n",
       "      <th></th>\n",
       "      <th>text</th>\n",
       "      <th>category</th>\n",
       "      <th>different_category_duplication</th>\n",
       "    </tr>\n",
       "  </thead>\n",
       "  <tbody>\n",
       "    <tr>\n",
       "      <th>0</th>\n",
       "      <td>Well i'm not sure about the story nad it did seem biased. What\\nI disagree with is your statemen...</td>\n",
       "      <td>17</td>\n",
       "      <td>NaN</td>\n",
       "    </tr>\n",
       "    <tr>\n",
       "      <th>1</th>\n",
       "      <td>\\n\\n\\n\\n\\n\\n\\nYeah, do you expect people to read the FAQ, etc. and actually accept hard\\natheism...</td>\n",
       "      <td>0</td>\n",
       "      <td>NaN</td>\n",
       "    </tr>\n",
       "    <tr>\n",
       "      <th>2</th>\n",
       "      <td>Although I realize that principle is not one of your strongest\\npoints, I would still like to kn...</td>\n",
       "      <td>17</td>\n",
       "      <td>NaN</td>\n",
       "    </tr>\n",
       "    <tr>\n",
       "      <th>3</th>\n",
       "      <td>Notwithstanding all the legitimate fuss about this proposal, how much\\nof a change is it?  ATT's...</td>\n",
       "      <td>11</td>\n",
       "      <td>NaN</td>\n",
       "    </tr>\n",
       "    <tr>\n",
       "      <th>4</th>\n",
       "      <td>Well, I will have to change the scoring on my playoff pool.  Unfortunately\\nI don't have time ri...</td>\n",
       "      <td>10</td>\n",
       "      <td>NaN</td>\n",
       "    </tr>\n",
       "    <tr>\n",
       "      <th>5</th>\n",
       "      <td>\\n \\nI read somewhere, I think in Morton Smith's _Jesus the Magician_, that\\nold Lazarus wasn't...</td>\n",
       "      <td>15</td>\n",
       "      <td>NaN</td>\n",
       "    </tr>\n",
       "    <tr>\n",
       "      <th>6</th>\n",
       "      <td>\\nOk.  I have a record that shows a IIsi with and without a 64KB cache.\\nIt's small enough that ...</td>\n",
       "      <td>4</td>\n",
       "      <td>NaN</td>\n",
       "    </tr>\n",
       "    <tr>\n",
       "      <th>7</th>\n",
       "      <td>\\n\\n\\nSounds like wishful guessing.\\n\\n\\n\\n\\n'So-called' ? What do you mean ? How would you see ...</td>\n",
       "      <td>17</td>\n",
       "      <td>NaN</td>\n",
       "    </tr>\n",
       "    <tr>\n",
       "      <th>8</th>\n",
       "      <td>Nobody is saying that you shouldn't be allowed to use msg.  Just\\ndon't force it on others. If ...</td>\n",
       "      <td>13</td>\n",
       "      <td>NaN</td>\n",
       "    </tr>\n",
       "    <tr>\n",
       "      <th>9</th>\n",
       "      <td>\\n  I was wondering if anyone can shed any light on just how it is that these\\nelectronic odomet...</td>\n",
       "      <td>12</td>\n",
       "      <td>NaN</td>\n",
       "    </tr>\n",
       "  </tbody>\n",
       "</table>\n",
       "</div>"
      ],
      "text/plain": [
       "                                                                                                  text  \\\n",
       "0  Well i'm not sure about the story nad it did seem biased. What\\nI disagree with is your statemen...   \n",
       "1  \\n\\n\\n\\n\\n\\n\\nYeah, do you expect people to read the FAQ, etc. and actually accept hard\\natheism...   \n",
       "2  Although I realize that principle is not one of your strongest\\npoints, I would still like to kn...   \n",
       "3  Notwithstanding all the legitimate fuss about this proposal, how much\\nof a change is it?  ATT's...   \n",
       "4  Well, I will have to change the scoring on my playoff pool.  Unfortunately\\nI don't have time ri...   \n",
       "5   \\n \\nI read somewhere, I think in Morton Smith's _Jesus the Magician_, that\\nold Lazarus wasn't...   \n",
       "6  \\nOk.  I have a record that shows a IIsi with and without a 64KB cache.\\nIt's small enough that ...   \n",
       "7  \\n\\n\\nSounds like wishful guessing.\\n\\n\\n\\n\\n'So-called' ? What do you mean ? How would you see ...   \n",
       "8   Nobody is saying that you shouldn't be allowed to use msg.  Just\\ndon't force it on others. If ...   \n",
       "9  \\n  I was wondering if anyone can shed any light on just how it is that these\\nelectronic odomet...   \n",
       "\n",
       "   category different_category_duplication  \n",
       "0        17                            NaN  \n",
       "1         0                            NaN  \n",
       "2        17                            NaN  \n",
       "3        11                            NaN  \n",
       "4        10                            NaN  \n",
       "5        15                            NaN  \n",
       "6         4                            NaN  \n",
       "7        17                            NaN  \n",
       "8        13                            NaN  \n",
       "9        12                            NaN  "
      ]
     },
     "execution_count": 192,
     "metadata": {},
     "output_type": "execute_result"
    }
   ],
   "source": [
    "# remove articles duplicated across different categories to avoid confusion\n",
    "df = df[~df['text'].isin(df_different_category_duplication['text'])]\n",
    "\n",
    "print(f\"dataframe shape: {df.shape}\")\n",
    "df_temp.head(10)"
   ]
  },
  {
   "cell_type": "code",
   "execution_count": 197,
   "id": "b1315f5c",
   "metadata": {},
   "outputs": [
    {
     "name": "stdout",
     "output_type": "stream",
     "text": [
      "dataframe shape: (10974, 2)\n"
     ]
    },
    {
     "data": {
      "text/html": [
       "<div>\n",
       "<style scoped>\n",
       "    .dataframe tbody tr th:only-of-type {\n",
       "        vertical-align: middle;\n",
       "    }\n",
       "\n",
       "    .dataframe tbody tr th {\n",
       "        vertical-align: top;\n",
       "    }\n",
       "\n",
       "    .dataframe thead th {\n",
       "        text-align: right;\n",
       "    }\n",
       "</style>\n",
       "<table border=\"1\" class=\"dataframe\">\n",
       "  <thead>\n",
       "    <tr style=\"text-align: right;\">\n",
       "      <th></th>\n",
       "      <th>text</th>\n",
       "      <th>category</th>\n",
       "    </tr>\n",
       "  </thead>\n",
       "  <tbody>\n",
       "    <tr>\n",
       "      <th>0</th>\n",
       "      <td>Well i'm not sure about the story nad it did seem biased. What\\nI disagree with is your statemen...</td>\n",
       "      <td>17</td>\n",
       "    </tr>\n",
       "    <tr>\n",
       "      <th>1</th>\n",
       "      <td>\\n\\n\\n\\n\\n\\n\\nYeah, do you expect people to read the FAQ, etc. and actually accept hard\\natheism...</td>\n",
       "      <td>0</td>\n",
       "    </tr>\n",
       "    <tr>\n",
       "      <th>2</th>\n",
       "      <td>Although I realize that principle is not one of your strongest\\npoints, I would still like to kn...</td>\n",
       "      <td>17</td>\n",
       "    </tr>\n",
       "    <tr>\n",
       "      <th>3</th>\n",
       "      <td>Notwithstanding all the legitimate fuss about this proposal, how much\\nof a change is it?  ATT's...</td>\n",
       "      <td>11</td>\n",
       "    </tr>\n",
       "    <tr>\n",
       "      <th>4</th>\n",
       "      <td>Well, I will have to change the scoring on my playoff pool.  Unfortunately\\nI don't have time ri...</td>\n",
       "      <td>10</td>\n",
       "    </tr>\n",
       "  </tbody>\n",
       "</table>\n",
       "</div>"
      ],
      "text/plain": [
       "                                                                                                  text  \\\n",
       "0  Well i'm not sure about the story nad it did seem biased. What\\nI disagree with is your statemen...   \n",
       "1  \\n\\n\\n\\n\\n\\n\\nYeah, do you expect people to read the FAQ, etc. and actually accept hard\\natheism...   \n",
       "2  Although I realize that principle is not one of your strongest\\npoints, I would still like to kn...   \n",
       "3  Notwithstanding all the legitimate fuss about this proposal, how much\\nof a change is it?  ATT's...   \n",
       "4  Well, I will have to change the scoring on my playoff pool.  Unfortunately\\nI don't have time ri...   \n",
       "\n",
       "   category  \n",
       "0        17  \n",
       "1         0  \n",
       "2        17  \n",
       "3        11  \n",
       "4        10  "
      ]
     },
     "execution_count": 197,
     "metadata": {},
     "output_type": "execute_result"
    }
   ],
   "source": [
    "# the remaining duplicates are identical records -- keep only one\n",
    "df.drop_duplicates(subset=[\"text\"], keep='last', inplace=True)\n",
    "\n",
    "print(f\"dataframe shape: {df.shape}\")\n",
    "df.head()"
   ]
  },
  {
   "cell_type": "code",
   "execution_count": 199,
   "id": "417f43b3",
   "metadata": {},
   "outputs": [
    {
     "name": "stdout",
     "output_type": "stream",
     "text": [
      "categories distribution:\n",
      "15    591\n",
      "10    585\n",
      "11    582\n",
      "8     581\n",
      "5     581\n",
      "3     577\n",
      "13    577\n",
      "14    576\n",
      "9     575\n",
      "12    571\n",
      "6     569\n",
      "1     567\n",
      "2     563\n",
      "7     561\n",
      "4     557\n",
      "17    548\n",
      "16    532\n",
      "0     468\n",
      "18    453\n",
      "19    360\n",
      "Name: category, dtype: int64\n"
     ]
    }
   ],
   "source": [
    "# check articles distribution across categories\n",
    "print(f\"categories distribution:\\n{df['category'].value_counts().sort_values(ascending=False)}\")"
   ]
  },
  {
   "cell_type": "markdown",
   "id": "1f36752f",
   "metadata": {},
   "source": [
    "# 0.2. Preprocess Data"
   ]
  },
  {
   "cell_type": "markdown",
   "id": "7f34e622",
   "metadata": {},
   "source": [
    "#### TODO\n",
    "\n",
    "* Remove irrelevant tokens: e.g. maxaxax...\n",
    "* Stem words"
   ]
  },
  {
   "cell_type": "code",
   "execution_count": 201,
   "id": "0fe1048e",
   "metadata": {},
   "outputs": [
    {
     "name": "stdout",
     "output_type": "stream",
     "text": [
      "preview stopwords: ['ll', 'them', 'myself', \"couldn't\", 'shan', 'doing', 'itself', \"you're\", 'whom', 'those']\n"
     ]
    }
   ],
   "source": [
    "en_stop_words = set(stopwords.words('english'))\n",
    "\n",
    "print(f\"preview stopwords: {list(en_stop_words)[:10]}\")"
   ]
  },
  {
   "cell_type": "code",
   "execution_count": 202,
   "id": "e5acae5e",
   "metadata": {},
   "outputs": [
    {
     "name": "stdout",
     "output_type": "stream",
     "text": [
      "preview punctuation: ['!', '\"', '#', '$', '%', '&', \"'\", '(', ')', '*']\n"
     ]
    }
   ],
   "source": [
    "punctuation = string.punctuation\n",
    "\n",
    "print(f\"preview punctuation: {list(punctuation)[:10]}\")"
   ]
  },
  {
   "cell_type": "code",
   "execution_count": 203,
   "id": "aa9767a3",
   "metadata": {},
   "outputs": [],
   "source": [
    "regex_mappers = [\n",
    "    # collapse whitespace(s) into one space\n",
    "    RegexMapper(regex=r\"\\s+\", sub=' '),\n",
    "                \n",
    "    # strip whitespace(s)\n",
    "    RegexMapper(regex=r\"^\\s+|\\s+$\", sub=''),\n",
    "]\n",
    "\n",
    "# remove short words\n",
    "func_remove_short_words = lambda x: ' '.join(word for word in x.split() if len(word) > 2)\n",
    "\n",
    "\n",
    "preprocessors = [\n",
    "    ToLower(),\n",
    "    StopwordsRemover(list_stopwords=en_stop_words),\n",
    "    # remove punctuation and digits\n",
    "    RegexSubstituter(RegexMapper(regex=fr\"[{punctuation}\\d]\", sub='')),\n",
    "    FunctionApplier(func=func_remove_short_words),\n",
    "    SequentialRegexSubstituter(list_regex_mappers=regex_mappers),\n",
    "]\n",
    "\n",
    "preprocessing_funcs = CompositeTextPreprocessors(list_preprocessors=preprocessors)"
   ]
  },
  {
   "cell_type": "code",
   "execution_count": 204,
   "id": "c3c4bc1d",
   "metadata": {},
   "outputs": [
    {
     "name": "stdout",
     "output_type": "stream",
     "text": [
      "> before applying preprocessing:\n",
      "  Yeah, do you expect people to read the 200 FAQ, etc. \n",
      "and actually...\n",
      " \n",
      "> after applying preprocessing:\n",
      "yeah expect people read faq etc actually\n"
     ]
    }
   ],
   "source": [
    "# check preprocessing funcs\n",
    "example_text = \"\"\"  Yeah, do you expect people to read the 200 FAQ, etc. \\nand actually...\\n \"\"\"\n",
    "print(f\"> before applying preprocessing:\\n{example_text}\")\n",
    "\n",
    "print(f\"> after applying preprocessing:\\n{preprocessing_funcs(example_text)}\")"
   ]
  },
  {
   "cell_type": "markdown",
   "id": "dc508ef7",
   "metadata": {},
   "source": [
    "### Apply preprocessing to data"
   ]
  },
  {
   "cell_type": "code",
   "execution_count": 205,
   "id": "7f0a8a90",
   "metadata": {},
   "outputs": [
    {
     "name": "stdout",
     "output_type": "stream",
     "text": [
      "dataframe shape: (10974, 3)\n"
     ]
    },
    {
     "data": {
      "text/html": [
       "<div>\n",
       "<style scoped>\n",
       "    .dataframe tbody tr th:only-of-type {\n",
       "        vertical-align: middle;\n",
       "    }\n",
       "\n",
       "    .dataframe tbody tr th {\n",
       "        vertical-align: top;\n",
       "    }\n",
       "\n",
       "    .dataframe thead th {\n",
       "        text-align: right;\n",
       "    }\n",
       "</style>\n",
       "<table border=\"1\" class=\"dataframe\">\n",
       "  <thead>\n",
       "    <tr style=\"text-align: right;\">\n",
       "      <th></th>\n",
       "      <th>text</th>\n",
       "      <th>category</th>\n",
       "      <th>text_preprocessed</th>\n",
       "    </tr>\n",
       "  </thead>\n",
       "  <tbody>\n",
       "    <tr>\n",
       "      <th>0</th>\n",
       "      <td>Well i'm not sure about the story nad it did seem biased. What\\nI disagree with is your statemen...</td>\n",
       "      <td>17</td>\n",
       "      <td>well sure story nad seem biased disagree statement media ruin israels reputation rediculous medi...</td>\n",
       "    </tr>\n",
       "    <tr>\n",
       "      <th>1</th>\n",
       "      <td>\\n\\n\\n\\n\\n\\n\\nYeah, do you expect people to read the FAQ, etc. and actually accept hard\\natheism...</td>\n",
       "      <td>0</td>\n",
       "      <td>yeah expect people read faq etc actually accept hard atheism need little leap faith jimmy logic ...</td>\n",
       "    </tr>\n",
       "    <tr>\n",
       "      <th>2</th>\n",
       "      <td>Although I realize that principle is not one of your strongest\\npoints, I would still like to kn...</td>\n",
       "      <td>17</td>\n",
       "      <td>although realize principle one strongest points would still like know ask question sort arab cou...</td>\n",
       "    </tr>\n",
       "    <tr>\n",
       "      <th>3</th>\n",
       "      <td>Notwithstanding all the legitimate fuss about this proposal, how much\\nof a change is it?  ATT's...</td>\n",
       "      <td>11</td>\n",
       "      <td>notwithstanding legitimate fuss proposal much change atts last product area priced suspect clipp...</td>\n",
       "    </tr>\n",
       "    <tr>\n",
       "      <th>4</th>\n",
       "      <td>Well, I will have to change the scoring on my playoff pool.  Unfortunately\\nI don't have time ri...</td>\n",
       "      <td>10</td>\n",
       "      <td>well change scoring playoff pool unfortunately time right now certainly post new scoring rules t...</td>\n",
       "    </tr>\n",
       "  </tbody>\n",
       "</table>\n",
       "</div>"
      ],
      "text/plain": [
       "                                                                                                  text  \\\n",
       "0  Well i'm not sure about the story nad it did seem biased. What\\nI disagree with is your statemen...   \n",
       "1  \\n\\n\\n\\n\\n\\n\\nYeah, do you expect people to read the FAQ, etc. and actually accept hard\\natheism...   \n",
       "2  Although I realize that principle is not one of your strongest\\npoints, I would still like to kn...   \n",
       "3  Notwithstanding all the legitimate fuss about this proposal, how much\\nof a change is it?  ATT's...   \n",
       "4  Well, I will have to change the scoring on my playoff pool.  Unfortunately\\nI don't have time ri...   \n",
       "\n",
       "   category  \\\n",
       "0        17   \n",
       "1         0   \n",
       "2        17   \n",
       "3        11   \n",
       "4        10   \n",
       "\n",
       "                                                                                     text_preprocessed  \n",
       "0  well sure story nad seem biased disagree statement media ruin israels reputation rediculous medi...  \n",
       "1  yeah expect people read faq etc actually accept hard atheism need little leap faith jimmy logic ...  \n",
       "2  although realize principle one strongest points would still like know ask question sort arab cou...  \n",
       "3  notwithstanding legitimate fuss proposal much change atts last product area priced suspect clipp...  \n",
       "4  well change scoring playoff pool unfortunately time right now certainly post new scoring rules t...  "
      ]
     },
     "execution_count": 205,
     "metadata": {},
     "output_type": "execute_result"
    }
   ],
   "source": [
    "df['text_preprocessed'] = df['text'].apply(lambda x: preprocessing_funcs(x))\n",
    "\n",
    "print(f\"dataframe shape: {df.shape}\")\n",
    "df.head()"
   ]
  },
  {
   "cell_type": "markdown",
   "id": "0aa01070",
   "metadata": {},
   "source": [
    "# 1. LDA"
   ]
  },
  {
   "cell_type": "markdown",
   "id": "b4d992df",
   "metadata": {},
   "source": [
    "### References:\n",
    "* [Topic Modelling in Python with spaCy and Gensim](https://towardsdatascience.com/topic-modelling-in-python-with-spacy-and-gensim-dc8f7748bdbf)\n",
    "* [Topic Coherence Measures](https://towardsdatascience.com/understanding-topic-coherence-measures-4aa41339634c)"
   ]
  },
  {
   "cell_type": "markdown",
   "id": "e30b12ab",
   "metadata": {},
   "source": [
    "## 1.1. Tokenize text"
   ]
  },
  {
   "cell_type": "code",
   "execution_count": 206,
   "id": "7e9ee21f",
   "metadata": {},
   "outputs": [
    {
     "name": "stdout",
     "output_type": "stream",
     "text": [
      "dataframe shape: (10974, 4)\n"
     ]
    },
    {
     "data": {
      "text/html": [
       "<div>\n",
       "<style scoped>\n",
       "    .dataframe tbody tr th:only-of-type {\n",
       "        vertical-align: middle;\n",
       "    }\n",
       "\n",
       "    .dataframe tbody tr th {\n",
       "        vertical-align: top;\n",
       "    }\n",
       "\n",
       "    .dataframe thead th {\n",
       "        text-align: right;\n",
       "    }\n",
       "</style>\n",
       "<table border=\"1\" class=\"dataframe\">\n",
       "  <thead>\n",
       "    <tr style=\"text-align: right;\">\n",
       "      <th></th>\n",
       "      <th>text</th>\n",
       "      <th>category</th>\n",
       "      <th>text_preprocessed</th>\n",
       "      <th>text_tokenized</th>\n",
       "    </tr>\n",
       "  </thead>\n",
       "  <tbody>\n",
       "    <tr>\n",
       "      <th>0</th>\n",
       "      <td>Well i'm not sure about the story nad it did seem biased. What\\nI disagree with is your statemen...</td>\n",
       "      <td>17</td>\n",
       "      <td>well sure story nad seem biased disagree statement media ruin israels reputation rediculous medi...</td>\n",
       "      <td>[well, sure, story, nad, seem, biased, disagree, statement, media, ruin, israels, reputation, re...</td>\n",
       "    </tr>\n",
       "    <tr>\n",
       "      <th>1</th>\n",
       "      <td>\\n\\n\\n\\n\\n\\n\\nYeah, do you expect people to read the FAQ, etc. and actually accept hard\\natheism...</td>\n",
       "      <td>0</td>\n",
       "      <td>yeah expect people read faq etc actually accept hard atheism need little leap faith jimmy logic ...</td>\n",
       "      <td>[yeah, expect, people, read, faq, etc, actually, accept, hard, atheism, need, little, leap, fait...</td>\n",
       "    </tr>\n",
       "    <tr>\n",
       "      <th>2</th>\n",
       "      <td>Although I realize that principle is not one of your strongest\\npoints, I would still like to kn...</td>\n",
       "      <td>17</td>\n",
       "      <td>although realize principle one strongest points would still like know ask question sort arab cou...</td>\n",
       "      <td>[although, realize, principle, one, strongest, points, would, still, like, know, ask, question, ...</td>\n",
       "    </tr>\n",
       "    <tr>\n",
       "      <th>3</th>\n",
       "      <td>Notwithstanding all the legitimate fuss about this proposal, how much\\nof a change is it?  ATT's...</td>\n",
       "      <td>11</td>\n",
       "      <td>notwithstanding legitimate fuss proposal much change atts last product area priced suspect clipp...</td>\n",
       "      <td>[notwithstanding, legitimate, fuss, proposal, much, change, atts, last, product, area, priced, s...</td>\n",
       "    </tr>\n",
       "    <tr>\n",
       "      <th>4</th>\n",
       "      <td>Well, I will have to change the scoring on my playoff pool.  Unfortunately\\nI don't have time ri...</td>\n",
       "      <td>10</td>\n",
       "      <td>well change scoring playoff pool unfortunately time right now certainly post new scoring rules t...</td>\n",
       "      <td>[well, change, scoring, playoff, pool, unfortunately, time, right, now, certainly, post, new, sc...</td>\n",
       "    </tr>\n",
       "  </tbody>\n",
       "</table>\n",
       "</div>"
      ],
      "text/plain": [
       "                                                                                                  text  \\\n",
       "0  Well i'm not sure about the story nad it did seem biased. What\\nI disagree with is your statemen...   \n",
       "1  \\n\\n\\n\\n\\n\\n\\nYeah, do you expect people to read the FAQ, etc. and actually accept hard\\natheism...   \n",
       "2  Although I realize that principle is not one of your strongest\\npoints, I would still like to kn...   \n",
       "3  Notwithstanding all the legitimate fuss about this proposal, how much\\nof a change is it?  ATT's...   \n",
       "4  Well, I will have to change the scoring on my playoff pool.  Unfortunately\\nI don't have time ri...   \n",
       "\n",
       "   category  \\\n",
       "0        17   \n",
       "1         0   \n",
       "2        17   \n",
       "3        11   \n",
       "4        10   \n",
       "\n",
       "                                                                                     text_preprocessed  \\\n",
       "0  well sure story nad seem biased disagree statement media ruin israels reputation rediculous medi...   \n",
       "1  yeah expect people read faq etc actually accept hard atheism need little leap faith jimmy logic ...   \n",
       "2  although realize principle one strongest points would still like know ask question sort arab cou...   \n",
       "3  notwithstanding legitimate fuss proposal much change atts last product area priced suspect clipp...   \n",
       "4  well change scoring playoff pool unfortunately time right now certainly post new scoring rules t...   \n",
       "\n",
       "                                                                                        text_tokenized  \n",
       "0  [well, sure, story, nad, seem, biased, disagree, statement, media, ruin, israels, reputation, re...  \n",
       "1  [yeah, expect, people, read, faq, etc, actually, accept, hard, atheism, need, little, leap, fait...  \n",
       "2  [although, realize, principle, one, strongest, points, would, still, like, know, ask, question, ...  \n",
       "3  [notwithstanding, legitimate, fuss, proposal, much, change, atts, last, product, area, priced, s...  \n",
       "4  [well, change, scoring, playoff, pool, unfortunately, time, right, now, certainly, post, new, sc...  "
      ]
     },
     "execution_count": 206,
     "metadata": {},
     "output_type": "execute_result"
    }
   ],
   "source": [
    "df['text_tokenized'] = df['text_preprocessed'].apply(lambda x: NLTKWordTokenizer()(x))\n",
    "\n",
    "print(f\"dataframe shape: {df.shape}\")\n",
    "df.head()"
   ]
  },
  {
   "cell_type": "markdown",
   "id": "b36172da",
   "metadata": {},
   "source": [
    "## 1.2. Build Corpus (BoW):"
   ]
  },
  {
   "cell_type": "code",
   "execution_count": 207,
   "id": "203acb40",
   "metadata": {},
   "outputs": [
    {
     "name": "stdout",
     "output_type": "stream",
     "text": [
      "number of tokens: 91167\n",
      "preview tokens: [(0, 'acts'), (1, 'all'), (2, 'atrocities'), (3, 'austria'), (4, 'away')]\n"
     ]
    }
   ],
   "source": [
    "dictionary = Dictionary(df['text_tokenized'])\n",
    "\n",
    "# preview tokens\n",
    "list_tokens = list(dictionary.items())\n",
    "\n",
    "print(f\"number of tokens: {len(list_tokens)}\")\n",
    "print(f\"preview tokens: {list_tokens[:5]}\")"
   ]
  },
  {
   "cell_type": "code",
   "execution_count": 214,
   "id": "3bb3e095",
   "metadata": {},
   "outputs": [
    {
     "name": "stdout",
     "output_type": "stream",
     "text": [
      "number of tokens: 15199\n",
      "preview tokens: [(0, 'acts'), (1, 'all'), (2, 'atrocities'), (3, 'austria'), (4, 'away')]\n"
     ]
    }
   ],
   "source": [
    "# filter out tokens that appear in:\n",
    "## less than no_below documents (absolute number) or\n",
    "## more than no_above documents (fraction of total corpus size, not absolute number).\n",
    "dictionary.filter_extremes(no_below=5, no_above=0.5)\n",
    "\n",
    "# preview tokens\n",
    "list_tokens = list(dictionary.items())\n",
    "\n",
    "print(f\"number of tokens: {len(list_tokens)}\")\n",
    "print(f\"preview tokens: {list_tokens[:5]}\")"
   ]
  },
  {
   "cell_type": "markdown",
   "id": "2ddcce7d",
   "metadata": {},
   "source": [
    "### Construct the Corpus/BoW"
   ]
  },
  {
   "cell_type": "code",
   "execution_count": 215,
   "id": "2a4b112b",
   "metadata": {},
   "outputs": [
    {
     "name": "stdout",
     "output_type": "stream",
     "text": [
      "preview corpus:\n",
      "[[(0, 1), (1, 1), (2, 1), (3, 1), (4, 1), (5, 1), (6, 1), (7, 1), (8, 1), (9, 1), (10, 1), (11, 1), (12, 1), (13, 1), (14, 1), (15, 1), (16, 1), (17, 1), (18, 1), (19, 1), (20, 1), (21, 1), (22, 1), (23, 2), (24, 1), (25, 1), (26, 1), (27, 1), (28, 1), (29, 1), (30, 4), (31, 1), (32, 1), (33, 1), (34, 1), (35, 1), (36, 1), (37, 1), (38, 1), (39, 1), (40, 1), (41, 1), (42, 1), (43, 1), (44, 2), (45, 1), (46, 1), (47, 1), (48, 1), (49, 1), (50, 1), (51, 1), (52, 1), (53, 1), (54, 1), (55, 1), (56, 1), (57, 1)]]\n"
     ]
    }
   ],
   "source": [
    "corpus = [ dictionary.doc2bow(doc) for doc in df[\"text_tokenized\"] ]\n",
    "\n",
    "print(f\"preview corpus:\\n{corpus[:1]}\")"
   ]
  },
  {
   "cell_type": "markdown",
   "id": "3cae7243",
   "metadata": {},
   "source": [
    "## 1.3. Determine Best Number of Topics"
   ]
  },
  {
   "cell_type": "code",
   "execution_count": 216,
   "id": "be2360a8",
   "metadata": {},
   "outputs": [
    {
     "name": "stderr",
     "output_type": "stream",
     "text": [
      "100%|███████████████████████████████████████████| 11/11 [04:11<00:00, 22.88s/it]\n"
     ]
    }
   ],
   "source": [
    "topics = []\n",
    "score = []\n",
    "# range with step of 2 for quick, less accurate run\n",
    "for i in tqdm(range(3, 25, 2)):\n",
    "    lda_model = LdaModel(corpus=corpus, id2word=dictionary,\n",
    "                        iterations=10, num_topics=i, passes=10,\n",
    "                        random_state=100)\n",
    "    \n",
    "    cm = CoherenceModel(model=lda_model, texts = df['text_tokenized'],\n",
    "                        corpus=corpus, dictionary=dictionary, coherence='c_v')\n",
    "    topics.append(i)\n",
    "    score.append(cm.get_coherence())"
   ]
  },
  {
   "cell_type": "code",
   "execution_count": 281,
   "id": "e7e2b7c8",
   "metadata": {
    "scrolled": true
   },
   "outputs": [
    {
     "name": "stdout",
     "output_type": "stream",
     "text": [
      "dataframe shape: (11, 2)\n"
     ]
    },
    {
     "data": {
      "text/html": [
       "<div>\n",
       "<style scoped>\n",
       "    .dataframe tbody tr th:only-of-type {\n",
       "        vertical-align: middle;\n",
       "    }\n",
       "\n",
       "    .dataframe tbody tr th {\n",
       "        vertical-align: top;\n",
       "    }\n",
       "\n",
       "    .dataframe thead th {\n",
       "        text-align: right;\n",
       "    }\n",
       "</style>\n",
       "<table border=\"1\" class=\"dataframe\">\n",
       "  <thead>\n",
       "    <tr style=\"text-align: right;\">\n",
       "      <th></th>\n",
       "      <th>num_topics</th>\n",
       "      <th>coherence_score (c_v)</th>\n",
       "    </tr>\n",
       "  </thead>\n",
       "  <tbody>\n",
       "    <tr>\n",
       "      <th>0</th>\n",
       "      <td>3</td>\n",
       "      <td>0.488612</td>\n",
       "    </tr>\n",
       "    <tr>\n",
       "      <th>1</th>\n",
       "      <td>5</td>\n",
       "      <td>0.463649</td>\n",
       "    </tr>\n",
       "    <tr>\n",
       "      <th>2</th>\n",
       "      <td>7</td>\n",
       "      <td>0.475304</td>\n",
       "    </tr>\n",
       "    <tr>\n",
       "      <th>3</th>\n",
       "      <td>9</td>\n",
       "      <td>0.503517</td>\n",
       "    </tr>\n",
       "    <tr>\n",
       "      <th>4</th>\n",
       "      <td>11</td>\n",
       "      <td>0.531414</td>\n",
       "    </tr>\n",
       "  </tbody>\n",
       "</table>\n",
       "</div>"
      ],
      "text/plain": [
       "   num_topics  coherence_score (c_v)\n",
       "0           3               0.488612\n",
       "1           5               0.463649\n",
       "2           7               0.475304\n",
       "3           9               0.503517\n",
       "4          11               0.531414"
      ]
     },
     "execution_count": 281,
     "metadata": {},
     "output_type": "execute_result"
    }
   ],
   "source": [
    "df_topics_coh = pd.DataFrame({\"num_topics\": topics, \"coherence_score (c_v)\": score})\n",
    "\n",
    "print(f\"dataframe shape: {df_topics_coh.shape}\")\n",
    "df_topics_coh.head()"
   ]
  },
  {
   "cell_type": "code",
   "execution_count": 218,
   "id": "c519871e",
   "metadata": {},
   "outputs": [
    {
     "data": {
      "image/png": "[encoded data removed]",
      "text/plain": [
       "<Figure size 576x432 with 1 Axes>"
      ]
     },
     "metadata": {
      "needs_background": "light"
     },
     "output_type": "display_data"
    }
   ],
   "source": [
    "plt.figure(figsize=(8, 6))\n",
    "plt.plot(topics, score)\n",
    "plt.xlabel('Number of Topics')\n",
    "plt.ylabel('Coherence Score')\n",
    "plt.show()"
   ]
  },
  {
   "cell_type": "code",
   "execution_count": 284,
   "id": "d1436656",
   "metadata": {},
   "outputs": [
    {
     "data": {
      "text/html": [
       "<div>\n",
       "<style scoped>\n",
       "    .dataframe tbody tr th:only-of-type {\n",
       "        vertical-align: middle;\n",
       "    }\n",
       "\n",
       "    .dataframe tbody tr th {\n",
       "        vertical-align: top;\n",
       "    }\n",
       "\n",
       "    .dataframe thead th {\n",
       "        text-align: right;\n",
       "    }\n",
       "</style>\n",
       "<table border=\"1\" class=\"dataframe\">\n",
       "  <thead>\n",
       "    <tr style=\"text-align: right;\">\n",
       "      <th></th>\n",
       "      <th>num_topics</th>\n",
       "      <th>coherence_score (c_v)</th>\n",
       "    </tr>\n",
       "  </thead>\n",
       "  <tbody>\n",
       "    <tr>\n",
       "      <th>count</th>\n",
       "      <td>11.00000</td>\n",
       "      <td>11.000000</td>\n",
       "    </tr>\n",
       "    <tr>\n",
       "      <th>mean</th>\n",
       "      <td>13.00000</td>\n",
       "      <td>0.540386</td>\n",
       "    </tr>\n",
       "    <tr>\n",
       "      <th>std</th>\n",
       "      <td>6.63325</td>\n",
       "      <td>0.051611</td>\n",
       "    </tr>\n",
       "    <tr>\n",
       "      <th>min</th>\n",
       "      <td>3.00000</td>\n",
       "      <td>0.463649</td>\n",
       "    </tr>\n",
       "    <tr>\n",
       "      <th>25%</th>\n",
       "      <td>8.00000</td>\n",
       "      <td>0.496064</td>\n",
       "    </tr>\n",
       "    <tr>\n",
       "      <th>50%</th>\n",
       "      <td>13.00000</td>\n",
       "      <td>0.549478</td>\n",
       "    </tr>\n",
       "    <tr>\n",
       "      <th>75%</th>\n",
       "      <td>18.00000</td>\n",
       "      <td>0.576208</td>\n",
       "    </tr>\n",
       "    <tr>\n",
       "      <th>max</th>\n",
       "      <td>23.00000</td>\n",
       "      <td>0.618279</td>\n",
       "    </tr>\n",
       "  </tbody>\n",
       "</table>\n",
       "</div>"
      ],
      "text/plain": [
       "       num_topics  coherence_score (c_v)\n",
       "count    11.00000              11.000000\n",
       "mean     13.00000               0.540386\n",
       "std       6.63325               0.051611\n",
       "min       3.00000               0.463649\n",
       "25%       8.00000               0.496064\n",
       "50%      13.00000               0.549478\n",
       "75%      18.00000               0.576208\n",
       "max      23.00000               0.618279"
      ]
     },
     "execution_count": 284,
     "metadata": {},
     "output_type": "execute_result"
    }
   ],
   "source": [
    "df_topics_coh.describe()"
   ]
  },
  {
   "cell_type": "code",
   "execution_count": 283,
   "id": "890f511e",
   "metadata": {},
   "outputs": [
    {
     "data": {
      "text/plain": [
       "17"
      ]
     },
     "execution_count": 283,
     "metadata": {},
     "output_type": "execute_result"
    }
   ],
   "source": [
    "BEST_NUM_TOPICS = int(df_topics_coh.loc[df_topics_coh['coherence_score (c_v)'].idxmax()]['num_topics'])\n",
    "\n",
    "BEST_NUM_TOPICS"
   ]
  },
  {
   "cell_type": "markdown",
   "id": "8dfcb2c3",
   "metadata": {},
   "source": [
    "## 1.4. Train LDA"
   ]
  },
  {
   "cell_type": "code",
   "execution_count": 231,
   "id": "cb86fc55",
   "metadata": {},
   "outputs": [],
   "source": [
    "lda_model_tuned = LdaModel(corpus=corpus,\n",
    "                     id2word=dictionary,\n",
    "                     iterations=50,\n",
    "                     num_topics=BEST_NUM_TOPICS,\n",
    "                     passes=10)"
   ]
  },
  {
   "cell_type": "markdown",
   "id": "50647233",
   "metadata": {},
   "source": [
    "## 1.5. Visualize Topics"
   ]
  },
  {
   "cell_type": "code",
   "execution_count": 232,
   "id": "8bf7a93c",
   "metadata": {},
   "outputs": [],
   "source": [
    "NUM_TOP_WORDS_PER_TOPIC = 5"
   ]
  },
  {
   "cell_type": "code",
   "execution_count": 286,
   "id": "30fce252",
   "metadata": {
    "scrolled": true
   },
   "outputs": [
    {
     "data": {
      "text/plain": [
       "[(0,\n",
       "  [('maxaxaxaxaxaxaxaxaxaxaxaxaxaxax', 0.21952881),\n",
       "   ('thanks', 0.047672343),\n",
       "   ('please', 0.041108403),\n",
       "   ('anyone', 0.032920267),\n",
       "   ('email', 0.02744418)]),\n",
       " (1,\n",
       "  [('would', 0.012057261),\n",
       "   ('people', 0.011539721),\n",
       "   ('one', 0.011131753),\n",
       "   ('think', 0.008986796),\n",
       "   ('say', 0.007100904)]),\n",
       " (2,\n",
       "  [('game', 0.017976815),\n",
       "   ('team', 0.0152627835),\n",
       "   ('games', 0.012335203),\n",
       "   ('year', 0.011331889),\n",
       "   ('play', 0.010754187)]),\n",
       " (3,\n",
       "  [('health', 0.017309675),\n",
       "   ('use', 0.014337583),\n",
       "   ('medical', 0.0137291085),\n",
       "   ('pain', 0.010440599),\n",
       "   ('among', 0.010352119)]),\n",
       " (4,\n",
       "  [('one', 0.013354836),\n",
       "   ('get', 0.01153738),\n",
       "   ('like', 0.011054322),\n",
       "   ('would', 0.009436658),\n",
       "   ('good', 0.008883592)]),\n",
       " (5,\n",
       "  [('government', 0.011479215),\n",
       "   ('would', 0.008942299),\n",
       "   ('gun', 0.008907681),\n",
       "   ('people', 0.008382049),\n",
       "   ('state', 0.007967008)]),\n",
       " (6,\n",
       "  [('key', 0.017384103),\n",
       "   ('use', 0.011960075),\n",
       "   ('data', 0.008536391),\n",
       "   ('chip', 0.008044769),\n",
       "   ('system', 0.00791042)]),\n",
       " (7,\n",
       "  [('would', 0.019007301),\n",
       "   ('like', 0.011819462),\n",
       "   ('could', 0.010856808),\n",
       "   ('get', 0.008510352),\n",
       "   ('really', 0.007168222)]),\n",
       " (8,\n",
       "  [('said', 0.01618319),\n",
       "   ('one', 0.012513614),\n",
       "   ('people', 0.010394615),\n",
       "   ('went', 0.008730952),\n",
       "   ('know', 0.008539292)]),\n",
       " (9,\n",
       "  [('food', 0.020874046),\n",
       "   ('msg', 0.020803574),\n",
       "   ('dod', 0.012485831),\n",
       "   ('diet', 0.0084373215),\n",
       "   ('day', 0.008415412)]),\n",
       " (10,\n",
       "  [('space', 0.012386896),\n",
       "   ('president', 0.007527585),\n",
       "   ('new', 0.0050743306),\n",
       "   ('program', 0.0048703877),\n",
       "   ('also', 0.0044320673)]),\n",
       " (11,\n",
       "  [('windows', 0.0120001165),\n",
       "   ('drive', 0.009641542),\n",
       "   ('use', 0.009583115),\n",
       "   ('system', 0.009255792),\n",
       "   ('card', 0.00843325)]),\n",
       " (12,\n",
       "  [('engine', 0.019102003),\n",
       "   ('water', 0.016337845),\n",
       "   ('oil', 0.011802661),\n",
       "   ('air', 0.010976916),\n",
       "   ('miles', 0.00966516)]),\n",
       " (13,\n",
       "  [('new', 0.022829626),\n",
       "   ('san', 0.01739862),\n",
       "   ('york', 0.013315917),\n",
       "   ('lost', 0.00912168),\n",
       "   ('francisco', 0.008153875)]),\n",
       " (14,\n",
       "  [('file', 0.035934594),\n",
       "   ('window', 0.019137178),\n",
       "   ('program', 0.018585213),\n",
       "   ('entry', 0.014477184),\n",
       "   ('output', 0.010872329)]),\n",
       " (15,\n",
       "  [('jesus', 0.015822398),\n",
       "   ('god', 0.011713277),\n",
       "   ('jews', 0.011123739),\n",
       "   ('armenian', 0.009419801),\n",
       "   ('turkish', 0.008993258)]),\n",
       " (16,\n",
       "  [('available', 0.016120924),\n",
       "   ('information', 0.0136857),\n",
       "   ('list', 0.012647292),\n",
       "   ('email', 0.012291737),\n",
       "   ('send', 0.011871196)])]"
      ]
     },
     "execution_count": 286,
     "metadata": {},
     "output_type": "execute_result"
    }
   ],
   "source": [
    "# preview topics\n",
    "lda_model_tuned.show_topics(num_topics=BEST_NUM_TOPICS,\n",
    "                              num_words=5,\n",
    "                              formatted=False)"
   ]
  },
  {
   "cell_type": "code",
   "execution_count": 234,
   "id": "47d1267c",
   "metadata": {},
   "outputs": [
    {
     "data": {
      "text/plain": [
       "{0: ('maxaxaxaxaxaxaxaxaxaxaxaxaxaxax', 'thanks', 'please', 'anyone', 'email'),\n",
       " 1: ('would', 'people', 'one', 'think', 'say'),\n",
       " 2: ('game', 'team', 'games', 'year', 'play'),\n",
       " 3: ('health', 'use', 'medical', 'pain', 'among'),\n",
       " 4: ('one', 'get', 'like', 'would', 'good'),\n",
       " 5: ('government', 'would', 'gun', 'people', 'state'),\n",
       " 6: ('key', 'use', 'data', 'chip', 'system'),\n",
       " 7: ('would', 'like', 'could', 'get', 'really'),\n",
       " 8: ('said', 'one', 'people', 'went', 'know'),\n",
       " 9: ('food', 'msg', 'dod', 'diet', 'day'),\n",
       " 10: ('space', 'president', 'new', 'program', 'also'),\n",
       " 11: ('windows', 'drive', 'use', 'system', 'card'),\n",
       " 12: ('engine', 'water', 'oil', 'air', 'miles'),\n",
       " 13: ('new', 'san', 'york', 'lost', 'francisco'),\n",
       " 14: ('file', 'window', 'program', 'entry', 'output'),\n",
       " 15: ('jesus', 'god', 'jews', 'armenian', 'turkish'),\n",
       " 16: ('available', 'information', 'list', 'email', 'send')}"
      ]
     },
     "execution_count": 234,
     "metadata": {},
     "output_type": "execute_result"
    }
   ],
   "source": [
    "# separate words from weights\n",
    "dict_top_words_per_topic = {}\n",
    "for topic_num, words_weights in lda_model_tuned.show_topics(num_topics=BEST_NUM_TOPICS,\n",
    "                                                               num_words=NUM_TOP_WORDS_PER_TOPIC,\n",
    "                                                               formatted=False):\n",
    "    \n",
    "    # unzip words from their weights\n",
    "    words_list = list(zip(*words_weights))[0]\n",
    "    \n",
    "    dict_top_words_per_topic[topic_num] = words_list\n",
    "    \n",
    "dict_top_words_per_topic"
   ]
  },
  {
   "cell_type": "code",
   "execution_count": 264,
   "id": "cc2ab3bb",
   "metadata": {},
   "outputs": [],
   "source": [
    "# Coherence model\n",
    "cm = CoherenceModel(model=lda_model_tuned,\n",
    "                    texts = df['text_tokenized'],\n",
    "                    corpus=corpus,\n",
    "                    dictionary=dictionary,\n",
    "                    coherence='c_v')\n",
    "\n",
    "coherence_per_topic = cm.get_coherence_per_topic()"
   ]
  },
  {
   "cell_type": "code",
   "execution_count": 263,
   "id": "73b3342a",
   "metadata": {},
   "outputs": [
    {
     "data": {
      "text/plain": [
       "[0.59065207979149,\n",
       " 0.5367081306737563,\n",
       " 0.7364324402141096,\n",
       " 0.588454057303073,\n",
       " 0.4852214155646671,\n",
       " 0.6292780889744211,\n",
       " 0.5917436525795522,\n",
       " 0.48431347853137485,\n",
       " 0.6340494601567246,\n",
       " 0.3048833780996979,\n",
       " 0.48265371561187226,\n",
       " 0.6452223575915448,\n",
       " 0.35466744882226714,\n",
       " 0.5218465116478251,\n",
       " 0.6151575602374644,\n",
       " 0.5421648566857911,\n",
       " 0.7151608701122297]"
      ]
     },
     "execution_count": 263,
     "metadata": {},
     "output_type": "execute_result"
    }
   ],
   "source": [
    "coherence_per_topic"
   ]
  },
  {
   "cell_type": "markdown",
   "id": "e2c09d54",
   "metadata": {},
   "source": [
    "### Visualise Topics"
   ]
  },
  {
   "cell_type": "markdown",
   "id": "1be7acb5",
   "metadata": {},
   "source": [
    "#### Based on Topic Coherence, and words weights from LDA"
   ]
  },
  {
   "cell_type": "code",
   "execution_count": 237,
   "id": "3a085a9c",
   "metadata": {
    "scrolled": true
   },
   "outputs": [
    {
     "data": {
      "text/html": [
       "<div>\n",
       "<style scoped>\n",
       "    .dataframe tbody tr th:only-of-type {\n",
       "        vertical-align: middle;\n",
       "    }\n",
       "\n",
       "    .dataframe tbody tr th {\n",
       "        vertical-align: top;\n",
       "    }\n",
       "\n",
       "    .dataframe thead th {\n",
       "        text-align: right;\n",
       "    }\n",
       "</style>\n",
       "<table border=\"1\" class=\"dataframe\">\n",
       "  <thead>\n",
       "    <tr style=\"text-align: right;\">\n",
       "      <th></th>\n",
       "      <th>Coherence</th>\n",
       "    </tr>\n",
       "    <tr>\n",
       "      <th>Topic</th>\n",
       "      <th></th>\n",
       "    </tr>\n",
       "  </thead>\n",
       "  <tbody>\n",
       "    <tr>\n",
       "      <th>maxaxaxaxaxaxaxaxaxaxaxaxaxaxax\\nthanks\\nplease\\nanyone\\nemail</th>\n",
       "      <td>0.590652</td>\n",
       "    </tr>\n",
       "    <tr>\n",
       "      <th>would\\npeople\\none\\nthink\\nsay</th>\n",
       "      <td>0.536708</td>\n",
       "    </tr>\n",
       "    <tr>\n",
       "      <th>game\\nteam\\ngames\\nyear\\nplay</th>\n",
       "      <td>0.736432</td>\n",
       "    </tr>\n",
       "    <tr>\n",
       "      <th>health\\nuse\\nmedical\\npain\\namong</th>\n",
       "      <td>0.588454</td>\n",
       "    </tr>\n",
       "    <tr>\n",
       "      <th>one\\nget\\nlike\\nwould\\ngood</th>\n",
       "      <td>0.485221</td>\n",
       "    </tr>\n",
       "  </tbody>\n",
       "</table>\n",
       "</div>"
      ],
      "text/plain": [
       "                                                                Coherence\n",
       "Topic                                                                    \n",
       "maxaxaxaxaxaxaxaxaxaxaxaxaxaxax\\nthanks\\nplease\\nanyone\\nemail   0.590652\n",
       "would\\npeople\\none\\nthink\\nsay                                   0.536708\n",
       "game\\nteam\\ngames\\nyear\\nplay                                    0.736432\n",
       "health\\nuse\\nmedical\\npain\\namong                                0.588454\n",
       "one\\nget\\nlike\\nwould\\ngood                                      0.485221"
      ]
     },
     "execution_count": 237,
     "metadata": {},
     "output_type": "execute_result"
    }
   ],
   "source": [
    "topics_words_str = [ '\\n'.join(words) for words in dict_top_words_per_topic.values() ]\n",
    "data_topic_score = pd.DataFrame(data=zip(topics_words_str, coherence_per_topic),\n",
    "                                columns=['Topic', 'Coherence'])\n",
    "data_topic_score = data_topic_score.set_index('Topic')\n",
    "\n",
    "data_topic_score.head()"
   ]
  },
  {
   "cell_type": "code",
   "execution_count": 238,
   "id": "e818a8f9",
   "metadata": {
    "scrolled": true
   },
   "outputs": [
    {
     "data": {
      "text/plain": [
       "Text(1193.6588235294118, 0.5, '')"
      ]
     },
     "execution_count": 238,
     "metadata": {},
     "output_type": "execute_result"
    },
    {
     "data": {
      "image/png": "[encoded data removed]",
      "text/plain": [
       "<Figure size 1800x1800 with 2 Axes>"
      ]
     },
     "metadata": {
      "needs_background": "light"
     },
     "output_type": "display_data"
    }
   ],
   "source": [
    "fig, ax = plt.subplots( figsize=(25, 25) )\n",
    "ax.set_title(\"Topics coherence\\n $C_v$\")\n",
    "sns.heatmap(data=data_topic_score,\n",
    "            annot=True,\n",
    "            square=True,\n",
    "            cmap='Reds',\n",
    "            fmt='.2f',\n",
    "            linecolor='black',\n",
    "            ax=ax\n",
    ")\n",
    "\n",
    "plt.yticks( rotation=0 )\n",
    "ax.set_xlabel('')\n",
    "ax.set_ylabel('')"
   ]
  },
  {
   "cell_type": "markdown",
   "id": "7f1a37f2",
   "metadata": {},
   "source": [
    "### Visualise Inter-Topic Distance and Word Relevancy"
   ]
  },
  {
   "cell_type": "markdown",
   "id": "70b6c3d0",
   "metadata": {},
   "source": [
    "* The words shown in the graph below are chosen based on **Term Saliency** and **Word Relevancy**:\n",
    "    * Quick Overiew: https://community.alteryx.com/t5/Data-Science/Getting-to-the-Point-with-Topic-Modeling-Part-3-Interpreting-the/ba-p/614992\n",
    "    * Saliency:\n",
    "        * The metric shows the most informative words for identifying topics across the corpus.\n",
    "        * ![Term Saliency Formula](imgs/term_saliency.png)\n",
    "        * Source: [Termite: Visualization Techniques for Assessing Textual Topic Models](https://idl.cs.washington.edu/files/2012-Termite-AVI.pdf)\n",
    "        * Term Saliency relies on KL-Divergence:\n",
    "            * Entropy, Cross Entropy and KL-Divergence: https://medium.com/intro-to-artificial-intelligence/entropy-cross-entropy-and-kl-divergence-b898f4587cf3\n",
    "            * More on KL-Divergence: https://www.countbayesie.com/blog/2017/5/9/kullback-leibler-divergence-explained\n",
    "    * Relevancy:\n",
    "        * The metric ranks terms within topics.\n",
    "        * ![Term Relevancy Formula](imgs/term_relevancy.png)\n",
    "        * ![Term Lift Formula](imgs/term_lift.png)\n",
    "        * Source: [LDAvis: A method for visualizing and interpreting topics](https://aclanthology.org/W14-3110.pdf)"
   ]
  },
  {
   "cell_type": "code",
   "execution_count": 239,
   "id": "86f508c6",
   "metadata": {
    "scrolled": false
   },
   "outputs": [
    {
     "name": "stderr",
     "output_type": "stream",
     "text": [
      "/Users/amrgalal/.pyenv/versions/3.9.10/envs/topic_modeling/lib/python3.9/site-packages/pyLDAvis/_prepare.py:246: FutureWarning: In a future version of pandas all arguments of DataFrame.drop except for the argument 'labels' will be keyword-only.\n",
      "  default_term_info = default_term_info.sort_values(\n",
      "/Users/amrgalal/.pyenv/versions/3.9.10/envs/topic_modeling/lib/python3.9/site-packages/past/builtins/misc.py:45: DeprecationWarning: the imp module is deprecated in favour of importlib; see the module's documentation for alternative uses\n",
      "  from imp import reload\n",
      "/Users/amrgalal/.pyenv/versions/3.9.10/envs/topic_modeling/lib/python3.9/site-packages/past/builtins/misc.py:45: DeprecationWarning: the imp module is deprecated in favour of importlib; see the module's documentation for alternative uses\n",
      "  from imp import reload\n",
      "/Users/amrgalal/.pyenv/versions/3.9.10/envs/topic_modeling/lib/python3.9/site-packages/past/builtins/misc.py:45: DeprecationWarning: the imp module is deprecated in favour of importlib; see the module's documentation for alternative uses\n",
      "  from imp import reload\n",
      "/Users/amrgalal/.pyenv/versions/3.9.10/envs/topic_modeling/lib/python3.9/site-packages/past/builtins/misc.py:45: DeprecationWarning: the imp module is deprecated in favour of importlib; see the module's documentation for alternative uses\n",
      "  from imp import reload\n",
      "/Users/amrgalal/.pyenv/versions/3.9.10/envs/topic_modeling/lib/python3.9/site-packages/past/builtins/misc.py:45: DeprecationWarning: the imp module is deprecated in favour of importlib; see the module's documentation for alternative uses\n",
      "  from imp import reload\n",
      "/Users/amrgalal/.pyenv/versions/3.9.10/envs/topic_modeling/lib/python3.9/site-packages/past/builtins/misc.py:45: DeprecationWarning: the imp module is deprecated in favour of importlib; see the module's documentation for alternative uses\n",
      "  from imp import reload\n",
      "/Users/amrgalal/.pyenv/versions/3.9.10/envs/topic_modeling/lib/python3.9/site-packages/past/builtins/misc.py:45: DeprecationWarning: the imp module is deprecated in favour of importlib; see the module's documentation for alternative uses\n",
      "  from imp import reload\n",
      "/Users/amrgalal/.pyenv/versions/3.9.10/envs/topic_modeling/lib/python3.9/site-packages/past/builtins/misc.py:45: DeprecationWarning: the imp module is deprecated in favour of importlib; see the module's documentation for alternative uses\n",
      "  from imp import reload\n"
     ]
    },
    {
     "data": {
      "text/html": [
       "\n",
       "<link rel=\"stylesheet\" type=\"text/css\" href=\"https://cdn.jsdelivr.net/gh/bmabey/pyLDAvis@3.3.1/pyLDAvis/js/ldavis.v1.0.0.css\">\n",
       "\n",
       "\n",
       "<div id=\"ldavis_el446362262475689361366314\"></div>\n",
       "<script type=\"text/javascript\">\n",
       "\n",
       "var ldavis_el446362262475689361366314_data = {\"mdsDat\": {\"x\": [-0.15092547330031142, -0.1558655462181845, -0.16718569800419467, 0.03537862662335226, -0.013248872759229946, -0.13701010636792652, -0.041218684063220386, 0.06541763622091733, -0.05116589225320562, 0.10745436887454039, -0.09145040357325938, -0.12384994975760504, 0.10006310656435446, -0.031810032766601506, 0.2487844179664724, 0.2011200130024404, 0.20551248981166145], \"y\": [-0.12206448175701119, -0.12239754114608634, 0.10847283714729848, 0.0002204472632666657, -0.07416227203820232, 0.1123967246105695, -0.2321676680392311, -0.11148974037797213, 0.23823350506868482, -0.15084950110722994, 0.1471541049395598, -0.12045409600768596, 0.11294727913077726, 0.13583516629539602, -0.06884764368914253, 0.08944006021802937, 0.057732819488980486], \"topics\": [1, 2, 3, 4, 5, 6, 7, 8, 9, 10, 11, 12, 13, 14, 15, 16, 17], \"cluster\": [1, 1, 1, 1, 1, 1, 1, 1, 1, 1, 1, 1, 1, 1, 1, 1, 1], \"Freq\": [20.681284606480013, 13.474574511143796, 9.28876889501442, 8.072258348646058, 7.072203713412077, 6.257031952549283, 5.6120019228061535, 5.336193683734607, 5.023976054554585, 4.712767111271651, 3.7484249022688356, 2.855729994695895, 2.236814761574445, 1.692949530587377, 1.5683233306547386, 1.3702202559498629, 0.9964764246561983]}, \"tinfo\": {\"Term\": [\"maxaxaxaxaxaxaxaxaxaxaxaxaxaxax\", \"would\", \"know\", \"file\", \"please\", \"thanks\", \"anyone\", \"use\", \"new\", \"email\", \"god\", \"program\", \"key\", \"said\", \"could\", \"information\", \"people\", \"jesus\", \"game\", \"available\", \"like\", \"windows\", \"window\", \"space\", \"think\", \"team\", \"system\", \"looking\", \"drive\", \"government\", \"christianity\", \"belief\", \"beliefs\", \"morality\", \"atheists\", \"atheism\", \"atheist\", \"lds\", \"marriage\", \"gay\", \"homosexuality\", \"mormon\", \"homosexuals\", \"arguing\", \"decenso\", \"prophet\", \"zionist\", \"conclude\", \"fallacy\", \"mormons\", \"arrogant\", \"implies\", \"contradiction\", \"pagan\", \"imply\", \"der\", \"convince\", \"paranoid\", \"interpreted\", \"interpret\", \"moral\", \"notion\", \"argument\", \"truth\", \"absolute\", \"believe\", \"conclusion\", \"phrase\", \"bible\", \"claim\", \"religion\", \"evidence\", \"agree\", \"meaning\", \"say\", \"context\", \"true\", \"mean\", \"objective\", \"existence\", \"merely\", \"statement\", \"words\", \"people\", \"think\", \"god\", \"not\", \"exist\", \"life\", \"certainly\", \"question\", \"christians\", \"you\", \"reason\", \"point\", \"would\", \"even\", \"one\", \"see\", \"things\", \"many\", \"know\", \"can\", \"way\", \"wrong\", \"must\", \"well\", \"may\", \"like\", \"something\", \"make\", \"this\", \"good\", \"time\", \"much\", \"want\", \"could\", \"nec\", \"bikes\", \"detector\", \"curt\", \"wires\", \"gear\", \"wiring\", \"skip\", \"powerbook\", \"steering\", \"intake\", \"detectors\", \"outlet\", \"screw\", \"garage\", \"fuse\", \"battery\", \"electronics\", \"suck\", \"safer\", \"amplifier\", \"pickup\", \"tight\", \"retail\", \"bronx\", \"brakes\", \"bicycle\", \"trips\", \"wheels\", \"cage\", \"riding\", \"cars\", \"amp\", \"car\", \"wire\", \"lock\", \"ford\", \"mph\", \"bike\", \"wheel\", \"circuit\", \"buying\", \"fat\", \"buy\", \"spare\", \"dealer\", \"insurance\", \"ive\", \"radar\", \"electrical\", \"good\", \"get\", \"ground\", \"like\", \"much\", \"enough\", \"getting\", \"turn\", \"sell\", \"one\", \"thing\", \"better\", \"back\", \"really\", \"little\", \"lot\", \"time\", \"going\", \"probably\", \"problem\", \"would\", \"sure\", \"want\", \"need\", \"way\", \"got\", \"know\", \"think\", \"well\", \"also\", \"make\", \"could\", \"use\", \"even\", \"used\", \"two\", \"right\", \"card\", \"ram\", \"controller\", \"jpeg\", \"printer\", \"ide\", \"vga\", \"font\", \"motherboard\", \"gif\", \"fonts\", \"meg\", \"scsi\", \"bios\", \"microsoft\", \"isa\", \"norton\", \"manuals\", \"screen\", \"amiga\", \"adapter\", \"upgrade\", \"pcs\", \"irq\", \"vesa\", \"keyboard\", \"adaptec\", \"nubus\", \"settings\", \"dma\", \"mac\", \"windows\", \"drives\", \"modem\", \"mouse\", \"color\", \"video\", \"graphics\", \"floppy\", \"disk\", \"port\", \"apple\", \"drive\", \"ibm\", \"dos\", \"image\", \"tape\", \"bus\", \"memory\", \"software\", \"monitor\", \"interface\", \"system\", \"files\", \"use\", \"hardware\", \"bit\", \"using\", \"data\", \"also\", \"problem\", \"hard\", \"computer\", \"one\", \"need\", \"work\", \"used\", \"like\", \"get\", \"jobs\", \"launch\", \"satellite\", \"myers\", \"shuttle\", \"orbit\", \"lunar\", \"henrik\", \"senior\", \"satellites\", \"spacecraft\", \"funding\", \"launched\", \"investment\", \"missions\", \"mars\", \"planetary\", \"atmosphere\", \"payload\", \"propulsion\", \"weaver\", \"senator\", \"republicans\", \"saturn\", \"graduate\", \"deficit\", \"billion\", \"vat\", \"aerospace\", \"estimates\", \"funds\", \"president\", \"nasa\", \"georgia\", \"flight\", \"mission\", \"space\", \"moon\", \"tax\", \"budget\", \"solar\", \"meeting\", \"rocket\", \"administration\", \"station\", \"april\", \"national\", \"earth\", \"center\", \"university\", \"summer\", \"research\", \"science\", \"office\", \"program\", \"american\", \"money\", \"year\", \"new\", \"years\", \"also\", \"press\", \"technology\", \"first\", \"work\", \"working\", \"going\", \"time\", \"data\", \"well\", \"gun\", \"israeli\", \"guns\", \"crime\", \"weapons\", \"arab\", \"tobacco\", \"amendment\", \"firearms\", \"constitution\", \"criminal\", \"militia\", \"weapon\", \"nazi\", \"armed\", \"arabs\", \"crimes\", \"batf\", \"lebanon\", \"deaths\", \"assault\", \"firearm\", \"handgun\", \"citizen\", \"israelis\", \"arrest\", \"civil\", \"palestinians\", \"deaf\", \"homicide\", \"palestinian\", \"israel\", \"rights\", \"criminals\", \"court\", \"police\", \"ban\", \"citizens\", \"government\", \"laws\", \"federal\", \"state\", \"law\", \"fbi\", \"military\", \"states\", \"war\", \"country\", \"control\", \"arms\", \"public\", \"people\", \"right\", \"would\", \"american\", \"united\", \"legal\", \"case\", \"the\", \"encryption\", \"keys\", \"clipper\", \"privacy\", \"char\", \"ripem\", \"des\", \"nsa\", \"rsa\", \"pgp\", \"com\", \"escrow\", \"filename\", \"cryptography\", \"encrypted\", \"crypto\", \"uuencode\", \"export\", \"wiretap\", \"cipher\", \"pem\", \"cryptographic\", \"cursor\", \"pixmap\", \"colormap\", \"classified\", \"xbased\", \"gcc\", \"scicrypt\", \"decrypt\", \"key\", \"algorithm\", \"secure\", \"clients\", \"visual\", \"chip\", \"bits\", \"implementation\", \"compile\", \"security\", \"scheme\", \"data\", \"remark\", \"users\", \"use\", \"user\", \"system\", \"public\", \"technology\", \"information\", \"used\", \"bit\", \"using\", \"number\", \"message\", \"access\", \"two\", \"one\", \"available\", \"standard\", \"may\", \"apartment\", \"azerbaijani\", \"sumgait\", \"baku\", \"crowd\", \"azerbaijanis\", \"mamma\", \"balls\", \"batteries\", \"shouting\", \"armored\", \"girl\", \"nolan\", \"gang\", \"igor\", \"agdam\", \"sister\", \"calm\", \"girlfriend\", \"stones\", \"corpses\", \"witnessed\", \"kitchen\", \"microdistrict\", \"balcony\", \"mydisplay\", \"karabagh\", \"survivors\", \"coat\", \"clothes\", \"girls\", \"bed\", \"her\", \"went\", \"wife\", \"saw\", \"town\", \"legs\", \"burned\", \"woman\", \"took\", \"started\", \"rocks\", \"said\", \"told\", \"happened\", \"came\", \"fire\", \"burning\", \"kids\", \"night\", \"home\", \"there\", \"left\", \"face\", \"building\", \"hours\", \"him\", \"going\", \"day\", \"back\", \"people\", \"one\", \"later\", \"says\", \"got\", \"know\", \"them\", \"heard\", \"time\", \"well\", \"two\", \"something\", \"say\", \"around\", \"could\", \"like\", \"first\", \"still\", \"get\", \"turkish\", \"greek\", \"turkey\", \"turks\", \"muslim\", \"genocide\", \"judas\", \"holy\", \"lord\", \"greece\", \"nazis\", \"serdar\", \"argic\", \"ottoman\", \"azeris\", \"karabakh\", \"cyprus\", \"jerusalem\", \"ancient\", \"greeks\", \"xsoviet\", \"holocaust\", \"sins\", \"istanbul\", \"empire\", \"hebrew\", \"eve\", \"romans\", \"kurds\", \"homeland\", \"spirit\", \"jews\", \"jesus\", \"jewish\", \"matthew\", \"christ\", \"armenia\", \"armenian\", \"son\", \"muslims\", \"german\", \"armenians\", \"satan\", \"church\", \"heaven\", \"god\", \"father\", \"history\", \"sin\", \"world\", \"the\", \"christian\", \"war\", \"also\", \"book\", \"one\", \"first\", \"new\", \"people\", \"two\", \"entries\", \"contest\", \"mailing\", \"guidelines\", \"echo\", \"outlets\", \"compiled\", \"isbn\", \"ireland\", \"tyre\", \"pex\", \"cigarettes\", \"nick\", \"solaris\", \"invaded\", \"zoom\", \"ontario\", \"carbs\", \"jonathan\", \"anon\", \"gainey\", \"cocaine\", \"summarize\", \"mounting\", \"chars\", \"alias\", \"challenges\", \"editors\", \"bulletin\", \"bindings\", \"visualization\", \"anonymous\", \"contrib\", \"binaries\", \"ftp\", \"archive\", \"compilers\", \"patches\", \"usenet\", \"requests\", \"list\", \"send\", \"sites\", \"library\", \"mit\", \"mail\", \"author\", \"contact\", \"available\", \"site\", \"source\", \"faq\", \"info\", \"address\", \"email\", \"information\", \"version\", \"posting\", \"fax\", \"sun\", \"distribution\", \"files\", \"subject\", \"posted\", \"may\", \"name\", \"section\", \"also\", \"please\", \"software\", \"server\", \"number\", \"many\", \"season\", \"players\", \"hockey\", \"league\", \"nhl\", \"baseball\", \"pts\", \"cal\", \"puck\", \"rangers\", \"calgary\", \"sleeve\", \"playoffs\", \"bos\", \"pit\", \"scored\", \"det\", \"chi\", \"scoring\", \"pitching\", \"que\", \"scorer\", \"braves\", \"leafs\", \"flyers\", \"stl\", \"pens\", \"espn\", \"playoff\", \"quebec\", \"game\", \"teams\", \"games\", \"team\", \"player\", \"play\", \"cup\", \"kings\", \"fans\", \"montreal\", \"toronto\", \"win\", \"detroit\", \"played\", \"period\", \"year\", \"flames\", \"division\", \"goal\", \"last\", \"pittsburgh\", \"first\", \"good\", \"second\", \"power\", \"two\", \"best\", \"series\", \"widget\", \"int\", \"null\", \"xlib\", \"exit\", \"openwindows\", \"expose\", \"col\", \"void\", \"obscure\", \"graph\", \"terminals\", \"displayed\", \"hulk\", \"handler\", \"reset\", \"static\", \"app\", \"powerpc\", \"thu\", \"comics\", \"maine\", \"tigers\", \"spiderman\", \"shipped\", \"darren\", \"copper\", \"quicktime\", \"hackers\", \"wolverine\", \"window\", \"client\", \"script\", \"winners\", \"duo\", \"entry\", \"file\", \"output\", \"character\", \"pointers\", \"stream\", \"application\", \"title\", \"returns\", \"manager\", \"resource\", \"program\", \"code\", \"error\", \"input\", \"rules\", \"build\", \"size\", \"function\", \"count\", \"display\", \"server\", \"return\", \"section\", \"set\", \"write\", \"line\", \"lines\", \"open\", \"use\", \"name\", \"read\", \"must\", \"slots\", \"circuits\", \"liar\", \"na\", \"francis\", \"balloon\", \"prediction\", \"gon\", \"expos\", \"wow\", \"dram\", \"prize\", \"radiation\", \"spy\", \"beam\", \"hst\", \"paranoia\", \"nixon\", \"affair\", \"volvo\", \"statistic\", \"clever\", \"rode\", \"pentium\", \"bottle\", \"homers\", \"obp\", \"intrinsics\", \"rbi\", \"liver\", \"hmm\", \"music\", \"filters\", \"instruction\", \"hole\", \"simms\", \"keywords\", \"sleep\", \"array\", \"buck\", \"theory\", \"centris\", \"would\", \"could\", \"performance\", \"like\", \"really\", \"maybe\", \"deleted\", \"get\", \"work\", \"much\", \"might\", \"real\", \"well\", \"lets\", \"course\", \"think\", \"answer\", \"memory\", \"help\", \"know\", \"time\", \"question\", \"better\", \"thought\", \"bit\", \"make\", \"disease\", \"patients\", \"diseases\", \"adl\", \"mbs\", \"infections\", \"symptoms\", \"cdc\", \"illness\", \"patient\", \"prevention\", \"syndrome\", \"infection\", \"cancer\", \"clinical\", \"acid\", \"bandwidth\", \"cure\", \"infectious\", \"glutamate\", \"dpi\", \"therapy\", \"gerard\", \"vitamin\", \"phd\", \"hiv\", \"lyme\", \"chewing\", \"methanol\", \"immune\", \"medicine\", \"medical\", \"health\", \"genetic\", \"pain\", \"aids\", \"newsletter\", \"drugs\", \"drug\", \"treatment\", \"doctors\", \"study\", \"burst\", \"among\", \"studies\", \"associated\", \"effects\", \"doctor\", \"research\", \"reported\", \"page\", \"use\", \"blood\", \"april\", \"volume\", \"age\", \"number\", \"years\", \"cause\", \"center\", \"information\", \"maxaxaxaxaxaxaxaxaxaxaxaxaxaxax\", \"pointer\", \"toyota\", \"gifs\", \"weiss\", \"timothy\", \"sphere\", \"nissan\", \"repairs\", \"pity\", \"eprom\", \"vdc\", \"gamma\", \"tranny\", \"endometriosis\", \"kermit\", \"latch\", \"mpeg\", \"similarity\", \"ntsc\", \"zones\", \"composite\", \"detecting\", \"triangles\", \"jazz\", \"projector\", \"hdd\", \"pic\", \"construed\", \"thanx\", \"advance\", \"appreciated\", \"distortion\", \"intersection\", \"thanks\", \"appreciate\", \"wondering\", \"replies\", \"greatly\", \"please\", \"hello\", \"email\", \"anyone\", \"looking\", \"anybody\", \"reply\", \"forged\", \"thank\", \"interested\", \"voltage\", \"info\", \"post\", \"help\", \"know\", \"would\", \"someone\", \"information\", \"could\", \"find\", \"send\", \"need\", \"address\", \"respond\", \"mail\", \"give\", \"dog\", \"cubs\", \"yankees\", \"sox\", \"allocation\", \"phillies\", \"compass\", \"reds\", \"jays\", \"cooper\", \"oto\", \"pitched\", \"rings\", \"jagr\", \"innings\", \"denver\", \"bolt\", \"inning\", \"giants\", \"crashes\", \"swing\", \"collaboration\", \"oakland\", \"pipes\", \"crowley\", \"losses\", \"dawn\", \"adb\", \"orioles\", \"hawk\", \"ticket\", \"hanging\", \"neutral\", \"row\", \"francisco\", \"san\", \"friday\", \"seats\", \"york\", \"milwaukee\", \"angeles\", \"los\", \"spring\", \"chicago\", \"east\", \"philadelphia\", \"cross\", \"lost\", \"street\", \"jose\", \"boston\", \"new\", \"west\", \"field\", \"washington\", \"south\", \"ball\", \"last\", \"news\", \"home\", \"california\", \"run\", \"said\", \"engine\", \"candida\", \"borland\", \"exhaust\", \"temperature\", \"cds\", \"tower\", \"stewart\", \"plants\", \"nords\", \"torque\", \"sockets\", \"cooling\", \"yeast\", \"valve\", \"storm\", \"debugger\", \"ulf\", \"mainstream\", \"dealership\", \"harley\", \"deskjet\", \"het\", \"seal\", \"albicans\", \"ink\", \"discharge\", \"abs\", \"positively\", \"drops\", \"oil\", \"helmet\", \"water\", \"tires\", \"snow\", \"cycle\", \"fuel\", \"electric\", \"plant\", \"miles\", \"air\", \"hot\", \"turbo\", \"cylinder\", \"excellent\", \"gas\", \"condition\", \"dos\", \"sale\", \"new\", \"energy\", \"used\", \"nuclear\", \"power\", \"system\", \"msg\", \"diet\", \"riders\", \"foods\", \"dodgers\", \"protein\", \"astros\", \"eaten\", \"sticking\", \"bounced\", \"marijuana\", \"patented\", \"cica\", \"rectangle\", \"ate\", \"moore\", \"sugar\", \"wwg\", \"enhancement\", \"publisher\", \"seizures\", \"temporarily\", \"robinson\", \"champs\", \"fever\", \"cardinals\", \"pace\", \"goddess\", \"charlie\", \"soundblaster\", \"smoking\", \"eating\", \"taste\", \"food\", \"dod\", \"linked\", \"easter\", \"eat\", \"salt\", \"smith\", \"copyright\", \"keith\", \"illinois\", \"michael\", \"nationwide\", \"cbc\", \"day\", \"bill\", \"mike\", \"john\", \"says\", \"week\", \"university\", \"from\", \"lets\"], \"Freq\": [3519.0, 6084.0, 3491.0, 1745.0, 1485.0, 1221.0, 1556.0, 3303.0, 2536.0, 1227.0, 1623.0, 1552.0, 1073.0, 1800.0, 2548.0, 1486.0, 4024.0, 887.0, 835.0, 1348.0, 3914.0, 1107.0, 717.0, 1092.0, 3036.0, 736.0, 1901.0, 691.0, 1019.0, 1124.0, 233.50718708506272, 204.61735486762618, 183.88639018760637, 174.40685736909785, 160.99907124258235, 110.28939669232095, 107.87846348848066, 88.49165623290135, 82.11168467082601, 76.68374033736222, 73.23873118693277, 73.1824651390141, 71.72477849889974, 66.76109885915353, 66.11947788456867, 64.91042734906463, 63.16117147309262, 64.95333199117376, 60.82808768826121, 59.17029334152369, 58.29980202640239, 57.85898389341243, 54.385964222317845, 52.806862573079535, 76.23964595348079, 50.62979100678596, 94.0746099672388, 50.22072116939122, 50.10306672650792, 49.463650811218685, 265.37794039186787, 64.26495464299691, 353.74545805403466, 404.3792945184431, 138.35594979443914, 1146.708141862425, 170.58209940229537, 76.64058499083706, 453.74718763838877, 346.5130686861036, 313.968102830628, 445.1234115527314, 397.13530437344247, 213.03496075805424, 1390.1856156603997, 188.158074358626, 723.2193818486497, 608.3178102013574, 208.9459945237086, 185.01895878273447, 127.15231131114983, 264.1108574818776, 353.75058609890823, 2259.1988687099533, 1759.3978268359767, 1030.932660203429, 1051.0818197034005, 311.02487856890804, 528.5923472559085, 353.59934296210287, 700.2576378790268, 329.28780641650616, 725.6262354079017, 480.063949268737, 738.1278618182862, 2360.5206482100148, 1090.2227959536485, 2179.328635359895, 1043.6357162164484, 692.56821436065, 1001.3757947001449, 1327.5292033420433, 497.5940681082424, 860.0579089780247, 429.8520483365284, 662.1882634681874, 886.6598354859663, 880.227671822733, 1062.6268948100294, 690.6993724782257, 752.2050059443251, 628.6450610019615, 745.018541067151, 763.0994347173917, 686.3770004325443, 626.9085454685866, 641.1458213425451, 140.9685321127275, 110.85317097345991, 83.89154015874844, 67.88566307053317, 67.00118502537539, 66.55650700040549, 115.90237367674217, 56.50807701269613, 56.394553887707985, 51.371816402151055, 48.86940366130306, 47.63007861074579, 47.599682033002075, 44.135017883081936, 39.704519923317456, 38.64482350090935, 88.31523712554436, 104.78473998333186, 37.13792466749497, 36.89747689753153, 36.13218699661409, 35.868856409697514, 35.772283794477055, 35.132247988952024, 35.12584792788336, 34.67562739063069, 34.67531184237614, 34.456031791794075, 33.98109083304709, 33.39348058576543, 113.89975596010211, 249.7046044627984, 106.78244257186583, 752.3402163321392, 177.65029651111954, 136.24106983444435, 75.43818803610299, 120.26616102316339, 286.2837005961586, 64.85866434966721, 124.31298942872498, 155.10942992060293, 87.9211062186202, 392.13405817208684, 68.02675397597135, 107.0189181461544, 138.5260698279107, 784.9602138993662, 113.75444784505025, 102.20259747939132, 1133.1445032877837, 1471.6478019254137, 221.97373382548903, 1410.0315183981677, 858.9527009017746, 435.51687955064875, 352.67591461358586, 205.58533058145204, 228.8783008681785, 1703.4730413537814, 453.048057504017, 511.63264249757043, 588.0507377956704, 545.179772809305, 420.74004435222497, 390.9595058973567, 804.6203105425055, 502.5743732339646, 424.54993685427957, 547.3486064971098, 1203.6906984733512, 454.79163609000227, 549.0538441140017, 512.3278287133252, 563.8817907049969, 428.90696775572115, 734.9092416550849, 674.5875226846036, 615.3006237970752, 689.4000259727883, 549.7240240586667, 593.2294712012773, 594.7190965520047, 508.5385767794502, 487.4487866799527, 498.3354242017063, 468.5756154109954, 741.5403127910288, 290.12571995576394, 263.64368159973185, 223.1140214455594, 212.61814541317835, 200.38761873672422, 167.54955541923925, 166.72021761352036, 161.83718905076324, 161.59895583403986, 150.34687129170206, 147.39270979637962, 560.655450127807, 141.1198970473078, 140.87840863516834, 125.64054203513248, 108.48632756261118, 104.19446500763104, 350.52017942707187, 95.78415582705291, 95.23286084489095, 143.9416908321739, 87.50960262637363, 87.10973564984005, 83.85000036218234, 402.58418437013097, 77.39010088662725, 76.89520370051812, 76.85029121659366, 75.0924089184427, 535.3838326433718, 1055.1768761321177, 317.3163467932134, 268.00222447842344, 285.3824703030897, 455.6448932983198, 395.439869821885, 435.61741610208975, 213.71234147737283, 638.7690028409588, 239.3941750030134, 300.2420074459485, 847.7861241527397, 270.7778415761139, 441.1989502296453, 479.7921376239487, 271.61113065677176, 279.9002298721876, 406.9498313545419, 663.9817811327791, 298.5576383109437, 289.72813571060703, 813.8669060256517, 450.2161281531206, 842.6485659232518, 320.4010641449398, 470.5670366523882, 470.9114322328223, 436.7585361153006, 568.9115265117377, 441.96623459318755, 357.4173447988228, 349.0871154727725, 529.7873942248546, 393.8865888393899, 385.13719680297186, 391.1712235662874, 411.54338296393155, 406.03403637748943, 260.9262823411335, 245.65949513131784, 210.54986632560048, 166.66486746523802, 163.03025956028256, 160.48903904071648, 151.61572581535188, 146.7140215064203, 122.97933107298397, 120.43493473943542, 98.64274827525308, 87.28996053831187, 87.02546060234424, 80.41088947301914, 78.14263772670724, 74.81589696546307, 74.24262251036058, 69.92402700487212, 64.04461678121753, 62.07537192448099, 61.584050372217156, 60.826142810095256, 60.43992112980833, 67.07170125674988, 55.822598953625324, 56.414545771610676, 155.20030353028676, 52.241548438253595, 51.673882808685946, 49.52618745198268, 125.01301737646821, 575.2178753430055, 269.737911829371, 92.08629365222323, 152.33127139936602, 173.12917010775166, 946.5404511750721, 122.68042203762096, 208.15473324922746, 111.95892740786513, 103.27457066653808, 125.28361096111368, 107.66430173648237, 223.17816592877944, 176.09463311701933, 319.47429012947003, 314.63477662040225, 195.86404847031258, 242.24927583110616, 276.75902273180077, 139.12861204891126, 238.42011596033453, 226.72632408504714, 197.2886278853012, 372.16903256052296, 224.3592484801046, 227.68844449249488, 323.00081360897207, 387.75325883518474, 310.956561320091, 338.67492342559115, 181.1120100007798, 188.0996369709127, 251.06092311101867, 218.8847145079448, 189.09004614156555, 201.51084143954893, 203.63152013780757, 191.61438236158344, 190.21953283547262, 596.3498005293436, 358.2418411958563, 328.050032876581, 299.10980750903116, 270.4301740136878, 209.2101163861151, 206.79438078600225, 177.26843941234938, 171.64870819432963, 167.5863399709277, 161.7572841774886, 143.78871235996442, 143.72556738602566, 138.76638777516547, 121.2247654537336, 106.88768431280748, 106.77742611158409, 100.40232450672828, 83.67422954516768, 79.5271588314218, 77.82250172887152, 76.39955756485381, 76.34978666833776, 76.26643249698807, 75.25778077676983, 71.60778773432006, 183.3100308067895, 71.02864186065723, 67.08570508389042, 64.14572279505977, 111.09373034348678, 512.6938551249881, 407.3522328672513, 183.17890873303662, 286.6061985939903, 316.12415916619744, 108.56807946721268, 211.6139898965791, 768.5083447660305, 256.95307878479895, 231.89192819494727, 533.3737951211792, 502.87425832115866, 180.846083060443, 262.2143130253766, 360.7794554805476, 291.90598072905095, 265.32239873840933, 293.8364929537651, 171.96441747652068, 301.1370869512748, 561.1598906046573, 406.6668191930879, 598.66735044917, 217.9087379243788, 202.58181138539123, 187.6338949775617, 194.72182867404774, 191.50453691623224, 449.30920383295046, 416.90904640394615, 328.7908234054044, 289.40801418854016, 265.7757856308274, 244.1705045229317, 213.45125523574728, 187.59391890554045, 164.91037479053588, 160.13345467012715, 153.55919049695405, 153.54309660756965, 143.3288690599312, 143.0712427123824, 129.26916730697403, 128.82805407145682, 117.64714505827676, 166.92322802017227, 86.83853124391945, 79.86696038161256, 79.01616319413168, 74.81435483212215, 72.95184914496086, 67.18820259909606, 66.91655788088808, 64.14023784468473, 63.32589669541088, 62.118461953153144, 61.249667742838845, 55.89493975831145, 1029.6800370746178, 251.198997003434, 187.34989030857687, 100.44080521882154, 117.14429031224212, 476.5007608283415, 231.54282794545352, 130.86630999539145, 102.11301824731079, 287.7220861874779, 97.88044256120826, 505.62008168104546, 118.93482169889181, 229.54234508323597, 708.4087697428595, 200.5070241279101, 468.5431255000391, 292.4390989767077, 213.8935820636088, 356.1372513329176, 391.5407464160352, 304.95294610861725, 330.00003026830126, 313.51569512878564, 226.90531924559892, 199.72007844672714, 264.2751235337837, 303.75670261848927, 220.78117371477077, 204.42254191864723, 208.8378115204477, 134.71898602522018, 112.16739217438058, 105.04820849282196, 88.76542595833959, 78.26922516449501, 64.17878656161058, 64.08506556856872, 52.532280249631334, 45.82161533109786, 41.926099224873255, 41.18727178711695, 40.2953885795441, 39.83865180660403, 38.99250659586641, 38.90220257845182, 38.68701660564608, 37.90031130939475, 35.20052330500522, 34.303704809558056, 34.044042492456384, 33.486014811238654, 31.355596991778, 31.106423707552068, 31.040830144651057, 29.682500387242545, 29.565404807081666, 29.451583957408822, 29.31839612280061, 28.60485430468609, 28.359679345786905, 49.93969869594024, 48.372809733842935, 103.46181648522132, 463.83235629766955, 148.76116641847642, 337.4959876498332, 148.80340704025787, 61.48451519479484, 83.05641111058361, 138.87084951834515, 312.6540738893193, 305.121488725717, 60.92669160442905, 859.7329859413016, 347.97636212579505, 212.69994832277044, 310.2128751789159, 180.0114958226495, 77.40595178362216, 95.03324155872218, 172.46693732906638, 249.1800130394763, 310.88150154817424, 291.50306278681217, 172.41931613027913, 170.4422323863422, 124.9335223464187, 206.41367796171497, 341.1276915916332, 260.05652167449307, 329.3281233252661, 552.2145800354821, 664.7865421241313, 202.38800446080498, 219.6921009104212, 284.8950957665205, 453.6504244929646, 271.6786916985206, 208.63767452907823, 320.22616609420123, 289.4178232604867, 266.9794318021929, 245.80516671170653, 249.7308851717334, 220.43412577152466, 248.25888299436258, 257.08396933876406, 235.9179173589257, 219.65073849776027, 226.00187264230678, 454.28695953928775, 349.662011944637, 286.39927625125165, 209.12042738325124, 192.8138937004933, 188.71809826826612, 185.37563422349606, 177.93241150030028, 167.354040231721, 109.01969040098626, 101.80635301000865, 90.77060449074044, 86.92995166848328, 86.59501487881231, 82.56012506373908, 80.6359615458042, 75.88304172589189, 72.83865472295837, 70.73388549738294, 69.62772846369573, 69.34742854657257, 68.41878401258703, 65.66021295158023, 59.92053039604746, 58.64118312090018, 57.67724308492003, 52.32776341831603, 52.05659610942307, 50.86035380498353, 50.199118861501326, 191.06271460219747, 561.9064617336893, 799.2552930647278, 313.0946251860453, 160.72315507175946, 315.69757730848437, 189.39751021885684, 475.8334227542515, 229.96824900891679, 165.98808901490852, 151.87120547671807, 360.3161491658485, 88.96527073102033, 298.7250630191137, 120.67601523314842, 591.6864564196096, 170.5904413518035, 223.76280343364405, 128.61150494600912, 313.62418708968056, 328.024681336001, 184.35327607408462, 172.8916116396275, 277.3621693460132, 176.07914477877443, 230.493765043613, 203.40606091170494, 189.65574015614231, 178.9916646812869, 174.79335822094072, 312.0947689272852, 227.64942432587867, 157.40634211597236, 115.38240986989494, 103.77126467933674, 67.1343361944129, 84.41105120107358, 46.57504406307983, 41.65860842825834, 41.57807651761201, 39.14061523198176, 36.13704154983114, 35.336699803216, 34.31432572958222, 33.74570804348313, 33.70419221164637, 31.99758064578602, 31.914128204194316, 30.81122498818999, 30.33559091718489, 28.987102883846052, 28.325515424031845, 28.063356939616806, 27.864290228449182, 27.268560049384217, 26.98437716288255, 26.756445640181827, 25.972317684796128, 25.6174468763133, 24.542818829101435, 53.41700374397895, 352.4003327402748, 69.81624176775729, 62.20585302340727, 413.936467877909, 139.77249185124276, 44.97758007457891, 69.78016559782353, 133.99062676972306, 102.16889807443368, 601.4876833196439, 564.5776644292592, 171.03957988483418, 202.146960552264, 114.82436976554207, 392.8120876120933, 192.45330033492525, 331.0266083386186, 766.6888145660641, 183.9159267636862, 404.49850775759614, 202.3361777382149, 386.0337539816667, 342.630157380443, 584.5779918521297, 650.8729259287055, 416.4627299139333, 257.77876208797727, 191.07961545545865, 231.04603226638218, 151.94179895028805, 323.9674608133116, 293.4969828905871, 190.4301336656199, 416.489571115873, 276.71135447032214, 207.4253759277652, 399.933687438943, 300.5640366115149, 250.2305820369016, 201.3892723988302, 220.251461991599, 200.33311982415808, 420.4640484622264, 404.8464209874499, 342.400570259601, 358.58436150376843, 224.11544926427902, 202.07951939913707, 194.7843310620505, 159.67164475675813, 144.31377994196274, 120.61015676476305, 120.22384706037423, 108.08838748563262, 104.90586902638205, 103.07411016672351, 102.51674434091082, 99.69460917852696, 98.66195704302322, 98.4816771035386, 97.95953421358625, 95.16542366958967, 93.8019501586166, 92.7449193057834, 89.58507606593216, 89.05746951798437, 86.68609652740707, 86.4700275506158, 83.82737770825526, 83.7317533061525, 82.66904585808257, 82.30487123960303, 801.9926158433753, 311.0577040993394, 550.3055747694156, 680.9125948781867, 230.03836614681433, 479.7723260695058, 140.41013133759117, 179.29299095211928, 128.29678607439388, 122.27277074457787, 139.04871448875326, 303.40550829969885, 132.35401955922288, 160.07861456714113, 291.408582577971, 505.5451279367858, 149.45677522642228, 164.82411315165845, 163.04322032470654, 277.78674834890637, 141.83513851769922, 284.6211404958906, 212.3975855876188, 179.37635847887103, 173.76719683095618, 178.31034271317458, 163.6677912212997, 147.15773857478086, 276.925003177654, 227.17030025546896, 114.76489929951146, 105.70856445271153, 88.58988736472666, 86.28721314775436, 67.15300213523818, 54.99437400846318, 46.93785215070029, 45.61709190121236, 45.320157336880925, 42.19908103105773, 40.83934610620648, 40.08644295244419, 39.99817471045545, 38.999873616615346, 37.511028625152434, 40.909859906784334, 35.85041829439087, 35.659944284745585, 35.619127245289825, 35.53525423961127, 34.345613720705785, 32.67560774615896, 32.311259592575595, 32.2645581413493, 30.661457660127567, 31.706334213927562, 28.35232690710939, 27.388526765959753, 679.0603086718077, 159.46350247600878, 50.82510819816258, 100.59303813789009, 54.19395355838882, 513.7059007114598, 1275.0969167265068, 385.7918340795163, 140.3006687262809, 49.243492326009715, 163.9409264005043, 263.7396247159973, 173.79124581563872, 71.16014816712762, 164.76162937904016, 115.64438443283481, 659.4744747358365, 324.1818900000724, 217.2548619444758, 194.5197255281443, 219.76250949388356, 222.61703371945558, 228.9959426217833, 164.04837836187698, 126.66794278250477, 214.89181106029517, 221.65227934937016, 181.1883459084546, 206.048364275978, 290.3854309010374, 203.11259427244667, 267.542132015208, 185.2804100539046, 178.67022249505942, 307.66158467945166, 192.24565339407778, 193.95596211586172, 172.3324900171113, 86.21241993912517, 73.63726556173705, 65.68758829668307, 65.87708077839298, 62.29449838071624, 58.98649314447286, 42.45993650125033, 43.35326584366861, 38.56285927393443, 38.38013932628153, 37.325842710653625, 36.95376875317675, 36.570853076449716, 35.990007574236394, 32.962725762908384, 32.6012700814112, 32.32007774033667, 31.68000403600782, 30.718090197909216, 29.38639977680474, 28.47671501640589, 28.45991900606101, 27.15706535520014, 26.575149842959224, 26.558193331110207, 26.231863875857048, 26.09857681793473, 25.903907375944282, 24.84500657010942, 24.83156692945403, 52.892074795377354, 109.24015609634395, 35.80394541879142, 48.351005738778625, 87.1144635690917, 89.31957799901292, 31.557308503814507, 58.54998570080505, 39.51131930948023, 33.7544167410587, 93.00491912439827, 46.67215056422195, 513.8297419402749, 293.4951653115365, 88.39925608010448, 319.51886660424634, 193.78057836635398, 135.8970893233827, 78.21565593868053, 230.06275532571266, 166.067117238071, 179.40627765768966, 137.70233471181618, 111.79492462657569, 161.27897342483635, 87.93726980942671, 111.91429998059515, 164.95768048805064, 90.34573649800346, 90.66641220909614, 110.45388735317137, 131.8363005618452, 118.58505720143482, 99.35418239118302, 100.5214689186363, 86.75207634945284, 89.16477901890353, 86.83173544891874, 193.27497499900574, 151.79369556297598, 106.61324762631475, 101.01102842408697, 93.0099034039054, 76.47606027527765, 69.76036833100086, 65.205633078716, 64.90279456301187, 64.26150281108252, 63.30224713334957, 62.171672028968416, 59.98858924814781, 97.02898320224052, 53.02109965216945, 51.3072940588125, 48.068785008730124, 45.39977624321447, 44.764040663769514, 44.62098524497669, 44.51682796363003, 44.343511864527365, 42.37443293038144, 39.95406658108377, 37.91072868682595, 34.46870694805184, 34.308403730291275, 33.65594293775556, 33.625862204469406, 33.40399245433524, 107.79960630803474, 290.70600422263215, 366.52244772989843, 53.51098940144077, 221.07370394187706, 62.07386465903248, 97.68696812190024, 122.30838479290458, 146.25049898451314, 115.570142775031, 80.87907307130068, 186.4171298360822, 54.45370474316208, 219.200184272385, 111.86174521061001, 101.41941449677273, 81.65235226755306, 100.97609405121707, 181.87688401674467, 112.04425586311407, 106.02521033328193, 303.59011251655653, 101.82696246003317, 136.31375531647808, 100.91126382214013, 97.05771556536298, 135.36071643865887, 136.25198172177585, 106.76286494890236, 104.77135919254572, 109.1825657407152, 3518.1728872383364, 55.26586594119474, 49.54343654435525, 35.52217873674682, 33.75636291087365, 32.85416765836598, 23.48654302304272, 23.920892492271054, 20.254439762292517, 19.508657035188275, 19.437923730375125, 19.270078353656984, 17.893154845856284, 17.808792791230143, 17.607667518664748, 17.43356093943156, 17.26874728323992, 16.904724401855642, 16.554867584445358, 16.052167276319164, 15.028528762216409, 14.575939529463538, 14.555454427075217, 14.389434612532574, 13.68870325245219, 13.659493324807132, 13.513299096833657, 13.381972426322163, 13.1402099718195, 52.386899353045955, 271.46929326889574, 215.72939683454763, 27.38492890315845, 21.439208158937934, 763.9978711924293, 144.20106109322532, 119.78335636050909, 79.59809294613108, 112.90314554389549, 658.8040569917584, 103.70596890075774, 439.8209542552443, 527.5808343816497, 269.6230818116822, 174.93610274541888, 131.15093893006016, 24.6372554033861, 105.10228422588305, 160.16332153128465, 51.9174360302611, 163.05596724244901, 171.33481428285558, 210.96189783630945, 385.3804625669269, 397.60832988442723, 135.75551233436693, 145.49022701941018, 169.14799042374486, 127.1152021175375, 100.75515893166457, 99.39038842540828, 78.45512871061636, 59.451920121606925, 62.21967387247267, 62.51060337121856, 86.20416939100059, 76.31872063579279, 65.07420769477811, 60.76519039224513, 60.065243231428994, 53.36018275842863, 47.90036883812275, 45.74638905671584, 42.78185226719533, 42.05676131972206, 41.75198018731445, 40.07930654477742, 40.14510417730678, 46.969502578620435, 36.84901092248807, 36.27158182247417, 36.173229311922135, 34.114618938526, 32.137896976720114, 31.304816334587013, 30.544076793245846, 30.243035773178494, 29.9442346725164, 29.452755566347655, 28.808576522390585, 28.44146997819834, 27.381381454673885, 27.129463111563442, 26.951182118900753, 26.25019104502846, 68.29591004601582, 93.56944610869981, 113.41141266691179, 52.16947202125376, 121.05460531081854, 258.30454690810524, 93.38635343731472, 38.93691308143997, 197.69165029542293, 46.907846031658195, 104.54043308900798, 107.63578048046222, 72.6812090482944, 107.78481808088964, 102.84827076497893, 90.40688039509344, 84.20271152909594, 135.4228863490745, 115.18547722919409, 75.36909850793721, 86.58505938986637, 338.9347045124552, 87.3052211319818, 93.41263792366898, 99.16150169055945, 79.32268761151042, 67.85938155525653, 109.60193195840812, 88.36493806393825, 77.69904331595508, 70.63792553082867, 77.35215999472648, 72.42972278840257, 247.7712697512427, 95.86838340882358, 91.62355927279138, 70.46998060109787, 65.01930428127802, 62.1330495258903, 59.19912651715683, 56.6738083830542, 50.091781155535536, 44.507302126359164, 42.86391613998837, 42.55127593960452, 41.24272138052993, 39.21320864989147, 38.94540692881733, 38.929956422981235, 37.15011613536101, 35.623925678598376, 35.213862126422804, 34.76955740240016, 33.96272147791309, 33.45910324047747, 33.367671640753535, 32.683264968824965, 31.2557239986018, 30.56627084597501, 30.396641445701054, 30.248351622095946, 26.79983858395998, 26.52984431651425, 153.09181424264435, 93.37646083639716, 211.91749514806006, 67.41453737073957, 66.54224819899183, 68.73304294950336, 77.04928677588816, 44.548136037502594, 55.97401160601603, 125.36638284580938, 142.38111045609705, 102.90965850009844, 69.17215623108419, 46.31023059168011, 104.41132928194254, 84.44658790938452, 96.42248759349569, 103.94161699232197, 87.01198796558577, 105.2891088797282, 54.116562424929064, 83.64809030518937, 54.695485268115846, 59.408294232991004, 56.74496043885918, 196.23959308941966, 79.5890410221677, 52.101630818156394, 44.13418316500676, 42.80888294590194, 39.59998231894257, 37.15768639093263, 34.97197591917821, 34.913297757154204, 33.598438679729306, 33.01754310486199, 29.00770983523064, 26.8785778764792, 26.76161249126564, 26.01505109458185, 25.97611753998367, 25.96073036316216, 25.29143429342393, 25.22425870246438, 25.156241934125063, 24.89218471430306, 24.65294991418369, 24.33660791968101, 23.7321703596082, 22.941580025764722, 22.794991140555663, 22.192358927235247, 21.72455229352069, 21.522039388413543, 21.182546347539827, 44.02071426644748, 69.18513956066916, 41.08727617036264, 196.90434724056425, 117.77852920409134, 60.53621084534542, 60.673830100217764, 72.21714695389204, 36.69887574298183, 71.02823167715977, 49.40213227764102, 40.48524354300744, 38.19931875621041, 55.3395487702893, 30.176546669127895, 27.288167568142985, 79.38237054844463, 58.37983616017463, 48.123894066091346, 57.04470536678305, 55.963350980381406, 48.03322261192361, 47.8916895761355, 36.538505165715264, 35.519213417426975], \"Total\": [3519.0, 6084.0, 3491.0, 1745.0, 1485.0, 1221.0, 1556.0, 3303.0, 2536.0, 1227.0, 1623.0, 1552.0, 1073.0, 1800.0, 2548.0, 1486.0, 4024.0, 887.0, 835.0, 1348.0, 3914.0, 1107.0, 717.0, 1092.0, 3036.0, 736.0, 1901.0, 691.0, 1019.0, 1124.0, 234.4576233375986, 205.56677047801864, 184.8374945398998, 175.3562707484609, 161.9484846689366, 111.23881019533322, 108.82787705946902, 89.44107022950075, 83.06422152585607, 77.6382041792158, 74.1881471728758, 74.13187886398347, 72.67436922678621, 67.71114972820975, 67.07058273293998, 65.85984099828788, 64.11058527046303, 65.95011113070942, 61.77750115614651, 60.12017868412652, 59.24921548608648, 58.80839850699464, 55.33537791780384, 53.7562761219545, 77.63797907298701, 51.57920578039019, 95.84998328112044, 51.170135686482695, 51.05248019803668, 50.4145074909529, 273.8085306776942, 65.50789882253851, 369.9387828422208, 426.8816723112349, 144.2289119593932, 1363.570451684321, 184.03185820042256, 79.21413127181928, 527.2080967200556, 398.69528284383523, 363.8084703301716, 534.4884289144863, 472.20526884873385, 244.72740093820772, 1973.5243429237605, 214.26595782404132, 977.1544307710901, 805.3211128049431, 242.86419660188884, 211.77701253360277, 138.77267080684595, 323.08476691194454, 453.86867703703115, 4024.198251125143, 3036.4611318566913, 1623.50896460786, 1709.719454847458, 394.4780009308981, 755.6980744111353, 465.44722492901116, 1089.1980542268914, 427.3739083414092, 1205.4831982624346, 710.826181268579, 1253.8130560140012, 6084.54170582589, 2298.1616786711597, 6227.244854384669, 2202.7217978480503, 1232.277384331158, 2161.3604440566455, 3491.566036052577, 797.2400163772357, 2033.60902326013, 636.3863279487038, 1371.2087109941226, 2559.491919488744, 2537.8151095498556, 3914.823854356325, 1622.5499373895375, 2060.9443055578804, 1502.1569158491097, 2431.03425564636, 2885.8701528617153, 2094.226513286978, 1779.9814843809681, 2548.5488447541275, 141.91805630503856, 111.80273811904789, 84.84107036604287, 68.83522455865047, 67.95071095150766, 67.50603073331074, 117.57538504354667, 57.45760390559381, 57.34414237251471, 52.32134324285611, 49.818927986135705, 48.57965446878458, 48.54924827075793, 45.084551362740875, 40.654044058653874, 39.59434708387214, 90.50853666785126, 107.42308646548894, 38.08744831868251, 37.847000708091294, 37.081710563186654, 36.81838002446148, 36.72208508857731, 36.08177427811065, 36.07537272349175, 35.625151042772615, 35.62483555278933, 35.40555664995525, 34.930617860222476, 34.3430165783114, 117.77562857932685, 260.9790648040844, 110.66766742085869, 804.9881515433199, 185.63976264773044, 143.39702226643539, 79.3548439379029, 129.0828903021127, 324.24907245124416, 68.28691065910652, 135.8664202053782, 172.41937494370077, 94.66229937679715, 484.45371442032797, 73.1909150473881, 122.28358974465843, 167.2617163787546, 1307.7594927241382, 136.98140464951766, 120.53921080014524, 2431.03425564636, 3532.4054421480023, 335.99796627736544, 3914.823854356325, 2094.226513286978, 859.1301947541594, 644.7044117790298, 311.2165382023331, 362.5177331108153, 6227.244854384669, 982.1413352815166, 1173.4781553949063, 1456.5677272374628, 1470.1373774063213, 989.2967246899428, 889.0950955339023, 2885.8701528617153, 1376.6363216800996, 1043.700093120001, 1595.233481652274, 6084.54170582589, 1204.1169598852289, 1779.9814843809681, 1683.2086827153482, 2033.60902326013, 1204.6038580144748, 3491.566036052577, 3036.4611318566913, 2559.491919488744, 3419.775547120005, 2060.9443055578804, 2548.5488447541275, 3303.131991585319, 2298.1616786711597, 1934.1529680842668, 2190.674335293832, 1826.5445341768432, 742.4901884843939, 291.07535815464536, 264.59332670460805, 224.06365759020144, 213.5677816290689, 201.33748154714038, 168.49919148672103, 167.67087814420782, 162.78683105221432, 162.5486229427823, 151.30622424071447, 148.34234662206592, 564.315845330216, 142.06953308068802, 141.82804940994686, 126.59025829939208, 109.43597521074605, 105.1441957675804, 353.9750318743501, 96.73379236457387, 96.1825032990447, 145.4448297884474, 88.46001231571051, 88.05938602704907, 84.79963660194952, 407.27239112755433, 78.33973685928709, 77.84484670048775, 77.79992754671531, 76.04204496948863, 546.3709707308501, 1107.332535139225, 328.8269598706195, 276.78580280832205, 296.73451273755563, 482.04985155228155, 422.22584648594795, 467.609766457037, 222.8073518652708, 699.524171883383, 251.5245845125523, 321.45838939764343, 1019.0554945696645, 294.50928643461907, 546.0285763121481, 605.8436276528938, 309.08307244062087, 323.6712994427889, 533.8008405577121, 1025.854409441878, 363.8349977621731, 350.0106952861578, 1901.6736125433, 937.6850617362576, 3303.131991585319, 478.4633365131757, 1205.2524888042776, 1504.2859623949496, 1202.4220877277328, 3419.775547120005, 1595.233481652274, 759.0102428064562, 723.6307444949358, 6227.244854384669, 1683.2086827153482, 1645.650849149318, 1934.1529680842668, 3914.823854356325, 3532.4054421480023, 261.87281888816494, 246.61759339130245, 211.4964039773126, 167.6114012811698, 163.9803924570213, 161.48017781537965, 152.56226995009533, 147.66055507195824, 123.92586696776668, 121.38146865409091, 99.59732459711554, 88.2364937803385, 87.9720634083162, 81.3574283493903, 79.08922980384058, 75.76422458728597, 75.20051320296174, 70.87058368072815, 64.99115037446452, 63.021907529308194, 62.53058398241469, 61.77267605765713, 61.38645432233406, 68.20679536800004, 56.77201507942749, 57.40164765219676, 158.00973333673136, 53.188081628848195, 52.62041599349196, 50.47272090540498, 127.8277180761827, 598.1229137089101, 278.54404960835774, 94.23185025572742, 160.18634061859663, 183.32825648467986, 1092.6145424094896, 130.71032570563162, 244.97372023297694, 124.80610609640165, 114.80296331836686, 146.61567502857275, 122.71847786345826, 327.96272729753247, 240.60010283024087, 569.1075842334375, 596.2163685204489, 308.9130748916272, 467.56103177908375, 587.1667087846909, 192.2472407295495, 498.6739228491115, 457.00878631535494, 365.5770484357783, 1552.237142950933, 531.4066119580402, 552.3070384665928, 1389.0105952439828, 2536.04245356441, 1463.5032545316874, 3419.775547120005, 362.4897604346577, 439.6269917957378, 2133.439486989673, 1645.650849149318, 537.5067614266137, 1376.6363216800996, 2885.8701528617153, 1202.4220877277328, 2559.491919488744, 597.2983481398053, 359.1903841436472, 328.99857577737055, 300.0583915995615, 271.37932766412814, 210.15865869274222, 207.74292303962855, 178.21698920402056, 172.59724954499862, 168.53488278052825, 162.71493404087767, 144.73725366042743, 144.6741090072159, 139.71512915509274, 122.1765012207482, 107.83622668762949, 107.72596719146934, 101.35086585499644, 84.6227707633424, 80.47570100138233, 78.77104324362287, 77.34809869186628, 77.2983277944818, 77.21499238154844, 76.20632429531067, 72.55632966930973, 185.74011994963735, 71.97718468355372, 68.03424654797436, 65.09426384431342, 113.62021751470063, 562.1662942750213, 451.22590646801996, 200.41242540665928, 328.5702618735451, 373.71101179694426, 114.77527212234646, 243.68364793060672, 1124.2964325677503, 316.60414432941695, 292.07303784600555, 853.9889375234507, 887.8007456693143, 224.34928458578193, 378.76104440428975, 624.36783151723, 480.00359117806374, 422.94427994410637, 698.6153590472697, 216.87235522382062, 823.74946252173, 4024.198251125143, 1826.5445341768432, 6084.54170582589, 531.4066119580402, 388.88910168228665, 287.915762152611, 1088.2733410650942, 1362.6418262947295, 450.258546232918, 417.85841884719446, 329.7401668038536, 290.3573969335058, 266.72513258868804, 245.1198468042247, 214.40059832205498, 188.54326415490013, 165.8597170440636, 161.08279696675447, 154.5085338069074, 154.4924390193468, 144.278219434666, 144.02058575592494, 130.21850959967347, 129.7773965047266, 118.59649030176786, 168.46560573567564, 87.78787389015989, 80.81630263434131, 79.96550544416372, 75.76369708639959, 73.90119165938535, 68.13754497774228, 67.86590027598957, 65.08958106065478, 64.27546519282402, 63.0682108750377, 62.19900999418952, 56.84428199364884, 1073.4628112566445, 273.63445992342037, 205.20895251737892, 105.48974521343827, 126.2410186790322, 609.3840196849437, 279.2706009467533, 147.13488311971525, 113.00269838156946, 453.05196870556614, 107.49497823314553, 1202.4220877277328, 144.09157421235088, 434.9536458027162, 3303.131991585319, 382.0037411287097, 1901.6736125433, 823.74946252173, 439.6269917957378, 1486.6932663081184, 1934.1529680842668, 1205.2524888042776, 1504.2859623949496, 1344.8428563482178, 543.6245726366885, 467.91691884390326, 2190.674335293832, 6227.244854384669, 1348.5435730856843, 593.4261515137129, 2537.8151095498556, 135.6627070578833, 113.11111366169926, 105.99192929719771, 89.70915043076825, 79.21297162299761, 65.12250740294517, 65.02878640215643, 53.47600128791052, 46.76545805991101, 42.86982005033927, 42.13099299051747, 41.239442684395634, 40.78237404286304, 39.93622849853, 39.84592347340011, 39.63073739673899, 38.84403246587509, 36.15840230695117, 35.247430543119826, 34.98793128841255, 34.429735690696155, 32.29932553700237, 32.05019064615665, 31.984550905721985, 30.62622119156307, 30.50912575636468, 30.395304770959754, 30.262117180772687, 29.5485753022742, 29.303402166179275, 52.22536665613381, 51.03599830770599, 116.10628257685296, 590.8647252058768, 173.54916814021485, 439.25240903046694, 180.98562465111132, 67.91215581000631, 98.40677892543304, 179.2874091225966, 488.55767581521224, 479.1509528150946, 70.19675445082777, 1800.8344880763798, 592.8266563725781, 335.82856892719195, 579.8333480433787, 295.19184505110263, 97.98673519825957, 129.98897371827118, 303.3433947763408, 531.4344198612823, 748.9001730585501, 700.0624416431529, 328.2581877309367, 325.34021520002693, 214.05215525401198, 522.8310379393992, 1376.6363216800996, 855.4583841181947, 1456.5677272374628, 4024.198251125143, 6227.244854384669, 562.8480894669002, 673.9556103680693, 1204.6038580144748, 3491.566036052577, 1115.679210886838, 653.4536446007711, 2885.8701528617153, 2559.491919488744, 2190.674335293832, 1622.5499373895375, 1973.5243429237605, 1065.8368764289553, 2548.5488447541275, 3914.823854356325, 2133.439486989673, 1415.8560487290827, 3532.4054421480023, 455.2366700788435, 350.6117231737449, 287.34898673202906, 210.07013785824992, 193.76361642209085, 189.667818317669, 186.35163830212934, 178.89273980102413, 168.44345445480948, 109.96940084899586, 102.75623798727933, 91.72031558474586, 87.87966251556048, 87.54472535775052, 83.50983676336502, 81.64175999479386, 76.83275213056938, 73.78862288713422, 71.68361580481469, 70.57743888951566, 70.29713892574817, 69.36849607124844, 66.6111192338375, 60.8702408420512, 59.590894031344895, 58.62707652218591, 53.27747408541234, 53.00631788527865, 51.81006421220959, 51.14883122571082, 196.01107470091077, 612.0799423699153, 887.0238259715258, 340.0017054101565, 171.14251858028769, 349.4290779681309, 206.2589485593805, 583.7229665623113, 281.9239164666967, 197.6016341586892, 183.41823432709714, 538.0377776897508, 95.89485894193017, 475.3133050900853, 150.85235346958004, 1623.50896460786, 254.1176407943094, 455.36290251670886, 186.5869746516371, 1040.7133979221553, 1362.6418262947295, 551.2374998011649, 480.00359117806374, 3419.775547120005, 620.9297019832657, 6227.244854384669, 2133.439486989673, 2536.04245356441, 4024.198251125143, 2190.674335293832, 313.1017673584942, 228.59984514357512, 158.39759773020765, 116.33288254426417, 104.7221260223314, 68.08475945244923, 85.77115811822847, 47.6276274233784, 42.60902694184656, 42.528494681776465, 40.09108381666753, 37.087462208969725, 36.287129747436296, 35.26474391768968, 34.69613239600054, 34.65461050471706, 32.948001222287274, 32.864546508483606, 31.762024544359743, 31.28603283138932, 29.937522412654975, 29.27593437013885, 29.013966767626197, 28.814708899604913, 28.218978337408554, 27.934833294955556, 27.70686690197509, 26.92274196471816, 26.567939182591267, 25.493236952222613, 55.83898022850811, 389.34120813295016, 74.11607075077565, 65.99345650141476, 498.7844674135071, 158.30492052471465, 47.927883881610555, 76.71167594486096, 160.10286214291494, 119.15552913024575, 847.825659828618, 814.4476666153419, 215.32550382998448, 260.18196144462115, 139.6177538292482, 575.5745858714115, 259.26698603806835, 493.964751909927, 1348.5435730856843, 253.57198206927933, 682.1417611712886, 295.6490307120529, 666.2214569082606, 589.9580769141364, 1227.6432540934088, 1486.6932663081184, 883.5580062984677, 460.02233681807775, 326.89103757304434, 442.73166603430826, 239.16421460850432, 937.6850617362576, 789.4714350060625, 372.4791231662288, 2537.8151095498556, 957.0138134349519, 494.02418177573054, 3419.775547120005, 1485.3554389711328, 1025.854409441878, 508.14621996830346, 1344.8428563482178, 2161.3604440566455, 421.4148035259464, 405.79717632788197, 343.3513236969415, 359.6453271122454, 225.06620209408186, 203.0304282611048, 195.73509037917327, 160.62239794725795, 145.2645329309196, 121.56090966139826, 121.17460198704211, 109.03914089154203, 105.85662184474202, 104.02486297293193, 103.46749998830462, 100.64536404012615, 99.61271023224542, 99.43242990949886, 98.91028719380067, 96.11617703069633, 94.75270301001402, 93.69567218216564, 90.53582897168437, 90.00822239551857, 87.63684979729642, 87.42078035643495, 84.77813136061073, 84.68250616753025, 83.61979869140063, 83.25562634931639, 835.8735152867057, 320.9422701501409, 585.1737796455033, 736.9695542768585, 248.7793974482746, 549.9621771256037, 146.75511952007727, 197.64181600122257, 137.61694095463625, 131.2947309616366, 155.8600325984643, 431.95004366121964, 148.52146086672954, 197.65677551641892, 473.3366982713531, 1389.0105952439828, 205.49573129759025, 262.6056948662834, 260.12855319268385, 1341.3575676652124, 208.7503045999793, 2133.439486989673, 2431.03425564636, 918.6088891141465, 1032.3249532487464, 2190.674335293832, 990.0855528591435, 342.35306845275795, 277.8855765417756, 228.12544401151982, 115.7200372312496, 106.66753046020978, 89.54529459499177, 87.41438018304497, 68.10813820503712, 55.949513681294356, 47.892993482866515, 46.57343920632354, 46.27529384389143, 43.15421717389192, 41.79482082421113, 41.04157869337726, 40.95331059973138, 39.955369636589374, 38.46616447348235, 41.99578405869886, 36.805554328739746, 36.61508041780803, 36.57426303679425, 36.49039084901173, 35.30075260263741, 33.630743453098795, 33.26639858620533, 33.2196939793609, 31.616593663357747, 32.73392944879083, 29.307463151922956, 28.343662504642253, 717.7242218515163, 166.27251769579496, 53.17570169319342, 108.81790468751105, 57.57098864995011, 634.0063303702777, 1745.9284044982764, 512.6595920097374, 174.06777623948395, 53.22291801962333, 218.42591960775252, 396.070811205356, 245.75437746297254, 83.52134787891569, 251.40092834807615, 159.96902070760464, 1552.237142950933, 651.5161903912201, 387.66245559812864, 346.63834222964016, 415.89159493555627, 432.50669188867835, 471.3146300202839, 302.4486529997929, 206.20489365612104, 474.336678412723, 508.14621996830346, 369.5009211531265, 494.02418177573054, 949.042488592056, 483.01789502284356, 850.830995941954, 432.3807566490529, 564.7838571996701, 3303.131991585319, 957.0138134349519, 1088.257032093454, 1371.2087109941226, 87.16077000940251, 74.58745017453244, 66.63593824897691, 66.84201673726163, 63.24284557328712, 59.934841790730694, 43.40831050376449, 44.347693684388055, 39.51120673020539, 39.32848771097944, 38.27418942667424, 37.902117015427095, 37.532658506912384, 36.93835510413109, 33.91107258684811, 33.5496188205949, 33.2684247243581, 32.62838051240307, 31.66643841687141, 30.33474646463338, 29.425062270986672, 29.40826598521823, 28.105412221961025, 27.523509937398632, 27.50654206422724, 27.180211086252744, 27.04692383354841, 26.8522548863192, 25.793353434692186, 25.779913792200787, 56.668243931127364, 120.7307486564627, 38.05754186453178, 54.42034069282232, 112.23134910836919, 131.55832891214283, 34.65596761287791, 84.35296052693631, 49.966240516756265, 38.79763602780496, 238.900021038206, 70.53374031288827, 6084.54170582589, 2548.5488447541275, 245.56070091000308, 3914.823854356325, 1470.1373774063213, 707.0098825892146, 238.413194406554, 3532.4054421480023, 1645.650849149318, 2094.226513286978, 1240.7823293835688, 773.718947461356, 2559.491919488744, 446.0185660895313, 910.7419918741683, 3036.4611318566913, 526.7289649281948, 533.8008405577121, 1163.4898109881187, 3491.566036052577, 2885.8701528617153, 1089.1980542268914, 1173.4781553949063, 687.333412952077, 1205.2524888042776, 2060.9443055578804, 194.23017745379508, 152.74881860945382, 107.56836981395271, 101.96616792007785, 93.96502440682333, 77.43526274075334, 70.71580529581763, 66.16075931355024, 65.85791595392007, 65.21662717956563, 64.25738753379058, 63.12679350256975, 60.943711153522266, 98.58531390401616, 53.97622135226017, 52.263560364454754, 49.02390637638175, 46.3549180958487, 45.71916164259051, 45.57610626362126, 45.47194918393192, 45.298635284783664, 43.32955404903326, 40.90918809341355, 38.86585094944404, 35.42382816736391, 35.26352465246125, 34.61107656847427, 34.58098318799297, 34.3591135401953, 112.04858128090274, 307.10626619926313, 442.8509543160707, 56.837851027405996, 263.5981847419271, 66.95706362944206, 118.15070967446378, 159.912576091088, 202.24111382933475, 150.54676635336884, 100.4986105483847, 310.5273741168733, 60.30598337832157, 480.5356844751808, 183.4719718699924, 161.4478628615513, 117.74066245850281, 171.5818207599527, 498.6739228491115, 227.63567853513723, 229.3732375894001, 3303.131991585319, 224.24920632688088, 569.1075842334375, 249.9926533879425, 240.75749468838245, 1344.8428563482178, 1463.5032545316874, 454.0580965736139, 467.56103177908375, 1486.6932663081184, 3519.123257965814, 56.216237038650185, 50.493807574027926, 36.472550064539845, 34.70673456167469, 33.80453948298956, 24.437321050086158, 24.89525720398542, 21.204811620560946, 20.45902874797319, 20.38829455183552, 20.22044923682085, 18.84352606241937, 18.759164315424957, 18.558040047175062, 18.384324723768163, 18.21912137903626, 17.855095340838638, 17.50524116698434, 17.002538157047894, 15.978902263143384, 15.52631062075873, 15.505826088269583, 15.339806403692714, 14.639074237466401, 14.609864131204064, 14.463670085480592, 14.332343733021753, 14.090581862621146, 56.19448935275396, 330.2981506178863, 279.33832235116347, 30.99683177917649, 23.965618043497543, 1221.5934068271874, 198.85762934989856, 175.53976184429672, 115.29759127239731, 175.436845139596, 1485.3554389711328, 170.92072400102128, 1227.6432540934088, 1556.9714639742429, 691.5555938186166, 425.53939296462113, 321.3873796095589, 29.65574858922194, 252.552530091827, 524.0206011675565, 93.9028297715235, 666.2214569082606, 728.8711507116011, 1163.4898109881187, 3491.566036052577, 6084.54170582589, 970.3535122121953, 1486.6932663081184, 2548.5488447541275, 1349.5919987354434, 814.4476666153419, 1683.2086827153482, 589.9580769141364, 166.270253493901, 575.5745858714115, 918.0239353476551, 87.15655585877977, 77.27237572276249, 66.02658528356004, 61.717567982616934, 61.017621262025294, 54.31256053999371, 48.85274714369901, 46.69876673431643, 43.73424981722611, 43.009139268431184, 42.70437871675017, 41.03168425449001, 41.14050472836742, 48.17795899940149, 37.8013892081721, 37.22476149293191, 37.12560723080475, 35.06699657812951, 33.090274857226234, 32.257195335669586, 31.496454802742353, 31.1954137253384, 30.896612549871712, 30.405133514220687, 29.760954318492082, 29.393848025086008, 28.333759264387606, 28.081840781857355, 27.90355974010108, 27.2025687823388, 72.46800767811919, 100.40422201158351, 124.08602688584817, 55.74499524057207, 138.19302310631144, 333.0123164367663, 112.52730252945419, 41.696067262759875, 294.9953281275653, 53.67347542977511, 161.43268639499885, 168.30903173115104, 100.14876126989007, 207.4295645664016, 192.75757863409896, 157.09383181975534, 143.66975090146846, 326.17280857539913, 260.3676078891955, 130.79483654944693, 174.52702291629677, 2536.04245356441, 186.3774533491028, 283.27167701248686, 382.47271756029835, 224.48113946270612, 141.07137005095927, 1341.3575676652124, 519.1681341323156, 531.4344198612823, 232.51583093313513, 889.4625350742009, 1800.8344880763798, 248.80816801106226, 96.81603295448042, 92.57120880746439, 71.41763063070053, 65.96719350538046, 63.08069905286719, 60.146776713485096, 57.62146518826288, 51.039431729399276, 45.45495185988743, 43.81156562821774, 43.49892618225597, 42.190370886132946, 40.16085823902492, 39.89305648458946, 39.877741922631444, 38.09776744020857, 36.57157522337306, 36.16151303036305, 35.717207010517264, 34.910371365961105, 34.40675533790911, 34.31532108614578, 33.63091499635739, 32.203373579058244, 31.513921006352977, 31.34429111598622, 31.196001529486534, 27.7474887911897, 27.477716277275672, 165.12107128865046, 102.05524513486364, 254.4655162560225, 74.70834490413756, 75.57851085845974, 80.30036326661319, 101.21881271710933, 50.15466888615353, 69.78966076626865, 215.15250681777314, 262.7134968146687, 172.51597367279294, 99.34947836835923, 57.07720661412684, 266.6735282204038, 211.06602350545174, 325.5019154964255, 546.0285763121481, 338.89091136707475, 2536.04245356441, 125.36461205570943, 1934.1529680842668, 157.99435079270253, 1032.3249532487464, 1901.6736125433, 197.43391237595802, 80.54501464752218, 53.05348586134063, 45.08603787431368, 43.7607372401527, 40.5518474195304, 38.10954069591832, 35.924234553285295, 35.86515868123639, 34.550293182180155, 33.96939726679797, 29.95956456548863, 27.83043203062368, 27.713466831780963, 26.96690535264552, 26.927971949877517, 26.912585326436794, 26.243288359878594, 26.176144861676363, 26.10809685273832, 25.844038827761622, 25.60480465217871, 25.288523099927886, 24.684024507145075, 23.893442321725885, 23.74684542669321, 23.14438737623337, 22.67640648036276, 22.47389392143268, 22.134400590140142, 46.13174294850396, 74.21210029557756, 44.35015141506706, 279.81341115311545, 161.84262202155531, 76.2751188500485, 80.585480291111, 109.33492748555685, 48.55504187635445, 187.5784207556312, 100.59958742140682, 67.73525685408887, 60.298235282089166, 162.77881441074743, 41.078133968003335, 31.15535021741751, 855.4583841181947, 371.532012675115, 219.7560229652298, 471.70645127469754, 673.9556103680693, 382.8093637677048, 587.1667087846909, 482.4222372409098, 446.0185660895313], \"Category\": [\"Default\", \"Default\", \"Default\", \"Default\", \"Default\", \"Default\", \"Default\", \"Default\", \"Default\", \"Default\", \"Default\", \"Default\", \"Default\", \"Default\", \"Default\", \"Default\", \"Default\", \"Default\", \"Default\", \"Default\", \"Default\", \"Default\", \"Default\", \"Default\", \"Default\", \"Default\", \"Default\", \"Default\", \"Default\", \"Default\", \"Topic1\", \"Topic1\", \"Topic1\", \"Topic1\", \"Topic1\", \"Topic1\", \"Topic1\", \"Topic1\", \"Topic1\", \"Topic1\", \"Topic1\", \"Topic1\", \"Topic1\", \"Topic1\", \"Topic1\", \"Topic1\", \"Topic1\", \"Topic1\", \"Topic1\", \"Topic1\", \"Topic1\", \"Topic1\", \"Topic1\", \"Topic1\", \"Topic1\", \"Topic1\", \"Topic1\", \"Topic1\", \"Topic1\", \"Topic1\", \"Topic1\", \"Topic1\", \"Topic1\", \"Topic1\", \"Topic1\", \"Topic1\", \"Topic1\", \"Topic1\", \"Topic1\", \"Topic1\", \"Topic1\", \"Topic1\", \"Topic1\", \"Topic1\", \"Topic1\", \"Topic1\", \"Topic1\", \"Topic1\", \"Topic1\", \"Topic1\", \"Topic1\", \"Topic1\", \"Topic1\", \"Topic1\", \"Topic1\", \"Topic1\", \"Topic1\", \"Topic1\", \"Topic1\", \"Topic1\", \"Topic1\", \"Topic1\", \"Topic1\", \"Topic1\", \"Topic1\", \"Topic1\", \"Topic1\", \"Topic1\", \"Topic1\", \"Topic1\", \"Topic1\", \"Topic1\", \"Topic1\", \"Topic1\", \"Topic1\", \"Topic1\", \"Topic1\", \"Topic1\", \"Topic1\", \"Topic1\", \"Topic1\", \"Topic1\", \"Topic1\", \"Topic1\", \"Topic1\", \"Topic1\", \"Topic1\", \"Topic2\", \"Topic2\", \"Topic2\", \"Topic2\", \"Topic2\", \"Topic2\", \"Topic2\", \"Topic2\", \"Topic2\", \"Topic2\", \"Topic2\", \"Topic2\", \"Topic2\", \"Topic2\", \"Topic2\", \"Topic2\", \"Topic2\", \"Topic2\", \"Topic2\", \"Topic2\", \"Topic2\", \"Topic2\", \"Topic2\", \"Topic2\", \"Topic2\", \"Topic2\", \"Topic2\", \"Topic2\", \"Topic2\", \"Topic2\", \"Topic2\", \"Topic2\", \"Topic2\", \"Topic2\", \"Topic2\", \"Topic2\", \"Topic2\", \"Topic2\", \"Topic2\", \"Topic2\", \"Topic2\", \"Topic2\", \"Topic2\", \"Topic2\", \"Topic2\", \"Topic2\", \"Topic2\", \"Topic2\", \"Topic2\", \"Topic2\", \"Topic2\", \"Topic2\", \"Topic2\", \"Topic2\", \"Topic2\", \"Topic2\", \"Topic2\", \"Topic2\", \"Topic2\", \"Topic2\", \"Topic2\", \"Topic2\", \"Topic2\", \"Topic2\", \"Topic2\", \"Topic2\", \"Topic2\", \"Topic2\", \"Topic2\", \"Topic2\", \"Topic2\", \"Topic2\", \"Topic2\", \"Topic2\", \"Topic2\", \"Topic2\", \"Topic2\", \"Topic2\", \"Topic2\", \"Topic2\", \"Topic2\", \"Topic2\", \"Topic2\", \"Topic2\", \"Topic2\", \"Topic2\", \"Topic2\", \"Topic3\", \"Topic3\", \"Topic3\", \"Topic3\", \"Topic3\", \"Topic3\", \"Topic3\", \"Topic3\", \"Topic3\", \"Topic3\", \"Topic3\", \"Topic3\", \"Topic3\", \"Topic3\", \"Topic3\", \"Topic3\", \"Topic3\", \"Topic3\", \"Topic3\", \"Topic3\", \"Topic3\", \"Topic3\", \"Topic3\", \"Topic3\", \"Topic3\", \"Topic3\", \"Topic3\", \"Topic3\", \"Topic3\", \"Topic3\", \"Topic3\", \"Topic3\", \"Topic3\", \"Topic3\", \"Topic3\", \"Topic3\", \"Topic3\", \"Topic3\", \"Topic3\", \"Topic3\", \"Topic3\", \"Topic3\", \"Topic3\", \"Topic3\", \"Topic3\", \"Topic3\", \"Topic3\", \"Topic3\", \"Topic3\", \"Topic3\", \"Topic3\", \"Topic3\", \"Topic3\", \"Topic3\", \"Topic3\", \"Topic3\", \"Topic3\", \"Topic3\", \"Topic3\", \"Topic3\", \"Topic3\", \"Topic3\", \"Topic3\", \"Topic3\", \"Topic3\", \"Topic3\", \"Topic3\", \"Topic3\", \"Topic3\", \"Topic4\", \"Topic4\", \"Topic4\", \"Topic4\", \"Topic4\", \"Topic4\", \"Topic4\", \"Topic4\", \"Topic4\", \"Topic4\", \"Topic4\", \"Topic4\", \"Topic4\", \"Topic4\", \"Topic4\", \"Topic4\", \"Topic4\", \"Topic4\", \"Topic4\", \"Topic4\", \"Topic4\", \"Topic4\", \"Topic4\", \"Topic4\", \"Topic4\", \"Topic4\", \"Topic4\", \"Topic4\", \"Topic4\", \"Topic4\", \"Topic4\", \"Topic4\", \"Topic4\", \"Topic4\", \"Topic4\", \"Topic4\", \"Topic4\", \"Topic4\", \"Topic4\", \"Topic4\", \"Topic4\", \"Topic4\", \"Topic4\", \"Topic4\", \"Topic4\", \"Topic4\", \"Topic4\", \"Topic4\", \"Topic4\", \"Topic4\", \"Topic4\", \"Topic4\", \"Topic4\", \"Topic4\", \"Topic4\", \"Topic4\", \"Topic4\", \"Topic4\", \"Topic4\", \"Topic4\", \"Topic4\", \"Topic4\", \"Topic4\", \"Topic4\", \"Topic4\", \"Topic4\", \"Topic4\", \"Topic4\", \"Topic4\", \"Topic4\", \"Topic5\", \"Topic5\", \"Topic5\", \"Topic5\", \"Topic5\", \"Topic5\", \"Topic5\", \"Topic5\", \"Topic5\", \"Topic5\", \"Topic5\", \"Topic5\", \"Topic5\", \"Topic5\", \"Topic5\", \"Topic5\", \"Topic5\", \"Topic5\", \"Topic5\", \"Topic5\", \"Topic5\", \"Topic5\", \"Topic5\", \"Topic5\", \"Topic5\", \"Topic5\", \"Topic5\", \"Topic5\", \"Topic5\", \"Topic5\", \"Topic5\", \"Topic5\", \"Topic5\", \"Topic5\", \"Topic5\", \"Topic5\", \"Topic5\", \"Topic5\", \"Topic5\", \"Topic5\", \"Topic5\", \"Topic5\", \"Topic5\", \"Topic5\", \"Topic5\", \"Topic5\", \"Topic5\", \"Topic5\", \"Topic5\", \"Topic5\", \"Topic5\", \"Topic5\", \"Topic5\", \"Topic5\", \"Topic5\", \"Topic5\", \"Topic5\", \"Topic5\", \"Topic5\", \"Topic6\", \"Topic6\", \"Topic6\", \"Topic6\", \"Topic6\", \"Topic6\", \"Topic6\", \"Topic6\", \"Topic6\", \"Topic6\", \"Topic6\", \"Topic6\", \"Topic6\", \"Topic6\", \"Topic6\", \"Topic6\", \"Topic6\", \"Topic6\", \"Topic6\", \"Topic6\", \"Topic6\", \"Topic6\", \"Topic6\", \"Topic6\", \"Topic6\", \"Topic6\", \"Topic6\", \"Topic6\", \"Topic6\", \"Topic6\", \"Topic6\", \"Topic6\", \"Topic6\", \"Topic6\", \"Topic6\", \"Topic6\", \"Topic6\", \"Topic6\", \"Topic6\", \"Topic6\", \"Topic6\", \"Topic6\", \"Topic6\", \"Topic6\", \"Topic6\", \"Topic6\", \"Topic6\", \"Topic6\", \"Topic6\", \"Topic6\", \"Topic6\", \"Topic6\", \"Topic6\", \"Topic6\", \"Topic6\", \"Topic6\", \"Topic6\", \"Topic6\", \"Topic6\", \"Topic6\", \"Topic6\", \"Topic7\", \"Topic7\", \"Topic7\", \"Topic7\", \"Topic7\", \"Topic7\", \"Topic7\", \"Topic7\", \"Topic7\", \"Topic7\", \"Topic7\", \"Topic7\", \"Topic7\", \"Topic7\", \"Topic7\", \"Topic7\", \"Topic7\", \"Topic7\", \"Topic7\", \"Topic7\", \"Topic7\", \"Topic7\", \"Topic7\", \"Topic7\", \"Topic7\", \"Topic7\", \"Topic7\", \"Topic7\", \"Topic7\", \"Topic7\", \"Topic7\", \"Topic7\", \"Topic7\", \"Topic7\", \"Topic7\", \"Topic7\", \"Topic7\", \"Topic7\", \"Topic7\", \"Topic7\", \"Topic7\", \"Topic7\", \"Topic7\", \"Topic7\", \"Topic7\", \"Topic7\", \"Topic7\", \"Topic7\", \"Topic7\", \"Topic7\", \"Topic7\", \"Topic7\", \"Topic7\", \"Topic7\", \"Topic7\", \"Topic7\", \"Topic7\", \"Topic7\", \"Topic7\", \"Topic7\", \"Topic7\", \"Topic7\", \"Topic7\", \"Topic7\", \"Topic7\", \"Topic7\", \"Topic7\", \"Topic7\", \"Topic7\", \"Topic7\", \"Topic7\", \"Topic7\", \"Topic7\", \"Topic7\", \"Topic7\", \"Topic7\", \"Topic7\", \"Topic7\", \"Topic7\", \"Topic7\", \"Topic8\", \"Topic8\", \"Topic8\", \"Topic8\", \"Topic8\", \"Topic8\", \"Topic8\", \"Topic8\", \"Topic8\", \"Topic8\", \"Topic8\", \"Topic8\", \"Topic8\", \"Topic8\", \"Topic8\", \"Topic8\", \"Topic8\", \"Topic8\", \"Topic8\", \"Topic8\", \"Topic8\", \"Topic8\", \"Topic8\", \"Topic8\", \"Topic8\", \"Topic8\", \"Topic8\", \"Topic8\", \"Topic8\", \"Topic8\", \"Topic8\", \"Topic8\", \"Topic8\", \"Topic8\", \"Topic8\", \"Topic8\", \"Topic8\", \"Topic8\", \"Topic8\", \"Topic8\", \"Topic8\", \"Topic8\", \"Topic8\", \"Topic8\", \"Topic8\", \"Topic8\", \"Topic8\", \"Topic8\", \"Topic8\", \"Topic8\", \"Topic8\", \"Topic8\", \"Topic8\", \"Topic8\", \"Topic8\", \"Topic8\", \"Topic8\", \"Topic8\", \"Topic8\", \"Topic8\", \"Topic9\", \"Topic9\", \"Topic9\", \"Topic9\", \"Topic9\", \"Topic9\", \"Topic9\", \"Topic9\", \"Topic9\", \"Topic9\", \"Topic9\", \"Topic9\", \"Topic9\", \"Topic9\", \"Topic9\", \"Topic9\", \"Topic9\", \"Topic9\", \"Topic9\", \"Topic9\", \"Topic9\", \"Topic9\", \"Topic9\", \"Topic9\", \"Topic9\", \"Topic9\", \"Topic9\", \"Topic9\", \"Topic9\", \"Topic9\", \"Topic9\", \"Topic9\", \"Topic9\", \"Topic9\", \"Topic9\", \"Topic9\", \"Topic9\", \"Topic9\", \"Topic9\", \"Topic9\", \"Topic9\", \"Topic9\", \"Topic9\", \"Topic9\", \"Topic9\", \"Topic9\", \"Topic9\", \"Topic9\", \"Topic9\", \"Topic9\", \"Topic9\", \"Topic9\", \"Topic9\", \"Topic9\", \"Topic9\", \"Topic9\", \"Topic9\", \"Topic9\", \"Topic9\", \"Topic9\", \"Topic9\", \"Topic9\", \"Topic9\", \"Topic9\", \"Topic9\", \"Topic9\", \"Topic9\", \"Topic9\", \"Topic9\", \"Topic9\", \"Topic9\", \"Topic9\", \"Topic9\", \"Topic10\", \"Topic10\", \"Topic10\", \"Topic10\", \"Topic10\", \"Topic10\", \"Topic10\", \"Topic10\", \"Topic10\", \"Topic10\", \"Topic10\", \"Topic10\", \"Topic10\", \"Topic10\", \"Topic10\", \"Topic10\", \"Topic10\", \"Topic10\", \"Topic10\", \"Topic10\", \"Topic10\", \"Topic10\", \"Topic10\", \"Topic10\", \"Topic10\", \"Topic10\", \"Topic10\", \"Topic10\", \"Topic10\", \"Topic10\", \"Topic10\", \"Topic10\", \"Topic10\", \"Topic10\", \"Topic10\", \"Topic10\", \"Topic10\", \"Topic10\", \"Topic10\", \"Topic10\", \"Topic10\", \"Topic10\", \"Topic10\", \"Topic10\", \"Topic10\", \"Topic10\", \"Topic10\", \"Topic10\", \"Topic10\", \"Topic10\", \"Topic10\", \"Topic10\", \"Topic10\", \"Topic10\", \"Topic10\", \"Topic10\", \"Topic10\", \"Topic10\", \"Topic11\", \"Topic11\", \"Topic11\", \"Topic11\", \"Topic11\", \"Topic11\", \"Topic11\", \"Topic11\", \"Topic11\", \"Topic11\", \"Topic11\", \"Topic11\", \"Topic11\", \"Topic11\", \"Topic11\", \"Topic11\", \"Topic11\", \"Topic11\", \"Topic11\", \"Topic11\", \"Topic11\", \"Topic11\", \"Topic11\", \"Topic11\", \"Topic11\", \"Topic11\", \"Topic11\", \"Topic11\", \"Topic11\", \"Topic11\", \"Topic11\", \"Topic11\", \"Topic11\", \"Topic11\", \"Topic11\", \"Topic11\", \"Topic11\", \"Topic11\", \"Topic11\", \"Topic11\", \"Topic11\", \"Topic11\", \"Topic11\", \"Topic11\", \"Topic11\", \"Topic11\", \"Topic11\", \"Topic11\", \"Topic11\", \"Topic11\", \"Topic11\", \"Topic11\", \"Topic11\", \"Topic11\", \"Topic11\", \"Topic11\", \"Topic11\", \"Topic11\", \"Topic11\", \"Topic11\", \"Topic11\", \"Topic11\", \"Topic11\", \"Topic11\", \"Topic11\", \"Topic11\", \"Topic11\", \"Topic11\", \"Topic12\", \"Topic12\", \"Topic12\", \"Topic12\", \"Topic12\", \"Topic12\", \"Topic12\", \"Topic12\", \"Topic12\", \"Topic12\", \"Topic12\", \"Topic12\", \"Topic12\", \"Topic12\", \"Topic12\", \"Topic12\", \"Topic12\", \"Topic12\", \"Topic12\", \"Topic12\", \"Topic12\", \"Topic12\", \"Topic12\", \"Topic12\", \"Topic12\", \"Topic12\", \"Topic12\", \"Topic12\", \"Topic12\", \"Topic12\", \"Topic12\", \"Topic12\", \"Topic12\", \"Topic12\", \"Topic12\", \"Topic12\", \"Topic12\", \"Topic12\", \"Topic12\", \"Topic12\", \"Topic12\", \"Topic12\", \"Topic12\", \"Topic12\", \"Topic12\", \"Topic12\", \"Topic12\", \"Topic12\", \"Topic12\", \"Topic12\", \"Topic12\", \"Topic12\", \"Topic12\", \"Topic12\", \"Topic12\", \"Topic12\", \"Topic12\", \"Topic12\", \"Topic12\", \"Topic12\", \"Topic12\", \"Topic12\", \"Topic12\", \"Topic12\", \"Topic12\", \"Topic12\", \"Topic12\", \"Topic12\", \"Topic13\", \"Topic13\", \"Topic13\", \"Topic13\", \"Topic13\", \"Topic13\", \"Topic13\", \"Topic13\", \"Topic13\", \"Topic13\", \"Topic13\", \"Topic13\", \"Topic13\", \"Topic13\", \"Topic13\", \"Topic13\", \"Topic13\", \"Topic13\", \"Topic13\", \"Topic13\", \"Topic13\", \"Topic13\", \"Topic13\", \"Topic13\", \"Topic13\", \"Topic13\", \"Topic13\", \"Topic13\", \"Topic13\", \"Topic13\", \"Topic13\", \"Topic13\", \"Topic13\", \"Topic13\", \"Topic13\", \"Topic13\", \"Topic13\", \"Topic13\", \"Topic13\", \"Topic13\", \"Topic13\", \"Topic13\", \"Topic13\", \"Topic13\", \"Topic13\", \"Topic13\", \"Topic13\", \"Topic13\", \"Topic13\", \"Topic13\", \"Topic13\", \"Topic13\", \"Topic13\", \"Topic13\", \"Topic13\", \"Topic13\", \"Topic13\", \"Topic13\", \"Topic13\", \"Topic13\", \"Topic13\", \"Topic14\", \"Topic14\", \"Topic14\", \"Topic14\", \"Topic14\", \"Topic14\", \"Topic14\", \"Topic14\", \"Topic14\", \"Topic14\", \"Topic14\", \"Topic14\", \"Topic14\", \"Topic14\", \"Topic14\", \"Topic14\", \"Topic14\", \"Topic14\", \"Topic14\", \"Topic14\", \"Topic14\", \"Topic14\", \"Topic14\", \"Topic14\", \"Topic14\", \"Topic14\", \"Topic14\", \"Topic14\", \"Topic14\", \"Topic14\", \"Topic14\", \"Topic14\", \"Topic14\", \"Topic14\", \"Topic14\", \"Topic14\", \"Topic14\", \"Topic14\", \"Topic14\", \"Topic14\", \"Topic14\", \"Topic14\", \"Topic14\", \"Topic14\", \"Topic14\", \"Topic14\", \"Topic14\", \"Topic14\", \"Topic14\", \"Topic14\", \"Topic14\", \"Topic14\", \"Topic14\", \"Topic14\", \"Topic14\", \"Topic14\", \"Topic14\", \"Topic14\", \"Topic14\", \"Topic14\", \"Topic14\", \"Topic14\", \"Topic14\", \"Topic14\", \"Topic14\", \"Topic15\", \"Topic15\", \"Topic15\", \"Topic15\", \"Topic15\", \"Topic15\", \"Topic15\", \"Topic15\", \"Topic15\", \"Topic15\", \"Topic15\", \"Topic15\", \"Topic15\", \"Topic15\", \"Topic15\", \"Topic15\", \"Topic15\", \"Topic15\", \"Topic15\", \"Topic15\", \"Topic15\", \"Topic15\", \"Topic15\", \"Topic15\", \"Topic15\", \"Topic15\", \"Topic15\", \"Topic15\", \"Topic15\", \"Topic15\", \"Topic15\", \"Topic15\", \"Topic15\", \"Topic15\", \"Topic15\", \"Topic15\", \"Topic15\", \"Topic15\", \"Topic15\", \"Topic15\", \"Topic15\", \"Topic15\", \"Topic15\", \"Topic15\", \"Topic15\", \"Topic15\", \"Topic15\", \"Topic15\", \"Topic15\", \"Topic15\", \"Topic15\", \"Topic15\", \"Topic15\", \"Topic15\", \"Topic15\", \"Topic15\", \"Topic15\", \"Topic15\", \"Topic15\", \"Topic15\", \"Topic15\", \"Topic15\", \"Topic15\", \"Topic16\", \"Topic16\", \"Topic16\", \"Topic16\", \"Topic16\", \"Topic16\", \"Topic16\", \"Topic16\", \"Topic16\", \"Topic16\", \"Topic16\", \"Topic16\", \"Topic16\", \"Topic16\", \"Topic16\", \"Topic16\", \"Topic16\", \"Topic16\", \"Topic16\", \"Topic16\", \"Topic16\", \"Topic16\", \"Topic16\", \"Topic16\", \"Topic16\", \"Topic16\", \"Topic16\", \"Topic16\", \"Topic16\", \"Topic16\", \"Topic16\", \"Topic16\", \"Topic16\", \"Topic16\", \"Topic16\", \"Topic16\", \"Topic16\", \"Topic16\", \"Topic16\", \"Topic16\", \"Topic16\", \"Topic16\", \"Topic16\", \"Topic16\", \"Topic16\", \"Topic16\", \"Topic16\", \"Topic16\", \"Topic16\", \"Topic16\", \"Topic16\", \"Topic16\", \"Topic16\", \"Topic16\", \"Topic16\", \"Topic17\", \"Topic17\", \"Topic17\", \"Topic17\", \"Topic17\", \"Topic17\", \"Topic17\", \"Topic17\", \"Topic17\", \"Topic17\", \"Topic17\", \"Topic17\", \"Topic17\", \"Topic17\", \"Topic17\", \"Topic17\", \"Topic17\", \"Topic17\", \"Topic17\", \"Topic17\", \"Topic17\", \"Topic17\", \"Topic17\", \"Topic17\", \"Topic17\", \"Topic17\", \"Topic17\", \"Topic17\", \"Topic17\", \"Topic17\", \"Topic17\", \"Topic17\", \"Topic17\", \"Topic17\", \"Topic17\", \"Topic17\", \"Topic17\", \"Topic17\", \"Topic17\", \"Topic17\", \"Topic17\", \"Topic17\", \"Topic17\", \"Topic17\", \"Topic17\", \"Topic17\", \"Topic17\", \"Topic17\", \"Topic17\", \"Topic17\", \"Topic17\", \"Topic17\", \"Topic17\", \"Topic17\", \"Topic17\"], \"logprob\": [30.0, 29.0, 28.0, 27.0, 26.0, 25.0, 24.0, 23.0, 22.0, 21.0, 20.0, 19.0, 18.0, 17.0, 16.0, 15.0, 14.0, 13.0, 12.0, 11.0, 10.0, 9.0, 8.0, 7.0, 6.0, 5.0, 4.0, 3.0, 2.0, 1.0, -6.7315, -6.8636, -6.9704, -7.0233, -7.1033, -7.4816, -7.5037, -7.7018, -7.7766, -7.845, -7.891, -7.8918, -7.9119, -7.9836, -7.9933, -8.0117, -8.039, -8.0111, -8.0767, -8.1043, -8.1191, -8.1267, -8.1886, -8.2181, -7.8508, -8.2602, -7.6406, -8.2683, -8.2706, -8.2835, -6.6036, -8.0217, -6.3161, -6.1824, -7.2549, -5.1401, -7.0455, -7.8456, -6.0672, -6.3368, -6.4354, -6.0864, -6.2004, -6.8233, -4.9475, -6.9474, -5.601, -5.774, -6.8426, -6.9643, -7.3393, -6.6084, -6.3161, -4.462, -4.712, -5.2465, -5.2272, -6.4449, -5.9145, -6.3166, -5.6333, -6.3878, -5.5977, -6.0108, -5.5806, -4.4181, -5.1906, -4.498, -5.2343, -5.6443, -5.2756, -4.9937, -5.9749, -5.4277, -6.1213, -5.6892, -5.3973, -5.4045, -5.2162, -5.647, -5.5617, -5.7412, -5.5713, -5.5473, -5.6533, -5.7439, -5.7215, -6.8078, -7.0481, -7.3268, -7.5385, -7.5516, -7.5582, -7.0036, -7.7219, -7.7239, -7.8172, -7.8671, -7.8928, -7.8935, -7.969, -8.0748, -8.1019, -7.2754, -7.1044, -8.1417, -8.1482, -8.1691, -8.1764, -8.1791, -8.1972, -8.1974, -8.2103, -8.2103, -8.2166, -8.2305, -8.2479, -7.021, -6.236, -7.0855, -5.1331, -6.5765, -6.8419, -7.433, -6.9666, -6.0993, -7.5841, -6.9335, -6.7122, -7.2799, -5.7847, -7.5364, -7.0833, -6.8252, -5.0907, -7.0223, -7.1293, -4.7235, -4.4622, -6.3537, -4.5049, -5.0006, -5.6798, -5.8908, -6.4304, -6.3231, -4.3159, -5.6403, -5.5187, -5.3795, -5.4552, -5.7143, -5.7877, -5.0659, -5.5366, -5.7053, -5.4512, -4.6632, -5.6365, -5.4481, -5.5173, -5.4215, -5.6951, -5.1566, -5.2422, -5.3342, -5.2205, -5.4469, -5.3707, -5.3682, -5.5248, -5.5671, -5.545, -5.6066, -4.7756, -5.714, -5.8097, -5.9766, -6.0248, -6.084, -6.263, -6.268, -6.2977, -6.2992, -6.3714, -6.3912, -5.0552, -6.4347, -6.4364, -6.5509, -6.6977, -6.738, -5.5249, -6.8222, -6.828, -6.4149, -6.9126, -6.9171, -6.9553, -5.3864, -7.0354, -7.0419, -7.0424, -7.0656, -5.1013, -4.4228, -5.6244, -5.7933, -5.7305, -5.2626, -5.4043, -5.3075, -6.0197, -4.9248, -5.9062, -5.6797, -4.6417, -5.783, -5.2948, -5.2109, -5.7799, -5.7499, -5.3756, -4.886, -5.6853, -5.7154, -4.6825, -5.2746, -4.6478, -5.6147, -5.2304, -5.2296, -5.3049, -5.0406, -5.2931, -5.5054, -5.529, -5.1118, -5.4082, -5.4307, -5.4152, -5.3644, -5.3779, -5.6797, -5.74, -5.8942, -6.1279, -6.15, -6.1657, -6.2226, -6.2554, -6.4319, -6.4528, -6.6524, -6.7747, -6.7777, -6.8568, -6.8854, -6.9289, -6.9366, -6.9965, -7.0843, -7.1156, -7.1235, -7.1359, -7.1423, -7.0382, -7.2218, -7.2112, -6.1992, -7.2881, -7.299, -7.3414, -6.4155, -4.8892, -5.6465, -6.7212, -6.2179, -6.0899, -4.3911, -6.4343, -5.9056, -6.5258, -6.6065, -6.4133, -6.5649, -5.836, -6.0729, -5.4773, -5.4925, -5.9665, -5.754, -5.6208, -6.3085, -5.7699, -5.8202, -5.9593, -5.3246, -5.8307, -5.816, -5.4663, -5.2836, -5.5043, -5.4189, -6.0448, -6.007, -5.7182, -5.8554, -6.0017, -5.9381, -5.9276, -5.9884, -5.9958, -4.7208, -5.2305, -5.3185, -5.4109, -5.5117, -5.7683, -5.7799, -5.934, -5.9662, -5.9902, -6.0256, -6.1433, -6.1438, -6.1789, -6.314, -6.4399, -6.4409, -6.5025, -6.6847, -6.7356, -6.7572, -6.7757, -6.7763, -6.7774, -6.7907, -6.8405, -5.9005, -6.8486, -6.9057, -6.9505, -6.4013, -4.872, -5.102, -5.9012, -5.4536, -5.3555, -6.4243, -5.7569, -4.4672, -5.5628, -5.6654, -4.8324, -4.8913, -5.914, -5.5425, -5.2234, -5.4352, -5.5307, -5.4286, -5.9644, -5.4041, -4.7817, -5.1037, -4.717, -5.7276, -5.8005, -5.8772, -5.8401, -5.8568, -4.8815, -4.9563, -5.1938, -5.3214, -5.4065, -5.4913, -5.6258, -5.7549, -5.8838, -5.9132, -5.9551, -5.9552, -6.0241, -6.0259, -6.1273, -6.1307, -6.2215, -5.8717, -6.5252, -6.6088, -6.6196, -6.6742, -6.6994, -6.7817, -6.7858, -6.8281, -6.8409, -6.8602, -6.8742, -6.9657, -4.0522, -5.463, -5.7562, -6.3796, -6.2258, -4.8227, -5.5444, -6.115, -6.3631, -5.3272, -6.4055, -4.7634, -6.2106, -5.5531, -4.4262, -5.6884, -4.8396, -5.3109, -5.6237, -5.1139, -5.0191, -5.269, -5.1901, -5.2414, -5.5647, -5.6923, -5.4122, -5.273, -5.592, -5.669, -5.6476, -5.9772, -6.1604, -6.226, -6.3944, -6.5202, -6.7187, -6.7202, -6.919, -7.0556, -7.1445, -7.1623, -7.1842, -7.1956, -7.217, -7.2194, -7.2249, -7.2454, -7.3193, -7.3452, -7.3527, -7.3693, -7.435, -7.443, -7.4451, -7.4898, -7.4938, -7.4977, -7.5022, -7.5268, -7.5354, -6.9696, -7.0015, -6.2412, -4.7409, -5.8781, -5.0589, -5.8778, -6.7616, -6.4609, -5.9469, -5.1353, -5.1597, -6.7707, -4.1238, -5.0283, -5.5205, -5.1431, -5.6874, -6.5313, -6.3262, -5.7302, -5.3622, -5.141, -5.2054, -5.7305, -5.742, -6.0526, -5.5505, -5.0481, -5.3195, -5.0833, -4.5665, -4.3809, -5.5702, -5.4882, -5.2283, -4.7631, -5.2758, -5.5398, -5.1114, -5.2125, -5.2932, -5.3759, -5.36, -5.4848, -5.3659, -5.331, -5.4169, -5.4884, -5.4599, -4.7113, -4.973, -5.1726, -5.4871, -5.5683, -5.5898, -5.6076, -5.6486, -5.7099, -6.1385, -6.2069, -6.3217, -6.3649, -6.3688, -6.4165, -6.4401, -6.5008, -6.5418, -6.5711, -6.5868, -6.5909, -6.6044, -6.6455, -6.737, -6.7586, -6.7751, -6.8725, -6.8777, -6.9009, -6.914, -5.5774, -4.4987, -4.1463, -5.0835, -5.7503, -5.0752, -5.5862, -4.6649, -5.3921, -5.7181, -5.807, -4.943, -6.3418, -5.1305, -6.0369, -4.447, -5.6907, -5.4194, -5.9732, -5.0818, -5.0369, -5.6132, -5.6773, -5.2047, -5.6591, -5.3898, -5.5148, -5.5848, -5.6427, -5.6664, -5.0264, -5.3419, -5.7109, -6.0215, -6.1275, -6.563, -6.334, -6.9287, -7.0402, -7.0421, -7.1026, -7.1824, -7.2048, -7.2342, -7.2509, -7.2521, -7.3041, -7.3067, -7.3418, -7.3574, -7.4029, -7.426, -7.4353, -7.4424, -7.464, -7.4745, -7.4829, -7.5127, -7.5264, -7.5693, -6.7916, -4.905, -6.5239, -6.6393, -4.744, -5.8297, -6.9636, -6.5244, -5.8719, -6.1431, -4.3703, -4.4336, -5.6278, -5.4607, -6.0263, -4.7964, -5.5099, -4.9675, -4.1276, -5.5552, -4.7671, -5.4598, -4.8138, -4.9331, -4.3988, -4.2914, -4.7379, -5.2176, -5.517, -5.3271, -5.7462, -4.9891, -5.0879, -5.5204, -4.7379, -5.1467, -5.4349, -4.7784, -5.0641, -5.2473, -5.4645, -5.3749, -5.4697, -4.6644, -4.7023, -4.8698, -4.8236, -5.2936, -5.3971, -5.4339, -5.6327, -5.7338, -5.9132, -5.9164, -6.0228, -6.0527, -6.0703, -6.0757, -6.1037, -6.1141, -6.1159, -6.1212, -6.1502, -6.1646, -6.1759, -6.2106, -6.2165, -6.2435, -6.246, -6.277, -6.2782, -6.2909, -6.2953, -4.0187, -4.9658, -4.3953, -4.1823, -5.2675, -4.5325, -5.7612, -5.5168, -5.8514, -5.8995, -5.7709, -4.9907, -5.8203, -5.6301, -5.031, -4.4801, -5.6988, -5.6009, -5.6118, -5.0789, -5.7511, -5.0546, -5.3473, -5.5163, -5.5481, -5.5222, -5.6079, -5.7143, -4.8531, -5.0511, -5.7339, -5.8161, -5.9928, -6.0192, -6.2699, -6.4696, -6.628, -6.6565, -6.6631, -6.7344, -6.7672, -6.7858, -6.788, -6.8133, -6.8522, -6.7655, -6.8975, -6.9028, -6.9039, -6.9063, -6.9404, -6.9902, -7.0014, -7.0029, -7.0538, -7.0203, -7.1321, -7.1667, -3.9561, -5.405, -6.5484, -5.8657, -6.4843, -4.2352, -3.3261, -4.5215, -5.533, -6.5801, -5.3773, -4.9019, -5.319, -6.2119, -5.3723, -5.7263, -3.9854, -4.6955, -5.0958, -5.2063, -5.0843, -5.0714, -5.0431, -5.3767, -5.6353, -5.1067, -5.0757, -5.2773, -5.1487, -4.8056, -5.1631, -4.8876, -5.255, -5.2913, -4.7478, -5.2181, -5.2092, -5.3274, -5.748, -5.9057, -6.0199, -6.017, -6.073, -6.1275, -6.4563, -6.4354, -6.5525, -6.5573, -6.5851, -6.5952, -6.6056, -6.6216, -6.7094, -6.7205, -6.7291, -6.7491, -6.78, -6.8243, -6.8557, -6.8563, -6.9032, -6.9248, -6.9255, -6.9378, -6.9429, -6.9504, -6.9922, -6.9927, -6.2366, -5.5113, -6.6268, -6.3263, -5.7376, -5.7126, -6.753, -6.1349, -6.5282, -6.6857, -5.6722, -6.3617, -3.9629, -4.523, -5.723, -4.438, -4.9381, -5.2929, -5.8454, -4.7665, -5.0924, -5.0152, -5.2797, -5.4882, -5.1217, -5.7282, -5.4871, -5.0991, -5.7012, -5.6976, -5.5002, -5.3233, -5.4292, -5.6061, -5.5945, -5.7418, -5.7143, -5.7409, -4.6964, -4.938, -5.2913, -5.3453, -5.4278, -5.6236, -5.7155, -5.783, -5.7877, -5.7976, -5.8126, -5.8306, -5.8664, -5.3855, -5.9899, -6.0227, -6.0879, -6.145, -6.1591, -6.1623, -6.1647, -6.1686, -6.214, -6.2728, -6.3253, -6.4205, -6.4252, -6.4444, -6.4453, -6.4519, -5.2803, -4.2882, -4.0565, -5.9807, -4.5621, -5.8322, -5.3788, -5.154, -4.9752, -5.2107, -5.5676, -4.7326, -5.9632, -4.5706, -5.2433, -5.3413, -5.5581, -5.3457, -4.7572, -5.2417, -5.2969, -4.2449, -5.3373, -5.0456, -5.3463, -5.3852, -5.0526, -5.046, -5.2899, -5.3088, -5.2675, -1.5163, -5.6698, -5.7791, -6.1118, -6.1628, -6.1899, -6.5255, -6.5072, -6.6736, -6.7111, -6.7147, -6.7234, -6.7976, -6.8023, -6.8136, -6.8236, -6.8331, -6.8544, -6.8753, -6.9061, -6.972, -7.0026, -7.004, -7.0155, -7.0654, -7.0675, -7.0783, -7.0881, -7.1063, -5.7233, -4.0781, -4.3079, -6.372, -6.6167, -3.0434, -4.7108, -4.8963, -5.305, -4.9554, -3.1915, -5.0404, -3.5956, -3.4137, -4.0849, -4.5175, -4.8056, -6.4777, -5.027, -4.6058, -5.7323, -4.5879, -4.5383, -4.3303, -3.7277, -3.6965, -4.7711, -4.7019, -4.5512, -4.8369, -5.0693, -5.0829, -5.3194, -5.5968, -5.5513, -5.5466, -5.1488, -5.2706, -5.43, -5.4985, -5.5101, -5.6284, -5.7364, -5.7824, -5.8494, -5.8665, -5.8738, -5.9146, -5.913, -5.756, -5.9987, -6.0145, -6.0172, -6.0758, -6.1355, -6.1617, -6.1863, -6.1962, -6.2062, -6.2227, -6.2448, -6.2577, -6.2956, -6.3049, -6.3115, -6.3378, -5.3817, -5.0668, -4.8745, -5.651, -4.8093, -4.0514, -5.0688, -5.9436, -4.3188, -5.7573, -4.9559, -4.9268, -5.3194, -4.9254, -4.9722, -5.1012, -5.1723, -4.6971, -4.859, -5.2831, -5.1444, -3.7797, -5.1361, -5.0685, -5.0088, -5.232, -5.3881, -4.9086, -5.124, -5.2527, -5.3479, -5.2571, -5.3229, -3.958, -4.9075, -4.9528, -5.2153, -5.2958, -5.3412, -5.3896, -5.4332, -5.5566, -5.6748, -5.7124, -5.7198, -5.751, -5.8015, -5.8083, -5.8087, -5.8555, -5.8975, -5.909, -5.9217, -5.9452, -5.9601, -5.9629, -5.9836, -6.0283, -6.0506, -6.0561, -6.061, -6.1821, -6.1922, -4.4394, -4.9338, -4.1143, -5.2596, -5.2726, -5.2402, -5.126, -5.6739, -5.4456, -4.6392, -4.512, -4.8366, -5.2339, -5.6351, -4.8221, -5.0343, -4.9017, -4.8266, -5.0044, -4.8138, -5.4793, -5.0438, -5.4687, -5.386, -5.4319, -3.8726, -4.7751, -5.1988, -5.3647, -5.3952, -5.4731, -5.5368, -5.5974, -5.5991, -5.6375, -5.6549, -5.7844, -5.8606, -5.865, -5.8933, -5.8948, -5.8954, -5.9215, -5.9242, -5.9269, -5.9374, -5.9471, -5.96, -5.9851, -6.019, -6.0254, -6.0522, -6.0735, -6.0829, -6.0988, -5.3673, -4.9152, -5.4363, -3.8692, -4.3832, -5.0487, -5.0465, -4.8723, -5.5492, -4.8889, -5.252, -5.451, -5.5091, -5.1385, -5.7449, -5.8455, -4.7777, -5.085, -5.2782, -5.1081, -5.1273, -5.2801, -5.283, -5.5536, -5.5819], \"loglift\": [30.0, 29.0, 28.0, 27.0, 26.0, 25.0, 24.0, 23.0, 22.0, 21.0, 20.0, 19.0, 18.0, 17.0, 16.0, 15.0, 14.0, 13.0, 12.0, 11.0, 10.0, 9.0, 8.0, 7.0, 6.0, 5.0, 4.0, 3.0, 2.0, 1.0, 1.5719, 1.5713, 1.5708, 1.5705, 1.5701, 1.5674, 1.5672, 1.5653, 1.5644, 1.5636, 1.5631, 1.5631, 1.5628, 1.5618, 1.5617, 1.5614, 1.561, 1.5607, 1.5605, 1.56, 1.5598, 1.5597, 1.5586, 1.5581, 1.5578, 1.5574, 1.5572, 1.5572, 1.5572, 1.5569, 1.5447, 1.5568, 1.5312, 1.5218, 1.5344, 1.4027, 1.5, 1.5429, 1.4259, 1.4357, 1.4286, 1.393, 1.4028, 1.4373, 1.2256, 1.446, 1.275, 1.2954, 1.4255, 1.4409, 1.4885, 1.3744, 1.3267, 0.9986, 1.0302, 1.1218, 1.0894, 1.3383, 1.2185, 1.3011, 1.1342, 1.3152, 1.0683, 1.1834, 1.0461, 0.6291, 0.8302, 0.526, 0.829, 0.9997, 0.8066, 0.6089, 1.1046, 0.7154, 1.1836, 0.848, 0.5158, 0.5171, 0.2719, 0.7219, 0.568, 0.7049, 0.3933, 0.2457, 0.4604, 0.5324, 0.1959, 1.9977, 1.9958, 1.9931, 1.9905, 1.9903, 1.9902, 1.99, 1.9877, 1.9877, 1.9861, 1.9851, 1.9846, 1.9846, 1.9831, 1.9807, 1.9801, 1.9798, 1.9795, 1.9791, 1.979, 1.9784, 1.9782, 1.9782, 1.9777, 1.9777, 1.9774, 1.9774, 1.9772, 1.9768, 1.9763, 1.9709, 1.9602, 1.9686, 1.9367, 1.9604, 1.9532, 1.9537, 1.9336, 1.8798, 1.9529, 1.9155, 1.8986, 1.9305, 1.7929, 1.9312, 1.871, 1.8159, 1.4939, 1.8186, 1.8393, 1.241, 1.1288, 1.5898, 0.9832, 1.1131, 1.325, 1.4011, 1.5897, 1.5445, 0.7081, 1.2306, 1.1742, 1.0973, 1.0124, 1.1494, 1.1828, 0.7272, 0.9967, 1.1049, 0.9347, 0.384, 1.0307, 0.8282, 0.8149, 0.7216, 0.9717, 0.446, 0.5, 0.5789, 0.4029, 0.6829, 0.5467, 0.2898, 0.496, 0.6261, 0.5237, 0.6439, 2.3751, 2.3731, 2.3728, 2.3721, 2.3719, 2.3716, 2.3707, 2.3707, 2.3705, 2.3705, 2.37, 2.3699, 2.3699, 2.3697, 2.3696, 2.3688, 2.3676, 2.3673, 2.3666, 2.3665, 2.3664, 2.366, 2.3656, 2.3655, 2.3651, 2.3648, 2.3642, 2.3641, 2.3641, 2.3638, 2.356, 2.3281, 2.3407, 2.3441, 2.3374, 2.32, 2.3108, 2.3055, 2.3347, 2.2855, 2.3269, 2.3081, 2.1924, 2.2924, 2.1632, 2.1431, 2.2471, 2.2311, 2.105, 1.9413, 2.1786, 2.1873, 1.5277, 1.6427, 1.0103, 1.9754, 1.4359, 1.215, 1.3637, 0.5828, 1.0928, 1.6233, 1.6474, -0.0878, 0.924, 0.9241, 0.7781, 0.1238, 0.2131, 2.5131, 2.5128, 2.5123, 2.5111, 2.5109, 2.5106, 2.5105, 2.5103, 2.5091, 2.5089, 2.5071, 2.506, 2.5059, 2.505, 2.5047, 2.5041, 2.5039, 2.5033, 2.5021, 2.5016, 2.5015, 2.5013, 2.5012, 2.5, 2.4999, 2.4994, 2.4988, 2.4988, 2.4986, 2.4978, 2.4945, 2.4777, 2.4846, 2.4937, 2.4665, 2.4595, 2.3732, 2.4533, 2.3539, 2.4081, 2.4109, 2.3595, 2.3859, 2.1318, 2.2046, 1.9393, 1.8775, 2.0611, 1.8592, 1.7646, 2.1934, 1.7788, 1.8158, 1.8999, 1.0886, 1.6545, 1.6306, 1.058, 0.6387, 0.9678, 0.2044, 1.8229, 1.6678, 0.3769, 0.4994, 1.472, 0.5952, -0.1345, 0.6801, -0.0826, 2.6474, 2.6464, 2.6461, 2.6458, 2.6455, 2.6445, 2.6444, 2.6437, 2.6435, 2.6434, 2.6431, 2.6424, 2.6424, 2.6422, 2.6412, 2.6402, 2.6402, 2.6396, 2.6377, 2.6371, 2.6369, 2.6367, 2.6367, 2.6366, 2.6365, 2.6358, 2.6358, 2.6357, 2.635, 2.6343, 2.6265, 2.5569, 2.5467, 2.5591, 2.5124, 2.4817, 2.5934, 2.5079, 2.2685, 2.4402, 2.4183, 2.1783, 2.0806, 2.4334, 2.2813, 2.1005, 2.1516, 2.1827, 1.7829, 2.417, 1.6427, 0.6789, 1.1468, 0.3302, 1.7575, 1.9968, 2.2208, 0.9282, 0.6867, 2.7694, 2.7692, 2.7686, 2.7682, 2.7679, 2.7676, 2.767, 2.7664, 2.7657, 2.7656, 2.7653, 2.7653, 2.7649, 2.7649, 2.7641, 2.7641, 2.7634, 2.7623, 2.7606, 2.7596, 2.7595, 2.7589, 2.7585, 2.7574, 2.7574, 2.7568, 2.7566, 2.7563, 2.7561, 2.7546, 2.7298, 2.6859, 2.6804, 2.7224, 2.6967, 2.5255, 2.584, 2.6543, 2.6701, 2.3175, 2.6778, 1.9052, 2.5796, 2.1323, 1.2319, 2.1269, 1.3706, 1.7359, 2.051, 1.3425, 1.1741, 1.3972, 1.2545, 1.3153, 1.8977, 1.9201, 0.6565, -0.249, 0.9619, 1.7057, 0.274, 2.8733, 2.8719, 2.8713, 2.8697, 2.8683, 2.8657, 2.8656, 2.8625, 2.8599, 2.858, 2.8576, 2.8571, 2.8569, 2.8563, 2.8563, 2.8562, 2.8557, 2.8534, 2.8531, 2.8529, 2.8525, 2.8506, 2.8504, 2.8503, 2.849, 2.8488, 2.8487, 2.8486, 2.8478, 2.8475, 2.8355, 2.8267, 2.765, 2.6382, 2.7261, 2.6167, 2.6845, 2.7808, 2.7107, 2.6248, 2.4339, 2.429, 2.7386, 2.1409, 2.3475, 2.4235, 2.2548, 2.3857, 2.6445, 2.567, 2.3156, 2.1229, 2.0011, 2.0041, 2.2364, 2.2338, 2.3418, 1.9509, 1.4851, 1.6895, 1.3935, 0.8941, 0.643, 1.8574, 1.7593, 1.4385, 0.8395, 1.4677, 1.7386, 0.6817, 0.7006, 0.7755, 0.993, 0.8131, 1.3043, 0.5515, 0.1571, 0.6783, 1.0168, 0.1311, 2.9286, 2.9279, 2.9273, 2.9261, 2.9257, 2.9256, 2.9254, 2.9253, 2.9242, 2.922, 2.9214, 2.9202, 2.9198, 2.9198, 2.9192, 2.9183, 2.9182, 2.9177, 2.9173, 2.9171, 2.9171, 2.9169, 2.9163, 2.9149, 2.9146, 2.9143, 2.9127, 2.9126, 2.9122, 2.9119, 2.9051, 2.8451, 2.8265, 2.8482, 2.8678, 2.8291, 2.8454, 2.7263, 2.727, 2.7563, 2.7419, 2.5297, 2.8557, 2.4662, 2.7075, 1.9213, 2.5321, 2.2201, 2.5586, 1.7312, 1.5066, 1.8353, 1.9095, 0.4187, 1.6704, -0.3658, 0.5804, 0.3375, -0.1821, 0.4023, 2.9877, 2.9868, 2.9847, 2.9827, 2.9818, 2.9769, 2.975, 2.9686, 2.9684, 2.9683, 2.967, 2.965, 2.9644, 2.9636, 2.9632, 2.9631, 2.9617, 2.9616, 2.9606, 2.9601, 2.9587, 2.9579, 2.9576, 2.9574, 2.9567, 2.9563, 2.956, 2.955, 2.9545, 2.953, 2.9466, 2.8913, 2.9312, 2.9318, 2.8045, 2.8664, 2.9274, 2.8962, 2.8129, 2.8371, 2.6477, 2.6245, 2.7607, 2.7386, 2.7954, 2.6089, 2.6929, 2.5907, 2.4262, 2.6698, 2.4684, 2.6117, 2.4453, 2.4475, 2.249, 2.165, 2.2388, 2.4118, 2.454, 2.3406, 2.5373, 1.9282, 2.0015, 2.3201, 1.1838, 1.7501, 2.1231, 0.8449, 1.3932, 1.5801, 2.0654, 1.1817, 0.6124, 3.0526, 3.0525, 3.0521, 3.0519, 3.0507, 3.0502, 3.05, 3.049, 3.0483, 3.047, 3.047, 3.0461, 3.0459, 3.0457, 3.0457, 3.0454, 3.0453, 3.0453, 3.0452, 3.045, 3.0448, 3.0447, 3.0443, 3.0443, 3.044, 3.044, 3.0436, 3.0436, 3.0435, 3.0434, 3.0135, 3.0236, 2.9935, 2.9758, 2.9766, 2.9184, 3.0107, 2.9575, 2.9848, 2.9837, 2.9408, 2.7017, 2.9396, 2.844, 2.5698, 2.0442, 2.7365, 2.5891, 2.5877, 1.4803, 2.6684, 1.0406, 0.6173, 1.4215, 1.273, 0.5465, 1.2549, 2.2106, 3.2804, 3.2796, 3.2755, 3.2748, 3.2731, 3.2709, 3.2697, 3.2666, 3.2637, 3.2631, 3.263, 3.2615, 3.2607, 3.2603, 3.2602, 3.2596, 3.2587, 3.2576, 3.2575, 3.2574, 3.2574, 3.2573, 3.2564, 3.255, 3.2547, 3.2547, 3.2532, 3.2519, 3.2507, 3.2496, 3.2285, 3.242, 3.2386, 3.2052, 3.2234, 3.0734, 2.9696, 2.9995, 3.0682, 3.2061, 2.9969, 2.8772, 2.9374, 3.1237, 2.8613, 2.9594, 2.4278, 2.5858, 2.7048, 2.7061, 2.646, 2.6197, 2.562, 2.6721, 2.7965, 2.4921, 2.4542, 2.5712, 2.4094, 2.0996, 2.4175, 2.1269, 2.4364, 2.1329, 0.9102, 1.6788, 1.5591, 1.2098, 3.5449, 3.543, 3.5415, 3.5413, 3.5407, 3.5399, 3.5338, 3.5332, 3.5315, 3.5314, 3.5308, 3.5305, 3.5299, 3.5298, 3.5275, 3.5272, 3.5269, 3.5263, 3.5254, 3.5241, 3.5231, 3.5231, 3.5215, 3.5208, 3.5208, 3.5203, 3.5202, 3.5199, 3.5184, 3.5184, 3.4869, 3.4558, 3.4948, 3.4376, 3.3025, 3.1686, 3.4622, 3.1907, 3.3211, 3.4166, 2.6124, 3.1429, 1.0842, 1.3944, 2.5342, 1.0501, 1.5295, 1.9067, 2.4413, 0.8245, 1.2623, 1.0986, 1.3574, 1.6213, 0.7914, 1.9321, 1.4593, 0.6431, 1.7928, 1.783, 1.2013, 0.2793, 0.3639, 1.1613, 1.0985, 1.4861, 0.9519, 0.3889, 3.7952, 3.7938, 3.7912, 3.7907, 3.7899, 3.7877, 3.7865, 3.7856, 3.7855, 3.7854, 3.7851, 3.7849, 3.7843, 3.7842, 3.7823, 3.7817, 3.7804, 3.7793, 3.779, 3.7789, 3.7789, 3.7788, 3.7778, 3.7765, 3.7752, 3.7728, 3.7727, 3.7721, 3.7721, 3.7719, 3.7615, 3.7452, 3.6109, 3.7398, 3.6242, 3.7244, 3.6099, 3.532, 3.476, 3.5357, 3.5829, 3.2898, 3.698, 3.0152, 3.3053, 3.3352, 3.4341, 3.2699, 2.7915, 3.0913, 3.0284, 1.4132, 3.0106, 2.371, 2.8929, 2.8916, 1.504, 1.426, 2.3525, 2.3044, 1.1888, 4.0784, 4.0616, 4.0597, 4.0523, 4.0509, 4.0502, 4.039, 4.0388, 4.0328, 4.0311, 4.031, 4.0306, 4.0269, 4.0267, 4.0261, 4.0256, 4.0251, 4.024, 4.0229, 4.0212, 4.0174, 4.0155, 4.0154, 4.0147, 4.0116, 4.0114, 4.0107, 4.0101, 4.0089, 4.0085, 3.8826, 3.8203, 3.9548, 3.9673, 3.6094, 3.7573, 3.6965, 3.7082, 3.6379, 3.2657, 3.5791, 3.0522, 2.9965, 3.1368, 3.1898, 3.1824, 3.8933, 3.202, 2.8934, 3.4861, 2.6712, 2.6308, 2.3712, 1.8748, 1.3507, 2.1119, 1.7545, 1.3662, 1.7162, 1.9889, 1.2493, 2.0612, 3.0503, 1.854, 1.3918, 4.1442, 4.1427, 4.1406, 4.1396, 4.1394, 4.1375, 4.1355, 4.1346, 4.1331, 4.1328, 4.1326, 4.1317, 4.1307, 4.1298, 4.1296, 4.1292, 4.1292, 4.1276, 4.126, 4.1252, 4.1245, 4.1242, 4.1239, 4.1233, 4.1226, 4.1222, 4.121, 4.1207, 4.1204, 4.1195, 4.0959, 4.0847, 4.0652, 4.0889, 4.0228, 3.9011, 3.9687, 4.0867, 3.7549, 4.0204, 3.7206, 3.7081, 3.8346, 3.5005, 3.527, 3.6026, 3.6209, 3.2761, 3.3396, 3.6039, 3.4542, 2.1426, 3.3968, 3.0458, 2.8053, 3.1149, 3.4233, 1.6506, 2.3844, 2.2324, 2.9638, 1.7129, 0.9418, 4.286, 4.2804, 4.2799, 4.2768, 4.2757, 4.2751, 4.2743, 4.2736, 4.2715, 4.2691, 4.2683, 4.2682, 4.2675, 4.2663, 4.2662, 4.2661, 4.265, 4.2639, 4.2636, 4.2633, 4.2627, 4.2623, 4.2622, 4.2616, 4.2603, 4.2597, 4.2595, 4.2594, 4.2554, 4.2551, 4.2146, 4.2013, 4.1072, 4.1875, 4.1629, 4.1347, 4.0174, 4.1717, 4.0696, 3.7501, 3.6776, 3.7736, 3.9282, 4.0812, 3.3525, 3.3741, 3.0736, 2.6314, 2.9306, 1.1085, 3.4501, 1.1494, 3.2294, 1.4351, 0.7783, 4.6026, 4.5968, 4.5906, 4.5874, 4.5867, 4.5849, 4.5834, 4.5818, 4.5818, 4.5808, 4.5803, 4.5764, 4.5739, 4.5737, 4.5728, 4.5727, 4.5727, 4.5718, 4.5717, 4.5716, 4.5712, 4.5708, 4.5703, 4.5694, 4.568, 4.5678, 4.5667, 4.5658, 4.5654, 4.5647, 4.5619, 4.5386, 4.5323, 4.2573, 4.2909, 4.3776, 4.3249, 4.194, 4.3287, 3.6376, 3.8975, 4.094, 4.1522, 3.5298, 4.3003, 4.4762, 2.2313, 2.758, 3.09, 2.4962, 2.1202, 2.5331, 2.1023, 2.0282, 2.0784]}, \"token.table\": {\"Topic\": [16, 1, 2, 9, 1, 2, 3, 4, 5, 6, 9, 12, 13, 13, 3, 3, 15, 1, 3, 4, 5, 9, 11, 12, 14, 13, 4, 5, 6, 7, 13, 3, 14, 15, 4, 12, 7, 1, 4, 5, 7, 8, 10, 12, 13, 1, 2, 5, 4, 13, 2, 4, 5, 7, 8, 16, 16, 6, 14, 9, 15, 1, 2, 3, 4, 5, 6, 7, 8, 9, 10, 11, 12, 13, 14, 15, 17, 5, 1, 2, 4, 5, 8, 10, 13, 15, 3, 1, 3, 4, 5, 6, 7, 8, 9, 10, 13, 2, 3, 2, 8, 4, 10, 15, 9, 6, 9, 1, 2, 3, 4, 5, 6, 8, 11, 12, 14, 1, 2, 3, 5, 6, 8, 10, 11, 12, 14, 1, 2, 3, 5, 6, 7, 10, 11, 12, 13, 14, 17, 7, 11, 2, 3, 13, 3, 6, 11, 12, 1, 2, 5, 11, 14, 2, 3, 11, 14, 4, 6, 7, 8, 10, 13, 15, 5, 5, 3, 6, 8, 9, 8, 1, 1, 11, 5, 7, 8, 7, 8, 7, 8, 7, 4, 5, 7, 8, 1, 2, 3, 4, 5, 6, 7, 8, 9, 10, 11, 12, 15, 2, 12, 5, 1, 5, 1, 4, 6, 9, 13, 17, 17, 1, 1, 1, 4, 1, 6, 8, 9, 11, 2, 3, 4, 6, 9, 13, 16, 17, 7, 7, 8, 1, 2, 3, 4, 5, 6, 7, 8, 10, 11, 12, 15, 16, 7, 7, 2, 4, 5, 10, 12, 15, 12, 7, 5, 17, 13, 10, 5, 7, 2, 16, 12, 7, 13, 1, 1, 1, 2, 3, 4, 5, 10, 12, 1, 2, 3, 4, 5, 6, 8, 9, 10, 11, 12, 1, 2, 3, 4, 5, 6, 10, 11, 12, 1, 8, 2, 2, 16, 2, 1, 2, 4, 5, 10, 12, 17, 1, 4, 12, 3, 9, 9, 3, 1, 2, 3, 4, 6, 10, 11, 12, 2, 3, 6, 9, 1, 7, 8, 13, 15, 1, 2, 3, 8, 9, 11, 12, 14, 16, 17, 16, 10, 4, 10, 15, 12, 17, 2, 10, 2, 9, 12, 2, 4, 2, 3, 4, 6, 9, 11, 12, 1, 2, 3, 4, 6, 7, 9, 11, 9, 7, 8, 7, 8, 13, 16, 3, 4, 7, 2, 3, 4, 6, 10, 2, 3, 9, 2, 10, 10, 4, 5, 9, 13, 15, 7, 1, 2, 3, 7, 8, 10, 12, 15, 17, 1, 2, 3, 5, 6, 8, 9, 11, 10, 13, 16, 2, 7, 16, 9, 3, 17, 2, 7, 9, 1, 2, 3, 5, 6, 7, 8, 9, 11, 12, 13, 1, 2, 5, 8, 11, 12, 13, 6, 17, 13, 16, 4, 5, 7, 9, 10, 13, 14, 15, 2, 12, 1, 2, 4, 5, 8, 10, 12, 9, 17, 6, 1, 6, 8, 11, 17, 9, 13, 10, 10, 15, 2, 3, 6, 12, 1, 8, 1, 8, 1, 1, 8, 1, 8, 17, 9, 6, 2, 12, 14, 16, 12, 5, 4, 5, 6, 1, 5, 1, 2, 5, 8, 6, 12, 6, 11, 3, 6, 13, 6, 7, 7, 9, 1, 3, 5, 6, 9, 11, 13, 14, 11, 15, 3, 6, 12, 6, 6, 11, 15, 3, 6, 9, 6, 9, 14, 2, 3, 4, 6, 9, 12, 14, 17, 1, 1, 5, 8, 1, 2, 3, 5, 7, 13, 16, 5, 14, 2, 3, 4, 7, 8, 9, 10, 13, 16, 9, 1, 11, 1, 9, 11, 1, 2, 3, 4, 5, 6, 10, 11, 13, 16, 3, 1, 4, 16, 15, 11, 6, 17, 7, 1, 2, 3, 4, 5, 6, 7, 8, 10, 11, 12, 13, 14, 15, 17, 1, 2, 5, 6, 7, 10, 11, 12, 1, 4, 5, 8, 9, 1, 2, 4, 5, 6, 7, 8, 9, 10, 12, 17, 5, 6, 15, 5, 5, 5, 5, 6, 1, 8, 9, 10, 12, 14, 15, 7, 15, 6, 6, 6, 15, 8, 10, 13, 6, 2, 5, 12, 16, 2, 16, 8, 11, 3, 4, 6, 11, 12, 13, 15, 1, 2, 3, 4, 5, 7, 8, 9, 10, 12, 13, 15, 17, 5, 2, 5, 16, 5, 16, 1, 6, 4, 1, 2, 3, 11, 12, 15, 1, 6, 16, 10, 14, 2, 2, 10, 15, 17, 16, 13, 13, 3, 6, 3, 11, 11, 5, 14, 2, 4, 6, 9, 4, 5, 8, 10, 13, 15, 16, 3, 7, 13, 1, 7, 13, 2, 9, 12, 17, 17, 15, 3, 16, 13, 12, 1, 2, 3, 7, 1, 2, 3, 16, 16, 5, 6, 13, 5, 12, 13, 11, 16, 1, 4, 8, 4, 8, 15, 16, 17, 8, 17, 1, 7, 11, 17, 17, 1, 17, 9, 9, 1, 2, 3, 4, 13, 2, 16, 2, 4, 2, 6, 3, 6, 9, 11, 13, 14, 16, 8, 6, 6, 14, 4, 6, 8, 16, 16, 17, 1, 2, 4, 5, 6, 7, 10, 11, 12, 9, 9, 11, 14, 1, 3, 10, 11, 15, 6, 10, 4, 8, 1, 2, 3, 4, 5, 6, 7, 8, 10, 12, 13, 15, 1, 5, 8, 13, 1, 2, 3, 4, 10, 16, 16, 1, 2, 3, 6, 9, 11, 1, 8, 12, 11, 5, 6, 12, 11, 1, 2, 4, 5, 7, 8, 1, 2, 10, 16, 1, 3, 6, 9, 14, 1, 2, 7, 8, 3, 4, 6, 9, 13, 14, 5, 6, 7, 4, 5, 6, 17, 1, 2, 4, 5, 6, 9, 11, 12, 13, 15, 3, 6, 9, 11, 6, 3, 6, 9, 11, 11, 12, 1, 2, 3, 4, 5, 6, 7, 8, 9, 12, 14, 1, 2, 5, 7, 8, 10, 5, 5, 1, 2, 3, 4, 5, 6, 7, 8, 9, 10, 11, 12, 13, 15, 17, 1, 7, 9, 10, 4, 11, 3, 6, 10, 3, 3, 4, 7, 8, 13, 17, 17, 2, 9, 5, 14, 12, 9, 13, 15, 4, 6, 15, 17, 1, 2, 3, 4, 5, 6, 7, 8, 9, 11, 12, 13, 14, 16, 17, 3, 6, 9, 12, 16, 1, 2, 3, 6, 11, 12, 4, 4, 6, 2, 9, 1, 3, 6, 10, 3, 10, 14, 7, 2, 2, 4, 5, 12, 16, 1, 6, 2, 12, 13, 8, 4, 7, 13, 5, 8, 9, 15, 17, 1, 2, 3, 4, 5, 6, 7, 9, 10, 11, 12, 14, 17, 1, 2, 3, 4, 5, 7, 10, 11, 12, 14, 16, 15, 3, 14, 7, 7, 7, 8, 1, 2, 3, 4, 5, 6, 7, 8, 9, 10, 11, 12, 14, 13, 1, 4, 5, 6, 10, 12, 1, 8, 17, 1, 2, 3, 4, 5, 6, 7, 10, 12, 12, 1, 2, 3, 4, 5, 6, 8, 9, 10, 12, 14, 15, 16, 17, 1, 2, 3, 4, 5, 7, 10, 11, 12, 14, 15, 4, 5, 6, 7, 8, 4, 11, 3, 9, 11, 13, 14, 1, 2, 3, 4, 14, 8, 8, 8, 1, 2, 4, 7, 8, 16, 9, 5, 5, 11, 5, 11, 11, 15, 1, 2, 4, 5, 7, 8, 12, 15, 1, 2, 3, 4, 7, 8, 10, 12, 2, 3, 4, 6, 16, 15, 14, 4, 13, 1, 2, 3, 5, 7, 8, 9, 12, 14, 1, 8, 8, 1, 3, 14, 2, 16, 1, 2, 3, 4, 5, 6, 7, 8, 9, 11, 12, 13, 14, 4, 1, 6, 7, 8, 16, 1, 7, 8, 10, 1, 4, 5, 8, 10, 13, 17, 13, 8, 12, 10, 6, 9, 12, 16, 8, 8, 2, 3, 5, 6, 7, 8, 10, 13, 15, 16, 8, 12, 5, 1, 1, 1, 2, 8, 10, 16, 17, 3, 4, 7, 9, 12, 13, 12, 11, 3, 6, 9, 3, 7, 4, 5, 17, 13, 1, 3, 4, 6, 7, 8, 9, 11, 13, 3, 6, 1, 1, 5, 13, 13, 13, 2, 3, 9, 11, 14, 1, 3, 4, 5, 6, 7, 8, 9, 11, 13, 14, 16, 15, 15, 2, 3, 6, 11, 14, 2, 12, 2, 4, 11, 2, 1, 2, 3, 4, 5, 6, 9, 10, 13, 14, 16, 17, 3, 6, 1, 1, 1, 14, 12, 9, 4, 9, 3, 3, 9, 5, 8, 5, 5, 8, 1, 2, 3, 4, 6, 7, 11, 12, 14, 15, 15, 15, 14, 8, 1, 8, 1, 5, 8, 5, 8, 4, 1, 2, 3, 4, 8, 9, 10, 11, 13, 17, 9, 10, 15, 3, 8, 7, 8, 2, 3, 10, 11, 17, 14, 6, 8, 10, 15, 3, 6, 11, 6, 6, 12, 1, 4, 5, 7, 12, 16, 17, 1, 8, 10, 16, 7, 1, 2, 3, 4, 5, 6, 7, 10, 11, 12, 14, 17, 8, 1, 2, 3, 4, 5, 6, 7, 8, 9, 10, 11, 12, 15, 14, 1, 2, 3, 4, 5, 6, 7, 8, 9, 10, 11, 12, 15, 4, 4, 1, 5, 6, 8, 1, 5, 9, 1, 10, 10, 5, 1, 2, 3, 4, 5, 6, 7, 8, 10, 11, 15, 1, 2, 4, 5, 6, 7, 10, 1, 2, 4, 5, 6, 7, 10, 11, 12, 17, 12, 3, 4, 5, 6, 9, 11, 13, 16, 1, 2, 4, 5, 7, 8, 12, 16, 1, 2, 3, 4, 5, 6, 7, 8, 9, 10, 11, 12, 13, 14, 15, 17, 1, 2, 3, 5, 6, 7, 8, 9, 10, 11, 14, 2, 3, 4, 5, 6, 7, 9, 10, 11, 14, 3, 4, 11, 17, 1, 2, 3, 4, 6, 7, 8, 9, 10, 11, 13, 14, 16, 1, 2, 3, 4, 5, 6, 7, 8, 10, 11, 12, 16, 12, 2, 16, 1, 2, 3, 4, 7, 12, 14, 16, 8, 4, 10, 15, 15, 1, 2, 3, 4, 5, 6, 7, 8, 10, 15, 1, 2, 3, 4, 7, 10, 12, 13, 14, 17, 4, 13, 3, 17, 2, 3, 6, 9, 14, 9, 11, 16, 1, 2, 3, 4, 5, 6, 7, 8, 9, 10, 11, 12, 17, 7, 2, 3, 4, 6, 10, 11, 3, 1, 2, 3, 4, 5, 6, 7, 8, 9, 10, 11, 12, 13, 15, 16, 17, 17, 1, 4, 1, 8, 9, 14, 1, 2, 3, 4, 5, 6, 8, 9, 10, 11, 12, 13, 15, 17, 1, 2, 3, 6, 7, 10, 12, 13, 1, 2, 3, 4, 5, 6, 7, 12, 17, 1, 3, 10, 15, 4, 7, 13, 5, 13, 1, 4, 6, 3, 3, 5, 11, 12, 1, 2, 6, 8, 1, 3, 6, 9, 11, 14, 13, 1, 2, 3, 4, 8, 9, 10, 11, 12, 16, 17, 7, 3, 1, 2, 3, 4, 5, 6, 8, 9, 10, 11, 12, 15, 1, 2, 3, 4, 5, 9, 10, 16, 17, 2, 7, 8, 16, 4, 5, 7, 8, 5, 4, 15, 1, 4, 8, 4, 6, 9, 11, 3, 6, 1, 2, 3, 4, 7, 12, 2, 3, 4, 14, 10, 15, 4, 8, 17, 1, 5, 1, 1, 1, 3, 9, 3, 11, 14, 2, 4, 17, 1, 2, 3, 4, 5, 6, 7, 8, 9, 10, 11, 12, 13, 14, 16, 17, 5, 9, 12, 8, 1, 7, 8, 1, 2, 3, 4, 5, 6, 7, 8, 9, 10, 11, 12, 16, 7, 4, 12, 1, 2, 3, 5, 6, 7, 8, 9, 10, 11, 14, 15, 17, 4, 6, 4, 5, 6, 8, 10, 13, 15, 16, 13, 17, 5, 8, 2, 1, 2, 3, 4, 5, 6, 7, 8, 9, 10, 11, 12, 13, 14, 1, 10, 15, 1, 2, 3, 4, 5, 6, 8, 9, 10, 11, 13, 15, 16, 1, 4, 5, 7, 9, 10, 13, 14, 15, 17, 4, 13, 10, 9, 1, 4, 7, 8, 10, 15, 14, 12, 7, 16, 3, 1, 2, 3, 5, 6, 7, 8, 9, 10, 11, 12, 17, 1, 6, 14, 3, 4, 5, 16, 11, 1, 2, 3, 4, 5, 6, 7, 8, 9, 10, 11, 12, 13, 15, 1, 4, 12, 11, 3, 4, 5, 6, 7, 8, 10, 13, 15, 4, 16, 1, 2, 3, 4, 5, 6, 7, 8, 9, 10, 11, 12, 13, 14, 15, 17, 9, 1, 2, 3, 4, 5, 6, 7, 8, 9, 10, 11, 11, 4, 15, 15, 8, 2, 9, 3, 6, 11, 17, 1, 3, 4, 8, 11, 13, 17, 1, 2, 12, 13, 5, 8, 5, 12, 1, 3, 9, 17, 13, 13, 4, 3, 6, 10, 12, 1, 2, 4, 5, 6, 7, 8, 9, 12, 13, 17, 2, 3, 9, 12, 16, 1, 2, 4, 5, 6, 8, 10, 17, 9, 6, 13, 9, 10, 15, 15, 1, 16, 14, 2, 15, 10, 15, 10, 4, 10, 15, 14, 6, 4, 7, 16, 16, 1, 2, 3, 4, 6, 10, 15, 17, 4, 5, 7, 8, 10, 2, 10, 10, 10, 10, 1, 2, 3, 4, 5, 6, 9, 11, 12, 13, 14, 1, 2, 3, 4, 5, 6, 7, 8, 9, 10, 11, 12, 13, 14, 14, 1, 11, 5, 7, 3, 5, 6, 16, 1, 2, 3, 4, 6, 9, 10, 12, 14, 15, 17, 1, 2, 3, 5, 6, 9, 10, 11, 14, 1, 2, 6, 9, 12, 14, 1, 2, 3, 4, 5, 8, 10, 15, 16, 2, 11, 12, 4, 6, 3, 4, 5, 6, 7, 8, 9, 11, 13, 3, 6, 12, 1, 2, 3, 4, 5, 6, 7, 9, 10, 12, 1, 2, 3, 4, 5, 6, 8, 11, 13, 3, 4, 6, 9, 11, 14, 14, 1, 4, 17, 10, 1, 4, 5, 6, 9, 11, 13, 17, 10, 10, 10, 1, 2, 3, 4, 5, 6, 11, 12, 14, 11, 2, 4, 12, 3, 10, 12, 1, 2, 3, 5, 6, 8, 9, 10, 11, 12, 14, 1, 2, 3, 4, 5, 6, 7, 8, 12, 16, 1, 2, 3, 4, 5, 6, 7, 10, 12, 1, 2, 3, 5, 6, 9, 10, 11, 12, 17, 15, 1, 8, 1, 6, 14, 1, 3, 9, 14, 1, 3, 9, 13, 14, 3, 4, 5, 7, 8, 13, 4, 3, 5, 6, 9, 1, 4, 5, 6, 8, 9, 13, 11, 3, 4, 6, 11, 16, 1, 2, 3, 4, 11, 12, 14, 2, 1, 2, 4, 5, 6, 7, 8, 9, 10, 11, 15, 4, 10, 11, 17, 2, 16, 1, 2, 3, 4, 5, 6, 7, 9, 10, 11, 12, 14, 15, 1, 4, 5, 6, 15, 6, 17, 4, 5, 7, 7, 12, 12, 8, 10, 15, 6, 1, 4, 9, 10, 11, 1, 2, 3, 4, 5, 6, 7, 9, 10, 11, 12, 15, 16, 2, 1, 2, 4, 5, 7, 8, 10, 12, 13, 15, 17, 3, 4, 16, 1, 10, 17, 9, 10, 13, 15, 1, 8, 4, 4, 4, 1, 2, 7, 8, 12, 1, 2, 4, 5, 6, 7, 10, 12, 15, 1, 2, 3, 5, 7, 8, 13, 14, 17, 4, 6, 8, 6, 1, 4, 12, 10, 10, 10, 3, 6, 2, 6, 11, 3, 13, 16, 10, 4, 15, 1, 2, 3, 4, 5, 6, 7, 8, 10, 11, 12, 15, 16, 2, 3, 5, 6, 8, 9, 11, 15, 5, 6, 8, 4, 5, 6, 1, 2, 3, 4, 5, 6, 7, 8, 9, 10, 11, 12, 15, 17, 17, 1, 2, 3, 4, 5, 6, 9, 10, 4, 1, 2, 3, 4, 6, 8, 9, 11, 14, 4, 8, 2, 3, 4, 6, 9, 10, 11, 13, 3, 6, 9, 11, 1, 2, 3, 4, 5, 6, 7, 8, 9, 10, 11, 12, 3, 11, 7, 4, 14, 3, 12, 1, 8, 8, 7, 3, 4, 6, 7, 9, 13, 3, 4, 6, 9, 13, 16, 2, 3, 4, 6, 9, 11, 12, 16, 2, 7, 11, 12, 10, 12, 5, 10, 16, 17, 7, 17, 8, 10, 16, 16, 3, 6, 9, 13, 4, 16, 9, 1, 2, 3, 5, 6, 7, 12, 14, 1, 2, 3, 4, 6, 7, 9, 11, 12, 7, 8, 17, 1, 2, 3, 4, 5, 6, 8, 9, 11, 13, 14, 4, 5, 8, 15, 15, 3, 4, 6, 9, 11, 12, 4, 1, 2, 14, 11, 1, 8, 2, 4, 10, 15, 12, 1, 2, 3, 6, 9, 13, 1, 2, 3, 5, 6, 7, 8, 9, 10, 12, 15, 16, 1, 2, 4, 5, 6, 8, 9, 11, 13, 1, 4, 5, 6, 11, 1, 3, 4, 5, 8, 13, 11, 2, 3, 4, 7, 16, 12, 2, 16, 17, 1, 2, 3, 4, 5, 6, 7, 8, 10, 11, 12, 15, 10, 7, 16, 6, 8, 11, 2, 3, 4, 5, 7, 9, 13, 15, 4, 8, 13, 1, 4, 5, 8, 13, 1, 2, 4, 5, 6, 8, 9, 11, 14, 17, 2, 17, 7, 9, 2, 4, 10, 11, 12, 16, 1, 2, 3, 6, 7, 9, 11, 12, 1, 2, 3, 4, 5, 6, 7, 9, 10, 11, 12, 7, 15, 13, 13, 1, 2, 3, 4, 5, 6, 9, 12, 13, 16, 2, 3, 5, 7, 1, 17, 2, 4, 5, 4, 10, 4, 10, 2, 3, 4, 6, 13, 16, 17, 11, 1, 3, 4, 12, 14, 1, 2, 3, 8, 11, 14, 17, 3, 14, 1, 2, 3, 4, 5, 6, 7, 8, 9, 10, 11, 12, 13, 15, 16, 17, 1, 2, 3, 5, 6, 7, 8, 9, 10, 12, 14, 1, 4, 6, 9, 12, 17, 13, 1, 2, 3, 5, 7, 8, 9, 10, 12, 14, 1, 2, 3, 4, 5, 7, 11, 12, 1, 2, 3, 4, 6, 7, 8, 9, 10, 11, 12, 17, 1, 2, 3, 4, 5, 7, 10, 12, 17, 1, 2, 3, 4, 5, 6, 7, 8, 9, 10, 11, 12, 13, 14, 15, 17, 1, 2, 3, 4, 5, 7, 8, 10, 11, 12, 16, 17, 11, 10, 15, 11, 2, 1, 2, 3, 4, 5, 6, 7, 8, 9, 10, 11, 12, 13, 15, 16, 14, 2, 16, 1, 5, 8, 9, 10, 11, 14, 5, 1, 2, 3, 4, 5, 7, 8, 12, 1, 2, 4, 7, 8, 10, 15, 10, 15, 16, 16, 4, 5, 7, 8, 14, 14, 1, 4, 5, 8, 13, 14, 2, 1, 2, 3, 5, 6, 10, 11, 1, 4, 5, 8, 3, 16, 8, 8, 8, 1, 2, 3, 6, 8, 15, 1, 2, 3, 4, 5, 6, 7, 8, 10, 11, 12, 13, 15, 17, 9, 16, 4, 5, 8, 13, 3, 4, 8, 9, 10, 11, 13, 17, 2, 3, 1, 2, 3, 4, 5, 6, 8, 9, 11, 12, 13, 16, 17, 1, 2, 3, 4, 5, 6, 7, 8, 9, 11, 12, 13, 14, 15, 16, 1, 6, 9, 3, 5, 6, 9, 11, 3, 6, 9, 13, 1, 2, 3, 4, 5, 6, 9, 11, 12, 13, 16, 6, 16, 4, 14, 1, 2, 3, 6, 9, 11, 3, 3, 2, 3, 6, 7, 3, 6, 3, 9, 13, 11, 11, 14, 3, 7, 8, 9, 11, 13, 16, 12, 1, 2, 3, 4, 5, 6, 7, 8, 9, 11, 12, 14, 17, 5, 7, 8, 4, 5, 10, 13, 15, 4, 7, 8, 16, 1, 2, 3, 4, 5, 6, 7, 8, 10, 11, 12, 15, 16, 5, 5, 4, 1, 2, 3, 4, 5, 7, 8, 9, 10, 13, 15, 17, 14, 1, 2, 3, 4, 5, 6, 7, 8, 9, 10, 11, 12, 13, 15, 16, 17, 2, 7, 8, 10, 15, 4, 5, 8, 9, 15, 17, 2, 11, 2, 11, 1, 5, 7, 8, 1, 3, 10, 11, 15, 3, 6, 7, 11, 3, 6, 7, 11, 10, 11, 2, 3, 6, 8, 2, 6, 2, 11, 7, 11, 1, 7, 8, 11, 2, 3, 14, 1, 3, 4, 5, 8, 9, 12, 13, 15, 1, 2, 3, 4, 6, 7, 8, 9, 11, 12, 1, 2, 3, 4, 5, 6, 7, 9, 11, 12, 1, 3, 4, 5, 6, 7, 8, 9, 10, 12, 13, 16, 1, 2, 3, 4, 5, 6, 7, 8, 9, 10, 11, 12, 14, 12, 1, 2, 3, 4, 5, 6, 7, 8, 9, 11, 12, 17, 1, 2, 3, 5, 7, 11, 12, 17, 17, 6, 11, 8, 15, 1, 2, 3, 4, 5, 7, 8, 9, 10, 11, 15, 16, 1, 2, 4, 5, 7, 8, 10, 12, 13, 15, 17, 16, 4, 5, 8, 9, 10, 13, 15, 1, 2, 3, 5, 6, 7, 8, 9, 12, 14, 1, 14, 9], \"Freq\": [0.9616617043579745, 0.9568123209502758, 0.013866845231163417, 0.020800267846745126, 0.002137131528542996, 0.012822789171257976, 0.35048957068105135, 0.036331235985230935, 0.036331235985230935, 0.4274263057085992, 0.10044518184152082, 0.02137131528542996, 0.01068565764271498, 0.9758233010601758, 0.9828983742734099, 0.9877056298340653, 0.9614754321035716, 0.05254610660159128, 0.09831207041588046, 0.04915603520794023, 0.0339007139365105, 0.5813972440111551, 0.027120571149208402, 0.02373049975555735, 0.13221278435239095, 0.9905246226293888, 0.6799553163786543, 0.033540396772041244, 0.2469792853213946, 0.018294761875658858, 0.018294761875658858, 0.10596486820930048, 0.8204708367062981, 0.06963405625182603, 0.988209595424546, 0.9789544246151679, 0.9840846414129328, 0.12045315572640976, 0.10799248444436736, 0.04984268512816955, 0.04153557094014129, 0.12460671282042388, 0.0706104705982402, 0.07891758478626845, 0.40289503811937055, 0.8407360658382973, 0.0868266465979098, 0.07200258498363252, 0.05973977625627445, 0.9259665319722539, 0.09135427106332038, 0.2816756691119045, 0.026644995726801776, 0.04567713553166019, 0.011419283882915047, 0.540512770457979, 0.9626320647399255, 0.9172821291230832, 0.08039923044106705, 0.9665352112509521, 0.9833225019104667, 0.1824681156415389, 0.20147521102086588, 0.1663851887821084, 0.09912931282448988, 0.02894926834697492, 0.055851618730022326, 0.01140425722759618, 0.08099946800113185, 0.11696674079585827, 0.018422261675347676, 0.008187671855710078, 0.0038014190758653937, 0.02076159649126484, 0.0014620842599482283, 0.0029241685198964566, 0.0005848337039792913, 0.9931713064536885, 0.03387236740182163, 0.011290789133940545, 0.4215227943337803, 0.41023200519983977, 0.011290789133940545, 0.02822697283485136, 0.013172587322930635, 0.07150833118162345, 0.9924143120347404, 0.10821256709955272, 0.02913415268064881, 0.052025272644015734, 0.05410628354977636, 0.004162021811521258, 0.052025272644015734, 0.18729098151845663, 0.04370122902097322, 0.012486065434563777, 0.45574138836157785, 0.9668587266151468, 0.02710818859668636, 0.9708290004220966, 0.9904634302114992, 0.08052892069324281, 0.26636489152380316, 0.6504258979069611, 0.9588943462943936, 0.09246388321604763, 0.9040913025569103, 0.5562633147389997, 0.003797019213235493, 0.030376153705883945, 0.02278211527941296, 0.015188076852941972, 0.003797019213235493, 0.017086586459559717, 0.15377927813603748, 0.1708658645955972, 0.024680624886030705, 0.18094682013705296, 0.10809810034161606, 0.1198478938570091, 0.06344888498312247, 0.018799669624628878, 0.0046999174061572195, 0.04229925665541498, 0.0023499587030786097, 0.046999174061572196, 0.4112427730387567, 0.22094175003177247, 0.20295811921523285, 0.15478767952807315, 0.014129995641566844, 0.01734135828737749, 0.02825999128313369, 0.0019268175874863878, 0.0038536351749727756, 0.010918632995756197, 0.0025690901166485172, 0.33911989539760423, 0.0032113626458106464, 0.995115038817554, 0.9762884755930019, 0.04044069288208566, 0.9332467588173614, 0.021775757705738433, 0.05049602099971547, 0.2701537123484778, 0.6665474771962443, 0.012624005249928868, 0.18606276319877527, 0.06034467995635955, 0.005028723329696629, 0.020114893318786516, 0.7241361594763146, 0.0035798883289020187, 0.16467486312949287, 0.0572782132624323, 0.773255879042836, 0.5605267067907358, 0.017571370118831843, 0.007028548047532737, 0.005271411035649553, 0.07555689151097693, 0.2389706336161131, 0.09312826162980878, 0.9944867430162075, 0.9922454010742439, 0.03158461520606618, 0.04421846128849265, 0.03790153824727941, 0.884369225769853, 0.9899901468624243, 0.9894973024226545, 0.9569150800579383, 0.04054724915499739, 0.9903704787009534, 0.07757239194591216, 0.9163238798610874, 0.183306133438863, 0.8154553225878391, 0.3289731824408502, 0.6690979981847801, 0.9731553208163874, 0.06455410135400365, 0.7930932452063306, 0.1291082027080073, 0.009222014479143378, 0.15199323984996152, 0.363094961863797, 0.08537891868115123, 0.02064105726357502, 0.021579287139192067, 0.005629379253702278, 0.20641057263575022, 0.0009382298756170464, 0.011258758507404557, 0.038467424900298905, 0.03283804564659663, 0.04222034440276709, 0.01782636763672388, 0.20013512917079448, 0.8005405166831779, 0.9923324447109533, 0.9789159151587445, 0.9902115903018043, 0.12387900121756884, 0.03716370036527065, 0.14246085140020417, 0.06193950060878442, 0.6255889561487227, 0.9708854875798292, 0.9641447418603907, 0.9888635073212497, 0.9923927849937142, 0.9941432939562507, 0.9877158669293579, 0.003857027905022853, 0.023142167430137115, 0.0809975860054799, 0.7405493577643877, 0.1465670603908684, 0.03781857777372651, 0.1564650962795352, 0.04300936295835565, 0.16388050368614823, 0.5687617480872204, 0.02298776296050043, 0.0051907851846291295, 0.0014830814813226085, 0.9901767949609049, 0.9827631421499227, 0.9938948897144931, 0.10984727795902577, 0.40368874649941966, 0.038446547285659015, 0.03638691082392728, 0.030894546925975996, 0.030894546925975996, 0.22587346530324673, 0.009611636821414754, 0.07963927652029368, 0.004805818410707377, 0.01990981913007342, 0.0068654548724391105, 0.001373090974487822, 0.992095004496609, 0.9795527764380028, 0.014177221070990799, 0.007088610535495399, 0.0637974948194586, 0.20556970552936657, 0.22683553713585278, 0.4820255164136871, 0.9844023649216461, 0.9910987868119052, 0.9496819130501366, 0.043563390506887, 0.9791141414043855, 0.994924759456353, 0.9866713930502662, 0.9836319777103351, 0.972283977178229, 0.011048681558843513, 0.973133477730178, 0.9405126105420459, 0.039188025439251914, 0.9972428886405099, 0.9954690224405794, 0.8411739918411939, 0.05353592101517624, 0.02786801367913284, 0.022001063430894346, 0.01466737562059623, 0.01466737562059623, 0.025667907336043405, 0.23331317110215796, 0.297954049675916, 0.1848325121718394, 0.002020027455429939, 0.006060082366289817, 0.002020027455429939, 0.004040054910859878, 0.09393127667749217, 0.165642251345255, 0.009090123549434725, 0.0010100137277149696, 0.27525011736695004, 0.4363097835661871, 0.06391256595207818, 0.015339015828498765, 0.005965172822193964, 0.0017043350920554184, 0.11078178098360218, 0.005113005276166255, 0.08606892214879862, 0.861140037158935, 0.13846524826564371, 0.9824606754503207, 0.8820379896167768, 0.11410980984552707, 0.9928200495573452, 0.03499025536560643, 0.005383116210093297, 0.3795096928115774, 0.30414606587027126, 0.10227920799177265, 0.013457790525233243, 0.15611037009270562, 0.0063287240531500685, 0.9809522282382607, 0.0063287240531500685, 0.04545905244311133, 0.9394870838243009, 0.9806522430577569, 0.9924717632451105, 0.11947704015352117, 0.15100570352736703, 0.39078948550214215, 0.0008297016677327859, 0.2530590086584997, 0.00829701667732786, 0.0024891050031983575, 0.07384344842821794, 0.053711346447311695, 0.10026118003498183, 0.8307354917184209, 0.014323025719283119, 0.05351189507671204, 0.11148311474315009, 0.3745832655369843, 0.4548511081520524, 0.9696811092191165, 0.25445714626848076, 0.05958806589831511, 0.048314648025660906, 0.28344593508387733, 0.20614249824281985, 0.017715370942742333, 0.014494394407698272, 0.04670415975813887, 0.04187269495557278, 0.025767812280352482, 0.993829519838588, 0.9901479036487786, 0.005729771718386558, 0.492760367781244, 0.49849013949963056, 0.9815846694562889, 0.9840726913870596, 0.9824519749538173, 0.9940815809854466, 0.9701909462797736, 0.10309906503409987, 0.8763420527898489, 0.09614914185954222, 0.8973919906890607, 0.1479745890647925, 0.027745235449648593, 0.1479745890647925, 0.062426779761709336, 0.09017201521135793, 0.5155989587726364, 0.006936308862412148, 0.009221116418563652, 0.04917928756567281, 0.0030737054728545506, 0.15983268458843664, 0.12602192438703658, 0.5225299303852736, 0.10143228060420016, 0.024589643782836405, 0.9786231375084067, 0.8434378292464241, 0.14226662180060165, 0.7858206505625842, 0.2041092598863855, 0.8954335370213297, 0.08291051268716015, 0.8650751564381194, 0.012358216520544564, 0.1204926110753095, 0.8091588284528828, 0.16100609341664504, 0.0020641806848287823, 0.020641806848287824, 0.006192542054486347, 0.8989708961107843, 0.08119737126161923, 0.017399436698918407, 0.9608940415805072, 0.9961250861946269, 0.9903065331531461, 0.35696494155646724, 0.09891799585299695, 0.12472269042334397, 0.11182034313817046, 0.30535555241577317, 0.9679631224544323, 0.11210117565562511, 0.06898533886500006, 0.09485484093937509, 0.5346363762037505, 0.12417360995700011, 0.05518827109200005, 0.0017246334716250016, 0.003449266943250003, 0.003449266943250003, 0.6246550471249273, 0.06271637019326579, 0.09532888269376401, 0.04515578653915137, 0.050173096154612636, 0.010034619230922527, 0.03637549471209416, 0.07400531682805364, 0.010143498665263793, 0.983919370530588, 0.9915713035374617, 0.9341752404159848, 0.06335496976225428, 0.0012422543090638094, 0.9736936425317649, 0.9993398047651046, 0.968549699411708, 0.9579312432116871, 0.034485524755620736, 0.007663449945693497, 0.31058373594744043, 0.24809943404085477, 0.07626760379774425, 0.1791829245850618, 0.018377735854878133, 0.0036755471709756264, 0.0009188867927439066, 0.0009188867927439066, 0.11761750947122004, 0.020215509440365945, 0.023891056611341572, 0.31714003359183374, 0.28190225208163, 0.0836897310867339, 0.01982125209948961, 0.04845194957653015, 0.011011806721938671, 0.23565266384948758, 0.09629164747192728, 0.8666248272473456, 0.9824554717087034, 0.9828679918090085, 0.5175794892041853, 0.04491392261689211, 0.006416274659556015, 0.07057902125511617, 0.06844026303526417, 0.22456961308446055, 0.008555032879408021, 0.05774647193600414, 0.3260850750005856, 0.6663477619577184, 0.7605588368348124, 0.10097815065320954, 0.004296942580987641, 0.07304802387678988, 0.004296942580987641, 0.0107423564524691, 0.04511789710037022, 0.9744876638532991, 0.9722887770206565, 0.997281348849093, 0.0631937756524568, 0.02872444347838946, 0.09766310782652415, 0.8042844173949047, 0.9789135819947632, 0.9568028890758028, 0.9823444795984512, 0.985593936396781, 0.47727044217126763, 0.5206586641868374, 0.008205006758439512, 0.2051251689609878, 0.7827576447551294, 0.003282002703375805, 0.09443976497860235, 0.9043322949466165, 0.6639606342674776, 0.3337944172273658, 0.99804816183375, 0.7698177019669089, 0.2269675291513379, 0.3702820815559603, 0.6290587635524553, 0.9701610082908558, 0.9706784410633866, 0.9898992825985281, 0.9126611256303014, 0.03680085183993151, 0.014720340735972604, 0.02944068147194521, 0.9921240078168939, 0.9842648125179537, 0.012311043541396359, 0.869980410258676, 0.11900675423349813, 0.010767732897676019, 0.9852475601373558, 0.8703388651225058, 0.05267180451750035, 0.07273725385750049, 0.002508181167500017, 0.9832602846277435, 0.9521132600634774, 0.036085337993000996, 0.9562614568145263, 0.03791837767649137, 0.9479594419122842, 0.98191386266391, 0.9977553028767228, 0.9555204491687451, 0.9814347968840318, 0.9564169548268872, 0.013813931461312899, 0.05986036966568923, 0.003069762546958422, 0.19953456555229743, 0.21488337828708953, 0.49730153260726434, 0.006139525093916844, 0.001534881273479211, 0.9830290985779951, 0.9616798246093646, 0.9459602539687614, 0.010372371205797823, 0.04356395906435086, 0.9872410109868398, 0.9967087008440393, 0.9842987120146062, 0.9825445406132294, 0.08849346204312394, 0.9026333128398641, 0.9793501900045809, 0.04172936165803431, 0.938910637305772, 0.966102016530891, 0.029020325849556224, 0.48229017721405343, 0.037311847520858, 0.2570371718103551, 0.1133174628411243, 0.05665873142056215, 0.012437282506952667, 0.01105536222840237, 0.9855934870401303, 0.9291869444352943, 0.010867683560646718, 0.054338417803233584, 0.009216535624451476, 0.13517585582528832, 0.3563727108121238, 0.05529921374670886, 0.058371392288192686, 0.08909317770303095, 0.29492913998244724, 0.9968262785026837, 0.9226020704287455, 0.008097743785429832, 0.11539284894237511, 0.1012217973178729, 0.02024435946357458, 0.004048871892714916, 0.6700882982443186, 0.022268795409932037, 0.01012217973178729, 0.044537590819864074, 0.9973760037186448, 0.8774142281359909, 0.11667742395425411, 0.9758675558376517, 0.9444645309838883, 0.040477051327880924, 0.017176833925273114, 0.14457168553771538, 0.16031711663588238, 0.08015855831794119, 0.4208324311691913, 0.040079279158970596, 0.011451222616848743, 0.03435366785054623, 0.0787271554908351, 0.011451222616848743, 0.997757590064732, 0.9806991799289668, 0.010432969999244328, 0.9717857212171559, 0.9765366318508983, 0.9804977832234865, 0.49701993101176856, 0.4870795323915332, 0.9584738116045861, 0.25151568168662697, 0.23268143407202777, 0.04551609840194809, 0.016872346821411793, 0.06513510633382227, 0.05650274284379763, 0.09731027934209592, 0.029428511897811267, 0.01530282618686186, 0.0023542809518249013, 0.11496738648078268, 0.0047085619036498026, 0.06631224680973473, 0.0003923801586374836, 0.0003923801586374836, 0.21822954442121315, 0.048495454315825144, 0.014548636294747543, 0.004849545431582515, 0.014548636294747543, 0.03879636345266012, 0.6158922698109793, 0.04364590888424263, 0.1253120151122605, 0.1536845468357912, 0.6265600755613026, 0.06620257402157159, 0.026008154079903124, 0.43261428979376254, 0.29755957495966917, 0.030744162726460283, 0.02305812204484521, 0.02415612785650451, 0.0263521394798231, 0.02305812204484521, 0.016470087174889438, 0.0032940174349778877, 0.12297665090584113, 0.0010980058116592958, 0.8734813624443468, 0.12478305177776383, 0.9610258944527829, 0.9964727145475939, 0.9932609823759668, 0.9956062174311667, 0.9131170366741108, 0.07983536932669821, 0.027841629674316613, 0.20185181513879544, 0.048722851930054066, 0.027841629674316613, 0.07656448160437068, 0.027841629674316613, 0.5846742231606489, 0.9846872097063777, 0.9744311183590219, 0.9940097696080821, 0.989920012938008, 0.9929136119633998, 0.983533886322746, 0.034070361676997306, 0.9539701269559245, 0.9707707800702587, 0.9878054515881288, 0.9878663204194413, 0.0498129751507998, 0.0747194627261997, 0.8592738213512966, 0.17520128599855062, 0.8059259155933328, 0.9891614954888743, 0.9632840091748381, 0.3634331109351269, 0.1596777054909482, 0.4208172863459364, 0.0008316547160986885, 0.02328633205076328, 0.031602879211750166, 0.9529268512539388, 0.18937215767309287, 0.09351711490029277, 0.0011689639362536597, 0.07481369192023422, 0.022210314788819532, 0.3039306234259515, 0.10286882639032205, 0.03623788202386345, 0.004675855745014639, 0.0023379278725073195, 0.018703422980058556, 0.056110268940175664, 0.09234815096403912, 0.9847981479849995, 0.8750152021495914, 0.1144879703747129, 0.9799198461876911, 0.9940888865152705, 0.97118551784087, 0.9840379688185683, 0.985147459620597, 0.9755817522749608, 0.47396705656863436, 0.17197034795853106, 0.025166392384175274, 0.004194398730695879, 0.3271631009942786, 0.967098204425985, 0.9887705564359349, 0.9934673768029737, 0.9591139785169118, 0.9938490757774093, 0.967378320549316, 0.9900865186823539, 0.988067958178726, 0.8887604473433338, 0.1009955053799243, 0.993233415501788, 0.9571120906511551, 0.9936663938121164, 0.994716199427994, 0.9134780836515926, 0.08577259001423405, 0.5439174572443937, 0.4532645477036614, 0.9809827914431278, 0.09678408494688107, 0.8710567645219296, 0.033449820296466426, 0.016724910148233213, 0.3135920652793727, 0.635546585632862, 0.17516756452453483, 0.07996780119598329, 0.0038079905331420616, 0.6283184379684401, 0.034271914798278555, 0.045695886397704735, 0.030463924265136492, 0.986296463096084, 0.40796862796981137, 0.5886404489278707, 0.06965270426927818, 0.11940463589019115, 0.8059812922587903, 0.006178842059706702, 0.049430736477653614, 0.21625947208973456, 0.7291033630453908, 0.982615986655392, 0.9867301335237049, 0.807650037253533, 0.19046622193734114, 0.9896210918510903, 0.9667089115207695, 0.001962601654824085, 0.1570081323859268, 0.832143101645412, 0.00785040661929634, 0.012164452700514104, 0.018246679050771156, 0.9640328765157428, 0.003041113175128526, 0.9826144111666679, 0.1532823836510314, 0.11867023250402431, 0.7219105810661478, 0.1625888384487666, 0.06878758549755509, 0.7629168573365201, 0.9379724278896294, 0.034739719551467756, 0.12624910749951898, 0.6344826941001467, 0.2363124319862791, 0.07263008852469259, 0.3164596714290177, 0.5343499370030954, 0.06744222505864311, 0.010375726932098941, 0.23577448358393416, 0.7569601841378939, 0.14633932969053828, 0.14633932969053828, 0.03658483242263457, 0.6585269836074223, 0.9742726723400492, 0.053899566028565396, 0.929767513992753, 0.9931043605610393, 0.9657263006150191, 0.050959455083027703, 0.11041215267989335, 0.033972970055351805, 0.10191891016605541, 0.6964458861347119, 0.09969161617534628, 0.8972245455781165, 0.8461976756187382, 0.14103294593645635, 0.9774435221960656, 0.01861797185135363, 0.13358929758556845, 0.01140396442803633, 0.47652279931437524, 0.015476808866620733, 0.0008145688877168807, 0.3584103105954275, 0.004072844438584404, 0.9900841556256216, 0.99064257759193, 0.9972048365468071, 0.9699300116953887, 0.5105108925919201, 0.007976732696748751, 0.0478603961804925, 0.43074356562443256, 0.996751842925726, 0.9550680641518637, 0.3445345092133568, 0.5074900203277823, 0.01280364730184772, 0.0034919038095948328, 0.0325911022228851, 0.05005062127085927, 0.013967615238379331, 0.022115390794100607, 0.011639679365316109, 0.9964811206024503, 0.18769528678128594, 0.8107174571897561, 0.931907274131934, 0.15735338596533016, 0.23989942450451973, 0.005159127408699349, 0.5597653238438794, 0.03353432815654577, 0.9968125364420901, 0.99194041132675, 0.9906341307358694, 0.9760222475381558, 0.4742921310176308, 0.2214813712733707, 0.03350504044803447, 0.0017405215817160762, 0.05874260338291758, 0.04394816993833093, 0.09311790462181008, 0.03176451886631839, 0.02262678056230899, 0.016970085421731743, 0.00043513039542901905, 0.001305391186287057, 0.8325718124595664, 0.06735412415403233, 0.0018709478931675648, 0.09728929044471338, 0.12374681589214859, 0.08999768428519897, 0.22499421071299744, 0.06374835970201594, 0.10499729833273214, 0.3899899652358622, 0.9801501307424902, 0.7883836342358641, 0.022814960476279025, 0.04562992095255805, 0.06590988582036163, 0.030419947301705365, 0.04562992095255805, 0.8735603443770648, 0.11804869518608983, 0.0047219478074435935, 0.9939104048129149, 0.005935929744431103, 0.9913002673199941, 0.9870617282408998, 0.9837297240206286, 0.2802671903965107, 0.10966977015515637, 0.024371060034479194, 0.05178850257326829, 0.5239777907413027, 0.0030463825043098992, 0.987414493276746, 0.01453309444408647, 0.9301180444215341, 0.050865830554302646, 0.037206277908326514, 0.04058866680908347, 0.21647288964844516, 0.6832425579529051, 0.020294333404541735, 0.06338320576935691, 0.9296203512839013, 0.3266203784222235, 0.6729166832554243, 0.2630846065358496, 0.04588684997718307, 0.03059123331812205, 0.5842925563761311, 0.01835473999087323, 0.055064219972619684, 0.8067777008256652, 0.10251871336458729, 0.08914670727355417, 0.10271403420612002, 0.7943218645273281, 0.09929023306591601, 0.9626072162522394, 0.18356935839267755, 0.007060359938179906, 0.22240133805266704, 0.03177161972180958, 0.10943557904178854, 0.017650899845449763, 0.045892339598169386, 0.03883197965998948, 0.01059053990726986, 0.3283067371253656, 0.15349999422056174, 0.07503171359288652, 0.041238804417464345, 0.7302704948925978, 0.9911405932255435, 0.47990526709123515, 0.10557915876007173, 0.3455317923056893, 0.06825319354186456, 0.02627600078742771, 0.9459360283473975, 0.40160285516500505, 0.17783152258229007, 0.09558444338798092, 0.002222894032278626, 0.009632540806540713, 0.09558444338798092, 0.05038559806498218, 0.018524116935655217, 0.04964463338755598, 0.005927717419409669, 0.0941025140331285, 0.003387627459108443, 0.050814411886626644, 0.2845607065651092, 0.6097729426395198, 0.027101019672867543, 0.020325764754650658, 0.9825710170687357, 0.9965396346316463, 0.1401492762383878, 0.1429616362966832, 0.03281086734677975, 0.11765039577202453, 0.04687266763825679, 0.06187192128249896, 0.11061949562628602, 0.09515151530566128, 0.01593670699700731, 0.13358710276903185, 0.0656217346935595, 0.01781161370253758, 0.003749813411060543, 0.0131243469387119, 0.0018749067055302715, 0.11192446604495336, 0.09732562264778553, 0.05839537358867132, 0.7250758887260023, 0.9488948896205308, 0.043699106758840235, 0.9604709997603826, 0.03590545793496758, 0.9927330820451733, 0.9959988392043202, 0.991367015816637, 0.18226431603055837, 0.03573810118246242, 0.0679023922466786, 0.007147620236492485, 0.7040405932945097, 0.9759118803621372, 0.9451218889509673, 0.037804875558038686, 0.13488110030221112, 0.8430068768888195, 0.9803480447152416, 0.10130757461778549, 0.01447251065968364, 0.8755868949108603, 0.09775405392945177, 0.035546928701618824, 0.8264660923126378, 0.02666019652621412, 0.07255055281069446, 0.08291491749793653, 0.03316596699917461, 0.02487447524938096, 0.0621861881234524, 0.041457458748968265, 0.020728729374484132, 0.051821823436210335, 0.40213734986499217, 0.07047767987324605, 0.03523883993662302, 0.014510110562138892, 0.010364364687242066, 0.004145745874896826, 0.07669629868559129, 0.11828756477913184, 0.05012184948268299, 0.8300178274332303, 0.22723048594021136, 0.7607281485824468, 0.06612692700606504, 0.039676156203639026, 0.06282058065576179, 0.28765213247638294, 0.5422408014497333, 0.003306346350303252, 0.9859865943515762, 0.9778786782808918, 0.015646058852494267, 0.9849890924425868, 0.9686840347129503, 0.001196353254064999, 0.017945298810974983, 0.02033800531910498, 0.9594753097601292, 0.058102398266369884, 0.9398917366618658, 0.9552352325342305, 0.976556912514549, 0.9839119557771363, 0.16108703539924224, 0.0521163938056372, 0.26531982301051665, 0.11844634955826636, 0.39797973451577495, 0.9917797663410322, 0.9830626101451612, 0.9925039181268136, 0.03518781874838376, 0.9500711062063616, 0.9964790109171262, 0.9763153302235857, 0.010612123154604193, 0.9693153073412966, 0.06542424772555555, 0.828707137857037, 0.08178030965694444, 0.010904041287592592, 0.010904041287592592, 0.13588474139257334, 0.4167132069372249, 0.11493584376121829, 0.014437753772960919, 0.020665804420120528, 0.04076542241777201, 0.06397906573900329, 0.05407080334579481, 0.02576148222234203, 0.04218088847394464, 0.06511143858394139, 0.004529491379752445, 0.0008492796337035834, 0.23266476428489524, 0.5475377452837867, 0.07290162614260051, 0.029470870142753396, 0.006204393714263873, 0.021715377999923555, 0.055839543428374855, 0.010857688999961777, 0.00930659057139581, 0.004653295285697905, 0.00930659057139581, 0.9670515019312951, 0.9966248687140499, 0.9870436790489383, 0.9699452125509781, 0.9646093197745638, 0.9573891616542162, 0.019147783233084324, 0.3681821213866277, 0.13942991579138564, 0.06753636546145242, 0.04683973733616861, 0.053375514638889815, 0.023964516776644407, 0.06426847681009182, 0.014160850822562604, 0.016339443256803005, 0.056643403290250416, 0.049018329770409014, 0.03158959029648581, 0.06862566167857262, 0.9873594672548605, 0.11532759334488835, 0.138393112013866, 0.04997529044945161, 0.06150804978394045, 0.6266132571738934, 0.003844253111496278, 0.6350442297982791, 0.36464227356021456, 0.9701713549301335, 0.20194149727265526, 0.3653833565760633, 0.007990490899277726, 0.14673446924128186, 0.002179224790712107, 0.0007264082635707024, 0.2477052178776095, 0.02469788096140388, 0.0029056330542828095, 0.9696107379567634, 0.30645392933877863, 0.4660567811286392, 0.05182979207608874, 0.01398581690942077, 0.0012340426684783032, 0.0008226951123188689, 0.0024680853369566064, 0.03578723738587079, 0.0872056819058001, 0.026737591150363237, 0.0053475182300726475, 0.00041134755615943443, 0.00041134755615943443, 0.0008226951123188689, 0.11373033473910207, 0.35613367593485246, 0.11456048316785464, 0.0008301484287525699, 0.0008301484287525699, 0.2365923021944824, 0.11539063159660722, 0.005811039001267989, 0.04233756986638106, 0.0041507421437628495, 0.009131632716278268, 0.125411765007538, 0.6839833141191257, 0.15921068039964045, 0.002668335425692298, 0.028462244540717843, 0.9864014853383768, 0.9724411508181103, 0.9324013980791369, 0.0470477769672959, 0.008554141266781072, 0.002138535316695268, 0.008554141266781072, 0.08550085352973844, 0.12540125184361636, 0.11400113803965124, 0.02850028450991281, 0.6441064299240296, 0.9911848128523771, 0.9982552689105556, 0.9918183643583383, 0.05357175282763779, 0.6607182848741995, 0.0952386716935783, 0.16666767546376202, 0.002976208490424322, 0.01488104245212161, 0.9885425125285878, 0.9978262987938126, 0.9969648021271488, 0.9553880475718634, 0.9832036755318465, 0.9767220137817715, 0.05975844321873026, 0.936215610426774, 0.16972945506717052, 0.00595541947604107, 0.00595541947604107, 0.07444274345051338, 0.634252174198374, 0.04466564607030803, 0.05657648502239017, 0.002977709738020535, 0.22529340232316752, 0.22529340232316752, 0.4703493837974901, 0.007905031660462018, 0.017127568597667706, 0.0065875263837183486, 0.032937631918591746, 0.011857547490693027, 0.008360097200237306, 0.6688077760189844, 0.07524087480213575, 0.24453284310694118, 0.9739226100914885, 0.9557920874325823, 0.9679424321254362, 0.1693572053284346, 0.8287212580738066, 0.1668060173826007, 0.3075964173752545, 0.07345586086573241, 0.009181982608216552, 0.31983906085287656, 0.04590991304108276, 0.006121321738811035, 0.027545947824649655, 0.04131892173697448, 0.19224095171871458, 0.8021087985504987, 0.9893039776263002, 0.08190931838035244, 0.3042346111270234, 0.6084692222540468, 0.06859030117217065, 0.9112711441445529, 0.12290610424731968, 0.09024574088089907, 0.20799494564931023, 0.032660363366420614, 0.00859483246484753, 0.040395712584783396, 0.05586641102150895, 0.03180088011993586, 0.05930434400744796, 0.06102331050041747, 0.09454315711332284, 0.013751731943756049, 0.1813509650082829, 0.9955265299413487, 0.02583839507577243, 0.04306399179295405, 0.8871182309348534, 0.034451193434363245, 0.9616695678631777, 0.321327518469691, 0.39400874288545445, 0.15683843163401584, 0.12432314702696379, 0.3469760033739297, 0.09662622878767663, 0.015372354579857646, 0.49191534655544467, 0.013176303925592268, 0.008784202617061511, 0.024156557196919157, 0.9598059204488891, 0.05293970294272921, 0.9352680853215494, 0.9960643119636426, 0.0356406657478353, 0.0712813314956706, 0.7751844800154178, 0.11583216368046474, 0.9802720810057225, 0.9950096364893449, 0.16935297496065885, 0.016935297496065885, 0.05268759220998275, 0.03198889527034667, 0.46854323072448945, 0.0018816997217850982, 0.08655818720211451, 0.02069869693963608, 0.14677257829923765, 0.0018816997217850982, 0.9775394432642804, 0.9565782957863167, 0.983189550358376, 0.9839846765534238, 0.9907206731346813, 0.017389694044738318, 0.2492522813079159, 0.034779388089476636, 0.034779388089476636, 0.5970461622026823, 0.06376221149737384, 0.018687034453137224, 0.20555737898450946, 0.5839698266605383, 0.09810693087897043, 0.02335879306642153, 0.07007637919926459, 0.9836177327815865, 0.9746213784523514, 0.9201747193807482, 0.05772313737812812, 0.020372872015809923, 0.9933570166028562, 0.9787701375784446, 0.2155950325773711, 0.13267386620145913, 0.6302008644569308, 0.9869732295428185, 0.006602363741113278, 0.7922836489335934, 0.03466240964084471, 0.006602363741113278, 0.004951772805834959, 0.03466240964084471, 0.08252954676391598, 0.03631300057612303, 0.9604438706311403, 0.1019472723391866, 0.8903395117622296, 0.9862536894811292, 0.9789023478902361, 0.012880294051187317, 0.9845150363235187, 0.9814649981164463, 0.9842700168429913, 0.004503007174104125, 0.12008019130944335, 0.5793869230680642, 0.04953307891514538, 0.24466338979299082, 0.004035802230341504, 0.03699485377813046, 0.06793600421074865, 0.03363168525284587, 0.2394575990002626, 0.0006726337050569173, 0.0026905348202276693, 0.4378845419920532, 0.0060537033455122565, 0.07331707385120399, 0.09753188723325301, 0.9836922544087937, 0.9695726271922879, 0.9788000064294238, 0.11539404366727814, 0.19040017205100893, 0.07789097947541275, 0.562545962877981, 0.054812170741957114, 0.09187741084207263, 0.8820231440838973, 0.8310329644426369, 0.16740232377261752, 0.9950665564010344, 0.9835619107186809, 0.09923273986583767, 0.09923273986583767, 0.2576234592670785, 0.0610663014559001, 0.013358253443478147, 0.011449931522981268, 0.08396616450186263, 0.005724965761490634, 0.04007476033043444, 0.3053315072795005, 0.01908321920496878, 0.001908321920496878, 0.8285461098921708, 0.16856627752978648, 0.9719424514618785, 0.9793843473626741, 0.08345288639625335, 0.8762553071606602, 0.9682613288929635, 0.9799363114004953, 0.983315250040097, 0.9857066216818852, 0.9879696410019977, 0.9953372533769851, 0.986822198431192, 0.9125413693853223, 0.08716282085746743, 0.9966859242446449, 0.9841702863054255, 0.9857033448527115, 0.21869464652422102, 0.60026327804725, 0.14681598647779873, 0.000764666596238535, 0.000764666596238535, 0.00611733276990828, 0.002293999788715605, 0.00611733276990828, 0.015293331924770701, 0.00305866638495414, 0.9755498359858681, 0.9832111029617593, 0.956344627597366, 0.9893124054050922, 0.0980807927055533, 0.9007649812843344, 0.005882323435958437, 0.07058788123150124, 0.9205836177274954, 0.0800549023225245, 0.9181807164338525, 0.9966670122853121, 0.1823167772405937, 0.00847985010421366, 0.038159325468961475, 0.014839737682373906, 0.337074041642493, 0.16959700208427322, 0.11871790145899125, 0.00847985010421366, 0.002119962526053415, 0.12083786398504466, 0.976008313220227, 0.420505896493913, 0.5734171315826087, 0.9952528776793119, 0.9927468397141862, 0.9540947267522432, 0.9921393170010693, 0.02952672054242412, 0.08858016162727235, 0.20668704379696884, 0.05905344108484824, 0.5905344108484823, 0.9247008119923796, 0.9595115817698753, 0.009315646424950245, 0.01676816356491044, 0.013973469637425368, 0.9895097452696806, 0.002455359169403674, 0.007366077508211021, 0.9979456705705183, 0.05771011856719344, 0.9233618970750951, 0.1461662436167797, 0.015385920380713652, 0.02307888057107048, 0.7308312180838985, 0.007692960190356826, 0.015385920380713652, 0.06154368152285461, 0.03035794813766984, 0.05059658022944973, 0.9056787861071502, 0.010119316045889948, 0.9672329360610968, 0.38034509050883736, 0.21050726018373153, 0.0933678460134646, 0.0151794350880786, 0.0022912354849929963, 0.01832988387994397, 0.13002761377335254, 0.0011456177424964981, 0.00028640443562412453, 0.037805385502384437, 0.11026570771528794, 0.00028640443562412453, 0.9843647325181526, 0.05144042249681601, 0.20576168998726405, 0.03354810162835827, 0.12897381292679957, 0.029820534780762905, 0.008946160434228871, 0.13046483966583772, 0.07455133695190727, 0.0246019411941294, 0.2072527167263022, 0.023110914455091253, 0.0007455133695190726, 0.082006470647098, 0.933085610789166, 0.11548409102989858, 0.13502755258880447, 0.04797031473549633, 0.005330034970610704, 0.03020353150012732, 0.026650174853053515, 0.35888902135445405, 0.17056111905954252, 0.06751377629440224, 0.028426853176590418, 0.0017766783235369011, 0.008883391617684505, 0.0017766783235369011, 0.9974957447974017, 0.9889503170591277, 0.14305011639098647, 0.5665685712178441, 0.13967097978332538, 0.1486820107370883, 0.18003554603092384, 0.8117392163148671, 0.006317036702839433, 0.9838880480096778, 0.9887985523023864, 0.9982056568969573, 0.9926406242938552, 0.0899919725048089, 0.20283904913782325, 0.024283548136218275, 0.0014284440080128398, 0.031425768176282474, 0.00428533202403852, 0.4171056503397492, 0.03428265619230816, 0.12284618468910422, 0.05999464833653927, 0.011427552064102718, 0.03125914306570514, 0.06946476236823364, 0.006946476236823363, 0.6529687662613962, 0.23618019205199436, 0.8982191666931613, 0.08834942623211423, 0.30492004221344476, 0.08744030622297314, 0.002242059133922388, 0.06053559661590448, 0.06501971488374926, 0.08295618795512837, 0.11658707496396419, 0.004484118267844776, 0.19730120378517016, 0.08071412882120597, 0.9904565274281754, 0.02690424793914826, 0.007686927982613788, 0.007686927982613788, 0.0614954238609103, 0.7763797262439925, 0.07302581583483099, 0.011530391973920681, 0.03843463991306894, 0.700015016463042, 0.0489613527582846, 0.041021673932616826, 0.02911215569411517, 0.06087087099678626, 0.070133829626732, 0.046314793149728674, 0.005293119217111849, 0.2715320125622302, 0.3601694616300513, 0.10524100580963203, 0.0012771966724469906, 0.01762531407976847, 0.03192991681117476, 0.06564790896377531, 0.009962134045086526, 0.007407740700192545, 0.01890251075221546, 0.00945125537610773, 0.0817405870366074, 0.0005108786689787962, 0.0135382847279381, 0.0015326360069363887, 0.0038315900173409717, 0.08462315118208509, 0.1974540194248652, 0.0669933280191507, 0.007051929265173757, 0.05876607720978131, 0.03055836014908628, 0.0011753215441956263, 0.12693472677312764, 0.0893244373588676, 0.31498617384442784, 0.0223311093397169, 0.19427321569766257, 0.041629974792356264, 0.0023127763773531256, 0.03469164566029689, 0.06475773856588753, 0.06475773856588753, 0.08325994958471253, 0.050881080301768765, 0.42786362981032827, 0.03469164566029689, 0.09177304611955447, 0.02622087031987271, 0.09177304611955447, 0.7997365447561176, 0.041282072079624255, 0.02476924324777455, 0.041282072079624255, 0.029487194342588754, 0.015333341058146151, 0.047179510948142, 0.01061538996333195, 0.7088721519958336, 0.035384633211106506, 0.03420514543740295, 0.0011794877737035501, 0.00589743886851775, 0.0047179510948142005, 0.2971808080049421, 0.4255548305104784, 0.014151467047854388, 0.02628129594601529, 0.01010819074846742, 0.02021638149693484, 0.09602781211044048, 0.019205562422088096, 0.02223801964662832, 0.003032457224540226, 0.06368160171534475, 0.002021638149693484, 0.9697472304024254, 0.9484157889088413, 0.04184187304009594, 0.07519279789621473, 0.26317479263675153, 0.10555912012353222, 0.06796272117542486, 0.07808482858453068, 0.011568122753263804, 0.3904241429226534, 0.008676092064947854, 0.9914306289936796, 0.10694613244969739, 0.2495409757159606, 0.6416767946981844, 0.9525802806119009, 0.07971234669609119, 0.024526875906489595, 0.05825133027791279, 0.030658594883111994, 0.042922032836356795, 0.03372445437142319, 0.11956852004413678, 0.04598789232466799, 0.15022711492724877, 0.4138910309220119, 0.2553157712153235, 0.43977298037529294, 0.0427400850492612, 0.04836378045047979, 0.05848643217267323, 0.03824112872828634, 0.0854801700985224, 0.007873173561706012, 0.0213700425246306, 0.001124739080243716, 0.9963144888295169, 0.9641690765482497, 0.9791881865252837, 0.01830258292570624, 0.0017373942918032328, 0.03996006871147435, 0.16678985201311036, 0.6827959566786705, 0.10771844609180044, 0.991176648192682, 0.986561096288586, 0.9678798553205509, 0.3648812818337854, 0.2668679587880079, 0.07714910081326047, 0.05240316281655428, 0.05725530752179079, 0.053373591757601584, 0.004852144705236507, 0.001940857882094603, 0.025231152467229838, 0.02474593799670619, 0.028142439290371742, 0.04221365893555761, 0.0009704289410473015, 0.9841795232684473, 0.04773252063486992, 0.1034204613755515, 0.05171023068777575, 0.003977710052905827, 0.13524214179879812, 0.6563221587294614, 0.9891178418435039, 0.4631342276817228, 0.12630933482228804, 0.04117776849517815, 0.030998994260415014, 0.062460660076955624, 0.04256578316355494, 0.04580448405643413, 0.05459524362282047, 0.09253431122511944, 0.0032387008928791805, 0.00046267155612559724, 0.01017877423476314, 0.02313357780627986, 0.0009253431122511945, 0.001850686224502389, 0.00046267155612559724, 0.9714626297551218, 0.9871879672582641, 0.9899131207182682, 0.04674466676290602, 0.9407364186034837, 0.011686166690726505, 0.9996808131220549, 0.34675496914197573, 0.17771192168526256, 0.03191721875056822, 0.021672185571373483, 0.0382218545531496, 0.08235430517121924, 0.013791390818146763, 0.1639205308671158, 0.030341059799922878, 0.044526490355730974, 0.008668874228549395, 0.031129139275245552, 0.005910596064920041, 0.0023642384259680163, 0.3196560692650318, 0.2531789221169942, 0.031116962494826105, 0.0014144073861284594, 0.17962973803831433, 0.02263051817805535, 0.19235940451347047, 0.9897299616222602, 0.7549783438339629, 0.09064707088795937, 0.028560036033192675, 0.00993392557676267, 0.00993392557676267, 0.007450444182572002, 0.024834813941906675, 0.04346092439833668, 0.028560036033192675, 0.8703561562106455, 0.061292687057087715, 0.008172358274278362, 0.05312032878280935, 0.0032562018755786606, 0.045586826258101246, 0.9475547457933902, 0.026774100713324357, 0.9638676256796768, 0.0954877437031999, 0.8525691402071419, 0.04774387185159995, 0.990951022060573, 0.7624566487657993, 0.003746715718750857, 0.06182080935938914, 0.17047556520316398, 0.9151657834471456, 0.014412059581844812, 0.04323617874553443, 0.021618089372767216, 0.19866651626172502, 0.10301226769126483, 0.4175675851056628, 0.2575306692281621, 0.020234552582212736, 0.0018395047802011576, 0.9831993444248082, 0.012286611173818395, 0.006143305586909197, 0.09829288939054716, 0.055289750282182776, 0.08600627821672877, 0.04300313910836438, 0.06143305586909197, 0.07986297262981956, 0.15972594525963912, 0.055289750282182776, 0.33788180728000583, 0.9692179230959328, 0.9941615962893671, 0.38040515956936105, 0.294975187293191, 0.028208009713829738, 0.020954521501702093, 0.04835658808085098, 0.04996847435021268, 0.015312919558936143, 0.020148578367021244, 0.028208009713829738, 0.0016118862693616993, 0.11122015258595726, 0.0008059431346808496, 0.05915651286634763, 0.10921202375325716, 0.031853506928033334, 0.01820200395887619, 0.013651502969157145, 0.031853506928033334, 0.5051056098588144, 0.004550500989719048, 0.2184240475065143, 0.2649283563694522, 0.11154878162924303, 0.03718292720974768, 0.5809832376523075, 0.21913552416812368, 0.6917290040005831, 0.07656542410693477, 0.01056074815268066, 0.9949062619209487, 0.11178705965948178, 0.8756653006659406, 0.010909393010930279, 0.9436624954454691, 0.043637572043721116, 0.9862278365013527, 0.12176101916659478, 0.8236774825975529, 0.05013689024506844, 0.9682577548444335, 0.028903216562520404, 0.15208931653888544, 0.40919268497366795, 0.0054317613049601945, 0.4128138591769748, 0.012674109711573785, 0.00905293550826699, 0.13742493247635112, 0.8218010962085798, 0.01099399459810809, 0.030233485144797248, 0.9292071289261985, 0.060931615011554, 0.9410121146588236, 0.053553534980583455, 0.965538736017521, 0.9678295973617312, 0.029217497278844717, 0.9922656273273147, 0.9847315502948437, 0.9813676754020979, 0.9951664944447383, 0.9717259368316546, 0.9604545065240384, 0.03370015812365047, 0.9521091697067088, 0.9296352112905544, 0.06197568075270363, 0.9927372539058663, 0.32756724052895964, 0.41017530556031534, 0.05539037886495528, 0.01671261431270202, 0.02196515023955123, 0.017667620844856423, 0.002865019596463204, 0.004775032660772007, 0.001432509798231602, 0.028650195964632037, 0.001432509798231602, 0.08547308462781891, 0.003820026128617605, 0.018622627377010825, 0.00047750326607720064, 0.0023875163303860034, 0.057980258367471754, 0.03313157620998386, 0.9028354517220601, 0.9960590309151363, 0.13157785921507115, 0.02530343446443676, 0.8400740242193003, 0.4827857310795902, 0.07365764175081362, 0.059801253698680355, 0.01312710447044203, 0.048132716391620776, 0.07074050742404872, 0.0021878507450736715, 0.02844205968595773, 0.06709408951559259, 0.0021878507450736715, 0.1254367760508905, 0.012397820888750806, 0.01312710447044203, 0.9833123452821828, 0.996352269138636, 0.9874028825226597, 0.1347942926100388, 0.04493143087001294, 0.017763588948609767, 0.00417966798790818, 0.00835933597581636, 0.11912053765538314, 0.13270445861608474, 0.2894420081626415, 0.03030259291233431, 0.20062406341959266, 0.0052245849848852255, 0.00208983399395409, 0.011494086966747495, 0.9693260379449105, 0.028720771494664014, 0.5283316873397719, 0.1979147273209304, 0.09392563330484834, 0.0033544869037445833, 0.008386217259361457, 0.08721665949735917, 0.08050768568986999, 0.0016772434518722917, 0.2434385166519302, 0.7303155499557906, 0.9948815195647216, 0.992640466388299, 0.9935310817457556, 0.1841720537586039, 0.3041809404013071, 0.23407673929319336, 0.03208158355795036, 0.014852584980532574, 0.08911550988319544, 0.01841720537586039, 0.001782310197663909, 0.019605412174302998, 0.003564620395327818, 0.014852584980532574, 0.023170032569630815, 0.000594103399221303, 0.058816236522908995, 0.07253032614445355, 0.008058925127161505, 0.9106585393692501, 0.0599359051684501, 0.1569374359015996, 0.13327852596668507, 0.15299428424578052, 0.01340671562978489, 0.07255399046707117, 0.07491988146056262, 0.04968371086332048, 0.03982583172377276, 0.052443917022393836, 0.0185328127823497, 0.133672841132267, 0.0414030923861004, 0.09245559741493434, 0.09823407225336774, 0.12712644644553472, 0.10208638881232333, 0.2658098425679362, 0.026966215912689183, 0.04815395698694497, 0.053932431825378366, 0.16950192859404628, 0.01733542451530019, 0.16927532686943014, 0.8294491016602077, 0.9952627178840643, 0.9645293040150901, 0.016482969750129445, 0.06593187900051778, 0.567014159404453, 0.009889781850077668, 0.16482969750129445, 0.17142288540134623, 0.9640390458049938, 0.9807412901733139, 0.9808158779074325, 0.9899911485707916, 0.9868783989178995, 0.6147207350423293, 0.07720564893014983, 0.0713567361324112, 0.04620641110213512, 0.03275391166733629, 0.012282716875251109, 0.007018695357286348, 0.052055323899873746, 0.004094238958417036, 0.04796108494145671, 0.02982945526846698, 0.003509347678643174, 0.9769814198036878, 0.9971186233709531, 0.9410359707599114, 0.9891470439432125, 0.32912569176746653, 0.3164670113148717, 0.34811371244635886, 0.993777765299101, 0.061717247935850254, 0.06097366663541832, 0.07807603654535272, 0.04610204062677971, 0.08179394304751238, 0.23348452833562625, 0.02974325201727723, 0.017845951210366338, 0.16358788609502475, 0.020820276412094062, 0.10038347555831065, 0.005205069103023516, 0.10038347555831065, 0.9709802312980284, 0.8605632403799718, 0.13587840637578502, 0.9612923140542206, 0.9876874197805499, 0.09026824889910226, 0.5388740919128227, 0.08206204445372933, 0.06838503704477444, 0.11762226371701204, 0.002735401481790978, 0.002735401481790978, 0.06291423408119248, 0.03282481778149173, 0.06661778484207352, 0.926592825530659, 0.3499139749524612, 0.27347567661498, 0.08510986999761562, 0.020233667206980315, 0.015094958075048808, 0.048817736753349335, 0.10678879914795167, 0.03693447188575772, 0.005138709131931509, 0.015255542735421667, 0.016379635358031684, 0.009956248943117299, 0.009956248943117299, 0.004014616509321492, 0.0017664312641014561, 0.0008029233018642983, 0.9712273525822862, 0.15935299646530438, 0.09738238672879711, 0.0761353205334232, 0.023017655044988407, 0.014164710796915943, 0.10269415327764059, 0.10977650867609856, 0.04249413239074783, 0.05488825433804928, 0.003541177699228986, 0.31693540408099424, 0.9838198225499825, 0.9908336872339097, 0.967618477767102, 0.9835057027425179, 0.9937777478251887, 0.9886867811486022, 0.9840675143574997, 0.12874039816804286, 0.1150861135138565, 0.7529362680737053, 0.9505544321553948, 0.9859313892904567, 0.1831076739440021, 0.12207178262933473, 0.07847471740457233, 0.12207178262933473, 0.4621288913824815, 0.02615823913485744, 0.03793652831786527, 0.10622227929002276, 0.018968264158932636, 0.8383972758248225, 0.976938809201262, 0.017602501066689404, 0.9864236884528078, 0.9618730151827899, 0.9771324490196378, 0.07821495132387275, 0.9125077654451821, 0.9679713447306246, 0.981344831338551, 0.9950977125959423, 0.9847494563682326, 0.994799771064142, 0.9879259758466994, 0.9908215556521188, 0.980979535728207, 0.5613540534113587, 0.05119032093968123, 0.029571107727291584, 0.1394066507143746, 0.012673331883124965, 0.13717018038205844, 0.04448090994273272, 0.015406795622622507, 0.0007454901107720568, 0.005963920886176454, 0.001739476925134799, 0.18325407865850776, 0.3502189058807037, 0.06108469288616925, 0.3583635315988596, 0.0407231285907795, 0.0316899155607006, 0.06126717008402117, 0.09718240771948186, 0.11619635705590221, 0.008450644149520162, 0.06126717008402117, 0.6147843618775918, 0.006337983112140121, 0.9727848760173972, 0.9932780098983633, 0.9777220637579679, 0.025462489224844155, 0.3946685829850844, 0.5729060075589935, 0.9758332045673451, 0.9720487842728263, 0.025248020370722758, 0.9070393678912382, 0.9777725140563553, 0.9537863067247018, 0.9954816731016264, 0.9748564000421914, 0.9883872094669364, 0.17724525035257682, 0.6802385283801596, 0.1389219529790467, 0.9775635122454841, 0.9833051663643904, 0.9840358376315647, 0.18627401046607858, 0.802411122007723, 0.9796347315363907, 0.05818581955444482, 0.02000137547184041, 0.0036366137221528014, 0.0018183068610764007, 0.03091121663829881, 0.8727872933166724, 0.007273227444305603, 0.0036366137221528014, 0.025296375431282197, 0.04553347577630795, 0.06071130103507727, 0.06071130103507727, 0.8094840138010303, 0.07235325828676187, 0.9245138558864017, 0.9980355301259222, 0.992587895437443, 0.9919077160236758, 0.1460929783583048, 0.010098592974076366, 0.13195494819459785, 0.004039437189630547, 0.020870425479757825, 0.008078874379261095, 0.20264509901313243, 0.015484509226917097, 0.01615774875852219, 0.0013464790632101823, 0.44366485132775507, 0.5886044944739823, 0.1698817849904583, 0.012761073050926445, 0.023927011970487085, 0.021534310773438377, 0.03828321915277934, 0.02552214610185289, 0.003987835328414514, 0.004785402394097417, 0.03987835328414514, 0.008773237722511932, 0.01993917664207257, 0.0015951341313658056, 0.03987835328414514, 0.9783650222298944, 0.05636669524384021, 0.9206560223160568, 0.845573156864049, 0.1525242719659835, 0.9502053267006698, 0.019878772525118615, 0.027830281535166063, 0.9730610291686274, 0.3965035517153445, 0.04253152284835875, 0.02057976912017359, 0.00960389225608101, 0.0027439692160231453, 0.16875410678542344, 0.05213541510443977, 0.05487938432046291, 0.23460936796997894, 0.010975876864092581, 0.004115953824034718, 0.23893956591033252, 0.005369428447423203, 0.03758599913196242, 0.005369428447423203, 0.09664971205361765, 0.5100957025052043, 0.0026847142237116017, 0.05637899869794363, 0.04564014180309722, 0.40867580757137717, 0.0021738074870817936, 0.010869037435408967, 0.5608423316671027, 0.004347614974163587, 0.010869037435408967, 0.04165355091405877, 0.36132033699869587, 0.09396266136427212, 0.07071416783084396, 0.1075242825921052, 0.09783741028651013, 0.1685515781173541, 0.0009686872305595064, 0.057152546603010876, 0.976560075416544, 0.9781132401499867, 0.9675566616755942, 0.961340866268562, 0.03678173749201454, 0.01931089030378782, 0.49932444928365644, 0.19862630026753184, 0.06896746537067078, 0.013793493074134156, 0.11310664320790008, 0.016552191688960986, 0.06896746537067078, 0.9804320159587975, 0.9973414453025736, 0.9953250823025643, 0.976198769713578, 0.2893551528746267, 0.40720509924409387, 0.038325185811208834, 0.007665037162241767, 0.026827630067846185, 0.07281785304129679, 0.038325185811208834, 0.014371944679203313, 0.06323655658849457, 0.04215770439232972, 0.216896149673105, 0.3428965140785793, 0.2770754281951226, 0.008149277299856546, 0.029462771776404436, 0.008149277299856546, 0.0062686748460434975, 0.0883883153292133, 0.02256722944575659, 0.19584636366970995, 0.23965410291161876, 0.08439432118661844, 0.0528269796740665, 0.4245485317708515, 0.0019326943783195061, 0.9582566870076838, 0.9869443808965431, 0.9837848841875667, 0.9863915590867848, 0.9962444629741695, 0.019423381413833613, 0.11411236580627247, 0.36540236284774485, 0.35447671080246346, 0.057056182903136236, 0.0024279226767292016, 0.08497729368552207, 0.9575573486268073, 0.9912949643976694, 0.9920561315286756, 0.9849184204794984, 0.6426746699404061, 0.08538392043493967, 0.040396693539111246, 0.007344853370747499, 0.036724266853737496, 0.032133733497020305, 0.01377160007015156, 0.0908925604630003, 0.049577760252545615, 0.9775789383936018, 0.8322297489333084, 0.16060574102221742, 0.985808132754191, 0.9963055678726537, 0.9953857727540816, 0.9692419430183467, 0.4778282930087651, 0.05145843155479009, 0.09372785747479623, 0.0055134033808703665, 0.05421513324522527, 0.011945707325219128, 0.046863928737398114, 0.0009189005634783944, 0.1782667093148085, 0.04135052535652775, 0.03675602253913578, 0.37610556256221733, 0.23781245192937453, 0.0400662283141881, 0.042651146269942174, 0.031019015469048852, 0.09951934129653174, 0.0180944256902785, 0.007754753867262213, 0.144755405522228, 0.0012924589778770357, 0.3952011621016159, 0.37071365463920936, 0.009522919568713635, 0.0006802085406224025, 0.008842711028091232, 0.006802085406224025, 0.05985835157477142, 0.01632500497493766, 0.1319604568807461, 0.6752705691613187, 0.19554710231963185, 0.01969539160053846, 0.04923847900134615, 0.004220441057258242, 0.0014068136857527472, 0.0070340684287637355, 0.036577155829571426, 0.00984769580026923, 0.9742555907526236, 0.9850367197426877, 0.8630915044804529, 0.13468625388389233, 0.16656074535371984, 0.8258636957121942, 0.9431821587420887, 0.0433660403900998, 0.16479095348237924, 0.09540528885821956, 0.6938566462415968, 0.43561138016707623, 0.11201435490010532, 0.031115098583362588, 0.012446039433345036, 0.4076077914420499, 0.030750891270849262, 0.14496848741971793, 0.1757193786905672, 0.14496848741971793, 0.00878596893452836, 0.4920142603335882, 0.9774143280037982, 0.008392392760112093, 0.05874674932078465, 0.06713914208089675, 0.8560240615314334, 0.014037228897004218, 0.47726578249814344, 0.034090413035581676, 0.008021273655430983, 0.008021273655430983, 0.09424996545131405, 0.3649679513221097, 0.976089080259328, 0.13127541762216774, 0.08751694508144517, 0.043758472540722584, 0.7251404021034028, 0.012502420725920739, 0.37890120858155135, 0.006014304898119862, 0.08420026857367807, 0.06014304898119863, 0.05412874408307876, 0.0481144391849589, 0.3548439889890719, 0.9700188169857568, 0.01082541279604102, 0.07307153637327689, 0.07577788957228715, 0.0838969491693179, 0.01082541279604102, 0.07307153637327689, 0.10013506836337945, 0.02706353199010255, 0.01623811919406153, 0.48984992902085617, 0.037888944786143575, 0.07183792111088108, 0.05986493425906757, 0.8500820664787594, 0.9801429473627049, 0.9679421912252092, 0.025472162926979187, 0.2868804949429539, 0.2567689926111553, 0.020256828841391784, 0.0010949637211563126, 0.22282511725530962, 0.011497119072141283, 0.11989852746661624, 0.0005474818605781563, 0.0514632948943467, 0.01642445581734469, 0.005474818605781563, 0.006569782326937877, 0.0005474818605781563, 0.015513293673212702, 0.0044323696209179145, 0.9019872178567956, 0.07313409874514559, 0.9722778138990353, 0.995431431526966, 0.9490471193261752, 0.8800630669504013, 0.03259492840557041, 0.08148732101392604, 0.8689860446857266, 0.1139653829096035, 0.9606690621282802, 0.9810151331873944, 0.053816490378252896, 0.9328191665563835, 0.9948166012858012, 0.2596830551882996, 0.03847156373159994, 0.14907730945994976, 0.021640254599024966, 0.5289840013094992, 0.003372823341850743, 0.16639261819797, 0.3429037064214922, 0.003372823341850743, 0.028106861182089524, 0.09219050467725365, 0.019112665603820876, 0.03372823341850743, 0.03485250786579101, 0.11917309141205959, 0.04497097789134324, 0.08656913244083574, 0.02473403784023878, 0.9776204007650674, 0.2748725678442278, 0.03387318512827858, 0.05164272486770341, 0.009995366103426467, 0.4775563804970423, 0.0749652457756985, 0.006663577402284311, 0.00944006798656944, 0.019435434089995908, 0.03998146441370587, 0.001110596233714052, 0.6875368804081694, 0.053114437113077465, 0.2567197793798744, 0.16476146844589326, 0.061785550667209976, 0.7620217915622564, 0.05705494680587225, 0.105101217800291, 0.06005783874302343, 0.7747461197850022, 0.06256852626096822, 0.9280998062043618, 0.9976528963709196, 0.988618784486553, 0.9823068161832124, 0.018212762947977624, 0.11838295916185455, 0.7672126391835574, 0.07512764716040769, 0.018212762947977624, 0.7043237165956241, 0.11704948095941667, 0.004560369388029221, 0.0015201231293430735, 0.002533538548905123, 0.12667692744525613, 0.006587200227153319, 0.03394941655532865, 0.002533538548905123, 0.399136079382276, 0.08160774857258432, 0.034126876675807986, 0.007418886233871301, 0.3264309942903373, 0.028191767688710945, 0.010386440727419823, 0.029675544935485205, 0.08309152581935858, 0.07442208121247137, 0.9116704948527744, 0.009302760151558922, 0.9807230051683857, 0.4857674658508881, 0.4967081745412234, 0.015316992166469446, 0.9935877420059919, 0.9925751940728587, 0.990796840049437, 0.9915953623661057, 0.008475174037317143, 0.9759440577768025, 0.0188055816502371, 0.959084664162092, 0.9941241321546169, 0.005316171829703834, 0.9812400288120104, 0.9966427294102892, 0.04796615439524354, 0.935340010707249, 0.10450584697974878, 0.11756907785221737, 0.09688562897080875, 0.0533415260625801, 0.16437898847856316, 0.0870882058164573, 0.07511357751669444, 0.06313894921693156, 0.19485986051432325, 0.0021772051454114327, 0.0010886025727057163, 0.019594846308702896, 0.019594846308702896, 0.008096769647231272, 0.01214515447084691, 0.06882254200146581, 0.008096769647231272, 0.016193539294462544, 0.41900782924421837, 0.4169836368324106, 0.04858061788338764, 0.029238490457631796, 0.9112662859295243, 0.05360389917232496, 0.03752328910206795, 0.3244660881178817, 0.6356886624350335, 0.47395908145092863, 0.1738757932909058, 0.04494439565482944, 0.0068097569173984, 0.00136195138347968, 0.04585236324381589, 0.09624456443256404, 0.011803578656823892, 0.0835330181867537, 0.03314081699800554, 0.00272390276695936, 0.02179122213567488, 0.0031778865614525867, 0.0009079675889864533, 0.9673410633149585, 0.013792428737469756, 0.6316932361761148, 0.2482637172744556, 0.02206788597995161, 0.027584857474939512, 0.038618800464915316, 0.008275457242481854, 0.008275457242481854, 0.9874916207784825, 0.0036834779237164663, 0.0024556519491443106, 0.09699825199120027, 0.009822607796577242, 0.03437912728802035, 0.02701217144058742, 0.6937216756332678, 0.008594781822005088, 0.1240104234317877, 0.9925288643087927, 0.9921466080861844, 0.1606528612364097, 0.14604805566946338, 0.14896901678285265, 0.0058419222267785354, 0.040893455587449744, 0.4293812836682223, 0.06134018338117462, 0.0058419222267785354, 0.11020449980616426, 0.05510224990308213, 0.39555543680426813, 0.43688212423157974, 0.1064230539876436, 0.04741621217271249, 0.2528864649211333, 0.02002017847292305, 0.007375855226866387, 0.044255131361198324, 0.04530882496503638, 0.032664501718979715, 0.07270485866482582, 0.005268468019190277, 0.30557114511303607, 0.060060535418769156, 0.9897181453512924, 0.9619315994509106, 0.9797102005719199, 0.9940212824086375, 0.9711377202881816, 0.31164883545594885, 0.6765060086726695, 0.3054875620681483, 0.6913665878384408, 0.9908255672496333, 0.9782712449687972, 0.05915480045386795, 0.14985882781646548, 0.015774613454364785, 0.04338018699950316, 0.7256322189007801, 0.007887306727182393, 0.02786479025140211, 0.0975267658799074, 0.04179718537710317, 0.7941465221649602, 0.018576526834268074, 0.018576526834268074, 0.1803466189800683, 0.16973799433418194, 0.023338974220950014, 0.06789519773367277, 0.004243449858354548, 0.48587500878159573, 0.05092139830025458, 0.01697379943341819, 0.9920357990154676, 0.1659692785237739, 0.13040443312582237, 0.6994419594930472, 0.9904700194531463, 0.9866824259437211, 0.1119531762523892, 0.4584749122716891, 0.04797993267959537, 0.3785083578056968, 0.021677047865203837, 0.9537901060689689, 0.05292509675787384, 0.05292509675787384, 0.8864953706943868, 0.9885301494532182, 0.6472653369606833, 0.09163093625648228, 0.24369929855447414, 0.015596755107486345, 0.8971893845140968, 0.09581634203548607, 0.9641357407658574, 0.3998542748770438, 0.2174465257707635, 0.0494665082322116, 0.003091656764513225, 0.0123666270580529, 0.12778847959988, 0.0494665082322116, 0.14015510665793288, 0.42587287089094167, 0.27795754670306033, 0.04622353880871292, 0.007395766209394067, 0.015407846269570973, 0.15161320729257838, 0.0012326277015656778, 0.044374597256364404, 0.030815692539141945, 0.18089987057208237, 0.8158229457172342, 0.9487494325622052, 0.06303675049327837, 0.04691107013453274, 0.01465970941704148, 0.00732985470852074, 0.001465970941704148, 0.04251315730942029, 0.12167558816144428, 0.5922522604484758, 0.0674346633183908, 0.03518330260089955, 0.008795825650224888, 0.2984660544772892, 0.3251943578633151, 0.02227358615502158, 0.351922661249341, 0.9883733593841701, 0.07962551899423116, 0.8667283504314587, 0.0009152358505084042, 0.0009152358505084042, 0.05033797177796223, 0.0009152358505084042, 0.9940026039902999, 0.054651591627323755, 0.9290770576645039, 0.9411833626468197, 0.9812450339083814, 0.020407010196253027, 0.9744347368710821, 0.14977718955081853, 0.07988116776043655, 0.02995543791016371, 0.7289156558139835, 0.9745967273993165, 0.20558581668300616, 0.10279290834150308, 0.31343411395933723, 0.3437664475683054, 0.018536426094369406, 0.011795907514598714, 0.06678479884469492, 0.06052372395300477, 0.006261074891690148, 0.018783224675070445, 0.025044299566760592, 0.6365426139884984, 0.012522149783380296, 0.025044299566760592, 0.08765504848366208, 0.03965347431403761, 0.004174049927793432, 0.014609174747277014, 0.12178143700736656, 0.0444970635219224, 0.1452009441241678, 0.6241298646627536, 0.0058548767792003156, 0.01522267962592082, 0.002341950711680126, 0.02693243318432145, 0.014051704270080756, 0.8171230185914402, 0.024761303593680006, 0.12999684386682003, 0.018570977695260005, 0.006190325898420002, 0.004804859969659106, 0.01761781988875006, 0.2626656783413645, 0.5781848163489792, 0.05285345966625017, 0.08488585946397756, 0.9878811812962607, 0.029093919402598752, 0.06234411300556875, 0.73150425926534, 0.16625096801485, 0.008312548400742501, 0.9515697789230579, 0.9747456169708234, 0.9892146930621704, 0.975877461217284, 0.29875918556812203, 0.29452146662389334, 0.06850978959836368, 0.019776021739733845, 0.026838886646781645, 0.010594297360571702, 0.15538302795505163, 0.025426313665372086, 0.04661490838651549, 0.012006870341981262, 0.024720027174667307, 0.016244589286209945, 0.9837477959972206, 0.9717636552939117, 0.9779891769114112, 0.23806698441916221, 0.004578211238830043, 0.750826643168127, 0.1305846002720483, 0.03456651183671867, 0.10754025904756918, 0.03072578829930548, 0.17283255918359333, 0.03456651183671867, 0.046088682448958224, 0.44168320680251627, 0.32702542730895046, 0.05450423788482508, 0.6104474643100408, 0.15135541635794914, 0.16745705639602884, 0.016101640038079696, 0.06118623214470284, 0.5989810094165646, 0.255867395630912, 0.016466713580207206, 0.0025333405508011085, 0.06586685432082882, 0.03293342716041441, 0.011400032478604988, 0.3711343906923624, 0.20140057378868814, 0.02406673523261053, 0.01773338385560776, 0.9714486434065183, 0.9660907595696374, 0.9906414638947049, 0.9650524598808881, 0.23407358061021702, 0.723027282329337, 0.005201635124671489, 0.005201635124671489, 0.010403270249342978, 0.020806540498685955, 0.027104453827502126, 0.006776113456875532, 0.10164170185313298, 0.002258704485625177, 0.0496914986837539, 0.521760736179416, 0.216835630620017, 0.07227854354000567, 0.2856865333354233, 0.3778702693826093, 0.049829046511992436, 0.014948713953597731, 0.029897427907195462, 0.026575491473062634, 0.048168078294926024, 0.032388880232795084, 0.013287745736531317, 0.06643872868265659, 0.05481195116319168, 0.9582938241487418, 0.9842377560950407, 0.9898777183852565, 0.9821503130437969, 0.10359296080074017, 0.05205940669681866, 0.4280440106182868, 0.08781738301382541, 0.015249725194017587, 0.24662486606876718, 0.015775577786914744, 0.012620462229531797, 0.007887788893457372, 0.029973597795138016, 0.08735515596761474, 0.8800223119700448, 0.009706128440846081, 0.022647633028640857, 0.04509567467498072, 0.9244613308371048, 0.012246211541168232, 0.8490706668543307, 0.13470832695285057, 0.07462994866045451, 0.9240544552321732, 0.028042426433232633, 0.9690216245261498, 0.009098622410924451, 0.050042423260084484, 0.4276352533134492, 0.4867762989844582, 0.025021211630042242, 0.9853382650680512, 0.9763792514571187, 0.9732536644277209, 0.2296551928381452, 0.13462545787063684, 0.19797861451564241, 0.01979786145156424, 0.4157550904828491, 0.0016372059547984526, 0.04256735482475977, 0.26932037956434546, 0.005730220841794584, 0.052390590553550484, 0.6254126747330089, 0.002455808932197679, 0.05338601764254624, 0.9253576391374682, 0.21355575205795777, 0.06898364499466676, 0.04109663957129084, 0.04403211382638304, 0.14090276424442574, 0.02128218834941847, 0.019080582658099317, 0.24070888891756062, 0.08292714770635473, 0.0022016056913191522, 0.01027415989282271, 0.06091109079316321, 0.0044032113826383045, 0.03669342818865254, 0.009540291329049658, 0.0036693428188652537, 0.32536234112622414, 0.2348345272040516, 0.02240787473321103, 0.08604623897553036, 0.03943785953045142, 0.24379767709733602, 0.024200504711867913, 0.01971892976522571, 0.0017926299786568825, 0.003585259957313765, 0.0008963149893284413, 0.43951440248390733, 0.020929257261138444, 0.05860192033118764, 0.06278777178341532, 0.38928418505717505, 0.025115108713366134, 0.9713316907536088, 0.2470289187468734, 0.14154089398469502, 0.07344102989771913, 0.005341165810743209, 0.4152756417852845, 0.010682331621486418, 0.02403524614834444, 0.0013352914526858022, 0.0627586982762327, 0.01735878888491543, 0.42865520966931553, 0.46123707833776706, 0.028509135084895092, 0.002036366791778221, 0.010181833958891105, 0.04072733583556442, 0.006109100375334663, 0.02138185131367132, 0.5623733818470904, 0.26779684849861446, 0.04706732488763527, 0.011361078421153342, 0.0024345168045328586, 0.08683109936167197, 0.005680539210576671, 0.005680539210576671, 0.0008115056015109529, 0.0008115056015109529, 0.008115056015109529, 0.0008115056015109529, 0.5792927765633648, 0.22229825138162093, 0.019759844567255193, 0.033262405021546246, 0.002963976685088279, 0.04478898101911177, 0.042812996562386255, 0.05433957255995178, 0.00032933074278758656, 0.4187312213281335, 0.25363528668683444, 0.09186789911491641, 0.009319931794266883, 0.017308444760781354, 0.04793107779908683, 0.03461688952156271, 0.007322803552638265, 0.0113170600358955, 0.0033285470693810294, 0.03128834245218168, 0.03927685541869615, 0.0026628376555048235, 0.019971282416286176, 0.009319931794266883, 0.0033285470693810294, 0.3957322528985866, 0.19204653449490233, 0.007274489942988725, 0.001454897988597745, 0.00290979597719549, 0.23423857616423693, 0.02036857184036843, 0.00290979597719549, 0.004364693965793235, 0.1265761250080038, 0.004364693965793235, 0.010184285920184215, 0.9832014456669367, 0.04139757799503866, 0.9383451012208763, 0.9631522699450825, 0.9803364899668532, 0.2643916599100574, 0.2789453292629046, 0.055096033978635814, 0.07068925114240067, 0.016979280911655063, 0.02876082276872184, 0.11088509983121674, 0.0450470718064318, 0.0027721274957804186, 0.02148398809229824, 0.0298003705796395, 0.04123539649973373, 0.0003465159369725523, 0.0225235359032159, 0.011435025920094226, 0.9762002531229746, 0.08031231327235176, 0.8968208315412614, 0.012207310530824647, 0.012207310530824647, 0.0935893807363223, 0.138349519349346, 0.03255282808219906, 0.7080240107878295, 0.004069103510274882, 0.9964238346666239, 0.21422788370734697, 0.10458369125870481, 0.03204984086960309, 0.03879717578951953, 0.00168683372997911, 0.5870181380327303, 0.011807836109853769, 0.01012100237987466, 0.11052942707305756, 0.12690415700980684, 0.006140523726280976, 0.6406613087753151, 0.05321787229443512, 0.059358396020716096, 0.004093682484187317, 0.8918258111628906, 0.10265620847918165, 0.9814759957426621, 0.9809336962652566, 0.005525300707875086, 0.09945541274175154, 0.8232698054733878, 0.07182890920237611, 0.9902204330045032, 0.9595310162723654, 0.033212270984710614, 0.026569816787768492, 0.08635190456024759, 0.08635190456024759, 0.7705246868452863, 0.9126581934325986, 0.960301241303686, 0.7399035170208129, 0.05014560488799424, 0.06037940180391142, 0.06754305964505346, 0.01125717660750891, 0.008187037532733752, 0.06140278149550314, 0.9463980915663389, 0.011712847667900234, 0.021083125802220423, 0.018740556268640376, 0.291898865261037, 0.694517989759019, 0.9953054063375311, 0.9972834568036242, 0.994905806845464, 0.1960050078069492, 0.6619185509546154, 0.025705574794353994, 0.02891877164364824, 0.05141114958870799, 0.035345165342236744, 0.09312201120603249, 0.22732726265002048, 0.10772938551286111, 0.07394983242831991, 0.050669329626811796, 0.12051083803133616, 0.12188027937260135, 0.07988407824046904, 0.08125351958173423, 0.0050212849179723405, 0.023736983248596518, 0.0059342458121491295, 0.002282402235441973, 0.006390726259237524, 0.987573162752856, 0.9843710526581922, 0.3857140746580924, 0.5219997143706184, 0.043714261794583806, 0.04885711612335837, 0.0051092814955557625, 0.47175699142298205, 0.10388872374296716, 0.1737155708488959, 0.0051092814955557625, 0.05109281495555762, 0.10899800523852293, 0.0817485039288922, 0.00687545924770596, 0.9900661316696582, 0.07931865897803697, 0.18013206905317555, 0.25521232640643193, 0.008779546222759817, 0.0505580765241686, 0.21434202502461897, 0.0018164578391916862, 0.02270572298989608, 0.09324483574517323, 0.0009082289195958431, 0.09203386385237877, 0.0009082289195958431, 0.00030274297319861436, 0.16596412243336833, 0.2517898056855152, 0.20215567561198447, 0.009823421577052955, 0.07083203979243445, 0.2026726978002504, 0.0041361775061275596, 0.005170221882659449, 0.0041361775061275596, 0.010340443765318898, 0.0020680887530637798, 0.020163865342371853, 0.0005170221882659449, 0.0067212884474572845, 0.04342986381433937, 0.13741165963892527, 0.018737953587126172, 0.8369619268916356, 0.16753762623082868, 0.01570665245914019, 0.5261728573811963, 0.20942203278853586, 0.07853326229570094, 0.1816285499899738, 0.528791980983468, 0.128749351891627, 0.1632357854340271, 0.05384614496504454, 0.1595441332297616, 0.3131053614634072, 0.03257359386774299, 0.059829049961160605, 0.21937318319092222, 0.01728394776655751, 0.10769228993008909, 0.00598290499611606, 0.022602085540882895, 0.007312439439697407, 0.994970421972437, 0.977613736241683, 0.9776626343258862, 0.9396428228410253, 0.027162902524695984, 0.00565893802597833, 0.39499387421328747, 0.07469798194291397, 0.47082364376139707, 0.023767539709108988, 0.9905702826805377, 0.9970374250326277, 0.0023684007227948818, 0.9355182855039784, 0.018947205782359054, 0.040262812287512995, 0.06337084478334258, 0.9267986049563852, 0.03581727301994883, 0.9491577350286441, 0.9777754549580042, 0.9813544024307861, 0.43662155975232875, 0.5537639294419779, 0.06000176323870912, 0.07600223343569822, 0.028000822844730922, 0.35601046188300745, 0.0480014105909673, 0.40401187247397474, 0.028000822844730922, 0.9559994191416918, 0.3522508551363131, 0.30843017459303973, 0.13370925601665473, 0.032584608609100736, 0.015730500707841735, 0.0235957510617626, 0.0691018423951619, 0.0022472143868345336, 0.016292304304550368, 0.0320228050123921, 0.0084270539506295, 0.005618035967086333, 0.0005618035967086334, 0.6083287820479633, 0.029166448454354402, 0.36041397018595084, 0.42355962284933446, 0.10981175407204968, 0.10196805735261756, 0.10196805735261756, 0.25884199174126, 0.05108747224877597, 0.07466630559436488, 0.03536825001838336, 0.833118778210808, 0.42289348157066703, 0.27733944605332117, 0.05753318295786982, 0.013276888374893036, 0.024095093717398472, 0.02901245978217367, 0.07031833472628533, 0.008851258916595356, 0.02261988389796591, 0.0472067142218419, 0.02261988389796591, 0.002950419638865119, 0.0004917366064775198, 0.995340500025597, 0.9949173443828586, 0.9915148084565482, 0.010449065196919446, 0.12800104866226322, 0.08359252157535557, 0.20636903763915906, 0.020898130393838893, 0.0809802552761257, 0.026122662992298616, 0.03657172818921806, 0.05224532598459723, 0.14889917905610212, 0.07836798897689584, 0.12538878236303336, 0.9796369618000561, 0.3465531550406994, 0.24028206352878256, 0.041805172028584935, 0.0742334830414125, 0.03594463389373658, 0.0035163228809090134, 0.11291303473141165, 0.0042977279655554606, 0.01367458898131283, 0.046884305078786846, 0.008595455931110921, 0.06290310931403902, 0.0019535127116161186, 0.0054698355925251315, 0.0003907025423232237, 0.0003907025423232237, 0.06769739044087067, 0.7852897291140998, 0.008462173805108834, 0.09816121613926247, 0.040618434264522406, 0.21461823456228996, 0.26290733733880517, 0.03755819104840074, 0.010730911728114498, 0.46679466017298066, 0.005365455864057249, 0.9518661683859878, 0.0439322846947379, 0.9733581048023137, 0.9968131611838354, 0.05185850267359777, 0.005762055852621974, 0.8585463220406742, 0.07490672608408566, 0.04167148554363263, 0.1389049518121088, 0.7014700066511493, 0.09723346626847615, 0.018520660241614504, 0.002786585625939433, 0.0013932928129697165, 0.04876524845394008, 0.9460458200064376, 0.9527400004257571, 0.0009030710904509546, 0.01173992417586241, 0.033413630346685326, 0.06432764920535532, 0.9281560813915553, 0.9588463024366841, 0.0053867769799813715, 0.016160330939944116, 0.021547107919925486, 0.986008815239827, 0.9910252537708605, 0.9866010641346129, 0.008505181587367353, 0.9597723631871554, 0.9525938998030977, 0.05577636516104712, 0.7752914757385551, 0.15617382245093195, 0.011155273032209425, 0.22786860127724162, 0.08545072547896561, 0.6836058038317249, 0.7799612925725586, 0.028642646337410347, 0.022032804874931037, 0.006609841462479311, 0.04626889023735518, 0.05508201218732759, 0.011016402437465518, 0.04626889023735518, 0.0044065609749862076, 0.12578609861685058, 0.25096453492154247, 0.23394999018109888, 0.13307804636275494, 0.05043597190917197, 0.0370674010416806, 0.026129479422824033, 0.0006076623121586984, 0.0407133749146328, 0.10087194381834394, 0.03162750912170809, 0.17116063759983202, 0.18418372959112359, 0.3516234837648723, 0.016743975417374872, 0.10790561935641584, 0.055813251391249576, 0.0018604417130416524, 0.027906625695624788, 0.05395280967820792, 0.3757038208412174, 0.030748138790074056, 0.09993145106774068, 0.03747429415040276, 0.0057652760231388855, 0.003843517348759257, 0.30171611187760167, 0.04420044951073145, 0.049004846196680524, 0.025943742104124985, 0.0009608793371898143, 0.02498286276693517, 0.3880325115923464, 0.19787850231138718, 0.03730765782781137, 0.026789199233186137, 0.09844619840907053, 0.030733621206170597, 0.03467804317915506, 0.011997616834494405, 0.000657403662164077, 0.021036917189250465, 0.002793965564197327, 0.0844763705880839, 0.06541166438532565, 0.9662207273073314, 0.17183628361445002, 0.00414063334010723, 0.1966800836550934, 0.01656253336042892, 0.006210950010160845, 0.05796886676150122, 0.02484380004064338, 0.01242190002032169, 0.07660171679198376, 0.4202742840208838, 0.002070316670053615, 0.00828126668021446, 0.6756901918148379, 0.19485019484893001, 0.034570195860294035, 0.012570980312834195, 0.0062854901564170975, 0.03771294093850258, 0.036141568399398305, 0.0015713725391042744, 0.9526245208744738, 0.9801562666408143, 0.9937419526136045, 0.9815477707120017, 0.9844519403941423, 0.0014398738259074947, 0.15622631011096316, 0.005759495303629979, 0.23253962288406038, 0.05399526847153105, 0.028797476518149893, 0.011518990607259957, 0.03455697182177987, 0.3642880779545961, 0.08567249264149593, 0.019438296649751177, 0.005759495303629979, 0.07584540700971612, 0.2145536738833411, 0.21250379801821365, 0.09224441393073582, 0.1100100047618405, 0.08199503460509851, 0.09224441393073582, 0.011615963235722289, 0.09292770588577831, 0.010932671280679802, 0.004783043685297413, 0.9710947850736692, 0.14915490451758276, 0.04067861032297712, 0.044068494516558546, 0.0033898841935814266, 0.044068494516558546, 0.04067861032297712, 0.6711970703291225, 0.602248128423893, 0.15180634642089866, 0.03981805807761276, 0.01576131465572172, 0.008295428766169325, 0.12111325998607216, 0.014931771779104786, 0.020738571915423314, 0.010784057396020123, 0.014931771779104786, 0.9826770374068835, 0.9387378277291738, 0.9811104353740188], \"Term\": [\"abs\", \"absolute\", \"absolute\", \"absolute\", \"access\", \"access\", \"access\", \"access\", \"access\", \"access\", \"access\", \"access\", \"access\", \"acid\", \"adaptec\", \"adapter\", \"adb\", \"address\", \"address\", \"address\", \"address\", \"address\", \"address\", \"address\", \"address\", \"adl\", \"administration\", \"administration\", \"administration\", \"administration\", \"administration\", \"advance\", \"advance\", \"advance\", \"aerospace\", \"affair\", \"agdam\", \"age\", \"age\", \"age\", \"age\", \"age\", \"age\", \"age\", \"age\", \"agree\", \"agree\", \"agree\", \"aids\", \"aids\", \"air\", \"air\", \"air\", \"air\", \"air\", \"air\", \"albicans\", \"algorithm\", \"algorithm\", \"alias\", \"allocation\", \"also\", \"also\", \"also\", \"also\", \"also\", \"also\", \"also\", \"also\", \"also\", \"also\", \"also\", \"also\", \"also\", \"also\", \"also\", \"also\", \"amendment\", \"american\", \"american\", \"american\", \"american\", \"american\", \"american\", \"american\", \"american\", \"amiga\", \"among\", \"among\", \"among\", \"among\", \"among\", \"among\", \"among\", \"among\", \"among\", \"among\", \"amp\", \"amp\", \"amplifier\", \"ancient\", \"angeles\", \"angeles\", \"angeles\", \"anon\", \"anonymous\", \"anonymous\", \"answer\", \"answer\", \"answer\", \"answer\", \"answer\", \"answer\", \"answer\", \"answer\", \"answer\", \"answer\", \"anybody\", \"anybody\", \"anybody\", \"anybody\", \"anybody\", \"anybody\", \"anybody\", \"anybody\", \"anybody\", \"anybody\", \"anyone\", \"anyone\", \"anyone\", \"anyone\", \"anyone\", \"anyone\", \"anyone\", \"anyone\", \"anyone\", \"anyone\", \"anyone\", \"anyone\", \"apartment\", \"app\", \"apple\", \"apple\", \"apple\", \"application\", \"application\", \"application\", \"application\", \"appreciate\", \"appreciate\", \"appreciate\", \"appreciate\", \"appreciate\", \"appreciated\", \"appreciated\", \"appreciated\", \"appreciated\", \"april\", \"april\", \"april\", \"april\", \"april\", \"april\", \"april\", \"arab\", \"arabs\", \"archive\", \"archive\", \"archive\", \"archive\", \"argic\", \"arguing\", \"argument\", \"argument\", \"armed\", \"armenia\", \"armenia\", \"armenian\", \"armenian\", \"armenians\", \"armenians\", \"armored\", \"arms\", \"arms\", \"arms\", \"arms\", \"around\", \"around\", \"around\", \"around\", \"around\", \"around\", \"around\", \"around\", \"around\", \"around\", \"around\", \"around\", \"around\", \"array\", \"array\", \"arrest\", \"arrogant\", \"assault\", \"associated\", \"associated\", \"associated\", \"associated\", \"associated\", \"astros\", \"ate\", \"atheism\", \"atheist\", \"atheists\", \"atmosphere\", \"author\", \"author\", \"author\", \"author\", \"author\", \"available\", \"available\", \"available\", \"available\", \"available\", \"available\", \"available\", \"available\", \"azerbaijani\", \"azerbaijanis\", \"azeris\", \"back\", \"back\", \"back\", \"back\", \"back\", \"back\", \"back\", \"back\", \"back\", \"back\", \"back\", \"back\", \"back\", \"baku\", \"balcony\", \"ball\", \"ball\", \"ball\", \"ball\", \"ball\", \"ball\", \"balloon\", \"balls\", \"ban\", \"ban\", \"bandwidth\", \"baseball\", \"batf\", \"batteries\", \"battery\", \"battery\", \"beam\", \"bed\", \"bed\", \"belief\", \"beliefs\", \"believe\", \"believe\", \"believe\", \"believe\", \"believe\", \"believe\", \"believe\", \"best\", \"best\", \"best\", \"best\", \"best\", \"best\", \"best\", \"best\", \"best\", \"best\", \"best\", \"better\", \"better\", \"better\", \"better\", \"better\", \"better\", \"better\", \"better\", \"better\", \"bible\", \"bible\", \"bicycle\", \"bike\", \"bike\", \"bikes\", \"bill\", \"bill\", \"bill\", \"bill\", \"bill\", \"bill\", \"bill\", \"billion\", \"billion\", \"billion\", \"binaries\", \"binaries\", \"bindings\", \"bios\", \"bit\", \"bit\", \"bit\", \"bit\", \"bit\", \"bit\", \"bit\", \"bit\", \"bits\", \"bits\", \"bits\", \"bits\", \"blood\", \"blood\", \"blood\", \"blood\", \"bolt\", \"book\", \"book\", \"book\", \"book\", \"book\", \"book\", \"book\", \"book\", \"book\", \"book\", \"borland\", \"bos\", \"boston\", \"boston\", \"boston\", \"bottle\", \"bounced\", \"brakes\", \"braves\", \"bronx\", \"buck\", \"buck\", \"budget\", \"budget\", \"build\", \"build\", \"build\", \"build\", \"build\", \"build\", \"build\", \"building\", \"building\", \"building\", \"building\", \"building\", \"building\", \"building\", \"building\", \"bulletin\", \"burned\", \"burned\", \"burning\", \"burning\", \"burst\", \"burst\", \"bus\", \"bus\", \"bus\", \"buy\", \"buy\", \"buy\", \"buy\", \"buy\", \"buying\", \"buying\", \"buying\", \"cage\", \"cal\", \"calgary\", \"california\", \"california\", \"california\", \"california\", \"california\", \"calm\", \"came\", \"came\", \"came\", \"came\", \"came\", \"came\", \"came\", \"came\", \"came\", \"can\", \"can\", \"can\", \"can\", \"can\", \"can\", \"can\", \"can\", \"cancer\", \"cancer\", \"candida\", \"car\", \"car\", \"car\", \"carbs\", \"card\", \"cardinals\", \"cars\", \"cars\", \"cars\", \"case\", \"case\", \"case\", \"case\", \"case\", \"case\", \"case\", \"case\", \"case\", \"case\", \"case\", \"cause\", \"cause\", \"cause\", \"cause\", \"cause\", \"cause\", \"cause\", \"cbc\", \"cbc\", \"cdc\", \"cds\", \"center\", \"center\", \"center\", \"center\", \"center\", \"center\", \"center\", \"center\", \"centris\", \"centris\", \"certainly\", \"certainly\", \"certainly\", \"certainly\", \"certainly\", \"certainly\", \"certainly\", \"challenges\", \"champs\", \"char\", \"character\", \"character\", \"character\", \"character\", \"charlie\", \"chars\", \"chewing\", \"chi\", \"chicago\", \"chicago\", \"chip\", \"chip\", \"chip\", \"chip\", \"christ\", \"christ\", \"christian\", \"christian\", \"christianity\", \"christians\", \"christians\", \"church\", \"church\", \"cica\", \"cigarettes\", \"cipher\", \"circuit\", \"circuit\", \"circuit\", \"circuit\", \"circuits\", \"citizen\", \"citizens\", \"citizens\", \"citizens\", \"civil\", \"civil\", \"claim\", \"claim\", \"claim\", \"claim\", \"classified\", \"clever\", \"client\", \"client\", \"clients\", \"clients\", \"clinical\", \"clipper\", \"clothes\", \"coat\", \"cocaine\", \"code\", \"code\", \"code\", \"code\", \"code\", \"code\", \"code\", \"code\", \"col\", \"collaboration\", \"color\", \"color\", \"color\", \"colormap\", \"com\", \"comics\", \"compass\", \"compile\", \"compile\", \"compiled\", \"compilers\", \"compilers\", \"composite\", \"computer\", \"computer\", \"computer\", \"computer\", \"computer\", \"computer\", \"computer\", \"computer\", \"conclude\", \"conclusion\", \"conclusion\", \"conclusion\", \"condition\", \"condition\", \"condition\", \"condition\", \"condition\", \"condition\", \"condition\", \"constitution\", \"construed\", \"contact\", \"contact\", \"contact\", \"contact\", \"contact\", \"contact\", \"contact\", \"contact\", \"contact\", \"contest\", \"context\", \"context\", \"contradiction\", \"contrib\", \"contrib\", \"control\", \"control\", \"control\", \"control\", \"control\", \"control\", \"control\", \"control\", \"control\", \"control\", \"controller\", \"convince\", \"convince\", \"cooling\", \"cooper\", \"copper\", \"copyright\", \"copyright\", \"corpses\", \"could\", \"could\", \"could\", \"could\", \"could\", \"could\", \"could\", \"could\", \"could\", \"could\", \"could\", \"could\", \"could\", \"could\", \"could\", \"count\", \"count\", \"count\", \"count\", \"count\", \"count\", \"count\", \"count\", \"country\", \"country\", \"country\", \"country\", \"country\", \"course\", \"course\", \"course\", \"course\", \"course\", \"course\", \"course\", \"course\", \"course\", \"course\", \"course\", \"court\", \"court\", \"crashes\", \"crime\", \"crimes\", \"criminal\", \"criminals\", \"criminals\", \"cross\", \"cross\", \"cross\", \"cross\", \"cross\", \"cross\", \"cross\", \"crowd\", \"crowley\", \"crypto\", \"cryptographic\", \"cryptography\", \"cubs\", \"cup\", \"cup\", \"cure\", \"cursor\", \"curt\", \"cycle\", \"cycle\", \"cycle\", \"cylinder\", \"cylinder\", \"cyprus\", \"darren\", \"data\", \"data\", \"data\", \"data\", \"data\", \"data\", \"dawn\", \"day\", \"day\", \"day\", \"day\", \"day\", \"day\", \"day\", \"day\", \"day\", \"day\", \"day\", \"day\", \"day\", \"deaf\", \"dealer\", \"dealer\", \"dealership\", \"deaths\", \"debugger\", \"decenso\", \"decrypt\", \"deficit\", \"deleted\", \"deleted\", \"deleted\", \"deleted\", \"deleted\", \"denver\", \"der\", \"des\", \"deskjet\", \"det\", \"detecting\", \"detector\", \"detectors\", \"detroit\", \"detroit\", \"diet\", \"discharge\", \"disease\", \"diseases\", \"disk\", \"disk\", \"display\", \"display\", \"displayed\", \"distortion\", \"distortion\", \"distribution\", \"distribution\", \"distribution\", \"distribution\", \"division\", \"division\", \"division\", \"division\", \"division\", \"division\", \"division\", \"dma\", \"doctor\", \"doctor\", \"doctors\", \"doctors\", \"doctors\", \"dod\", \"dod\", \"dod\", \"dod\", \"dodgers\", \"dog\", \"dos\", \"dos\", \"dpi\", \"dram\", \"drive\", \"drive\", \"drive\", \"drive\", \"drives\", \"drives\", \"drives\", \"drives\", \"drops\", \"drug\", \"drug\", \"drug\", \"drugs\", \"drugs\", \"drugs\", \"duo\", \"duo\", \"earth\", \"earth\", \"earth\", \"east\", \"east\", \"east\", \"east\", \"east\", \"easter\", \"easter\", \"eat\", \"eat\", \"eat\", \"eat\", \"eaten\", \"eating\", \"eating\", \"echo\", \"editors\", \"effects\", \"effects\", \"effects\", \"effects\", \"effects\", \"electric\", \"electric\", \"electrical\", \"electrical\", \"electronics\", \"electronics\", \"email\", \"email\", \"email\", \"email\", \"email\", \"email\", \"email\", \"empire\", \"encrypted\", \"encryption\", \"endometriosis\", \"energy\", \"energy\", \"energy\", \"energy\", \"engine\", \"enhancement\", \"enough\", \"enough\", \"enough\", \"enough\", \"enough\", \"enough\", \"enough\", \"enough\", \"enough\", \"entries\", \"entry\", \"entry\", \"eprom\", \"error\", \"error\", \"error\", \"error\", \"error\", \"escrow\", \"espn\", \"estimates\", \"eve\", \"even\", \"even\", \"even\", \"even\", \"even\", \"even\", \"even\", \"even\", \"even\", \"even\", \"even\", \"even\", \"evidence\", \"evidence\", \"evidence\", \"evidence\", \"excellent\", \"excellent\", \"excellent\", \"excellent\", \"excellent\", \"excellent\", \"exhaust\", \"exist\", \"exist\", \"exist\", \"exist\", \"exist\", \"exist\", \"existence\", \"existence\", \"existence\", \"exit\", \"export\", \"export\", \"expos\", \"expose\", \"face\", \"face\", \"face\", \"face\", \"face\", \"face\", \"fallacy\", \"fans\", \"fans\", \"fans\", \"faq\", \"faq\", \"faq\", \"faq\", \"faq\", \"fat\", \"fat\", \"father\", \"father\", \"fax\", \"fax\", \"fax\", \"fax\", \"fax\", \"fax\", \"fbi\", \"fbi\", \"fbi\", \"federal\", \"federal\", \"federal\", \"fever\", \"field\", \"field\", \"field\", \"field\", \"field\", \"field\", \"field\", \"field\", \"field\", \"field\", \"file\", \"file\", \"file\", \"file\", \"filename\", \"files\", \"files\", \"files\", \"files\", \"filters\", \"filters\", \"find\", \"find\", \"find\", \"find\", \"find\", \"find\", \"find\", \"find\", \"find\", \"find\", \"find\", \"fire\", \"fire\", \"fire\", \"fire\", \"fire\", \"fire\", \"firearm\", \"firearms\", \"first\", \"first\", \"first\", \"first\", \"first\", \"first\", \"first\", \"first\", \"first\", \"first\", \"first\", \"first\", \"first\", \"first\", \"first\", \"flames\", \"flames\", \"flames\", \"flames\", \"flight\", \"flight\", \"floppy\", \"floppy\", \"flyers\", \"font\", \"fonts\", \"food\", \"food\", \"food\", \"food\", \"food\", \"foods\", \"ford\", \"ford\", \"forged\", \"forged\", \"francis\", \"francisco\", \"francisco\", \"francisco\", \"friday\", \"friday\", \"friday\", \"friday\", \"from\", \"from\", \"from\", \"from\", \"from\", \"from\", \"from\", \"from\", \"from\", \"from\", \"from\", \"from\", \"from\", \"from\", \"from\", \"ftp\", \"ftp\", \"ftp\", \"fuel\", \"fuel\", \"function\", \"function\", \"function\", \"function\", \"function\", \"function\", \"funding\", \"funds\", \"funds\", \"fuse\", \"gainey\", \"game\", \"game\", \"game\", \"game\", \"games\", \"games\", \"gamma\", \"gang\", \"garage\", \"gas\", \"gas\", \"gas\", \"gas\", \"gas\", \"gay\", \"gcc\", \"gear\", \"genetic\", \"genetic\", \"genocide\", \"georgia\", \"georgia\", \"gerard\", \"german\", \"german\", \"german\", \"german\", \"german\", \"get\", \"get\", \"get\", \"get\", \"get\", \"get\", \"get\", \"get\", \"get\", \"get\", \"get\", \"get\", \"get\", \"getting\", \"getting\", \"getting\", \"getting\", \"getting\", \"getting\", \"getting\", \"getting\", \"getting\", \"getting\", \"getting\", \"giants\", \"gif\", \"gifs\", \"girl\", \"girlfriend\", \"girls\", \"girls\", \"give\", \"give\", \"give\", \"give\", \"give\", \"give\", \"give\", \"give\", \"give\", \"give\", \"give\", \"give\", \"give\", \"glutamate\", \"goal\", \"goal\", \"goal\", \"goal\", \"goal\", \"goal\", \"god\", \"god\", \"goddess\", \"going\", \"going\", \"going\", \"going\", \"going\", \"going\", \"going\", \"going\", \"going\", \"gon\", \"good\", \"good\", \"good\", \"good\", \"good\", \"good\", \"good\", \"good\", \"good\", \"good\", \"good\", \"good\", \"good\", \"good\", \"got\", \"got\", \"got\", \"got\", \"got\", \"got\", \"got\", \"got\", \"got\", \"got\", \"got\", \"government\", \"government\", \"government\", \"government\", \"government\", \"graduate\", \"graph\", \"graphics\", \"graphics\", \"graphics\", \"graphics\", \"graphics\", \"greatly\", \"greatly\", \"greatly\", \"greatly\", \"greatly\", \"greece\", \"greek\", \"greeks\", \"ground\", \"ground\", \"ground\", \"ground\", \"ground\", \"ground\", \"guidelines\", \"gun\", \"guns\", \"hackers\", \"handgun\", \"handler\", \"hanging\", \"hanging\", \"happened\", \"happened\", \"happened\", \"happened\", \"happened\", \"happened\", \"happened\", \"happened\", \"hard\", \"hard\", \"hard\", \"hard\", \"hard\", \"hard\", \"hard\", \"hard\", \"hardware\", \"hardware\", \"hardware\", \"hardware\", \"harley\", \"hawk\", \"hdd\", \"health\", \"health\", \"heard\", \"heard\", \"heard\", \"heard\", \"heard\", \"heard\", \"heard\", \"heard\", \"heard\", \"heaven\", \"heaven\", \"hebrew\", \"hello\", \"hello\", \"hello\", \"helmet\", \"helmet\", \"help\", \"help\", \"help\", \"help\", \"help\", \"help\", \"help\", \"help\", \"help\", \"help\", \"help\", \"help\", \"help\", \"henrik\", \"her\", \"her\", \"her\", \"her\", \"het\", \"him\", \"him\", \"him\", \"him\", \"history\", \"history\", \"history\", \"history\", \"history\", \"history\", \"history\", \"hiv\", \"hmm\", \"hmm\", \"hockey\", \"hole\", \"hole\", \"hole\", \"hole\", \"holocaust\", \"holy\", \"home\", \"home\", \"home\", \"home\", \"home\", \"home\", \"home\", \"home\", \"home\", \"home\", \"homeland\", \"homers\", \"homicide\", \"homosexuality\", \"homosexuals\", \"hot\", \"hot\", \"hot\", \"hot\", \"hot\", \"hot\", \"hours\", \"hours\", \"hours\", \"hours\", \"hours\", \"hours\", \"hst\", \"hulk\", \"ibm\", \"ibm\", \"ibm\", \"ide\", \"igor\", \"illinois\", \"illinois\", \"illinois\", \"illness\", \"image\", \"image\", \"image\", \"image\", \"image\", \"image\", \"image\", \"image\", \"immune\", \"implementation\", \"implementation\", \"implies\", \"imply\", \"imply\", \"infection\", \"infections\", \"infectious\", \"info\", \"info\", \"info\", \"info\", \"info\", \"information\", \"information\", \"information\", \"information\", \"information\", \"information\", \"information\", \"information\", \"information\", \"information\", \"information\", \"ink\", \"inning\", \"innings\", \"input\", \"input\", \"input\", \"input\", \"input\", \"instruction\", \"instruction\", \"insurance\", \"insurance\", \"int\", \"intake\", \"interested\", \"interested\", \"interested\", \"interested\", \"interested\", \"interested\", \"interested\", \"interested\", \"interested\", \"interested\", \"interested\", \"interested\", \"interface\", \"interface\", \"interpret\", \"interpreted\", \"intersection\", \"intersection\", \"intrinsics\", \"invaded\", \"investment\", \"ireland\", \"irq\", \"isa\", \"isbn\", \"israel\", \"israel\", \"israeli\", \"israelis\", \"istanbul\", \"ive\", \"ive\", \"ive\", \"ive\", \"ive\", \"ive\", \"ive\", \"ive\", \"ive\", \"ive\", \"jagr\", \"jays\", \"jazz\", \"jerusalem\", \"jesus\", \"jesus\", \"jewish\", \"jewish\", \"jewish\", \"jews\", \"jews\", \"jobs\", \"john\", \"john\", \"john\", \"john\", \"john\", \"john\", \"john\", \"john\", \"john\", \"john\", \"jonathan\", \"jose\", \"jose\", \"jpeg\", \"judas\", \"karabagh\", \"karabakh\", \"keith\", \"keith\", \"keith\", \"keith\", \"keith\", \"kermit\", \"key\", \"key\", \"key\", \"key\", \"keyboard\", \"keyboard\", \"keyboard\", \"keys\", \"keywords\", \"keywords\", \"kids\", \"kids\", \"kids\", \"kids\", \"kids\", \"kids\", \"kids\", \"kings\", \"kings\", \"kings\", \"kings\", \"kitchen\", \"know\", \"know\", \"know\", \"know\", \"know\", \"know\", \"know\", \"know\", \"know\", \"know\", \"know\", \"know\", \"kurds\", \"last\", \"last\", \"last\", \"last\", \"last\", \"last\", \"last\", \"last\", \"last\", \"last\", \"last\", \"last\", \"last\", \"latch\", \"later\", \"later\", \"later\", \"later\", \"later\", \"later\", \"later\", \"later\", \"later\", \"later\", \"later\", \"later\", \"later\", \"launch\", \"launched\", \"law\", \"law\", \"law\", \"law\", \"laws\", \"laws\", \"laws\", \"lds\", \"leafs\", \"league\", \"lebanon\", \"left\", \"left\", \"left\", \"left\", \"left\", \"left\", \"left\", \"left\", \"left\", \"left\", \"left\", \"legal\", \"legal\", \"legal\", \"legal\", \"legal\", \"legs\", \"legs\", \"lets\", \"lets\", \"lets\", \"lets\", \"lets\", \"lets\", \"lets\", \"lets\", \"lets\", \"lets\", \"liar\", \"library\", \"library\", \"library\", \"library\", \"library\", \"library\", \"library\", \"library\", \"life\", \"life\", \"life\", \"life\", \"life\", \"life\", \"life\", \"life\", \"like\", \"like\", \"like\", \"like\", \"like\", \"like\", \"like\", \"like\", \"like\", \"like\", \"like\", \"like\", \"like\", \"like\", \"like\", \"like\", \"line\", \"line\", \"line\", \"line\", \"line\", \"line\", \"line\", \"line\", \"line\", \"line\", \"line\", \"lines\", \"lines\", \"lines\", \"lines\", \"lines\", \"lines\", \"lines\", \"lines\", \"lines\", \"lines\", \"linked\", \"linked\", \"linked\", \"linked\", \"list\", \"list\", \"list\", \"list\", \"list\", \"list\", \"list\", \"list\", \"list\", \"list\", \"list\", \"list\", \"list\", \"little\", \"little\", \"little\", \"little\", \"little\", \"little\", \"little\", \"little\", \"little\", \"little\", \"little\", \"little\", \"liver\", \"lock\", \"lock\", \"looking\", \"looking\", \"looking\", \"looking\", \"looking\", \"looking\", \"looking\", \"looking\", \"lord\", \"los\", \"los\", \"los\", \"losses\", \"lost\", \"lost\", \"lost\", \"lost\", \"lost\", \"lost\", \"lost\", \"lost\", \"lost\", \"lost\", \"lot\", \"lot\", \"lot\", \"lot\", \"lot\", \"lot\", \"lot\", \"lot\", \"lot\", \"lot\", \"lunar\", \"lyme\", \"mac\", \"mac\", \"mail\", \"mail\", \"mail\", \"mail\", \"mail\", \"mailing\", \"maine\", \"mainstream\", \"make\", \"make\", \"make\", \"make\", \"make\", \"make\", \"make\", \"make\", \"make\", \"make\", \"make\", \"make\", \"make\", \"mamma\", \"manager\", \"manager\", \"manager\", \"manager\", \"manager\", \"manager\", \"manuals\", \"many\", \"many\", \"many\", \"many\", \"many\", \"many\", \"many\", \"many\", \"many\", \"many\", \"many\", \"many\", \"many\", \"many\", \"many\", \"many\", \"marijuana\", \"marriage\", \"mars\", \"matthew\", \"matthew\", \"matthew\", \"maxaxaxaxaxaxaxaxaxaxaxaxaxaxax\", \"may\", \"may\", \"may\", \"may\", \"may\", \"may\", \"may\", \"may\", \"may\", \"may\", \"may\", \"may\", \"may\", \"may\", \"maybe\", \"maybe\", \"maybe\", \"maybe\", \"maybe\", \"maybe\", \"maybe\", \"mbs\", \"mean\", \"mean\", \"mean\", \"mean\", \"mean\", \"mean\", \"mean\", \"mean\", \"mean\", \"meaning\", \"meaning\", \"meaning\", \"meaning\", \"medical\", \"medical\", \"medical\", \"medicine\", \"medicine\", \"meeting\", \"meeting\", \"meeting\", \"meg\", \"memory\", \"memory\", \"memory\", \"memory\", \"merely\", \"merely\", \"merely\", \"merely\", \"message\", \"message\", \"message\", \"message\", \"message\", \"message\", \"methanol\", \"michael\", \"michael\", \"michael\", \"michael\", \"michael\", \"michael\", \"michael\", \"michael\", \"michael\", \"michael\", \"michael\", \"microdistrict\", \"microsoft\", \"might\", \"might\", \"might\", \"might\", \"might\", \"might\", \"might\", \"might\", \"might\", \"might\", \"might\", \"might\", \"mike\", \"mike\", \"mike\", \"mike\", \"mike\", \"mike\", \"mike\", \"mike\", \"mike\", \"miles\", \"miles\", \"miles\", \"miles\", \"military\", \"military\", \"military\", \"military\", \"militia\", \"milwaukee\", \"milwaukee\", \"mission\", \"mission\", \"mission\", \"missions\", \"mit\", \"mit\", \"mit\", \"modem\", \"modem\", \"money\", \"money\", \"money\", \"money\", \"money\", \"money\", \"monitor\", \"monitor\", \"monitor\", \"monitor\", \"montreal\", \"montreal\", \"moon\", \"moon\", \"moore\", \"moral\", \"moral\", \"morality\", \"mormon\", \"mormons\", \"motherboard\", \"mounting\", \"mouse\", \"mouse\", \"mpeg\", \"mph\", \"mph\", \"msg\", \"much\", \"much\", \"much\", \"much\", \"much\", \"much\", \"much\", \"much\", \"much\", \"much\", \"much\", \"much\", \"much\", \"much\", \"much\", \"much\", \"music\", \"music\", \"music\", \"muslim\", \"muslims\", \"muslims\", \"muslims\", \"must\", \"must\", \"must\", \"must\", \"must\", \"must\", \"must\", \"must\", \"must\", \"must\", \"must\", \"must\", \"must\", \"mydisplay\", \"myers\", \"na\", \"name\", \"name\", \"name\", \"name\", \"name\", \"name\", \"name\", \"name\", \"name\", \"name\", \"name\", \"name\", \"name\", \"nasa\", \"nasa\", \"national\", \"national\", \"national\", \"national\", \"national\", \"national\", \"national\", \"national\", \"nationwide\", \"nationwide\", \"nazi\", \"nazis\", \"nec\", \"need\", \"need\", \"need\", \"need\", \"need\", \"need\", \"need\", \"need\", \"need\", \"need\", \"need\", \"need\", \"need\", \"need\", \"neutral\", \"neutral\", \"neutral\", \"new\", \"new\", \"new\", \"new\", \"new\", \"new\", \"new\", \"new\", \"new\", \"new\", \"new\", \"new\", \"new\", \"news\", \"news\", \"news\", \"news\", \"news\", \"news\", \"news\", \"news\", \"news\", \"news\", \"newsletter\", \"newsletter\", \"nhl\", \"nick\", \"night\", \"night\", \"night\", \"night\", \"night\", \"night\", \"nissan\", \"nixon\", \"nolan\", \"nords\", \"norton\", \"not\", \"not\", \"not\", \"not\", \"not\", \"not\", \"not\", \"not\", \"not\", \"not\", \"not\", \"not\", \"notion\", \"nsa\", \"ntsc\", \"nubus\", \"nuclear\", \"nuclear\", \"nuclear\", \"null\", \"number\", \"number\", \"number\", \"number\", \"number\", \"number\", \"number\", \"number\", \"number\", \"number\", \"number\", \"number\", \"number\", \"oakland\", \"objective\", \"objective\", \"obp\", \"obscure\", \"office\", \"office\", \"office\", \"office\", \"office\", \"office\", \"office\", \"office\", \"office\", \"oil\", \"oil\", \"one\", \"one\", \"one\", \"one\", \"one\", \"one\", \"one\", \"one\", \"one\", \"one\", \"one\", \"one\", \"one\", \"one\", \"one\", \"one\", \"ontario\", \"open\", \"open\", \"open\", \"open\", \"open\", \"open\", \"open\", \"open\", \"open\", \"open\", \"open\", \"openwindows\", \"orbit\", \"orioles\", \"oto\", \"ottoman\", \"outlet\", \"outlets\", \"output\", \"output\", \"output\", \"pace\", \"pagan\", \"page\", \"page\", \"page\", \"page\", \"page\", \"page\", \"pain\", \"pain\", \"pain\", \"pain\", \"palestinian\", \"palestinian\", \"palestinians\", \"paranoia\", \"paranoid\", \"patches\", \"patches\", \"patented\", \"patient\", \"patients\", \"payload\", \"pcs\", \"pem\", \"pens\", \"pentium\", \"people\", \"people\", \"people\", \"people\", \"people\", \"people\", \"people\", \"people\", \"people\", \"people\", \"people\", \"performance\", \"performance\", \"performance\", \"performance\", \"performance\", \"period\", \"period\", \"period\", \"period\", \"period\", \"period\", \"period\", \"period\", \"pex\", \"pgp\", \"phd\", \"philadelphia\", \"philadelphia\", \"philadelphia\", \"phillies\", \"phrase\", \"phrase\", \"pic\", \"pickup\", \"pipes\", \"pit\", \"pitched\", \"pitching\", \"pittsburgh\", \"pittsburgh\", \"pittsburgh\", \"pity\", \"pixmap\", \"planetary\", \"plant\", \"plant\", \"plants\", \"play\", \"play\", \"play\", \"play\", \"play\", \"play\", \"play\", \"play\", \"played\", \"played\", \"played\", \"played\", \"played\", \"player\", \"player\", \"players\", \"playoff\", \"playoffs\", \"please\", \"please\", \"please\", \"please\", \"please\", \"please\", \"please\", \"please\", \"please\", \"please\", \"please\", \"point\", \"point\", \"point\", \"point\", \"point\", \"point\", \"point\", \"point\", \"point\", \"point\", \"point\", \"point\", \"point\", \"point\", \"pointer\", \"pointers\", \"pointers\", \"police\", \"police\", \"port\", \"port\", \"port\", \"positively\", \"post\", \"post\", \"post\", \"post\", \"post\", \"post\", \"post\", \"post\", \"post\", \"post\", \"post\", \"posted\", \"posted\", \"posted\", \"posted\", \"posted\", \"posted\", \"posted\", \"posted\", \"posted\", \"posting\", \"posting\", \"posting\", \"posting\", \"posting\", \"posting\", \"power\", \"power\", \"power\", \"power\", \"power\", \"power\", \"power\", \"power\", \"power\", \"powerbook\", \"powerpc\", \"prediction\", \"president\", \"president\", \"press\", \"press\", \"press\", \"press\", \"press\", \"press\", \"press\", \"press\", \"prevention\", \"printer\", \"privacy\", \"prize\", \"probably\", \"probably\", \"probably\", \"probably\", \"probably\", \"probably\", \"probably\", \"probably\", \"probably\", \"probably\", \"problem\", \"problem\", \"problem\", \"problem\", \"problem\", \"problem\", \"problem\", \"problem\", \"problem\", \"program\", \"program\", \"program\", \"program\", \"program\", \"program\", \"projector\", \"prophet\", \"propulsion\", \"protein\", \"pts\", \"public\", \"public\", \"public\", \"public\", \"public\", \"public\", \"public\", \"publisher\", \"puck\", \"que\", \"quebec\", \"question\", \"question\", \"question\", \"question\", \"question\", \"question\", \"question\", \"question\", \"question\", \"quicktime\", \"radar\", \"radar\", \"radiation\", \"ram\", \"rangers\", \"rbi\", \"read\", \"read\", \"read\", \"read\", \"read\", \"read\", \"read\", \"read\", \"read\", \"read\", \"read\", \"real\", \"real\", \"real\", \"real\", \"real\", \"real\", \"real\", \"real\", \"real\", \"real\", \"really\", \"really\", \"really\", \"really\", \"really\", \"really\", \"really\", \"really\", \"really\", \"reason\", \"reason\", \"reason\", \"reason\", \"reason\", \"reason\", \"reason\", \"reason\", \"reason\", \"rectangle\", \"reds\", \"religion\", \"religion\", \"remark\", \"remark\", \"repairs\", \"replies\", \"replies\", \"replies\", \"replies\", \"reply\", \"reply\", \"reply\", \"reply\", \"reply\", \"reported\", \"reported\", \"reported\", \"reported\", \"reported\", \"reported\", \"republicans\", \"requests\", \"requests\", \"requests\", \"requests\", \"research\", \"research\", \"research\", \"research\", \"research\", \"research\", \"research\", \"reset\", \"resource\", \"resource\", \"resource\", \"resource\", \"resource\", \"respond\", \"respond\", \"respond\", \"respond\", \"respond\", \"respond\", \"respond\", \"retail\", \"return\", \"return\", \"return\", \"return\", \"return\", \"return\", \"return\", \"return\", \"return\", \"return\", \"return\", \"returns\", \"returns\", \"returns\", \"riders\", \"riding\", \"riding\", \"right\", \"right\", \"right\", \"right\", \"right\", \"right\", \"right\", \"right\", \"right\", \"right\", \"right\", \"right\", \"right\", \"rights\", \"rights\", \"rights\", \"rights\", \"rings\", \"ripem\", \"robinson\", \"rocket\", \"rocket\", \"rocket\", \"rocks\", \"rocks\", \"rode\", \"romans\", \"row\", \"row\", \"rsa\", \"rules\", \"rules\", \"rules\", \"rules\", \"rules\", \"run\", \"run\", \"run\", \"run\", \"run\", \"run\", \"run\", \"run\", \"run\", \"run\", \"run\", \"run\", \"run\", \"safer\", \"said\", \"said\", \"said\", \"said\", \"said\", \"said\", \"said\", \"said\", \"said\", \"said\", \"said\", \"sale\", \"sale\", \"sale\", \"salt\", \"salt\", \"salt\", \"san\", \"san\", \"san\", \"san\", \"satan\", \"satan\", \"satellite\", \"satellites\", \"saturn\", \"saw\", \"saw\", \"saw\", \"saw\", \"saw\", \"say\", \"say\", \"say\", \"say\", \"say\", \"say\", \"say\", \"say\", \"say\", \"says\", \"says\", \"says\", \"says\", \"says\", \"says\", \"says\", \"says\", \"says\", \"scheme\", \"scheme\", \"scheme\", \"scicrypt\", \"science\", \"science\", \"science\", \"scored\", \"scorer\", \"scoring\", \"screen\", \"screen\", \"screw\", \"script\", \"script\", \"scsi\", \"scsi\", \"seal\", \"season\", \"seats\", \"seats\", \"second\", \"second\", \"second\", \"second\", \"second\", \"second\", \"second\", \"second\", \"second\", \"second\", \"second\", \"second\", \"second\", \"section\", \"section\", \"section\", \"section\", \"section\", \"section\", \"section\", \"section\", \"secure\", \"secure\", \"secure\", \"security\", \"security\", \"security\", \"see\", \"see\", \"see\", \"see\", \"see\", \"see\", \"see\", \"see\", \"see\", \"see\", \"see\", \"see\", \"see\", \"see\", \"seizures\", \"sell\", \"sell\", \"sell\", \"sell\", \"sell\", \"sell\", \"sell\", \"sell\", \"senator\", \"send\", \"send\", \"send\", \"send\", \"send\", \"send\", \"send\", \"send\", \"send\", \"senior\", \"serdar\", \"series\", \"series\", \"series\", \"series\", \"series\", \"series\", \"series\", \"series\", \"server\", \"server\", \"server\", \"server\", \"set\", \"set\", \"set\", \"set\", \"set\", \"set\", \"set\", \"set\", \"set\", \"set\", \"set\", \"set\", \"settings\", \"shipped\", \"shouting\", \"shuttle\", \"similarity\", \"simms\", \"simms\", \"sin\", \"sin\", \"sins\", \"sister\", \"site\", \"site\", \"site\", \"site\", \"site\", \"site\", \"sites\", \"sites\", \"sites\", \"sites\", \"sites\", \"sites\", \"size\", \"size\", \"size\", \"size\", \"size\", \"size\", \"size\", \"size\", \"skip\", \"sleep\", \"sleep\", \"sleep\", \"sleeve\", \"slots\", \"smith\", \"smith\", \"smith\", \"smith\", \"smoking\", \"smoking\", \"snow\", \"snow\", \"snow\", \"sockets\", \"software\", \"software\", \"software\", \"software\", \"solar\", \"solar\", \"solaris\", \"someone\", \"someone\", \"someone\", \"someone\", \"someone\", \"someone\", \"someone\", \"someone\", \"something\", \"something\", \"something\", \"something\", \"something\", \"something\", \"something\", \"something\", \"something\", \"son\", \"son\", \"soundblaster\", \"source\", \"source\", \"source\", \"source\", \"source\", \"source\", \"source\", \"source\", \"source\", \"source\", \"source\", \"south\", \"south\", \"south\", \"south\", \"sox\", \"space\", \"space\", \"space\", \"space\", \"space\", \"space\", \"spacecraft\", \"spare\", \"spare\", \"sphere\", \"spiderman\", \"spirit\", \"spirit\", \"spring\", \"spring\", \"spring\", \"spring\", \"spy\", \"standard\", \"standard\", \"standard\", \"standard\", \"standard\", \"standard\", \"started\", \"started\", \"started\", \"started\", \"started\", \"started\", \"started\", \"started\", \"started\", \"started\", \"started\", \"started\", \"state\", \"state\", \"state\", \"state\", \"state\", \"state\", \"state\", \"state\", \"state\", \"statement\", \"statement\", \"statement\", \"statement\", \"statement\", \"states\", \"states\", \"states\", \"states\", \"states\", \"states\", \"static\", \"station\", \"station\", \"station\", \"station\", \"station\", \"statistic\", \"steering\", \"stewart\", \"sticking\", \"still\", \"still\", \"still\", \"still\", \"still\", \"still\", \"still\", \"still\", \"still\", \"still\", \"still\", \"still\", \"stl\", \"stones\", \"storm\", \"stream\", \"stream\", \"stream\", \"street\", \"street\", \"street\", \"street\", \"street\", \"street\", \"street\", \"street\", \"studies\", \"studies\", \"studies\", \"study\", \"study\", \"study\", \"study\", \"study\", \"subject\", \"subject\", \"subject\", \"subject\", \"subject\", \"subject\", \"subject\", \"subject\", \"subject\", \"subject\", \"suck\", \"sugar\", \"sumgait\", \"summarize\", \"summer\", \"summer\", \"summer\", \"summer\", \"summer\", \"summer\", \"sun\", \"sun\", \"sun\", \"sun\", \"sun\", \"sun\", \"sun\", \"sun\", \"sure\", \"sure\", \"sure\", \"sure\", \"sure\", \"sure\", \"sure\", \"sure\", \"sure\", \"sure\", \"sure\", \"survivors\", \"swing\", \"symptoms\", \"syndrome\", \"system\", \"system\", \"system\", \"system\", \"system\", \"system\", \"system\", \"system\", \"system\", \"system\", \"tape\", \"tape\", \"tape\", \"tape\", \"taste\", \"taste\", \"tax\", \"tax\", \"tax\", \"team\", \"team\", \"teams\", \"teams\", \"technology\", \"technology\", \"technology\", \"technology\", \"technology\", \"temperature\", \"temporarily\", \"terminals\", \"thank\", \"thank\", \"thank\", \"thank\", \"thank\", \"thanks\", \"thanks\", \"thanks\", \"thanks\", \"thanks\", \"thanks\", \"thanks\", \"thanx\", \"thanx\", \"the\", \"the\", \"the\", \"the\", \"the\", \"the\", \"the\", \"the\", \"the\", \"the\", \"the\", \"the\", \"the\", \"the\", \"the\", \"the\", \"them\", \"them\", \"them\", \"them\", \"them\", \"them\", \"them\", \"them\", \"them\", \"them\", \"them\", \"theory\", \"theory\", \"theory\", \"theory\", \"theory\", \"theory\", \"therapy\", \"there\", \"there\", \"there\", \"there\", \"there\", \"there\", \"there\", \"there\", \"there\", \"there\", \"thing\", \"thing\", \"thing\", \"thing\", \"thing\", \"thing\", \"thing\", \"thing\", \"things\", \"things\", \"things\", \"things\", \"things\", \"things\", \"things\", \"things\", \"things\", \"things\", \"things\", \"things\", \"think\", \"think\", \"think\", \"think\", \"think\", \"think\", \"think\", \"think\", \"think\", \"this\", \"this\", \"this\", \"this\", \"this\", \"this\", \"this\", \"this\", \"this\", \"this\", \"this\", \"this\", \"this\", \"this\", \"this\", \"this\", \"thought\", \"thought\", \"thought\", \"thought\", \"thought\", \"thought\", \"thought\", \"thought\", \"thought\", \"thought\", \"thought\", \"thought\", \"thu\", \"ticket\", \"ticket\", \"tigers\", \"tight\", \"time\", \"time\", \"time\", \"time\", \"time\", \"time\", \"time\", \"time\", \"time\", \"time\", \"time\", \"time\", \"time\", \"time\", \"time\", \"timothy\", \"tires\", \"tires\", \"title\", \"title\", \"title\", \"title\", \"title\", \"title\", \"title\", \"tobacco\", \"told\", \"told\", \"told\", \"told\", \"told\", \"told\", \"told\", \"told\", \"took\", \"took\", \"took\", \"took\", \"took\", \"took\", \"took\", \"toronto\", \"toronto\", \"torque\", \"tower\", \"town\", \"town\", \"town\", \"town\", \"toyota\", \"tranny\", \"treatment\", \"treatment\", \"treatment\", \"treatment\", \"treatment\", \"triangles\", \"trips\", \"true\", \"true\", \"true\", \"true\", \"true\", \"true\", \"true\", \"truth\", \"truth\", \"truth\", \"truth\", \"turbo\", \"turbo\", \"turkey\", \"turkish\", \"turks\", \"turn\", \"turn\", \"turn\", \"turn\", \"turn\", \"turn\", \"two\", \"two\", \"two\", \"two\", \"two\", \"two\", \"two\", \"two\", \"two\", \"two\", \"two\", \"two\", \"two\", \"two\", \"tyre\", \"ulf\", \"united\", \"united\", \"united\", \"united\", \"university\", \"university\", \"university\", \"university\", \"university\", \"university\", \"university\", \"university\", \"upgrade\", \"upgrade\", \"use\", \"use\", \"use\", \"use\", \"use\", \"use\", \"use\", \"use\", \"use\", \"use\", \"use\", \"use\", \"use\", \"used\", \"used\", \"used\", \"used\", \"used\", \"used\", \"used\", \"used\", \"used\", \"used\", \"used\", \"used\", \"used\", \"used\", \"used\", \"usenet\", \"usenet\", \"usenet\", \"user\", \"user\", \"user\", \"user\", \"user\", \"users\", \"users\", \"users\", \"users\", \"using\", \"using\", \"using\", \"using\", \"using\", \"using\", \"using\", \"using\", \"using\", \"using\", \"using\", \"uuencode\", \"valve\", \"vat\", \"vdc\", \"version\", \"version\", \"version\", \"version\", \"version\", \"version\", \"vesa\", \"vga\", \"video\", \"video\", \"video\", \"video\", \"visual\", \"visual\", \"visualization\", \"visualization\", \"vitamin\", \"void\", \"voltage\", \"voltage\", \"volume\", \"volume\", \"volume\", \"volume\", \"volume\", \"volume\", \"volume\", \"volvo\", \"want\", \"want\", \"want\", \"want\", \"want\", \"want\", \"want\", \"want\", \"want\", \"want\", \"want\", \"want\", \"want\", \"war\", \"war\", \"war\", \"washington\", \"washington\", \"washington\", \"washington\", \"washington\", \"water\", \"water\", \"water\", \"water\", \"way\", \"way\", \"way\", \"way\", \"way\", \"way\", \"way\", \"way\", \"way\", \"way\", \"way\", \"way\", \"way\", \"weapon\", \"weapons\", \"weaver\", \"week\", \"week\", \"week\", \"week\", \"week\", \"week\", \"week\", \"week\", \"week\", \"week\", \"week\", \"week\", \"weiss\", \"well\", \"well\", \"well\", \"well\", \"well\", \"well\", \"well\", \"well\", \"well\", \"well\", \"well\", \"well\", \"well\", \"well\", \"well\", \"well\", \"went\", \"went\", \"went\", \"went\", \"went\", \"west\", \"west\", \"west\", \"west\", \"west\", \"west\", \"wheel\", \"wheel\", \"wheels\", \"widget\", \"wife\", \"wife\", \"wife\", \"wife\", \"win\", \"win\", \"win\", \"win\", \"win\", \"window\", \"window\", \"window\", \"window\", \"windows\", \"windows\", \"windows\", \"windows\", \"winners\", \"winners\", \"wire\", \"wire\", \"wire\", \"wire\", \"wires\", \"wiretap\", \"wiring\", \"wiring\", \"witnessed\", \"wolverine\", \"woman\", \"woman\", \"woman\", \"woman\", \"wondering\", \"wondering\", \"wondering\", \"words\", \"words\", \"words\", \"words\", \"words\", \"words\", \"words\", \"words\", \"words\", \"work\", \"work\", \"work\", \"work\", \"work\", \"work\", \"work\", \"work\", \"work\", \"work\", \"working\", \"working\", \"working\", \"working\", \"working\", \"working\", \"working\", \"working\", \"working\", \"working\", \"world\", \"world\", \"world\", \"world\", \"world\", \"world\", \"world\", \"world\", \"world\", \"world\", \"world\", \"world\", \"would\", \"would\", \"would\", \"would\", \"would\", \"would\", \"would\", \"would\", \"would\", \"would\", \"would\", \"would\", \"would\", \"wow\", \"write\", \"write\", \"write\", \"write\", \"write\", \"write\", \"write\", \"write\", \"write\", \"write\", \"write\", \"write\", \"wrong\", \"wrong\", \"wrong\", \"wrong\", \"wrong\", \"wrong\", \"wrong\", \"wrong\", \"wwg\", \"xbased\", \"xlib\", \"xsoviet\", \"yankees\", \"year\", \"year\", \"year\", \"year\", \"year\", \"year\", \"year\", \"year\", \"year\", \"year\", \"year\", \"year\", \"years\", \"years\", \"years\", \"years\", \"years\", \"years\", \"years\", \"years\", \"years\", \"years\", \"years\", \"yeast\", \"york\", \"york\", \"york\", \"york\", \"york\", \"york\", \"york\", \"you\", \"you\", \"you\", \"you\", \"you\", \"you\", \"you\", \"you\", \"you\", \"you\", \"zionist\", \"zones\", \"zoom\"]}, \"R\": 30, \"lambda.step\": 0.01, \"plot.opts\": {\"xlab\": \"PC1\", \"ylab\": \"PC2\"}, \"topic.order\": [2, 5, 12, 11, 6, 7, 9, 16, 17, 3, 15, 8, 4, 1, 14, 13, 10]};\n",
       "\n",
       "function LDAvis_load_lib(url, callback){\n",
       "  var s = document.createElement('script');\n",
       "  s.src = url;\n",
       "  s.async = true;\n",
       "  s.onreadystatechange = s.onload = callback;\n",
       "  s.onerror = function(){console.warn(\"failed to load library \" + url);};\n",
       "  document.getElementsByTagName(\"head\")[0].appendChild(s);\n",
       "}\n",
       "\n",
       "if(typeof(LDAvis) !== \"undefined\"){\n",
       "   // already loaded: just create the visualization\n",
       "   !function(LDAvis){\n",
       "       new LDAvis(\"#\" + \"ldavis_el446362262475689361366314\", ldavis_el446362262475689361366314_data);\n",
       "   }(LDAvis);\n",
       "}else if(typeof define === \"function\" && define.amd){\n",
       "   // require.js is available: use it to load d3/LDAvis\n",
       "   require.config({paths: {d3: \"https://d3js.org/d3.v5\"}});\n",
       "   require([\"d3\"], function(d3){\n",
       "      window.d3 = d3;\n",
       "      LDAvis_load_lib(\"https://cdn.jsdelivr.net/gh/bmabey/pyLDAvis@3.3.1/pyLDAvis/js/ldavis.v3.0.0.js\", function(){\n",
       "        new LDAvis(\"#\" + \"ldavis_el446362262475689361366314\", ldavis_el446362262475689361366314_data);\n",
       "      });\n",
       "    });\n",
       "}else{\n",
       "    // require.js not available: dynamically load d3 & LDAvis\n",
       "    LDAvis_load_lib(\"https://d3js.org/d3.v5.js\", function(){\n",
       "         LDAvis_load_lib(\"https://cdn.jsdelivr.net/gh/bmabey/pyLDAvis@3.3.1/pyLDAvis/js/ldavis.v3.0.0.js\", function(){\n",
       "                 new LDAvis(\"#\" + \"ldavis_el446362262475689361366314\", ldavis_el446362262475689361366314_data);\n",
       "            })\n",
       "         });\n",
       "}\n",
       "</script>"
      ],
      "text/plain": [
       "<IPython.core.display.HTML object>"
      ]
     },
     "execution_count": 239,
     "metadata": {},
     "output_type": "execute_result"
    }
   ],
   "source": [
    "lda_display = pyLDAvis.gensim_models.prepare(lda_model_tuned, corpus, dictionary)\n",
    "pyLDAvis.display(lda_display)"
   ]
  },
  {
   "cell_type": "markdown",
   "id": "5a8c22a2",
   "metadata": {},
   "source": [
    "### Visualise Documents by Dominant Topics"
   ]
  },
  {
   "cell_type": "code",
   "execution_count": 252,
   "id": "622e3bca",
   "metadata": {},
   "outputs": [
    {
     "data": {
      "text/plain": [
       "[(1, 0.43112484), (5, 0.3256844), (10, 0.06562679), (15, 0.16559385)]"
      ]
     },
     "execution_count": 252,
     "metadata": {},
     "output_type": "execute_result"
    }
   ],
   "source": [
    "# preview topics for doc 1\n",
    "lda_model_tuned.get_document_topics(corpus[0])"
   ]
  },
  {
   "cell_type": "code",
   "execution_count": 253,
   "id": "8c7d7f4c",
   "metadata": {},
   "outputs": [
    {
     "data": {
      "text/plain": [
       "1"
      ]
     },
     "execution_count": 253,
     "metadata": {},
     "output_type": "execute_result"
    }
   ],
   "source": [
    "# extract the dominant topic \n",
    "sorted(lda_model_tuned.get_document_topics(corpus[0]), key=lambda x: x[1], reverse=True)[0][0]"
   ]
  },
  {
   "cell_type": "code",
   "execution_count": 259,
   "id": "63b15b10",
   "metadata": {},
   "outputs": [
    {
     "name": "stdout",
     "output_type": "stream",
     "text": [
      "preview dominant topics: [1, 1, 5, 4, 2, 1, 11, 1, 1, 4]\n"
     ]
    }
   ],
   "source": [
    "func_get_dominant_topic = lambda x: sorted(lda_model_tuned.get_document_topics(x), key=lambda x: x[1], reverse=True)[0][0]\n",
    "\n",
    "text_dominant_topic = [ func_get_dominant_topic(x) for x in corpus ]\n",
    "\n",
    "print(f\"preview dominant topics: {text_dominant_topic[:10]}\")"
   ]
  },
  {
   "cell_type": "code",
   "execution_count": 260,
   "id": "131364a9",
   "metadata": {},
   "outputs": [],
   "source": [
    "# sanity check the documents lengths\n",
    "\n",
    "assert df.shape[0] == len(corpus) == len(text_dominant_topic)"
   ]
  },
  {
   "cell_type": "code",
   "execution_count": 261,
   "id": "dac23d96",
   "metadata": {},
   "outputs": [
    {
     "name": "stdout",
     "output_type": "stream",
     "text": [
      "dataframe shape: (10974, 5)\n"
     ]
    },
    {
     "data": {
      "text/html": [
       "<div>\n",
       "<style scoped>\n",
       "    .dataframe tbody tr th:only-of-type {\n",
       "        vertical-align: middle;\n",
       "    }\n",
       "\n",
       "    .dataframe tbody tr th {\n",
       "        vertical-align: top;\n",
       "    }\n",
       "\n",
       "    .dataframe thead th {\n",
       "        text-align: right;\n",
       "    }\n",
       "</style>\n",
       "<table border=\"1\" class=\"dataframe\">\n",
       "  <thead>\n",
       "    <tr style=\"text-align: right;\">\n",
       "      <th></th>\n",
       "      <th>text</th>\n",
       "      <th>category</th>\n",
       "      <th>text_preprocessed</th>\n",
       "      <th>text_tokenized</th>\n",
       "      <th>dominant_topic</th>\n",
       "    </tr>\n",
       "  </thead>\n",
       "  <tbody>\n",
       "    <tr>\n",
       "      <th>0</th>\n",
       "      <td>Well i'm not sure about the story nad it did seem biased. What\\nI disagree with is your statemen...</td>\n",
       "      <td>17</td>\n",
       "      <td>well sure story nad seem biased disagree statement media ruin israels reputation rediculous medi...</td>\n",
       "      <td>[well, sure, story, nad, seem, biased, disagree, statement, media, ruin, israels, reputation, re...</td>\n",
       "      <td>1</td>\n",
       "    </tr>\n",
       "    <tr>\n",
       "      <th>1</th>\n",
       "      <td>\\n\\n\\n\\n\\n\\n\\nYeah, do you expect people to read the FAQ, etc. and actually accept hard\\natheism...</td>\n",
       "      <td>0</td>\n",
       "      <td>yeah expect people read faq etc actually accept hard atheism need little leap faith jimmy logic ...</td>\n",
       "      <td>[yeah, expect, people, read, faq, etc, actually, accept, hard, atheism, need, little, leap, fait...</td>\n",
       "      <td>1</td>\n",
       "    </tr>\n",
       "    <tr>\n",
       "      <th>2</th>\n",
       "      <td>Although I realize that principle is not one of your strongest\\npoints, I would still like to kn...</td>\n",
       "      <td>17</td>\n",
       "      <td>although realize principle one strongest points would still like know ask question sort arab cou...</td>\n",
       "      <td>[although, realize, principle, one, strongest, points, would, still, like, know, ask, question, ...</td>\n",
       "      <td>5</td>\n",
       "    </tr>\n",
       "    <tr>\n",
       "      <th>3</th>\n",
       "      <td>Notwithstanding all the legitimate fuss about this proposal, how much\\nof a change is it?  ATT's...</td>\n",
       "      <td>11</td>\n",
       "      <td>notwithstanding legitimate fuss proposal much change atts last product area priced suspect clipp...</td>\n",
       "      <td>[notwithstanding, legitimate, fuss, proposal, much, change, atts, last, product, area, priced, s...</td>\n",
       "      <td>4</td>\n",
       "    </tr>\n",
       "    <tr>\n",
       "      <th>4</th>\n",
       "      <td>Well, I will have to change the scoring on my playoff pool.  Unfortunately\\nI don't have time ri...</td>\n",
       "      <td>10</td>\n",
       "      <td>well change scoring playoff pool unfortunately time right now certainly post new scoring rules t...</td>\n",
       "      <td>[well, change, scoring, playoff, pool, unfortunately, time, right, now, certainly, post, new, sc...</td>\n",
       "      <td>2</td>\n",
       "    </tr>\n",
       "  </tbody>\n",
       "</table>\n",
       "</div>"
      ],
      "text/plain": [
       "                                                                                                  text  \\\n",
       "0  Well i'm not sure about the story nad it did seem biased. What\\nI disagree with is your statemen...   \n",
       "1  \\n\\n\\n\\n\\n\\n\\nYeah, do you expect people to read the FAQ, etc. and actually accept hard\\natheism...   \n",
       "2  Although I realize that principle is not one of your strongest\\npoints, I would still like to kn...   \n",
       "3  Notwithstanding all the legitimate fuss about this proposal, how much\\nof a change is it?  ATT's...   \n",
       "4  Well, I will have to change the scoring on my playoff pool.  Unfortunately\\nI don't have time ri...   \n",
       "\n",
       "   category  \\\n",
       "0        17   \n",
       "1         0   \n",
       "2        17   \n",
       "3        11   \n",
       "4        10   \n",
       "\n",
       "                                                                                     text_preprocessed  \\\n",
       "0  well sure story nad seem biased disagree statement media ruin israels reputation rediculous medi...   \n",
       "1  yeah expect people read faq etc actually accept hard atheism need little leap faith jimmy logic ...   \n",
       "2  although realize principle one strongest points would still like know ask question sort arab cou...   \n",
       "3  notwithstanding legitimate fuss proposal much change atts last product area priced suspect clipp...   \n",
       "4  well change scoring playoff pool unfortunately time right now certainly post new scoring rules t...   \n",
       "\n",
       "                                                                                        text_tokenized  \\\n",
       "0  [well, sure, story, nad, seem, biased, disagree, statement, media, ruin, israels, reputation, re...   \n",
       "1  [yeah, expect, people, read, faq, etc, actually, accept, hard, atheism, need, little, leap, fait...   \n",
       "2  [although, realize, principle, one, strongest, points, would, still, like, know, ask, question, ...   \n",
       "3  [notwithstanding, legitimate, fuss, proposal, much, change, atts, last, product, area, priced, s...   \n",
       "4  [well, change, scoring, playoff, pool, unfortunately, time, right, now, certainly, post, new, sc...   \n",
       "\n",
       "   dominant_topic  \n",
       "0               1  \n",
       "1               1  \n",
       "2               5  \n",
       "3               4  \n",
       "4               2  "
      ]
     },
     "execution_count": 261,
     "metadata": {},
     "output_type": "execute_result"
    }
   ],
   "source": [
    "df[\"dominant_topic\"] = text_dominant_topic\n",
    "\n",
    "print(f\"dataframe shape: {df.shape}\")\n",
    "df.head()"
   ]
  },
  {
   "cell_type": "code",
   "execution_count": 322,
   "id": "d4348785",
   "metadata": {
    "scrolled": true
   },
   "outputs": [
    {
     "data": {
      "text/plain": [
       "<AxesSubplot:xlabel='topic', ylabel='number of documents'>"
      ]
     },
     "execution_count": 322,
     "metadata": {},
     "output_type": "execute_result"
    },
    {
     "data": {
      "image/png": "[encoded data removed]",
      "text/plain": [
       "<Figure size 576x288 with 1 Axes>"
      ]
     },
     "metadata": {
      "needs_background": "light"
     },
     "output_type": "display_data"
    }
   ],
   "source": [
    "plt.figure(figsize=(8, 4))\n",
    "plt.xlabel('topic')\n",
    "plt.ylabel('number of documents')\n",
    "df['dominant_topic'].value_counts().sort_values(ascending=False).plot.bar()"
   ]
  },
  {
   "cell_type": "markdown",
   "id": "50552d8f",
   "metadata": {},
   "source": [
    "### Topics"
   ]
  },
  {
   "cell_type": "code",
   "execution_count": 323,
   "id": "6e7bc62f",
   "metadata": {},
   "outputs": [
    {
     "data": {
      "text/html": [
       "<div>\n",
       "<style scoped>\n",
       "    .dataframe tbody tr th:only-of-type {\n",
       "        vertical-align: middle;\n",
       "    }\n",
       "\n",
       "    .dataframe tbody tr th {\n",
       "        vertical-align: top;\n",
       "    }\n",
       "\n",
       "    .dataframe thead th {\n",
       "        text-align: right;\n",
       "    }\n",
       "</style>\n",
       "<table border=\"1\" class=\"dataframe\">\n",
       "  <thead>\n",
       "    <tr style=\"text-align: right;\">\n",
       "      <th></th>\n",
       "      <th>topic</th>\n",
       "      <th>coherence</th>\n",
       "    </tr>\n",
       "  </thead>\n",
       "  <tbody>\n",
       "    <tr>\n",
       "      <th>0</th>\n",
       "      <td>0</td>\n",
       "      <td>0.590652</td>\n",
       "    </tr>\n",
       "    <tr>\n",
       "      <th>1</th>\n",
       "      <td>1</td>\n",
       "      <td>0.536708</td>\n",
       "    </tr>\n",
       "    <tr>\n",
       "      <th>2</th>\n",
       "      <td>2</td>\n",
       "      <td>0.736432</td>\n",
       "    </tr>\n",
       "    <tr>\n",
       "      <th>3</th>\n",
       "      <td>3</td>\n",
       "      <td>0.588454</td>\n",
       "    </tr>\n",
       "    <tr>\n",
       "      <th>4</th>\n",
       "      <td>4</td>\n",
       "      <td>0.485221</td>\n",
       "    </tr>\n",
       "  </tbody>\n",
       "</table>\n",
       "</div>"
      ],
      "text/plain": [
       "   topic  coherence\n",
       "0      0   0.590652\n",
       "1      1   0.536708\n",
       "2      2   0.736432\n",
       "3      3   0.588454\n",
       "4      4   0.485221"
      ]
     },
     "execution_count": 323,
     "metadata": {},
     "output_type": "execute_result"
    }
   ],
   "source": [
    "df_topics = pd.DataFrame(data=zip(range(len(coherence_per_topic)), coherence_per_topic),\n",
    "                        columns=['topic', 'coherence'])\n",
    "\n",
    "df_topics.head()"
   ]
  },
  {
   "cell_type": "code",
   "execution_count": 324,
   "id": "f268ecaa",
   "metadata": {},
   "outputs": [
    {
     "data": {
      "text/html": [
       "<div>\n",
       "<style scoped>\n",
       "    .dataframe tbody tr th:only-of-type {\n",
       "        vertical-align: middle;\n",
       "    }\n",
       "\n",
       "    .dataframe tbody tr th {\n",
       "        vertical-align: top;\n",
       "    }\n",
       "\n",
       "    .dataframe thead th {\n",
       "        text-align: right;\n",
       "    }\n",
       "</style>\n",
       "<table border=\"1\" class=\"dataframe\">\n",
       "  <thead>\n",
       "    <tr style=\"text-align: right;\">\n",
       "      <th></th>\n",
       "      <th>topic</th>\n",
       "      <th>coherence</th>\n",
       "      <th>doc_count</th>\n",
       "    </tr>\n",
       "  </thead>\n",
       "  <tbody>\n",
       "    <tr>\n",
       "      <th>0</th>\n",
       "      <td>0</td>\n",
       "      <td>0.590652</td>\n",
       "      <td>309</td>\n",
       "    </tr>\n",
       "    <tr>\n",
       "      <th>1</th>\n",
       "      <td>1</td>\n",
       "      <td>0.536708</td>\n",
       "      <td>2537</td>\n",
       "    </tr>\n",
       "    <tr>\n",
       "      <th>2</th>\n",
       "      <td>2</td>\n",
       "      <td>0.736432</td>\n",
       "      <td>699</td>\n",
       "    </tr>\n",
       "    <tr>\n",
       "      <th>3</th>\n",
       "      <td>3</td>\n",
       "      <td>0.588454</td>\n",
       "      <td>97</td>\n",
       "    </tr>\n",
       "    <tr>\n",
       "      <th>4</th>\n",
       "      <td>4</td>\n",
       "      <td>0.485221</td>\n",
       "      <td>2456</td>\n",
       "    </tr>\n",
       "  </tbody>\n",
       "</table>\n",
       "</div>"
      ],
      "text/plain": [
       "   topic  coherence  doc_count\n",
       "0      0   0.590652        309\n",
       "1      1   0.536708       2537\n",
       "2      2   0.736432        699\n",
       "3      3   0.588454         97\n",
       "4      4   0.485221       2456"
      ]
     },
     "execution_count": 324,
     "metadata": {},
     "output_type": "execute_result"
    }
   ],
   "source": [
    "df_topics = pd.merge(left=df_topics,\n",
    "                     right=df['dominant_topic'].value_counts().rename('doc_count'),\n",
    "                     left_on='topic',\n",
    "                     right_index=True)\n",
    "df_topics.head()"
   ]
  },
  {
   "cell_type": "code",
   "execution_count": null,
   "id": "db7478c5",
   "metadata": {},
   "outputs": [],
   "source": []
  }
 ],
 "metadata": {
  "kernelspec": {
   "display_name": "Python 3 (ipykernel)",
   "language": "python",
   "name": "python3"
  },
  "language_info": {
   "codemirror_mode": {
    "name": "ipython",
    "version": 3
   },
   "file_extension": ".py",
   "mimetype": "text/x-python",
   "name": "python",
   "nbconvert_exporter": "python",
   "pygments_lexer": "ipython3",
   "version": "3.9.10"
  }
 },
 "nbformat": 4,
 "nbformat_minor": 5
}
